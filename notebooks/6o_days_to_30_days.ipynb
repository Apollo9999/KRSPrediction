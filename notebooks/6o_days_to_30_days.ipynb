{
  "nbformat": 4,
  "nbformat_minor": 0,
  "metadata": {
    "colab": {
      "name": "finetuning 6o days to 30 days.ipynb",
      "provenance": []
    },
    "kernelspec": {
      "name": "python3",
      "display_name": "Python 3"
    },
    "language_info": {
      "name": "python"
    }
  },
  "cells": [
    {
      "cell_type": "code",
      "metadata": {
        "id": "3Hsj9_grfmCe"
      },
      "source": [
        "import datetime as dt\n",
        "import os\n",
        "import warnings\n",
        "from collections import UserDict\n",
        "\n",
        "import matplotlib.pyplot as plt\n",
        "import numpy as np\n",
        "import pandas as pd\n",
        "from utils import TimeSeriesTensor, mape, extract_data, create_evaluation_df\n",
        "from IPython.display import Image\n",
        "from sklearn.preprocessing import MinMaxScaler\n",
        "\n",
        "%matplotlib inline"
      ],
      "execution_count": null,
      "outputs": []
    },
    {
      "cell_type": "code",
      "metadata": {
        "colab": {
          "base_uri": "https://localhost:8080/"
        },
        "id": "EDGPs34cWkUd",
        "outputId": "bde1dbe3-303b-4801-f9c7-3e66adbad268"
      },
      "source": [
        "!git clone https://github.com/Arghyam-Team/KRSPrediction.git"
      ],
      "execution_count": null,
      "outputs": [
        {
          "output_type": "stream",
          "text": [
            "Cloning into 'KRSPrediction'...\n",
            "remote: Enumerating objects: 209, done.\u001b[K\n",
            "remote: Counting objects: 100% (209/209), done.\u001b[K\n",
            "remote: Compressing objects: 100% (152/152), done.\u001b[K\n",
            "remote: Total 209 (delta 84), reused 114 (delta 33), pack-reused 0\u001b[K\n",
            "Receiving objects: 100% (209/209), 3.55 MiB | 7.93 MiB/s, done.\n",
            "Resolving deltas: 100% (84/84), done.\n"
          ],
          "name": "stdout"
        }
      ]
    },
    {
      "cell_type": "code",
      "metadata": {
        "id": "jAqiS97cYAUM"
      },
      "source": [
        "import sqlite3\n",
        "db_file = '/content/KRSPrediction/data/pythonsqlite.db'\n",
        "conn = sqlite3.connect(db_file)\n",
        "cur = conn.cursor()\n",
        "sql = \"SELECT water.date, water.storage_tmc, water.inflow_cusecs, water.outflow_cusecs, weather.max_temp, weather.visibility, weather.wind, weather.humidity, weather.cloudcover FROM water INNER JOIN weather ON  water.reservoir='krs' AND weather.location='karnataka' AND water.date = weather.date\"\n",
        "cur.execute(sql)\n",
        "rows = cur.fetchall() # rows is a list of tuples (date, tmc,inflow,outflow,maxtemp,vis,wind,hum,cloud)"
      ],
      "execution_count": null,
      "outputs": []
    },
    {
      "cell_type": "code",
      "metadata": {
        "id": "D5igmCUmfAry"
      },
      "source": [
        "krs = pd.DataFrame(rows, columns=['date', 'present_storage_tmc', 'inflow', 'outflow', 'max_temp', 'visibility', 'wind', 'humidity', 'cloudcover'])"
      ],
      "execution_count": null,
      "outputs": []
    },
    {
      "cell_type": "code",
      "metadata": {
        "colab": {
          "base_uri": "https://localhost:8080/",
          "height": 111
        },
        "id": "3Nrw-WdZgCqz",
        "outputId": "dbc5ba58-b5cd-40c4-8271-8500a0479fac"
      },
      "source": [
        "krs.head(2)"
      ],
      "execution_count": null,
      "outputs": [
        {
          "output_type": "execute_result",
          "data": {
            "text/html": [
              "<div>\n",
              "<style scoped>\n",
              "    .dataframe tbody tr th:only-of-type {\n",
              "        vertical-align: middle;\n",
              "    }\n",
              "\n",
              "    .dataframe tbody tr th {\n",
              "        vertical-align: top;\n",
              "    }\n",
              "\n",
              "    .dataframe thead th {\n",
              "        text-align: right;\n",
              "    }\n",
              "</style>\n",
              "<table border=\"1\" class=\"dataframe\">\n",
              "  <thead>\n",
              "    <tr style=\"text-align: right;\">\n",
              "      <th></th>\n",
              "      <th>date</th>\n",
              "      <th>present_storage_tmc</th>\n",
              "      <th>inflow</th>\n",
              "      <th>outflow</th>\n",
              "      <th>max_temp</th>\n",
              "      <th>visibility</th>\n",
              "      <th>wind</th>\n",
              "      <th>humidity</th>\n",
              "      <th>cloudcover</th>\n",
              "    </tr>\n",
              "  </thead>\n",
              "  <tbody>\n",
              "    <tr>\n",
              "      <th>0</th>\n",
              "      <td>2011-01-01</td>\n",
              "      <td>46.42</td>\n",
              "      <td>2029</td>\n",
              "      <td>2000.0</td>\n",
              "      <td>28.1</td>\n",
              "      <td>6.7</td>\n",
              "      <td>11.2</td>\n",
              "      <td>71.39</td>\n",
              "      <td>36.7</td>\n",
              "    </tr>\n",
              "    <tr>\n",
              "      <th>1</th>\n",
              "      <td>2011-01-02</td>\n",
              "      <td>46.54</td>\n",
              "      <td>3084</td>\n",
              "      <td>1490.0</td>\n",
              "      <td>28.0</td>\n",
              "      <td>6.2</td>\n",
              "      <td>10.3</td>\n",
              "      <td>72.90</td>\n",
              "      <td>51.4</td>\n",
              "    </tr>\n",
              "  </tbody>\n",
              "</table>\n",
              "</div>"
            ],
            "text/plain": [
              "         date  present_storage_tmc inflow  ...  wind  humidity  cloudcover\n",
              "0  2011-01-01                46.42   2029  ...  11.2     71.39        36.7\n",
              "1  2011-01-02                46.54   3084  ...  10.3     72.90        51.4\n",
              "\n",
              "[2 rows x 9 columns]"
            ]
          },
          "metadata": {
            "tags": []
          },
          "execution_count": 5
        }
      ]
    },
    {
      "cell_type": "code",
      "metadata": {
        "id": "wfOI47s_gZ68"
      },
      "source": [
        "krs = krs.drop_duplicates(subset=[\"date\"])"
      ],
      "execution_count": null,
      "outputs": []
    },
    {
      "cell_type": "code",
      "metadata": {
        "id": "nKaS921Ygg7W"
      },
      "source": [
        "krs.date = pd.to_datetime(krs.date)\n",
        "krs['inflow'] = pd.to_numeric(krs.inflow, errors='coerce')"
      ],
      "execution_count": null,
      "outputs": []
    },
    {
      "cell_type": "code",
      "metadata": {
        "colab": {
          "base_uri": "https://localhost:8080/"
        },
        "id": "Vx-YD6e8gMEp",
        "outputId": "bb6ce254-019c-4d58-da82-65047869ece3"
      },
      "source": [
        "krs.info()"
      ],
      "execution_count": null,
      "outputs": [
        {
          "output_type": "stream",
          "text": [
            "<class 'pandas.core.frame.DataFrame'>\n",
            "Int64Index: 3531 entries, 0 to 3535\n",
            "Data columns (total 9 columns):\n",
            " #   Column               Non-Null Count  Dtype         \n",
            "---  ------               --------------  -----         \n",
            " 0   date                 3531 non-null   datetime64[ns]\n",
            " 1   present_storage_tmc  3531 non-null   float64       \n",
            " 2   inflow               3530 non-null   float64       \n",
            " 3   outflow              3531 non-null   float64       \n",
            " 4   max_temp             3531 non-null   float64       \n",
            " 5   visibility           3531 non-null   float64       \n",
            " 6   wind                 3531 non-null   float64       \n",
            " 7   humidity             3531 non-null   float64       \n",
            " 8   cloudcover           3531 non-null   float64       \n",
            "dtypes: datetime64[ns](1), float64(8)\n",
            "memory usage: 275.9 KB\n"
          ],
          "name": "stdout"
        }
      ]
    },
    {
      "cell_type": "code",
      "metadata": {
        "id": "G5LUmj2RgO3V"
      },
      "source": [
        "krs['inflow_tmc'] = krs['inflow'] /11000\n",
        "krs['outflow_tmc'] = krs['outflow'] / 11000"
      ],
      "execution_count": null,
      "outputs": []
    },
    {
      "cell_type": "code",
      "metadata": {
        "id": "iK2xLLLdgwR8"
      },
      "source": [
        "krs.sort_values(by=['date'], inplace=True, ascending=True)"
      ],
      "execution_count": null,
      "outputs": []
    },
    {
      "cell_type": "code",
      "metadata": {
        "id": "AHfU5Dfdg9T1"
      },
      "source": [
        "krs.set_index('date', inplace=True)\n",
        "krs = krs.sort_index(axis=1)"
      ],
      "execution_count": null,
      "outputs": []
    },
    {
      "cell_type": "code",
      "metadata": {
        "colab": {
          "base_uri": "https://localhost:8080/",
          "height": 143
        },
        "id": "OnCsUM6Zgz5r",
        "outputId": "fe1f9379-7fcb-4260-d84b-6659ff5d3bd7"
      },
      "source": [
        "krs.head(2)"
      ],
      "execution_count": null,
      "outputs": [
        {
          "output_type": "execute_result",
          "data": {
            "text/html": [
              "<div>\n",
              "<style scoped>\n",
              "    .dataframe tbody tr th:only-of-type {\n",
              "        vertical-align: middle;\n",
              "    }\n",
              "\n",
              "    .dataframe tbody tr th {\n",
              "        vertical-align: top;\n",
              "    }\n",
              "\n",
              "    .dataframe thead th {\n",
              "        text-align: right;\n",
              "    }\n",
              "</style>\n",
              "<table border=\"1\" class=\"dataframe\">\n",
              "  <thead>\n",
              "    <tr style=\"text-align: right;\">\n",
              "      <th></th>\n",
              "      <th>cloudcover</th>\n",
              "      <th>humidity</th>\n",
              "      <th>inflow</th>\n",
              "      <th>inflow_tmc</th>\n",
              "      <th>max_temp</th>\n",
              "      <th>outflow</th>\n",
              "      <th>outflow_tmc</th>\n",
              "      <th>present_storage_tmc</th>\n",
              "      <th>visibility</th>\n",
              "      <th>wind</th>\n",
              "    </tr>\n",
              "    <tr>\n",
              "      <th>date</th>\n",
              "      <th></th>\n",
              "      <th></th>\n",
              "      <th></th>\n",
              "      <th></th>\n",
              "      <th></th>\n",
              "      <th></th>\n",
              "      <th></th>\n",
              "      <th></th>\n",
              "      <th></th>\n",
              "      <th></th>\n",
              "    </tr>\n",
              "  </thead>\n",
              "  <tbody>\n",
              "    <tr>\n",
              "      <th>2010-09-30</th>\n",
              "      <td>79.6</td>\n",
              "      <td>81.05</td>\n",
              "      <td>2706.0</td>\n",
              "      <td>0.246000</td>\n",
              "      <td>29.4</td>\n",
              "      <td>6840.0</td>\n",
              "      <td>0.621818</td>\n",
              "      <td>46.18</td>\n",
              "      <td>5.2</td>\n",
              "      <td>11.2</td>\n",
              "    </tr>\n",
              "    <tr>\n",
              "      <th>2010-12-31</th>\n",
              "      <td>51.0</td>\n",
              "      <td>70.80</td>\n",
              "      <td>2668.0</td>\n",
              "      <td>0.242545</td>\n",
              "      <td>27.5</td>\n",
              "      <td>6795.0</td>\n",
              "      <td>0.617727</td>\n",
              "      <td>45.81</td>\n",
              "      <td>6.9</td>\n",
              "      <td>11.2</td>\n",
              "    </tr>\n",
              "  </tbody>\n",
              "</table>\n",
              "</div>"
            ],
            "text/plain": [
              "            cloudcover  humidity  inflow  ...  present_storage_tmc  visibility  wind\n",
              "date                                      ...                                       \n",
              "2010-09-30        79.6     81.05  2706.0  ...                46.18         5.2  11.2\n",
              "2010-12-31        51.0     70.80  2668.0  ...                45.81         6.9  11.2\n",
              "\n",
              "[2 rows x 10 columns]"
            ]
          },
          "metadata": {
            "tags": []
          },
          "execution_count": 12
        }
      ]
    },
    {
      "cell_type": "code",
      "metadata": {
        "id": "Gs1DTY5cg1GH"
      },
      "source": [
        "#time series data on which model needs to be trained on, features contain the column names\n",
        "ts_data_load = krs[[ \"present_storage_tmc\", \"inflow_tmc\", \"outflow_tmc\", \"max_temp\", \"visibility\", \"humidity\", \"wind\"]]\n",
        "ts_data_load.sort_index(axis = 1)\n",
        "features = len(ts_data_load.columns)\n",
        "#features, ts_data_load.head(2), ts_data_load.tail(2)"
      ],
      "execution_count": null,
      "outputs": []
    },
    {
      "cell_type": "code",
      "metadata": {
        "id": "_37xDtxyhsdo"
      },
      "source": [
        "valid_st_data_load = \"2018-01-01 00:00:00\"\n",
        "test_st_data_load = \"2019-05-02 00:00:00\""
      ],
      "execution_count": null,
      "outputs": []
    },
    {
      "cell_type": "code",
      "metadata": {
        "colab": {
          "base_uri": "https://localhost:8080/",
          "height": 111
        },
        "id": "_-5VWGJaiOlu",
        "outputId": "ca304747-a0be-4530-f4c5-6a00dc2681e1"
      },
      "source": [
        "ts_data_load[ts_data_load.index==valid_st_data_load]"
      ],
      "execution_count": null,
      "outputs": [
        {
          "output_type": "execute_result",
          "data": {
            "text/html": [
              "<div>\n",
              "<style scoped>\n",
              "    .dataframe tbody tr th:only-of-type {\n",
              "        vertical-align: middle;\n",
              "    }\n",
              "\n",
              "    .dataframe tbody tr th {\n",
              "        vertical-align: top;\n",
              "    }\n",
              "\n",
              "    .dataframe thead th {\n",
              "        text-align: right;\n",
              "    }\n",
              "</style>\n",
              "<table border=\"1\" class=\"dataframe\">\n",
              "  <thead>\n",
              "    <tr style=\"text-align: right;\">\n",
              "      <th></th>\n",
              "      <th>present_storage_tmc</th>\n",
              "      <th>inflow_tmc</th>\n",
              "      <th>outflow_tmc</th>\n",
              "      <th>max_temp</th>\n",
              "      <th>visibility</th>\n",
              "      <th>humidity</th>\n",
              "      <th>wind</th>\n",
              "    </tr>\n",
              "    <tr>\n",
              "      <th>date</th>\n",
              "      <th></th>\n",
              "      <th></th>\n",
              "      <th></th>\n",
              "      <th></th>\n",
              "      <th></th>\n",
              "      <th></th>\n",
              "      <th></th>\n",
              "    </tr>\n",
              "  </thead>\n",
              "  <tbody>\n",
              "    <tr>\n",
              "      <th>2018-01-01</th>\n",
              "      <td>25.55</td>\n",
              "      <td>0.026455</td>\n",
              "      <td>0.313182</td>\n",
              "      <td>28.0</td>\n",
              "      <td>6.6</td>\n",
              "      <td>65.5</td>\n",
              "      <td>11.0</td>\n",
              "    </tr>\n",
              "  </tbody>\n",
              "</table>\n",
              "</div>"
            ],
            "text/plain": [
              "            present_storage_tmc  inflow_tmc  ...  humidity  wind\n",
              "date                                         ...                \n",
              "2018-01-01                25.55    0.026455  ...      65.5  11.0\n",
              "\n",
              "[1 rows x 7 columns]"
            ]
          },
          "metadata": {
            "tags": []
          },
          "execution_count": 15
        }
      ]
    },
    {
      "cell_type": "code",
      "metadata": {
        "colab": {
          "base_uri": "https://localhost:8080/",
          "height": 473
        },
        "id": "yfVG2VmNiPw_",
        "outputId": "e0e2c3d8-b8b9-4877-f654-5ab1957ff080"
      },
      "source": [
        "ts_data_load[ts_data_load.index < valid_st_data_load][[\"present_storage_tmc\"]].rename(columns={\"present_storage_tmc\": \"train\"}).join(\n",
        "    ts_data_load[(ts_data_load.index >= valid_st_data_load) & (ts_data_load.index < test_st_data_load)][\n",
        "        [\"present_storage_tmc\"]\n",
        "    ].rename(columns={\"present_storage_tmc\": \"validation\"}),\n",
        "    how=\"outer\",\n",
        ").join(\n",
        "    ts_data_load[test_st_data_load:][[\"present_storage_tmc\"]].rename(columns={\"present_storage_tmc\": \"test\"}), how=\"outer\"\n",
        ").plot(\n",
        "    y=[\"train\", \"validation\", \"test\"], figsize=(15, 8), fontsize=12\n",
        ")\n",
        "plt.xlabel(\"timestamp\", fontsize=12)\n",
        "plt.ylabel(\"PRESENT_STORAGE_TMC\", fontsize=12)\n",
        "plt.show()"
      ],
      "execution_count": null,
      "outputs": [
        {
          "output_type": "display_data",
          "data": {
            "image/png": "[encoded data removed]",
            "text/plain": [
              "<Figure size 1080x576 with 1 Axes>"
            ]
          },
          "metadata": {
            "tags": [],
            "needs_background": "light"
          }
        }
      ]
    },
    {
      "cell_type": "code",
      "metadata": {
        "id": "FDtwm2V9jIqe"
      },
      "source": [
        "train = ts_data_load.copy()[ts_data_load.index < valid_st_data_load]"
      ],
      "execution_count": null,
      "outputs": []
    },
    {
      "cell_type": "code",
      "metadata": {
        "colab": {
          "base_uri": "https://localhost:8080/"
        },
        "id": "iXqAZRtAkOPB",
        "outputId": "5cad70d8-d30d-4afd-9a9b-01410be6cdde"
      },
      "source": [
        "train.shape"
      ],
      "execution_count": null,
      "outputs": [
        {
          "output_type": "execute_result",
          "data": {
            "text/plain": [
              "(2250, 7)"
            ]
          },
          "metadata": {
            "tags": []
          },
          "execution_count": 18
        }
      ]
    },
    {
      "cell_type": "code",
      "metadata": {
        "colab": {
          "base_uri": "https://localhost:8080/"
        },
        "id": "FGEo0AeZkPJ5",
        "outputId": "60d7cc87-aa30-4605-a7bf-73a156da40fa"
      },
      "source": [
        "y_scaler = MinMaxScaler()\n",
        "y_scaler.fit(train[[\"present_storage_tmc\"]])"
      ],
      "execution_count": null,
      "outputs": [
        {
          "output_type": "execute_result",
          "data": {
            "text/plain": [
              "MinMaxScaler(copy=True, feature_range=(0, 1))"
            ]
          },
          "metadata": {
            "tags": []
          },
          "execution_count": 19
        }
      ]
    },
    {
      "cell_type": "code",
      "metadata": {
        "id": "crXHsio6kT6G"
      },
      "source": [
        "flist = list(ts_data_load.columns)"
      ],
      "execution_count": null,
      "outputs": []
    },
    {
      "cell_type": "code",
      "metadata": {
        "colab": {
          "base_uri": "https://localhost:8080/",
          "height": 392
        },
        "id": "FGwFbxWEkXME",
        "outputId": "114fac50-562c-4b0a-fce1-fad63ab7aeeb"
      },
      "source": [
        "T = 60\n",
        "HORIZON = 30\n",
        "train = ts_data_load.copy()[ts_data_load.index < valid_st_data_load][flist]\n",
        "\n",
        "X_scaler = MinMaxScaler()\n",
        "train[flist] = X_scaler.fit_transform(train)\n",
        "train.sample(10)"
      ],
      "execution_count": null,
      "outputs": [
        {
          "output_type": "execute_result",
          "data": {
            "text/html": [
              "<div>\n",
              "<style scoped>\n",
              "    .dataframe tbody tr th:only-of-type {\n",
              "        vertical-align: middle;\n",
              "    }\n",
              "\n",
              "    .dataframe tbody tr th {\n",
              "        vertical-align: top;\n",
              "    }\n",
              "\n",
              "    .dataframe thead th {\n",
              "        text-align: right;\n",
              "    }\n",
              "</style>\n",
              "<table border=\"1\" class=\"dataframe\">\n",
              "  <thead>\n",
              "    <tr style=\"text-align: right;\">\n",
              "      <th></th>\n",
              "      <th>present_storage_tmc</th>\n",
              "      <th>inflow_tmc</th>\n",
              "      <th>outflow_tmc</th>\n",
              "      <th>max_temp</th>\n",
              "      <th>visibility</th>\n",
              "      <th>humidity</th>\n",
              "      <th>wind</th>\n",
              "    </tr>\n",
              "    <tr>\n",
              "      <th>date</th>\n",
              "      <th></th>\n",
              "      <th></th>\n",
              "      <th></th>\n",
              "      <th></th>\n",
              "      <th></th>\n",
              "      <th></th>\n",
              "      <th></th>\n",
              "    </tr>\n",
              "  </thead>\n",
              "  <tbody>\n",
              "    <tr>\n",
              "      <th>2011-09-04</th>\n",
              "      <td>0.984429</td>\n",
              "      <td>0.405622</td>\n",
              "      <td>0.372438</td>\n",
              "      <td>0.462617</td>\n",
              "      <td>0.750000</td>\n",
              "      <td>0.647774</td>\n",
              "      <td>0.158578</td>\n",
              "    </tr>\n",
              "    <tr>\n",
              "      <th>2016-05-11</th>\n",
              "      <td>0.212942</td>\n",
              "      <td>0.001184</td>\n",
              "      <td>0.003083</td>\n",
              "      <td>0.649533</td>\n",
              "      <td>0.800000</td>\n",
              "      <td>0.381224</td>\n",
              "      <td>0.062884</td>\n",
              "    </tr>\n",
              "    <tr>\n",
              "      <th>2012-09-04</th>\n",
              "      <td>0.564004</td>\n",
              "      <td>0.148867</td>\n",
              "      <td>0.050753</td>\n",
              "      <td>0.369159</td>\n",
              "      <td>0.583333</td>\n",
              "      <td>0.684388</td>\n",
              "      <td>0.177033</td>\n",
              "    </tr>\n",
              "    <tr>\n",
              "      <th>2017-02-21</th>\n",
              "      <td>0.204044</td>\n",
              "      <td>0.001100</td>\n",
              "      <td>0.002454</td>\n",
              "      <td>0.654206</td>\n",
              "      <td>0.616667</td>\n",
              "      <td>0.230375</td>\n",
              "      <td>0.038961</td>\n",
              "    </tr>\n",
              "    <tr>\n",
              "      <th>2017-12-28</th>\n",
              "      <td>0.546411</td>\n",
              "      <td>0.003824</td>\n",
              "      <td>0.045784</td>\n",
              "      <td>0.275701</td>\n",
              "      <td>0.400000</td>\n",
              "      <td>0.536467</td>\n",
              "      <td>0.114833</td>\n",
              "    </tr>\n",
              "    <tr>\n",
              "      <th>2011-03-13</th>\n",
              "      <td>0.674419</td>\n",
              "      <td>0.010656</td>\n",
              "      <td>0.014846</td>\n",
              "      <td>0.570093</td>\n",
              "      <td>0.800000</td>\n",
              "      <td>0.326303</td>\n",
              "      <td>0.089542</td>\n",
              "    </tr>\n",
              "    <tr>\n",
              "      <th>2013-11-07</th>\n",
              "      <td>0.909201</td>\n",
              "      <td>0.013558</td>\n",
              "      <td>0.037256</td>\n",
              "      <td>0.509346</td>\n",
              "      <td>0.583333</td>\n",
              "      <td>0.547891</td>\n",
              "      <td>0.051948</td>\n",
              "    </tr>\n",
              "    <tr>\n",
              "      <th>2016-07-30</th>\n",
              "      <td>0.450556</td>\n",
              "      <td>0.062206</td>\n",
              "      <td>0.085454</td>\n",
              "      <td>0.317757</td>\n",
              "      <td>0.650000</td>\n",
              "      <td>0.859988</td>\n",
              "      <td>0.127136</td>\n",
              "    </tr>\n",
              "    <tr>\n",
              "      <th>2017-04-24</th>\n",
              "      <td>0.163802</td>\n",
              "      <td>0.004034</td>\n",
              "      <td>0.008934</td>\n",
              "      <td>0.775701</td>\n",
              "      <td>0.800000</td>\n",
              "      <td>0.247364</td>\n",
              "      <td>0.070403</td>\n",
              "    </tr>\n",
              "    <tr>\n",
              "      <th>2012-11-05</th>\n",
              "      <td>0.593327</td>\n",
              "      <td>0.051676</td>\n",
              "      <td>0.027501</td>\n",
              "      <td>0.420561</td>\n",
              "      <td>0.483333</td>\n",
              "      <td>0.729643</td>\n",
              "      <td>0.051948</td>\n",
              "    </tr>\n",
              "  </tbody>\n",
              "</table>\n",
              "</div>"
            ],
            "text/plain": [
              "            present_storage_tmc  inflow_tmc  ...  humidity      wind\n",
              "date                                         ...                    \n",
              "2011-09-04             0.984429    0.405622  ...  0.647774  0.158578\n",
              "2016-05-11             0.212942    0.001184  ...  0.381224  0.062884\n",
              "2012-09-04             0.564004    0.148867  ...  0.684388  0.177033\n",
              "2017-02-21             0.204044    0.001100  ...  0.230375  0.038961\n",
              "2017-12-28             0.546411    0.003824  ...  0.536467  0.114833\n",
              "2011-03-13             0.674419    0.010656  ...  0.326303  0.089542\n",
              "2013-11-07             0.909201    0.013558  ...  0.547891  0.051948\n",
              "2016-07-30             0.450556    0.062206  ...  0.859988  0.127136\n",
              "2017-04-24             0.163802    0.004034  ...  0.247364  0.070403\n",
              "2012-11-05             0.593327    0.051676  ...  0.729643  0.051948\n",
              "\n",
              "[10 rows x 7 columns]"
            ]
          },
          "metadata": {
            "tags": []
          },
          "execution_count": 21
        }
      ]
    },
    {
      "cell_type": "code",
      "metadata": {
        "colab": {
          "base_uri": "https://localhost:8080/"
        },
        "id": "frdXuNOIkads",
        "outputId": "f9a54efe-1f45-4c32-cb32-f228494a5f6c"
      },
      "source": [
        "train = train.dropna(axis = 0, how ='any')\n",
        "train.isna().sum()"
      ],
      "execution_count": null,
      "outputs": [
        {
          "output_type": "execute_result",
          "data": {
            "text/plain": [
              "present_storage_tmc    0\n",
              "inflow_tmc             0\n",
              "outflow_tmc            0\n",
              "max_temp               0\n",
              "visibility             0\n",
              "humidity               0\n",
              "wind                   0\n",
              "dtype: int64"
            ]
          },
          "metadata": {
            "tags": []
          },
          "execution_count": 22
        }
      ]
    },
    {
      "cell_type": "code",
      "metadata": {
        "colab": {
          "base_uri": "https://localhost:8080/"
        },
        "id": "VL8-XySDkejU",
        "outputId": "ba4fc11b-6f41-4602-f30b-67918f68b43b"
      },
      "source": [
        "tensor_structure = {\"X\": (range(-T + 1, 1), flist)}\n",
        "print(tensor_structure)\n",
        "ts_train_inp = TimeSeriesTensor(\n",
        "    dataset=train,\n",
        "    target=\"present_storage_tmc\",\n",
        "    H=HORIZON,\n",
        "    tensor_structure=tensor_structure,\n",
        "    freq=\"D\",\n",
        "    drop_incomplete=True,\n",
        ")\n",
        "back_ts_data = dt.datetime.strptime(valid_st_data_load, \"%Y-%m-%d %H:%M:%S\") - dt.timedelta(\n",
        "    days=T - 1\n",
        ")\n",
        "valid = ts_data_load.copy()[(ts_data_load.index >= back_ts_data) & (ts_data_load.index < test_st_data_load)][\n",
        "    flist\n",
        "]\n",
        "valid[flist] = X_scaler.transform(valid)\n",
        "valid_inputs = TimeSeriesTensor(valid, \"present_storage_tmc\", HORIZON, tensor_structure, freq='D')"
      ],
      "execution_count": null,
      "outputs": [
        {
          "output_type": "stream",
          "text": [
            "{'X': (range(-59, 1), ['present_storage_tmc', 'inflow_tmc', 'outflow_tmc', 'max_temp', 'visibility', 'humidity', 'wind'])}\n"
          ],
          "name": "stdout"
        }
      ]
    },
    {
      "cell_type": "code",
      "metadata": {
        "id": "2euBCSu7khjL"
      },
      "source": [
        "from tensorflow.keras.callbacks import EarlyStopping\n",
        "from tensorflow.keras.layers import GRU, Dense\n",
        "from tensorflow.keras.models import Model, Sequential"
      ],
      "execution_count": null,
      "outputs": []
    },
    {
      "cell_type": "code",
      "metadata": {
        "id": "udLW7DkZks7d"
      },
      "source": [
        "LATENT_DIM = T\n",
        "BATCH_SIZE = 32\n",
        "EPOCHS = (\n",
        "    100\n",
        ")"
      ],
      "execution_count": null,
      "outputs": []
    },
    {
      "cell_type": "code",
      "metadata": {
        "id": "_1gV0pknkuR9"
      },
      "source": [
        "model = Sequential()\n",
        "model.add(GRU(LATENT_DIM, return_sequences=True,input_shape=(T, features)))\n",
        "#model.add(GRU(LATENT_DIM, input_shape=(T, 3)))\n",
        "model.add(GRU(LATENT_DIM))\n",
        "model.add(Dense(HORIZON))"
      ],
      "execution_count": null,
      "outputs": []
    },
    {
      "cell_type": "code",
      "metadata": {
        "id": "TkcFGU31kwUE"
      },
      "source": [
        "model.compile(optimizer=\"adam\", loss=\"mse\")\n"
      ],
      "execution_count": null,
      "outputs": []
    },
    {
      "cell_type": "code",
      "metadata": {
        "colab": {
          "base_uri": "https://localhost:8080/"
        },
        "id": "93cQ3vtqkxoT",
        "outputId": "376eeb3e-7a12-4406-8fa6-a48d79e27049"
      },
      "source": [
        "model.summary()\n"
      ],
      "execution_count": null,
      "outputs": [
        {
          "output_type": "stream",
          "text": [
            "Model: \"sequential\"\n",
            "_________________________________________________________________\n",
            "Layer (type)                 Output Shape              Param #   \n",
            "=================================================================\n",
            "gru (GRU)                    (None, 60, 60)            12420     \n",
            "_________________________________________________________________\n",
            "gru_1 (GRU)                  (None, 60)                21960     \n",
            "_________________________________________________________________\n",
            "dense (Dense)                (None, 30)                1830      \n",
            "=================================================================\n",
            "Total params: 36,210\n",
            "Trainable params: 36,210\n",
            "Non-trainable params: 0\n",
            "_________________________________________________________________\n"
          ],
          "name": "stdout"
        }
      ]
    },
    {
      "cell_type": "code",
      "metadata": {
        "id": "aE1aJd0Vky_R"
      },
      "source": [
        "earlystop = EarlyStopping(monitor=\"val_loss\", min_delta=0, patience=5)\n"
      ],
      "execution_count": null,
      "outputs": []
    },
    {
      "cell_type": "code",
      "metadata": {
        "colab": {
          "base_uri": "https://localhost:8080/"
        },
        "id": "UICkCrJNk1P2",
        "outputId": "c49b2ab2-bd41-4ebe-917c-191e04023851"
      },
      "source": [
        "model_history = model.fit(\n",
        "    ts_train_inp[\"X\"],\n",
        "    ts_train_inp[\"target\"],\n",
        "    batch_size=BATCH_SIZE,\n",
        "    epochs=EPOCHS,\n",
        "    validation_data=(valid_inputs[\"X\"], valid_inputs[\"target\"]),\n",
        "    callbacks=[earlystop],\n",
        "    verbose=1,\n",
        ")"
      ],
      "execution_count": null,
      "outputs": [
        {
          "output_type": "stream",
          "text": [
            "Epoch 1/100\n",
            "54/54 [==============================] - 7s 71ms/step - loss: 0.0896 - val_loss: 0.0171\n",
            "Epoch 2/100\n",
            "54/54 [==============================] - 3s 59ms/step - loss: 0.0086 - val_loss: 0.0121\n",
            "Epoch 3/100\n",
            "54/54 [==============================] - 3s 59ms/step - loss: 0.0068 - val_loss: 0.0120\n",
            "Epoch 4/100\n",
            "54/54 [==============================] - 3s 58ms/step - loss: 0.0061 - val_loss: 0.0118\n",
            "Epoch 5/100\n",
            "54/54 [==============================] - 3s 58ms/step - loss: 0.0057 - val_loss: 0.0113\n",
            "Epoch 6/100\n",
            "54/54 [==============================] - 3s 58ms/step - loss: 0.0056 - val_loss: 0.0109\n",
            "Epoch 7/100\n",
            "54/54 [==============================] - 3s 58ms/step - loss: 0.0059 - val_loss: 0.0125\n",
            "Epoch 8/100\n",
            "54/54 [==============================] - 3s 59ms/step - loss: 0.0056 - val_loss: 0.0102\n",
            "Epoch 9/100\n",
            "54/54 [==============================] - 3s 59ms/step - loss: 0.0051 - val_loss: 0.0102\n",
            "Epoch 10/100\n",
            "54/54 [==============================] - 3s 58ms/step - loss: 0.0053 - val_loss: 0.0101\n",
            "Epoch 11/100\n",
            "54/54 [==============================] - 3s 58ms/step - loss: 0.0052 - val_loss: 0.0105\n",
            "Epoch 12/100\n",
            "54/54 [==============================] - 3s 58ms/step - loss: 0.0051 - val_loss: 0.0099\n",
            "Epoch 13/100\n",
            "54/54 [==============================] - 3s 59ms/step - loss: 0.0050 - val_loss: 0.0094\n",
            "Epoch 14/100\n",
            "54/54 [==============================] - 3s 59ms/step - loss: 0.0049 - val_loss: 0.0094\n",
            "Epoch 15/100\n",
            "54/54 [==============================] - 3s 59ms/step - loss: 0.0048 - val_loss: 0.0093\n",
            "Epoch 16/100\n",
            "54/54 [==============================] - 3s 59ms/step - loss: 0.0047 - val_loss: 0.0089\n",
            "Epoch 17/100\n",
            "54/54 [==============================] - 3s 59ms/step - loss: 0.0049 - val_loss: 0.0085\n",
            "Epoch 18/100\n",
            "54/54 [==============================] - 3s 59ms/step - loss: 0.0047 - val_loss: 0.0081\n",
            "Epoch 19/100\n",
            "54/54 [==============================] - 3s 58ms/step - loss: 0.0046 - val_loss: 0.0078\n",
            "Epoch 20/100\n",
            "54/54 [==============================] - 3s 59ms/step - loss: 0.0044 - val_loss: 0.0082\n",
            "Epoch 21/100\n",
            "54/54 [==============================] - 3s 60ms/step - loss: 0.0043 - val_loss: 0.0079\n",
            "Epoch 22/100\n",
            "54/54 [==============================] - 3s 59ms/step - loss: 0.0043 - val_loss: 0.0080\n",
            "Epoch 23/100\n",
            "54/54 [==============================] - 3s 59ms/step - loss: 0.0042 - val_loss: 0.0073\n",
            "Epoch 24/100\n",
            "54/54 [==============================] - 3s 58ms/step - loss: 0.0041 - val_loss: 0.0075\n",
            "Epoch 25/100\n",
            "54/54 [==============================] - 3s 59ms/step - loss: 0.0043 - val_loss: 0.0074\n",
            "Epoch 26/100\n",
            "54/54 [==============================] - 3s 58ms/step - loss: 0.0044 - val_loss: 0.0078\n",
            "Epoch 27/100\n",
            "54/54 [==============================] - 3s 59ms/step - loss: 0.0039 - val_loss: 0.0076\n",
            "Epoch 28/100\n",
            "54/54 [==============================] - 3s 59ms/step - loss: 0.0039 - val_loss: 0.0072\n",
            "Epoch 29/100\n",
            "54/54 [==============================] - 3s 59ms/step - loss: 0.0039 - val_loss: 0.0066\n",
            "Epoch 30/100\n",
            "54/54 [==============================] - 3s 58ms/step - loss: 0.0039 - val_loss: 0.0069\n",
            "Epoch 31/100\n",
            "54/54 [==============================] - 3s 59ms/step - loss: 0.0037 - val_loss: 0.0068\n",
            "Epoch 32/100\n",
            "54/54 [==============================] - 3s 59ms/step - loss: 0.0037 - val_loss: 0.0066\n",
            "Epoch 33/100\n",
            "54/54 [==============================] - 3s 59ms/step - loss: 0.0035 - val_loss: 0.0070\n",
            "Epoch 34/100\n",
            "54/54 [==============================] - 3s 59ms/step - loss: 0.0033 - val_loss: 0.0072\n",
            "Epoch 35/100\n",
            "54/54 [==============================] - 3s 59ms/step - loss: 0.0033 - val_loss: 0.0069\n",
            "Epoch 36/100\n",
            "54/54 [==============================] - 3s 59ms/step - loss: 0.0031 - val_loss: 0.0080\n",
            "Epoch 37/100\n",
            "54/54 [==============================] - 3s 58ms/step - loss: 0.0028 - val_loss: 0.0087\n"
          ],
          "name": "stdout"
        }
      ]
    },
    {
      "cell_type": "code",
      "metadata": {
        "colab": {
          "base_uri": "https://localhost:8080/"
        },
        "id": "9PNS58HYpcxX",
        "outputId": "acdca79c-693b-4fc2-9a75-a28fbb9cf99b"
      },
      "source": [
        "model.save(\"60daysto30days\")"
      ],
      "execution_count": null,
      "outputs": [
        {
          "output_type": "stream",
          "text": [
            "WARNING:absl:Found untraced functions such as gru_cell_layer_call_fn, gru_cell_layer_call_and_return_conditional_losses, gru_cell_1_layer_call_fn, gru_cell_1_layer_call_and_return_conditional_losses, gru_cell_layer_call_fn while saving (showing 5 of 10). These functions will not be directly callable after loading.\n"
          ],
          "name": "stderr"
        },
        {
          "output_type": "stream",
          "text": [
            "INFO:tensorflow:Assets written to: 60daysto30days/assets\n"
          ],
          "name": "stdout"
        },
        {
          "output_type": "stream",
          "text": [
            "INFO:tensorflow:Assets written to: 60daysto30days/assets\n"
          ],
          "name": "stderr"
        }
      ]
    },
    {
      "cell_type": "code",
      "metadata": {
        "colab": {
          "base_uri": "https://localhost:8080/",
          "height": 295
        },
        "id": "D1N3y6VHk2ic",
        "outputId": "0e40eefd-937c-4525-c3e1-42ad37a20c13"
      },
      "source": [
        "# summarize history for loss\n",
        "plt.plot(model_history.history['loss'])\n",
        "plt.plot(model_history.history['val_loss'])\n",
        "plt.title('model loss')\n",
        "plt.ylabel('loss')\n",
        "plt.xlabel('epoch')\n",
        "plt.legend(['train', 'val'], loc='upper left')\n",
        "plt.show()"
      ],
      "execution_count": null,
      "outputs": [
        {
          "output_type": "display_data",
          "data": {
            "image/png": "[encoded data removed]",
            "text/plain": [
              "<Figure size 432x288 with 1 Axes>"
            ]
          },
          "metadata": {
            "tags": [],
            "needs_background": "light"
          }
        }
      ]
    },
    {
      "cell_type": "code",
      "metadata": {
        "colab": {
          "base_uri": "https://localhost:8080/",
          "height": 295
        },
        "id": "1KqJU477k4g2",
        "outputId": "e7296ac3-fe81-4cf6-d867-497e17b0696e"
      },
      "source": [
        "# summarize history for loss\n",
        "plt.plot(model_history.history['loss'][3:])\n",
        "plt.plot(model_history.history['val_loss'][3:])\n",
        "plt.title('model loss')\n",
        "plt.ylabel('loss')\n",
        "plt.xlabel('epoch')\n",
        "plt.legend(['train', 'val'], loc='upper left')\n",
        "plt.show()"
      ],
      "execution_count": null,
      "outputs": [
        {
          "output_type": "display_data",
          "data": {
            "image/png": "[encoded data removed]",
            "text/plain": [
              "<Figure size 432x288 with 1 Axes>"
            ]
          },
          "metadata": {
            "tags": [],
            "needs_background": "light"
          }
        }
      ]
    },
    {
      "cell_type": "code",
      "metadata": {
        "id": "yWKaOFExlpY5"
      },
      "source": [
        "ts_data_test = ts_data_load.copy()[test_st_data_load:][flist]\n",
        "ts_data_test[flist] = X_scaler.transform(ts_data_test)\n",
        "ts_data_test_inputs = TimeSeriesTensor(ts_data_test, \"present_storage_tmc\", HORIZON, tensor_structure, freq='D')\n"
      ],
      "execution_count": null,
      "outputs": []
    },
    {
      "cell_type": "code",
      "metadata": {
        "colab": {
          "base_uri": "https://localhost:8080/"
        },
        "id": "xOI0r4uPmApo",
        "outputId": "9df60d09-c6b4-43b4-b742-5e31a5f846bb"
      },
      "source": [
        "ts_data_test_inputs['X'].shape"
      ],
      "execution_count": null,
      "outputs": [
        {
          "output_type": "execute_result",
          "data": {
            "text/plain": [
              "(514, 60, 7)"
            ]
          },
          "metadata": {
            "tags": []
          },
          "execution_count": 35
        }
      ]
    },
    {
      "cell_type": "code",
      "metadata": {
        "id": "Fv7ivXW1njIF"
      },
      "source": [
        "def create_evaluation_df1(predictions, test_inputs, H, scaler):\n",
        "    \"\"\"Create a data frame for easy evaluation\"\"\"\n",
        "    eval_df = pd.DataFrame(\n",
        "        predictions, columns=[\"t+\" + str(t) for t in range(1, H + 1)]\n",
        "    )\n",
        "    \n",
        "    eval_df[\"timestamp\"] = test_inputs.dataframe.index\n",
        "    print(eval_df.shape, eval_df.head(2))\n",
        "\n",
        "    #eval_df = pd.melt(\n",
        "    #    eval_df, id_vars=\"timestamp\", value_name=\"prediction\", var_name=\"h\"\n",
        "    #)\n",
        "    values = ['t+'+str(i) for i in range(1, H+1)]\n",
        "    \n",
        "    eval_df = pd.melt(\n",
        "        eval_df, id_vars=\"timestamp\", value_vars=values, value_name=\"prediction\"\n",
        "    )\n",
        "    print(eval_df.shape, eval_df.head(2))\n",
        "    eval_df[\"actual\"] = np.transpose(test_inputs[\"target\"]).ravel()\n",
        "    eval_df[[\"prediction\", \"actual\"]] = scaler.inverse_transform(\n",
        "        eval_df[[\"prediction\", \"actual\"]]\n",
        "    )\n",
        "    return eval_df"
      ],
      "execution_count": null,
      "outputs": []
    },
    {
      "cell_type": "code",
      "metadata": {
        "colab": {
          "base_uri": "https://localhost:8080/",
          "height": 342
        },
        "id": "KwpRphbJnm-u",
        "outputId": "c0b90d5e-2e07-4747-b60a-277e96121e41"
      },
      "source": [
        "ts_predictions = model.predict(ts_data_test_inputs[\"X\"])\n",
        "\n",
        "ev_ts_data = create_evaluation_df1(ts_predictions, ts_data_test_inputs, HORIZON, y_scaler)\n",
        "ev_ts_data.sample(5)"
      ],
      "execution_count": null,
      "outputs": [
        {
          "output_type": "stream",
          "text": [
            "(514, 31)        t+1       t+2       t+3  ...      t+29      t+30  timestamp\n",
            "0  0.22503  0.229032  0.248271  ...  0.516949  0.511683 2019-06-30\n",
            "1  0.22596  0.227548  0.251563  ...  0.518884  0.516496 2019-07-01\n",
            "\n",
            "[2 rows x 31 columns]\n",
            "(15420, 3)    timestamp variable  prediction\n",
            "0 2019-06-30      t+1     0.22503\n",
            "1 2019-07-01      t+1     0.22596\n"
          ],
          "name": "stdout"
        },
        {
          "output_type": "execute_result",
          "data": {
            "text/html": [
              "<div>\n",
              "<style scoped>\n",
              "    .dataframe tbody tr th:only-of-type {\n",
              "        vertical-align: middle;\n",
              "    }\n",
              "\n",
              "    .dataframe tbody tr th {\n",
              "        vertical-align: top;\n",
              "    }\n",
              "\n",
              "    .dataframe thead th {\n",
              "        text-align: right;\n",
              "    }\n",
              "</style>\n",
              "<table border=\"1\" class=\"dataframe\">\n",
              "  <thead>\n",
              "    <tr style=\"text-align: right;\">\n",
              "      <th></th>\n",
              "      <th>timestamp</th>\n",
              "      <th>variable</th>\n",
              "      <th>prediction</th>\n",
              "      <th>actual</th>\n",
              "    </tr>\n",
              "  </thead>\n",
              "  <tbody>\n",
              "    <tr>\n",
              "      <th>13694</th>\n",
              "      <td>2020-12-25</td>\n",
              "      <td>t+27</td>\n",
              "      <td>38.228844</td>\n",
              "      <td>39.512000</td>\n",
              "    </tr>\n",
              "    <tr>\n",
              "      <th>8273</th>\n",
              "      <td>2019-08-18</td>\n",
              "      <td>t+17</td>\n",
              "      <td>52.523318</td>\n",
              "      <td>49.450000</td>\n",
              "    </tr>\n",
              "    <tr>\n",
              "      <th>9637</th>\n",
              "      <td>2021-02-18</td>\n",
              "      <td>t+19</td>\n",
              "      <td>30.827930</td>\n",
              "      <td>30.454000</td>\n",
              "    </tr>\n",
              "    <tr>\n",
              "      <th>14999</th>\n",
              "      <td>2019-10-01</td>\n",
              "      <td>t+30</td>\n",
              "      <td>50.019707</td>\n",
              "      <td>49.450000</td>\n",
              "    </tr>\n",
              "    <tr>\n",
              "      <th>8150</th>\n",
              "      <td>2021-04-14</td>\n",
              "      <td>t+16</td>\n",
              "      <td>20.880691</td>\n",
              "      <td>18.398091</td>\n",
              "    </tr>\n",
              "  </tbody>\n",
              "</table>\n",
              "</div>"
            ],
            "text/plain": [
              "       timestamp variable  prediction     actual\n",
              "13694 2020-12-25     t+27   38.228844  39.512000\n",
              "8273  2019-08-18     t+17   52.523318  49.450000\n",
              "9637  2021-02-18     t+19   30.827930  30.454000\n",
              "14999 2019-10-01     t+30   50.019707  49.450000\n",
              "8150  2021-04-14     t+16   20.880691  18.398091"
            ]
          },
          "metadata": {
            "tags": []
          },
          "execution_count": 37
        }
      ]
    },
    {
      "cell_type": "code",
      "metadata": {
        "id": "J__g5N4VaQBP",
        "colab": {
          "base_uri": "https://localhost:8080/"
        },
        "outputId": "ab1c2272-08c1-4db5-ffdb-e9694b7d56c3"
      },
      "source": [
        "ts_predictions.shape"
      ],
      "execution_count": null,
      "outputs": [
        {
          "output_type": "execute_result",
          "data": {
            "text/plain": [
              "(514, 30)"
            ]
          },
          "metadata": {
            "tags": []
          },
          "execution_count": 38
        }
      ]
    },
    {
      "cell_type": "code",
      "metadata": {
        "colab": {
          "base_uri": "https://localhost:8080/",
          "height": 392
        },
        "id": "JLjrnZUln0is",
        "outputId": "c6391eae-86ae-4205-825a-ab300616cbc5"
      },
      "source": [
        "ev_ts_data[ev_ts_data.variable=='t+1'].plot(\n",
        "    x=\"timestamp\", y=[\"prediction\", \"actual\"], style=[\"r\", \"b\"], figsize=(10, 6)\n",
        ")"
      ],
      "execution_count": null,
      "outputs": [
        {
          "output_type": "execute_result",
          "data": {
            "text/plain": [
              "<matplotlib.axes._subplots.AxesSubplot at 0x7f0f98133b90>"
            ]
          },
          "metadata": {
            "tags": []
          },
          "execution_count": 39
        },
        {
          "output_type": "display_data",
          "data": {
            "image/png": "[encoded data removed]",
            "text/plain": [
              "<Figure size 720x432 with 1 Axes>"
            ]
          },
          "metadata": {
            "tags": [],
            "needs_background": "light"
          }
        }
      ]
    },
    {
      "cell_type": "code",
      "metadata": {
        "colab": {
          "base_uri": "https://localhost:8080/"
        },
        "id": "bzDzi75ZntIE",
        "outputId": "4a59c2e9-2afd-4ac8-bc6b-ac1a26c4a673"
      },
      "source": [
        "\n",
        "mape(ev_ts_data[\"prediction\"], ev_ts_data[\"actual\"])"
      ],
      "execution_count": null,
      "outputs": [
        {
          "output_type": "execute_result",
          "data": {
            "text/plain": [
              "0.19011912750518378"
            ]
          },
          "metadata": {
            "tags": []
          },
          "execution_count": 40
        }
      ]
    },
    {
      "cell_type": "code",
      "metadata": {
        "id": "WzlD3iZhn5bA"
      },
      "source": [
        "ev_ts_data.to_csv(\"forecast_withdatecolumns.csv\")"
      ],
      "execution_count": null,
      "outputs": []
    },
    {
      "cell_type": "code",
      "metadata": {
        "id": "JDj4z7gwoEgu"
      },
      "source": [
        "import datetime\n",
        "forecast_dates = ev_ts_data.apply(\n",
        "         lambda row: row.timestamp + datetime.timedelta(days=int(row.variable[2:])),\n",
        "         axis=1)\n",
        "ev_ts_data[\"date\"] = forecast_dates\n"
      ],
      "execution_count": null,
      "outputs": []
    },
    {
      "cell_type": "code",
      "metadata": {
        "colab": {
          "base_uri": "https://localhost:8080/",
          "height": 111
        },
        "id": "J0G5S-NMo7L3",
        "outputId": "6cc645c4-1c8c-4b3e-f2bd-2f1b881e2304"
      },
      "source": [
        "ev_ts_data.head(2)"
      ],
      "execution_count": null,
      "outputs": [
        {
          "output_type": "execute_result",
          "data": {
            "text/html": [
              "<div>\n",
              "<style scoped>\n",
              "    .dataframe tbody tr th:only-of-type {\n",
              "        vertical-align: middle;\n",
              "    }\n",
              "\n",
              "    .dataframe tbody tr th {\n",
              "        vertical-align: top;\n",
              "    }\n",
              "\n",
              "    .dataframe thead th {\n",
              "        text-align: right;\n",
              "    }\n",
              "</style>\n",
              "<table border=\"1\" class=\"dataframe\">\n",
              "  <thead>\n",
              "    <tr style=\"text-align: right;\">\n",
              "      <th></th>\n",
              "      <th>timestamp</th>\n",
              "      <th>variable</th>\n",
              "      <th>prediction</th>\n",
              "      <th>actual</th>\n",
              "      <th>date</th>\n",
              "    </tr>\n",
              "  </thead>\n",
              "  <tbody>\n",
              "    <tr>\n",
              "      <th>0</th>\n",
              "      <td>2019-06-30</td>\n",
              "      <td>t+1</td>\n",
              "      <td>11.127720</td>\n",
              "      <td>10.81</td>\n",
              "      <td>2019-07-01</td>\n",
              "    </tr>\n",
              "    <tr>\n",
              "      <th>1</th>\n",
              "      <td>2019-07-01</td>\n",
              "      <td>t+1</td>\n",
              "      <td>11.173743</td>\n",
              "      <td>10.83</td>\n",
              "      <td>2019-07-02</td>\n",
              "    </tr>\n",
              "  </tbody>\n",
              "</table>\n",
              "</div>"
            ],
            "text/plain": [
              "   timestamp variable  prediction  actual       date\n",
              "0 2019-06-30      t+1   11.127720   10.81 2019-07-01\n",
              "1 2019-07-01      t+1   11.173743   10.83 2019-07-02"
            ]
          },
          "metadata": {
            "tags": []
          },
          "execution_count": 42
        }
      ]
    },
    {
      "cell_type": "code",
      "metadata": {
        "colab": {
          "base_uri": "https://localhost:8080/"
        },
        "id": "mAcLwsFPo9FU",
        "outputId": "fcc2e10c-56f6-41ce-ea56-2876377fbb7f"
      },
      "source": [
        "from google.colab import drive\n",
        "drive.mount('/content/gdrive')\n"
      ],
      "execution_count": null,
      "outputs": [
        {
          "output_type": "stream",
          "text": [
            "Mounted at /content/gdrive\n"
          ],
          "name": "stdout"
        }
      ]
    },
    {
      "cell_type": "code",
      "metadata": {
        "colab": {
          "base_uri": "https://localhost:8080/",
          "height": 143
        },
        "id": "KrBQf1xzszoV",
        "outputId": "d404b45e-786d-4bfb-bd21-c3be15fb34a2"
      },
      "source": [
        "#finetuning\n",
        "T = 60\n",
        "HORIZON = 30\n",
        "ftrain = ts_data_load.copy()[flist]\n",
        "\n",
        "X_scaler = MinMaxScaler()\n",
        "ftrain[flist] = X_scaler.fit_transform(ftrain)\n",
        "ftrain.sample(2)"
      ],
      "execution_count": null,
      "outputs": [
        {
          "output_type": "execute_result",
          "data": {
            "text/html": [
              "<div>\n",
              "<style scoped>\n",
              "    .dataframe tbody tr th:only-of-type {\n",
              "        vertical-align: middle;\n",
              "    }\n",
              "\n",
              "    .dataframe tbody tr th {\n",
              "        vertical-align: top;\n",
              "    }\n",
              "\n",
              "    .dataframe thead th {\n",
              "        text-align: right;\n",
              "    }\n",
              "</style>\n",
              "<table border=\"1\" class=\"dataframe\">\n",
              "  <thead>\n",
              "    <tr style=\"text-align: right;\">\n",
              "      <th></th>\n",
              "      <th>present_storage_tmc</th>\n",
              "      <th>inflow_tmc</th>\n",
              "      <th>outflow_tmc</th>\n",
              "      <th>max_temp</th>\n",
              "      <th>visibility</th>\n",
              "      <th>humidity</th>\n",
              "      <th>wind</th>\n",
              "    </tr>\n",
              "    <tr>\n",
              "      <th>date</th>\n",
              "      <th></th>\n",
              "      <th></th>\n",
              "      <th></th>\n",
              "      <th></th>\n",
              "      <th></th>\n",
              "      <th></th>\n",
              "      <th></th>\n",
              "    </tr>\n",
              "  </thead>\n",
              "  <tbody>\n",
              "    <tr>\n",
              "      <th>2016-06-29</th>\n",
              "      <td>0.139737</td>\n",
              "      <td>0.010411</td>\n",
              "      <td>0.009639</td>\n",
              "      <td>0.266355</td>\n",
              "      <td>0.147619</td>\n",
              "      <td>0.904444</td>\n",
              "      <td>0.118081</td>\n",
              "    </tr>\n",
              "    <tr>\n",
              "      <th>2021-06-16</th>\n",
              "      <td>0.240728</td>\n",
              "      <td>0.005965</td>\n",
              "      <td>0.002332</td>\n",
              "      <td>0.415888</td>\n",
              "      <td>0.147619</td>\n",
              "      <td>0.797813</td>\n",
              "      <td>0.167633</td>\n",
              "    </tr>\n",
              "  </tbody>\n",
              "</table>\n",
              "</div>"
            ],
            "text/plain": [
              "            present_storage_tmc  inflow_tmc  ...  humidity      wind\n",
              "date                                         ...                    \n",
              "2016-06-29             0.139737    0.010411  ...  0.904444  0.118081\n",
              "2021-06-16             0.240728    0.005965  ...  0.797813  0.167633\n",
              "\n",
              "[2 rows x 7 columns]"
            ]
          },
          "metadata": {
            "tags": []
          },
          "execution_count": 45
        }
      ]
    },
    {
      "cell_type": "code",
      "metadata": {
        "colab": {
          "base_uri": "https://localhost:8080/",
          "height": 111
        },
        "id": "d08fmXBJyoFk",
        "outputId": "29b31768-0240-45f0-97f8-d420f804dc02"
      },
      "source": [
        "ftrain.last('1D')"
      ],
      "execution_count": null,
      "outputs": [
        {
          "output_type": "execute_result",
          "data": {
            "text/html": [
              "<div>\n",
              "<style scoped>\n",
              "    .dataframe tbody tr th:only-of-type {\n",
              "        vertical-align: middle;\n",
              "    }\n",
              "\n",
              "    .dataframe tbody tr th {\n",
              "        vertical-align: top;\n",
              "    }\n",
              "\n",
              "    .dataframe thead th {\n",
              "        text-align: right;\n",
              "    }\n",
              "</style>\n",
              "<table border=\"1\" class=\"dataframe\">\n",
              "  <thead>\n",
              "    <tr style=\"text-align: right;\">\n",
              "      <th></th>\n",
              "      <th>present_storage_tmc</th>\n",
              "      <th>inflow_tmc</th>\n",
              "      <th>outflow_tmc</th>\n",
              "      <th>max_temp</th>\n",
              "      <th>visibility</th>\n",
              "      <th>humidity</th>\n",
              "      <th>wind</th>\n",
              "    </tr>\n",
              "    <tr>\n",
              "      <th>date</th>\n",
              "      <th></th>\n",
              "      <th></th>\n",
              "      <th></th>\n",
              "      <th></th>\n",
              "      <th></th>\n",
              "      <th></th>\n",
              "      <th></th>\n",
              "    </tr>\n",
              "  </thead>\n",
              "  <tbody>\n",
              "    <tr>\n",
              "      <th>2021-07-26</th>\n",
              "      <td>0.488493</td>\n",
              "      <td>0.053957</td>\n",
              "      <td>0.015142</td>\n",
              "      <td>0.35514</td>\n",
              "      <td>1.0</td>\n",
              "      <td>0.650149</td>\n",
              "      <td>0.129151</td>\n",
              "    </tr>\n",
              "  </tbody>\n",
              "</table>\n",
              "</div>"
            ],
            "text/plain": [
              "            present_storage_tmc  inflow_tmc  ...  humidity      wind\n",
              "date                                         ...                    \n",
              "2021-07-26             0.488493    0.053957  ...  0.650149  0.129151\n",
              "\n",
              "[1 rows x 7 columns]"
            ]
          },
          "metadata": {
            "tags": []
          },
          "execution_count": 46
        }
      ]
    },
    {
      "cell_type": "code",
      "metadata": {
        "id": "iQ4FGtPBwmM3"
      },
      "source": [
        "tensor_structure = {\"X\": (range(-T + 1, 1), flist)}\n",
        "\n",
        "ts_train_inp = TimeSeriesTensor(\n",
        "    dataset=ftrain,\n",
        "    target=\"present_storage_tmc\",\n",
        "    H=HORIZON,\n",
        "    tensor_structure=tensor_structure,\n",
        "    freq=\"D\",\n",
        "    drop_incomplete=True,\n",
        ")\n",
        "#back_ts_data = dt.datetime.strptime(date.today(), \"%Y-%m-%d %H:%M:%S\") - dt.timedelta(\n",
        "#    days=T - 1\n",
        "#)\n"
      ],
      "execution_count": null,
      "outputs": []
    },
    {
      "cell_type": "code",
      "metadata": {
        "colab": {
          "base_uri": "https://localhost:8080/"
        },
        "id": "vFlenigtwHr9",
        "outputId": "967ea6b6-74dd-48a6-fab3-7d756859f76a"
      },
      "source": [
        "model_history = model.fit(\n",
        "    ts_train_inp[\"X\"],\n",
        "    ts_train_inp[\"target\"],\n",
        "    batch_size=BATCH_SIZE,\n",
        "    epochs=20,\n",
        "    #validation_data=(valid_inputs[\"X\"], valid_inputs[\"target\"]),\n",
        "    #callbacks=[earlystop],\n",
        "    verbose=1,\n",
        ")"
      ],
      "execution_count": null,
      "outputs": [
        {
          "output_type": "stream",
          "text": [
            "Epoch 1/20\n",
            "88/88 [==============================] - 5s 57ms/step - loss: 0.0114\n",
            "Epoch 2/20\n",
            "88/88 [==============================] - 5s 55ms/step - loss: 0.0067\n",
            "Epoch 3/20\n",
            "88/88 [==============================] - 5s 55ms/step - loss: 0.0064\n",
            "Epoch 4/20\n",
            "88/88 [==============================] - 5s 55ms/step - loss: 0.0061\n",
            "Epoch 5/20\n",
            "88/88 [==============================] - 5s 55ms/step - loss: 0.0060\n",
            "Epoch 6/20\n",
            "88/88 [==============================] - 5s 56ms/step - loss: 0.0058\n",
            "Epoch 7/20\n",
            "88/88 [==============================] - 5s 55ms/step - loss: 0.0058\n",
            "Epoch 8/20\n",
            "88/88 [==============================] - 5s 55ms/step - loss: 0.0058\n",
            "Epoch 9/20\n",
            "88/88 [==============================] - 5s 55ms/step - loss: 0.0055\n",
            "Epoch 10/20\n",
            "88/88 [==============================] - 5s 55ms/step - loss: 0.0053\n",
            "Epoch 11/20\n",
            "88/88 [==============================] - 5s 55ms/step - loss: 0.0052\n",
            "Epoch 12/20\n",
            "88/88 [==============================] - 5s 55ms/step - loss: 0.0050\n",
            "Epoch 13/20\n",
            "88/88 [==============================] - 5s 56ms/step - loss: 0.0048\n",
            "Epoch 14/20\n",
            "88/88 [==============================] - 5s 55ms/step - loss: 0.0049\n",
            "Epoch 15/20\n",
            "88/88 [==============================] - 5s 55ms/step - loss: 0.0046\n",
            "Epoch 16/20\n",
            "88/88 [==============================] - 5s 56ms/step - loss: 0.0044\n",
            "Epoch 17/20\n",
            "88/88 [==============================] - 5s 55ms/step - loss: 0.0043\n",
            "Epoch 18/20\n",
            "88/88 [==============================] - 5s 55ms/step - loss: 0.0037\n",
            "Epoch 19/20\n",
            "88/88 [==============================] - 5s 56ms/step - loss: 0.0035\n",
            "Epoch 20/20\n",
            "88/88 [==============================] - 5s 56ms/step - loss: 0.0036\n"
          ],
          "name": "stdout"
        }
      ]
    },
    {
      "cell_type": "code",
      "metadata": {
        "colab": {
          "base_uri": "https://localhost:8080/",
          "height": 342
        },
        "id": "7s6wXrB90d89",
        "outputId": "6c8997b1-9c03-4b96-c29d-bf73d36ebd98"
      },
      "source": [
        "ts_predictions = model.predict(ts_train_inp[\"X\"])\n",
        "\n",
        "ev_all_data = create_evaluation_df1(ts_predictions, ts_train_inp, HORIZON, y_scaler)\n",
        "ev_all_data.sample(5)"
      ],
      "execution_count": null,
      "outputs": [
        {
          "output_type": "stream",
          "text": [
            "(2803, 31)         t+1       t+2       t+3  ...      t+29      t+30  timestamp\n",
            "0  0.720165  0.716646  0.712394  ...  0.604702  0.608660 2011-02-28\n",
            "1  0.711362  0.711029  0.704198  ...  0.593289  0.595563 2011-03-01\n",
            "\n",
            "[2 rows x 31 columns]\n",
            "(84090, 3)    timestamp variable  prediction\n",
            "0 2011-02-28      t+1    0.720165\n",
            "1 2011-03-01      t+1    0.711362\n"
          ],
          "name": "stdout"
        },
        {
          "output_type": "execute_result",
          "data": {
            "text/html": [
              "<div>\n",
              "<style scoped>\n",
              "    .dataframe tbody tr th:only-of-type {\n",
              "        vertical-align: middle;\n",
              "    }\n",
              "\n",
              "    .dataframe tbody tr th {\n",
              "        vertical-align: top;\n",
              "    }\n",
              "\n",
              "    .dataframe thead th {\n",
              "        text-align: right;\n",
              "    }\n",
              "</style>\n",
              "<table border=\"1\" class=\"dataframe\">\n",
              "  <thead>\n",
              "    <tr style=\"text-align: right;\">\n",
              "      <th></th>\n",
              "      <th>timestamp</th>\n",
              "      <th>variable</th>\n",
              "      <th>prediction</th>\n",
              "      <th>actual</th>\n",
              "    </tr>\n",
              "  </thead>\n",
              "  <tbody>\n",
              "    <tr>\n",
              "      <th>63162</th>\n",
              "      <td>2017-04-28</td>\n",
              "      <td>t+23</td>\n",
              "      <td>6.730829</td>\n",
              "      <td>6.63</td>\n",
              "    </tr>\n",
              "    <tr>\n",
              "      <th>7973</th>\n",
              "      <td>2019-09-16</td>\n",
              "      <td>t+3</td>\n",
              "      <td>49.453419</td>\n",
              "      <td>49.45</td>\n",
              "    </tr>\n",
              "    <tr>\n",
              "      <th>46222</th>\n",
              "      <td>2016-12-27</td>\n",
              "      <td>t+17</td>\n",
              "      <td>9.172245</td>\n",
              "      <td>10.53</td>\n",
              "    </tr>\n",
              "    <tr>\n",
              "      <th>73944</th>\n",
              "      <td>2016-02-23</td>\n",
              "      <td>t+27</td>\n",
              "      <td>13.881004</td>\n",
              "      <td>12.77</td>\n",
              "    </tr>\n",
              "    <tr>\n",
              "      <th>31009</th>\n",
              "      <td>2011-08-23</td>\n",
              "      <td>t+12</td>\n",
              "      <td>47.250967</td>\n",
              "      <td>48.68</td>\n",
              "    </tr>\n",
              "  </tbody>\n",
              "</table>\n",
              "</div>"
            ],
            "text/plain": [
              "       timestamp variable  prediction  actual\n",
              "63162 2017-04-28     t+23    6.730829    6.63\n",
              "7973  2019-09-16      t+3   49.453419   49.45\n",
              "46222 2016-12-27     t+17    9.172245   10.53\n",
              "73944 2016-02-23     t+27   13.881004   12.77\n",
              "31009 2011-08-23     t+12   47.250967   48.68"
            ]
          },
          "metadata": {
            "tags": []
          },
          "execution_count": 49
        }
      ]
    },
    {
      "cell_type": "code",
      "metadata": {
        "colab": {
          "base_uri": "https://localhost:8080/"
        },
        "id": "E5QJYJZeLl0K",
        "outputId": "ff35b370-e53c-499f-e113-c0f306408c40"
      },
      "source": [
        "model.save(\"60daysto30days\")"
      ],
      "execution_count": null,
      "outputs": [
        {
          "output_type": "stream",
          "text": [
            "WARNING:absl:Found untraced functions such as gru_cell_layer_call_fn, gru_cell_layer_call_and_return_conditional_losses, gru_cell_1_layer_call_fn, gru_cell_1_layer_call_and_return_conditional_losses, gru_cell_layer_call_fn while saving (showing 5 of 10). These functions will not be directly callable after loading.\n"
          ],
          "name": "stderr"
        },
        {
          "output_type": "stream",
          "text": [
            "INFO:tensorflow:Assets written to: 60daysto30days/assets\n"
          ],
          "name": "stdout"
        },
        {
          "output_type": "stream",
          "text": [
            "INFO:tensorflow:Assets written to: 60daysto30days/assets\n"
          ],
          "name": "stderr"
        }
      ]
    },
    {
      "cell_type": "code",
      "metadata": {
        "id": "5bU0HzylqUI-"
      },
      "source": [
        "cp -r '/content/60daysto30days/' '/content/gdrive/My Drive/Wave2web/'"
      ],
      "execution_count": null,
      "outputs": []
    },
    {
      "cell_type": "code",
      "metadata": {
        "colab": {
          "base_uri": "https://localhost:8080/",
          "height": 384
        },
        "id": "x2PLV5gE1Jce",
        "outputId": "ec24d960-7456-414a-eec5-f31407c37a43"
      },
      "source": [
        "ev_all_data[ev_all_data.variable=='t+1'].plot(\n",
        "    x=\"timestamp\", y=[\"prediction\", \"actual\"], style=[\"r\", \"b\"], figsize=(10, 6)\n",
        ")"
      ],
      "execution_count": null,
      "outputs": [
        {
          "output_type": "execute_result",
          "data": {
            "text/plain": [
              "<matplotlib.axes._subplots.AxesSubplot at 0x7f0f9798a190>"
            ]
          },
          "metadata": {
            "tags": []
          },
          "execution_count": 53
        },
        {
          "output_type": "display_data",
          "data": {
            "image/png": "[encoded data removed]",
            "text/plain": [
              "<Figure size 720x432 with 1 Axes>"
            ]
          },
          "metadata": {
            "tags": [],
            "needs_background": "light"
          }
        }
      ]
    },
    {
      "cell_type": "code",
      "metadata": {
        "id": "dQ4twFMG1RAG"
      },
      "source": [
        "import datetime\n",
        "forecast_dates = ev_all_data.apply(\n",
        "         lambda row: row.timestamp + datetime.timedelta(days=int(row.variable[2:])),\n",
        "         axis=1)\n",
        "ev_all_data[\"date\"] = forecast_dates\n"
      ],
      "execution_count": null,
      "outputs": []
    },
    {
      "cell_type": "code",
      "metadata": {
        "colab": {
          "base_uri": "https://localhost:8080/",
          "height": 672
        },
        "id": "nZ9dQ2YR3k5s",
        "outputId": "d95619cb-edf4-44ce-d13d-63876c675766"
      },
      "source": [
        "ev_all_data.sample(20)"
      ],
      "execution_count": null,
      "outputs": [
        {
          "output_type": "execute_result",
          "data": {
            "text/html": [
              "<div>\n",
              "<style scoped>\n",
              "    .dataframe tbody tr th:only-of-type {\n",
              "        vertical-align: middle;\n",
              "    }\n",
              "\n",
              "    .dataframe tbody tr th {\n",
              "        vertical-align: top;\n",
              "    }\n",
              "\n",
              "    .dataframe thead th {\n",
              "        text-align: right;\n",
              "    }\n",
              "</style>\n",
              "<table border=\"1\" class=\"dataframe\">\n",
              "  <thead>\n",
              "    <tr style=\"text-align: right;\">\n",
              "      <th></th>\n",
              "      <th>timestamp</th>\n",
              "      <th>variable</th>\n",
              "      <th>prediction</th>\n",
              "      <th>actual</th>\n",
              "      <th>date</th>\n",
              "    </tr>\n",
              "  </thead>\n",
              "  <tbody>\n",
              "    <tr>\n",
              "      <th>72708</th>\n",
              "      <td>2021-01-08</td>\n",
              "      <td>t+26</td>\n",
              "      <td>37.763987</td>\n",
              "      <td>37.237</td>\n",
              "      <td>2021-02-03</td>\n",
              "    </tr>\n",
              "    <tr>\n",
              "      <th>42547</th>\n",
              "      <td>2014-08-08</td>\n",
              "      <td>t+16</td>\n",
              "      <td>50.640675</td>\n",
              "      <td>48.250</td>\n",
              "      <td>2014-08-24</td>\n",
              "    </tr>\n",
              "    <tr>\n",
              "      <th>74546</th>\n",
              "      <td>2017-10-17</td>\n",
              "      <td>t+27</td>\n",
              "      <td>31.257775</td>\n",
              "      <td>33.310</td>\n",
              "      <td>2017-11-13</td>\n",
              "    </tr>\n",
              "    <tr>\n",
              "      <th>14896</th>\n",
              "      <td>2015-08-22</td>\n",
              "      <td>t+6</td>\n",
              "      <td>29.769914</td>\n",
              "      <td>26.920</td>\n",
              "      <td>2015-08-28</td>\n",
              "    </tr>\n",
              "    <tr>\n",
              "      <th>50776</th>\n",
              "      <td>2012-10-07</td>\n",
              "      <td>t+19</td>\n",
              "      <td>27.683343</td>\n",
              "      <td>30.070</td>\n",
              "      <td>2012-10-26</td>\n",
              "    </tr>\n",
              "    <tr>\n",
              "      <th>22522</th>\n",
              "      <td>2011-06-06</td>\n",
              "      <td>t+9</td>\n",
              "      <td>18.153354</td>\n",
              "      <td>19.830</td>\n",
              "      <td>2011-06-15</td>\n",
              "    </tr>\n",
              "    <tr>\n",
              "      <th>36484</th>\n",
              "      <td>2011-04-14</td>\n",
              "      <td>t+14</td>\n",
              "      <td>21.806799</td>\n",
              "      <td>25.040</td>\n",
              "      <td>2011-04-28</td>\n",
              "    </tr>\n",
              "    <tr>\n",
              "      <th>46172</th>\n",
              "      <td>2016-11-07</td>\n",
              "      <td>t+17</td>\n",
              "      <td>9.020504</td>\n",
              "      <td>9.910</td>\n",
              "      <td>2016-11-24</td>\n",
              "    </tr>\n",
              "    <tr>\n",
              "      <th>71319</th>\n",
              "      <td>2016-08-19</td>\n",
              "      <td>t+26</td>\n",
              "      <td>15.588709</td>\n",
              "      <td>14.640</td>\n",
              "      <td>2016-09-14</td>\n",
              "    </tr>\n",
              "    <tr>\n",
              "      <th>11951</th>\n",
              "      <td>2015-04-02</td>\n",
              "      <td>t+5</td>\n",
              "      <td>19.603572</td>\n",
              "      <td>19.720</td>\n",
              "      <td>2015-04-07</td>\n",
              "    </tr>\n",
              "    <tr>\n",
              "      <th>40359</th>\n",
              "      <td>2016-04-14</td>\n",
              "      <td>t+15</td>\n",
              "      <td>10.198202</td>\n",
              "      <td>10.900</td>\n",
              "      <td>2016-04-29</td>\n",
              "    </tr>\n",
              "    <tr>\n",
              "      <th>4491</th>\n",
              "      <td>2017-11-06</td>\n",
              "      <td>t+2</td>\n",
              "      <td>33.269456</td>\n",
              "      <td>32.720</td>\n",
              "      <td>2017-11-08</td>\n",
              "    </tr>\n",
              "    <tr>\n",
              "      <th>23129</th>\n",
              "      <td>2015-02-27</td>\n",
              "      <td>t+9</td>\n",
              "      <td>27.187249</td>\n",
              "      <td>27.490</td>\n",
              "      <td>2015-03-08</td>\n",
              "    </tr>\n",
              "    <tr>\n",
              "      <th>11019</th>\n",
              "      <td>2020-12-16</td>\n",
              "      <td>t+4</td>\n",
              "      <td>43.775959</td>\n",
              "      <td>42.554</td>\n",
              "      <td>2020-12-20</td>\n",
              "    </tr>\n",
              "    <tr>\n",
              "      <th>73982</th>\n",
              "      <td>2016-04-01</td>\n",
              "      <td>t+27</td>\n",
              "      <td>10.446003</td>\n",
              "      <td>10.920</td>\n",
              "      <td>2016-04-28</td>\n",
              "    </tr>\n",
              "    <tr>\n",
              "      <th>154</th>\n",
              "      <td>2011-08-01</td>\n",
              "      <td>t+1</td>\n",
              "      <td>39.332631</td>\n",
              "      <td>40.090</td>\n",
              "      <td>2011-08-02</td>\n",
              "    </tr>\n",
              "    <tr>\n",
              "      <th>36426</th>\n",
              "      <td>2021-06-14</td>\n",
              "      <td>t+13</td>\n",
              "      <td>16.611417</td>\n",
              "      <td>19.431</td>\n",
              "      <td>2021-06-27</td>\n",
              "    </tr>\n",
              "    <tr>\n",
              "      <th>66758</th>\n",
              "      <td>2019-06-30</td>\n",
              "      <td>t+24</td>\n",
              "      <td>17.805128</td>\n",
              "      <td>14.720</td>\n",
              "      <td>2019-07-24</td>\n",
              "    </tr>\n",
              "    <tr>\n",
              "      <th>48639</th>\n",
              "      <td>2015-12-07</td>\n",
              "      <td>t+18</td>\n",
              "      <td>27.643824</td>\n",
              "      <td>28.570</td>\n",
              "      <td>2015-12-25</td>\n",
              "    </tr>\n",
              "    <tr>\n",
              "      <th>34962</th>\n",
              "      <td>2016-11-09</td>\n",
              "      <td>t+13</td>\n",
              "      <td>10.154323</td>\n",
              "      <td>9.830</td>\n",
              "      <td>2016-11-22</td>\n",
              "    </tr>\n",
              "  </tbody>\n",
              "</table>\n",
              "</div>"
            ],
            "text/plain": [
              "       timestamp variable  prediction  actual       date\n",
              "72708 2021-01-08     t+26   37.763987  37.237 2021-02-03\n",
              "42547 2014-08-08     t+16   50.640675  48.250 2014-08-24\n",
              "74546 2017-10-17     t+27   31.257775  33.310 2017-11-13\n",
              "14896 2015-08-22      t+6   29.769914  26.920 2015-08-28\n",
              "50776 2012-10-07     t+19   27.683343  30.070 2012-10-26\n",
              "22522 2011-06-06      t+9   18.153354  19.830 2011-06-15\n",
              "36484 2011-04-14     t+14   21.806799  25.040 2011-04-28\n",
              "46172 2016-11-07     t+17    9.020504   9.910 2016-11-24\n",
              "71319 2016-08-19     t+26   15.588709  14.640 2016-09-14\n",
              "11951 2015-04-02      t+5   19.603572  19.720 2015-04-07\n",
              "40359 2016-04-14     t+15   10.198202  10.900 2016-04-29\n",
              "4491  2017-11-06      t+2   33.269456  32.720 2017-11-08\n",
              "23129 2015-02-27      t+9   27.187249  27.490 2015-03-08\n",
              "11019 2020-12-16      t+4   43.775959  42.554 2020-12-20\n",
              "73982 2016-04-01     t+27   10.446003  10.920 2016-04-28\n",
              "154   2011-08-01      t+1   39.332631  40.090 2011-08-02\n",
              "36426 2021-06-14     t+13   16.611417  19.431 2021-06-27\n",
              "66758 2019-06-30     t+24   17.805128  14.720 2019-07-24\n",
              "48639 2015-12-07     t+18   27.643824  28.570 2015-12-25\n",
              "34962 2016-11-09     t+13   10.154323   9.830 2016-11-22"
            ]
          },
          "metadata": {
            "tags": []
          },
          "execution_count": 55
        }
      ]
    },
    {
      "cell_type": "code",
      "metadata": {
        "id": "HrJutaAv2PNF"
      },
      "source": [
        "ev_all_data.to_csv(\"predictions.csv\")"
      ],
      "execution_count": null,
      "outputs": []
    },
    {
      "cell_type": "code",
      "metadata": {
        "id": "CmPVn0AE2Q6X"
      },
      "source": [
        "import sqlite3\n"
      ],
      "execution_count": null,
      "outputs": []
    },
    {
      "cell_type": "code",
      "metadata": {
        "id": "16xoy0rYCwAX"
      },
      "source": [
        "conn = sqlite3.connect('predictions.db')\n",
        "c = conn.cursor()"
      ],
      "execution_count": null,
      "outputs": []
    },
    {
      "cell_type": "code",
      "metadata": {
        "id": "CU1nQ13AC39B"
      },
      "source": [
        "df = pd.read_csv(\"predictions.csv\")"
      ],
      "execution_count": null,
      "outputs": []
    },
    {
      "cell_type": "code",
      "metadata": {
        "colab": {
          "base_uri": "https://localhost:8080/",
          "height": 206
        },
        "id": "tfWw-0xVDOB5",
        "outputId": "8bf2f5ac-2524-4254-c557-f2db9f4f19ae"
      },
      "source": [
        "df.head()"
      ],
      "execution_count": null,
      "outputs": [
        {
          "output_type": "execute_result",
          "data": {
            "text/html": [
              "<div>\n",
              "<style scoped>\n",
              "    .dataframe tbody tr th:only-of-type {\n",
              "        vertical-align: middle;\n",
              "    }\n",
              "\n",
              "    .dataframe tbody tr th {\n",
              "        vertical-align: top;\n",
              "    }\n",
              "\n",
              "    .dataframe thead th {\n",
              "        text-align: right;\n",
              "    }\n",
              "</style>\n",
              "<table border=\"1\" class=\"dataframe\">\n",
              "  <thead>\n",
              "    <tr style=\"text-align: right;\">\n",
              "      <th></th>\n",
              "      <th>Unnamed: 0</th>\n",
              "      <th>timestamp</th>\n",
              "      <th>variable</th>\n",
              "      <th>prediction</th>\n",
              "      <th>actual</th>\n",
              "      <th>date</th>\n",
              "    </tr>\n",
              "  </thead>\n",
              "  <tbody>\n",
              "    <tr>\n",
              "      <th>0</th>\n",
              "      <td>0</td>\n",
              "      <td>2011-01-29</td>\n",
              "      <td>t+1</td>\n",
              "      <td>41.820400</td>\n",
              "      <td>41.79</td>\n",
              "      <td>2011-01-30</td>\n",
              "    </tr>\n",
              "    <tr>\n",
              "      <th>1</th>\n",
              "      <td>1</td>\n",
              "      <td>2011-01-30</td>\n",
              "      <td>t+1</td>\n",
              "      <td>41.589464</td>\n",
              "      <td>41.56</td>\n",
              "      <td>2011-01-31</td>\n",
              "    </tr>\n",
              "    <tr>\n",
              "      <th>2</th>\n",
              "      <td>2</td>\n",
              "      <td>2011-01-31</td>\n",
              "      <td>t+1</td>\n",
              "      <td>41.276625</td>\n",
              "      <td>41.30</td>\n",
              "      <td>2011-02-01</td>\n",
              "    </tr>\n",
              "    <tr>\n",
              "      <th>3</th>\n",
              "      <td>3</td>\n",
              "      <td>2011-02-01</td>\n",
              "      <td>t+1</td>\n",
              "      <td>41.035273</td>\n",
              "      <td>40.98</td>\n",
              "      <td>2011-02-02</td>\n",
              "    </tr>\n",
              "    <tr>\n",
              "      <th>4</th>\n",
              "      <td>4</td>\n",
              "      <td>2011-02-02</td>\n",
              "      <td>t+1</td>\n",
              "      <td>40.736331</td>\n",
              "      <td>40.66</td>\n",
              "      <td>2011-02-03</td>\n",
              "    </tr>\n",
              "  </tbody>\n",
              "</table>\n",
              "</div>"
            ],
            "text/plain": [
              "   Unnamed: 0   timestamp variable  prediction  actual        date\n",
              "0           0  2011-01-29      t+1   41.820400   41.79  2011-01-30\n",
              "1           1  2011-01-30      t+1   41.589464   41.56  2011-01-31\n",
              "2           2  2011-01-31      t+1   41.276625   41.30  2011-02-01\n",
              "3           3  2011-02-01      t+1   41.035273   40.98  2011-02-02\n",
              "4           4  2011-02-02      t+1   40.736331   40.66  2011-02-03"
            ]
          },
          "metadata": {
            "tags": []
          },
          "execution_count": 150
        }
      ]
    },
    {
      "cell_type": "code",
      "metadata": {
        "colab": {
          "base_uri": "https://localhost:8080/"
        },
        "id": "hKGeymgMDMAu",
        "outputId": "b6ac5b59-c81c-43ea-f872-63c4b9ca3e9a"
      },
      "source": [
        "c.execute(\"CREATE TABLE PREDICTIONS ([timestamp] integer, [prediction] integer, [actual] integer, [date] integer)\")"
      ],
      "execution_count": null,
      "outputs": [
        {
          "output_type": "execute_result",
          "data": {
            "text/plain": [
              "<sqlite3.Cursor at 0x7f0a7a395dc0>"
            ]
          },
          "metadata": {
            "tags": []
          },
          "execution_count": 154
        }
      ]
    },
    {
      "cell_type": "code",
      "metadata": {
        "id": "0v84cYD1C-9R"
      },
      "source": [
        "conn.commit()"
      ],
      "execution_count": null,
      "outputs": []
    },
    {
      "cell_type": "code",
      "metadata": {
        "id": "LrZGuYonE3FJ"
      },
      "source": [
        "conn = sqlite3.connect('predictions.db')  \n",
        "c = conn.cursor()"
      ],
      "execution_count": null,
      "outputs": []
    },
    {
      "cell_type": "code",
      "metadata": {
        "id": "maBd8_BAFA9V"
      },
      "source": [
        "df[['timestamp', 'prediction', 'actual', 'date']].to_sql('PREDICTIONS', conn, if_exists='append', index = False)"
      ],
      "execution_count": null,
      "outputs": []
    },
    {
      "cell_type": "code",
      "metadata": {
        "id": "HafYiL9eFJ10"
      },
      "source": [
        ""
      ],
      "execution_count": null,
      "outputs": []
    }
  ]
}