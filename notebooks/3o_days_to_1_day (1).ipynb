{
  "nbformat": 4,
  "nbformat_minor": 0,
  "metadata": {
    "colab": {
      "name": "finetuned 3o days to 1 day.ipynb",
      "provenance": []
    },
    "kernelspec": {
      "name": "python3",
      "display_name": "Python 3"
    },
    "language_info": {
      "name": "python"
    }
  },
  "cells": [
    {
      "cell_type": "code",
      "metadata": {
        "id": "3Hsj9_grfmCe"
      },
      "source": [
        "import datetime as dt\n",
        "import os\n",
        "import warnings\n",
        "from collections import UserDict\n",
        "\n",
        "import matplotlib.pyplot as plt\n",
        "import numpy as np\n",
        "import pandas as pd\n",
        "from utils import TimeSeriesTensor, mape, extract_data, create_evaluation_df\n",
        "from IPython.display import Image\n",
        "from sklearn.preprocessing import MinMaxScaler\n",
        "\n",
        "%matplotlib inline"
      ],
      "execution_count": null,
      "outputs": []
    },
    {
      "cell_type": "code",
      "metadata": {
        "colab": {
          "base_uri": "https://localhost:8080/"
        },
        "id": "EDGPs34cWkUd",
        "outputId": "9c95158d-0692-4b00-bcfc-fb763eb990cb"
      },
      "source": [
        "!git clone https://github.com/Arghyam-Team/KRSPrediction.git"
      ],
      "execution_count": null,
      "outputs": [
        {
          "output_type": "stream",
          "text": [
            "Cloning into 'KRSPrediction'...\n",
            "remote: Enumerating objects: 236, done.\u001b[K\n",
            "remote: Counting objects: 100% (236/236), done.\u001b[K\n",
            "remote: Compressing objects: 100% (179/179), done.\u001b[K\n",
            "remote: Total 236 (delta 98), reused 112 (delta 33), pack-reused 0\u001b[K\n",
            "Receiving objects: 100% (236/236), 4.94 MiB | 8.98 MiB/s, done.\n",
            "Resolving deltas: 100% (98/98), done.\n"
          ],
          "name": "stdout"
        }
      ]
    },
    {
      "cell_type": "code",
      "metadata": {
        "id": "jAqiS97cYAUM"
      },
      "source": [
        "import sqlite3\n",
        "db_file = '/content/KRSPrediction/data/pythonsqlite.db'\n",
        "conn = sqlite3.connect(db_file)\n",
        "cur = conn.cursor()\n",
        "sql = \"SELECT water.date, water.storage_tmc, water.inflow_cusecs, water.outflow_cusecs, weather.max_temp, weather.visibility, weather.wind, weather.humidity, weather.cloudcover FROM water INNER JOIN weather ON  water.reservoir='krs' AND weather.location='karnataka' AND water.date = weather.date\"\n",
        "cur.execute(sql)\n",
        "rows = cur.fetchall() # rows is a list of tuples (date, tmc,inflow,outflow,maxtemp,vis,wind,hum,cloud)"
      ],
      "execution_count": null,
      "outputs": []
    },
    {
      "cell_type": "code",
      "metadata": {
        "id": "D5igmCUmfAry"
      },
      "source": [
        "krs = pd.DataFrame(rows, columns=['date', 'present_storage_tmc', 'inflow', 'outflow', 'max_temp', 'visibility', 'wind', 'humidity', 'cloudcover'])"
      ],
      "execution_count": null,
      "outputs": []
    },
    {
      "cell_type": "code",
      "metadata": {
        "colab": {
          "base_uri": "https://localhost:8080/",
          "height": 111
        },
        "id": "3Nrw-WdZgCqz",
        "outputId": "754ef63b-e10d-4acf-ea38-36af690623d7"
      },
      "source": [
        "krs.head(2)"
      ],
      "execution_count": null,
      "outputs": [
        {
          "output_type": "execute_result",
          "data": {
            "text/html": [
              "<div>\n",
              "<style scoped>\n",
              "    .dataframe tbody tr th:only-of-type {\n",
              "        vertical-align: middle;\n",
              "    }\n",
              "\n",
              "    .dataframe tbody tr th {\n",
              "        vertical-align: top;\n",
              "    }\n",
              "\n",
              "    .dataframe thead th {\n",
              "        text-align: right;\n",
              "    }\n",
              "</style>\n",
              "<table border=\"1\" class=\"dataframe\">\n",
              "  <thead>\n",
              "    <tr style=\"text-align: right;\">\n",
              "      <th></th>\n",
              "      <th>date</th>\n",
              "      <th>present_storage_tmc</th>\n",
              "      <th>inflow</th>\n",
              "      <th>outflow</th>\n",
              "      <th>max_temp</th>\n",
              "      <th>visibility</th>\n",
              "      <th>wind</th>\n",
              "      <th>humidity</th>\n",
              "      <th>cloudcover</th>\n",
              "    </tr>\n",
              "  </thead>\n",
              "  <tbody>\n",
              "    <tr>\n",
              "      <th>0</th>\n",
              "      <td>2011-01-01</td>\n",
              "      <td>46.42</td>\n",
              "      <td>2029</td>\n",
              "      <td>2000.0</td>\n",
              "      <td>28.1</td>\n",
              "      <td>6.7</td>\n",
              "      <td>11.2</td>\n",
              "      <td>71.39</td>\n",
              "      <td>36.7</td>\n",
              "    </tr>\n",
              "    <tr>\n",
              "      <th>1</th>\n",
              "      <td>2011-01-02</td>\n",
              "      <td>46.54</td>\n",
              "      <td>3084</td>\n",
              "      <td>1490.0</td>\n",
              "      <td>28.0</td>\n",
              "      <td>6.2</td>\n",
              "      <td>10.3</td>\n",
              "      <td>72.90</td>\n",
              "      <td>51.4</td>\n",
              "    </tr>\n",
              "  </tbody>\n",
              "</table>\n",
              "</div>"
            ],
            "text/plain": [
              "         date  present_storage_tmc inflow  ...  wind  humidity  cloudcover\n",
              "0  2011-01-01                46.42   2029  ...  11.2     71.39        36.7\n",
              "1  2011-01-02                46.54   3084  ...  10.3     72.90        51.4\n",
              "\n",
              "[2 rows x 9 columns]"
            ]
          },
          "metadata": {
            "tags": []
          },
          "execution_count": 5
        }
      ]
    },
    {
      "cell_type": "code",
      "metadata": {
        "id": "wfOI47s_gZ68"
      },
      "source": [
        "krs = krs.drop_duplicates(subset=[\"date\"])"
      ],
      "execution_count": null,
      "outputs": []
    },
    {
      "cell_type": "code",
      "metadata": {
        "id": "nKaS921Ygg7W"
      },
      "source": [
        "krs.date = pd.to_datetime(krs.date)\n",
        "krs['inflow'] = pd.to_numeric(krs.inflow, errors='coerce')"
      ],
      "execution_count": null,
      "outputs": []
    },
    {
      "cell_type": "code",
      "metadata": {
        "colab": {
          "base_uri": "https://localhost:8080/"
        },
        "id": "Vx-YD6e8gMEp",
        "outputId": "dcfc8cdf-4962-4b6a-99cc-56a509bd721d"
      },
      "source": [
        "krs.info()"
      ],
      "execution_count": null,
      "outputs": [
        {
          "output_type": "stream",
          "text": [
            "<class 'pandas.core.frame.DataFrame'>\n",
            "Int64Index: 3531 entries, 0 to 3535\n",
            "Data columns (total 9 columns):\n",
            " #   Column               Non-Null Count  Dtype         \n",
            "---  ------               --------------  -----         \n",
            " 0   date                 3531 non-null   datetime64[ns]\n",
            " 1   present_storage_tmc  3531 non-null   float64       \n",
            " 2   inflow               3530 non-null   float64       \n",
            " 3   outflow              3531 non-null   float64       \n",
            " 4   max_temp             3531 non-null   float64       \n",
            " 5   visibility           3531 non-null   float64       \n",
            " 6   wind                 3531 non-null   float64       \n",
            " 7   humidity             3531 non-null   float64       \n",
            " 8   cloudcover           3531 non-null   float64       \n",
            "dtypes: datetime64[ns](1), float64(8)\n",
            "memory usage: 275.9 KB\n"
          ],
          "name": "stdout"
        }
      ]
    },
    {
      "cell_type": "code",
      "metadata": {
        "id": "G5LUmj2RgO3V"
      },
      "source": [
        "krs['inflow_tmc'] = krs['inflow'] /11000\n",
        "krs['outflow_tmc'] = krs['outflow'] / 11000"
      ],
      "execution_count": null,
      "outputs": []
    },
    {
      "cell_type": "code",
      "metadata": {
        "id": "iK2xLLLdgwR8"
      },
      "source": [
        "krs.sort_values(by=['date'], inplace=True, ascending=True)"
      ],
      "execution_count": null,
      "outputs": []
    },
    {
      "cell_type": "code",
      "metadata": {
        "id": "AHfU5Dfdg9T1"
      },
      "source": [
        "krs.set_index('date', inplace=True)\n",
        "krs = krs.sort_index(axis=1)"
      ],
      "execution_count": null,
      "outputs": []
    },
    {
      "cell_type": "code",
      "metadata": {
        "colab": {
          "base_uri": "https://localhost:8080/",
          "height": 143
        },
        "id": "OnCsUM6Zgz5r",
        "outputId": "8ed83652-b0d7-42b7-cafe-ae330b27264d"
      },
      "source": [
        "krs.head(2)"
      ],
      "execution_count": null,
      "outputs": [
        {
          "output_type": "execute_result",
          "data": {
            "text/html": [
              "<div>\n",
              "<style scoped>\n",
              "    .dataframe tbody tr th:only-of-type {\n",
              "        vertical-align: middle;\n",
              "    }\n",
              "\n",
              "    .dataframe tbody tr th {\n",
              "        vertical-align: top;\n",
              "    }\n",
              "\n",
              "    .dataframe thead th {\n",
              "        text-align: right;\n",
              "    }\n",
              "</style>\n",
              "<table border=\"1\" class=\"dataframe\">\n",
              "  <thead>\n",
              "    <tr style=\"text-align: right;\">\n",
              "      <th></th>\n",
              "      <th>cloudcover</th>\n",
              "      <th>humidity</th>\n",
              "      <th>inflow</th>\n",
              "      <th>inflow_tmc</th>\n",
              "      <th>max_temp</th>\n",
              "      <th>outflow</th>\n",
              "      <th>outflow_tmc</th>\n",
              "      <th>present_storage_tmc</th>\n",
              "      <th>visibility</th>\n",
              "      <th>wind</th>\n",
              "    </tr>\n",
              "    <tr>\n",
              "      <th>date</th>\n",
              "      <th></th>\n",
              "      <th></th>\n",
              "      <th></th>\n",
              "      <th></th>\n",
              "      <th></th>\n",
              "      <th></th>\n",
              "      <th></th>\n",
              "      <th></th>\n",
              "      <th></th>\n",
              "      <th></th>\n",
              "    </tr>\n",
              "  </thead>\n",
              "  <tbody>\n",
              "    <tr>\n",
              "      <th>2010-09-30</th>\n",
              "      <td>79.6</td>\n",
              "      <td>81.05</td>\n",
              "      <td>2706.0</td>\n",
              "      <td>0.246000</td>\n",
              "      <td>29.4</td>\n",
              "      <td>6840.0</td>\n",
              "      <td>0.621818</td>\n",
              "      <td>46.18</td>\n",
              "      <td>5.2</td>\n",
              "      <td>11.2</td>\n",
              "    </tr>\n",
              "    <tr>\n",
              "      <th>2010-12-31</th>\n",
              "      <td>51.0</td>\n",
              "      <td>70.80</td>\n",
              "      <td>2668.0</td>\n",
              "      <td>0.242545</td>\n",
              "      <td>27.5</td>\n",
              "      <td>6795.0</td>\n",
              "      <td>0.617727</td>\n",
              "      <td>45.81</td>\n",
              "      <td>6.9</td>\n",
              "      <td>11.2</td>\n",
              "    </tr>\n",
              "  </tbody>\n",
              "</table>\n",
              "</div>"
            ],
            "text/plain": [
              "            cloudcover  humidity  inflow  ...  present_storage_tmc  visibility  wind\n",
              "date                                      ...                                       \n",
              "2010-09-30        79.6     81.05  2706.0  ...                46.18         5.2  11.2\n",
              "2010-12-31        51.0     70.80  2668.0  ...                45.81         6.9  11.2\n",
              "\n",
              "[2 rows x 10 columns]"
            ]
          },
          "metadata": {
            "tags": []
          },
          "execution_count": 12
        }
      ]
    },
    {
      "cell_type": "code",
      "metadata": {
        "id": "Gs1DTY5cg1GH"
      },
      "source": [
        "#time series data on which model needs to be trained on, features contain the column names\n",
        "ts_data_load = krs[[ \"present_storage_tmc\", \"inflow_tmc\", \"outflow_tmc\", \"max_temp\", \"visibility\", \"humidity\", \"wind\"]]\n",
        "ts_data_load.sort_index(axis = 1)\n",
        "features = len(ts_data_load.columns)\n",
        "#features, ts_data_load.head(2), ts_data_load.tail(2)"
      ],
      "execution_count": null,
      "outputs": []
    },
    {
      "cell_type": "code",
      "metadata": {
        "id": "_37xDtxyhsdo"
      },
      "source": [
        "valid_st_data_load = \"2018-01-01 00:00:00\"\n",
        "test_st_data_load = \"2019-05-02 00:00:00\""
      ],
      "execution_count": null,
      "outputs": []
    },
    {
      "cell_type": "code",
      "metadata": {
        "colab": {
          "base_uri": "https://localhost:8080/",
          "height": 111
        },
        "id": "_-5VWGJaiOlu",
        "outputId": "f0d0c909-1ad6-4ced-9648-4b070d226ba6"
      },
      "source": [
        "ts_data_load[ts_data_load.index==valid_st_data_load]"
      ],
      "execution_count": null,
      "outputs": [
        {
          "output_type": "execute_result",
          "data": {
            "text/html": [
              "<div>\n",
              "<style scoped>\n",
              "    .dataframe tbody tr th:only-of-type {\n",
              "        vertical-align: middle;\n",
              "    }\n",
              "\n",
              "    .dataframe tbody tr th {\n",
              "        vertical-align: top;\n",
              "    }\n",
              "\n",
              "    .dataframe thead th {\n",
              "        text-align: right;\n",
              "    }\n",
              "</style>\n",
              "<table border=\"1\" class=\"dataframe\">\n",
              "  <thead>\n",
              "    <tr style=\"text-align: right;\">\n",
              "      <th></th>\n",
              "      <th>present_storage_tmc</th>\n",
              "      <th>inflow_tmc</th>\n",
              "      <th>outflow_tmc</th>\n",
              "      <th>max_temp</th>\n",
              "      <th>visibility</th>\n",
              "      <th>humidity</th>\n",
              "      <th>wind</th>\n",
              "    </tr>\n",
              "    <tr>\n",
              "      <th>date</th>\n",
              "      <th></th>\n",
              "      <th></th>\n",
              "      <th></th>\n",
              "      <th></th>\n",
              "      <th></th>\n",
              "      <th></th>\n",
              "      <th></th>\n",
              "    </tr>\n",
              "  </thead>\n",
              "  <tbody>\n",
              "    <tr>\n",
              "      <th>2018-01-01</th>\n",
              "      <td>25.55</td>\n",
              "      <td>0.026455</td>\n",
              "      <td>0.313182</td>\n",
              "      <td>28.0</td>\n",
              "      <td>6.6</td>\n",
              "      <td>65.5</td>\n",
              "      <td>11.0</td>\n",
              "    </tr>\n",
              "  </tbody>\n",
              "</table>\n",
              "</div>"
            ],
            "text/plain": [
              "            present_storage_tmc  inflow_tmc  ...  humidity  wind\n",
              "date                                         ...                \n",
              "2018-01-01                25.55    0.026455  ...      65.5  11.0\n",
              "\n",
              "[1 rows x 7 columns]"
            ]
          },
          "metadata": {
            "tags": []
          },
          "execution_count": 15
        }
      ]
    },
    {
      "cell_type": "code",
      "metadata": {
        "colab": {
          "base_uri": "https://localhost:8080/",
          "height": 473
        },
        "id": "M09PcG9--mV6",
        "outputId": "b7a8e840-7242-48fb-fe6a-96f4e95b88a8"
      },
      "source": [
        "ts_data_load[['inflow_tmc']].plot(figsize=(15, 8), fontsize=12)\n",
        "\n",
        "plt.xlabel(\"timestamp\", fontsize=12)\n",
        "plt.ylabel(\"INFLOW_TMC\", fontsize=12)\n",
        "plt.show()"
      ],
      "execution_count": null,
      "outputs": [
        {
          "output_type": "display_data",
          "data": {
            "image/png": "[encoded data removed]",
            "text/plain": [
              "<Figure size 1080x576 with 1 Axes>"
            ]
          },
          "metadata": {
            "tags": [],
            "needs_background": "light"
          }
        }
      ]
    },
    {
      "cell_type": "code",
      "metadata": {
        "colab": {
          "base_uri": "https://localhost:8080/",
          "height": 473
        },
        "id": "yfVG2VmNiPw_",
        "outputId": "a047f792-c6a4-4190-ffe8-0dbd9f963034"
      },
      "source": [
        "ts_data_load[ts_data_load.index < valid_st_data_load][[\"present_storage_tmc\"]].rename(columns={\"present_storage_tmc\": \"train\"}).join(\n",
        "    ts_data_load[(ts_data_load.index >= valid_st_data_load) & (ts_data_load.index < test_st_data_load)][\n",
        "        [\"present_storage_tmc\"]\n",
        "    ].rename(columns={\"present_storage_tmc\": \"validation\"}),\n",
        "    how=\"outer\",\n",
        ").join(\n",
        "    ts_data_load[test_st_data_load:][[\"present_storage_tmc\"]].rename(columns={\"present_storage_tmc\": \"test\"}), how=\"outer\"\n",
        ").plot(\n",
        "    y=[\"train\", \"validation\", \"test\"], figsize=(15, 8), fontsize=12\n",
        ")\n",
        "plt.xlabel(\"timestamp\", fontsize=12)\n",
        "plt.ylabel(\"PRESENT_STORAGE_TMC\", fontsize=12)\n",
        "plt.show()"
      ],
      "execution_count": null,
      "outputs": [
        {
          "output_type": "display_data",
          "data": {
            "image/png": "[encoded data removed]",
            "text/plain": [
              "<Figure size 1080x576 with 1 Axes>"
            ]
          },
          "metadata": {
            "tags": [],
            "needs_background": "light"
          }
        }
      ]
    },
    {
      "cell_type": "code",
      "metadata": {
        "id": "FDtwm2V9jIqe"
      },
      "source": [
        "train = ts_data_load.copy()[ts_data_load.index < valid_st_data_load]"
      ],
      "execution_count": null,
      "outputs": []
    },
    {
      "cell_type": "code",
      "metadata": {
        "colab": {
          "base_uri": "https://localhost:8080/"
        },
        "id": "iXqAZRtAkOPB",
        "outputId": "5af89352-26f3-4568-8552-5a09d0ac0d93"
      },
      "source": [
        "train.shape"
      ],
      "execution_count": null,
      "outputs": [
        {
          "output_type": "execute_result",
          "data": {
            "text/plain": [
              "(2250, 7)"
            ]
          },
          "metadata": {
            "tags": []
          },
          "execution_count": 18
        }
      ]
    },
    {
      "cell_type": "code",
      "metadata": {
        "colab": {
          "base_uri": "https://localhost:8080/"
        },
        "id": "FGEo0AeZkPJ5",
        "outputId": "9afc23fb-4f97-420b-ce41-e08dbcc67e6b"
      },
      "source": [
        "y_scaler = MinMaxScaler()\n",
        "y_scaler.fit(train[[\"present_storage_tmc\"]])"
      ],
      "execution_count": null,
      "outputs": [
        {
          "output_type": "execute_result",
          "data": {
            "text/plain": [
              "MinMaxScaler(copy=True, feature_range=(0, 1))"
            ]
          },
          "metadata": {
            "tags": []
          },
          "execution_count": 19
        }
      ]
    },
    {
      "cell_type": "code",
      "metadata": {
        "id": "crXHsio6kT6G"
      },
      "source": [
        "flist = list(ts_data_load.columns)"
      ],
      "execution_count": null,
      "outputs": []
    },
    {
      "cell_type": "code",
      "metadata": {
        "colab": {
          "base_uri": "https://localhost:8080/",
          "height": 392
        },
        "id": "FGwFbxWEkXME",
        "outputId": "76d7d269-c8ff-41eb-c228-bc9fb7dfc73a"
      },
      "source": [
        "T = 30\n",
        "HORIZON = 1\n",
        "train = ts_data_load.copy()[ts_data_load.index < valid_st_data_load][flist]\n",
        "\n",
        "X_scaler = MinMaxScaler()\n",
        "train[flist] = X_scaler.fit_transform(train)\n",
        "train.sample(10)"
      ],
      "execution_count": null,
      "outputs": [
        {
          "output_type": "execute_result",
          "data": {
            "text/html": [
              "<div>\n",
              "<style scoped>\n",
              "    .dataframe tbody tr th:only-of-type {\n",
              "        vertical-align: middle;\n",
              "    }\n",
              "\n",
              "    .dataframe tbody tr th {\n",
              "        vertical-align: top;\n",
              "    }\n",
              "\n",
              "    .dataframe thead th {\n",
              "        text-align: right;\n",
              "    }\n",
              "</style>\n",
              "<table border=\"1\" class=\"dataframe\">\n",
              "  <thead>\n",
              "    <tr style=\"text-align: right;\">\n",
              "      <th></th>\n",
              "      <th>present_storage_tmc</th>\n",
              "      <th>inflow_tmc</th>\n",
              "      <th>outflow_tmc</th>\n",
              "      <th>max_temp</th>\n",
              "      <th>visibility</th>\n",
              "      <th>humidity</th>\n",
              "      <th>wind</th>\n",
              "    </tr>\n",
              "    <tr>\n",
              "      <th>date</th>\n",
              "      <th></th>\n",
              "      <th></th>\n",
              "      <th></th>\n",
              "      <th></th>\n",
              "      <th></th>\n",
              "      <th></th>\n",
              "      <th></th>\n",
              "    </tr>\n",
              "  </thead>\n",
              "  <tbody>\n",
              "    <tr>\n",
              "      <th>2014-09-14</th>\n",
              "      <td>1.000000</td>\n",
              "      <td>0.066879</td>\n",
              "      <td>0.062617</td>\n",
              "      <td>0.556075</td>\n",
              "      <td>0.800000</td>\n",
              "      <td>0.645138</td>\n",
              "      <td>0.127820</td>\n",
              "    </tr>\n",
              "    <tr>\n",
              "      <th>2017-11-29</th>\n",
              "      <td>0.624267</td>\n",
              "      <td>0.008707</td>\n",
              "      <td>0.051230</td>\n",
              "      <td>0.369159</td>\n",
              "      <td>0.483333</td>\n",
              "      <td>0.608670</td>\n",
              "      <td>0.103213</td>\n",
              "    </tr>\n",
              "    <tr>\n",
              "      <th>2012-10-08</th>\n",
              "      <td>0.549444</td>\n",
              "      <td>0.066083</td>\n",
              "      <td>0.125691</td>\n",
              "      <td>0.443925</td>\n",
              "      <td>0.616667</td>\n",
              "      <td>0.715876</td>\n",
              "      <td>0.064252</td>\n",
              "    </tr>\n",
              "    <tr>\n",
              "      <th>2013-12-21</th>\n",
              "      <td>0.806269</td>\n",
              "      <td>0.027231</td>\n",
              "      <td>0.026091</td>\n",
              "      <td>0.509346</td>\n",
              "      <td>0.550000</td>\n",
              "      <td>0.512302</td>\n",
              "      <td>0.039645</td>\n",
              "    </tr>\n",
              "    <tr>\n",
              "      <th>2014-08-25</th>\n",
              "      <td>0.972700</td>\n",
              "      <td>0.047873</td>\n",
              "      <td>0.062049</td>\n",
              "      <td>0.602804</td>\n",
              "      <td>0.783333</td>\n",
              "      <td>0.664470</td>\n",
              "      <td>0.140123</td>\n",
              "    </tr>\n",
              "    <tr>\n",
              "      <th>2015-03-17</th>\n",
              "      <td>0.523964</td>\n",
              "      <td>0.003531</td>\n",
              "      <td>0.040582</td>\n",
              "      <td>0.789720</td>\n",
              "      <td>0.850000</td>\n",
              "      <td>0.151142</td>\n",
              "      <td>0.076555</td>\n",
              "    </tr>\n",
              "    <tr>\n",
              "      <th>2011-11-05</th>\n",
              "      <td>0.995551</td>\n",
              "      <td>0.188011</td>\n",
              "      <td>0.194575</td>\n",
              "      <td>0.299065</td>\n",
              "      <td>0.350000</td>\n",
              "      <td>0.870533</td>\n",
              "      <td>0.095694</td>\n",
              "    </tr>\n",
              "    <tr>\n",
              "      <th>2011-11-13</th>\n",
              "      <td>0.985642</td>\n",
              "      <td>0.048051</td>\n",
              "      <td>0.070598</td>\n",
              "      <td>0.415888</td>\n",
              "      <td>0.650000</td>\n",
              "      <td>0.524165</td>\n",
              "      <td>0.027341</td>\n",
              "    </tr>\n",
              "    <tr>\n",
              "      <th>2015-12-14</th>\n",
              "      <td>0.623256</td>\n",
              "      <td>0.018105</td>\n",
              "      <td>0.048664</td>\n",
              "      <td>0.439252</td>\n",
              "      <td>0.433333</td>\n",
              "      <td>0.725688</td>\n",
              "      <td>0.085441</td>\n",
              "    </tr>\n",
              "    <tr>\n",
              "      <th>2013-09-26</th>\n",
              "      <td>0.997573</td>\n",
              "      <td>0.038589</td>\n",
              "      <td>0.049962</td>\n",
              "      <td>0.476636</td>\n",
              "      <td>0.766667</td>\n",
              "      <td>0.573814</td>\n",
              "      <td>0.088859</td>\n",
              "    </tr>\n",
              "  </tbody>\n",
              "</table>\n",
              "</div>"
            ],
            "text/plain": [
              "            present_storage_tmc  inflow_tmc  ...  humidity      wind\n",
              "date                                         ...                    \n",
              "2014-09-14             1.000000    0.066879  ...  0.645138  0.127820\n",
              "2017-11-29             0.624267    0.008707  ...  0.608670  0.103213\n",
              "2012-10-08             0.549444    0.066083  ...  0.715876  0.064252\n",
              "2013-12-21             0.806269    0.027231  ...  0.512302  0.039645\n",
              "2014-08-25             0.972700    0.047873  ...  0.664470  0.140123\n",
              "2015-03-17             0.523964    0.003531  ...  0.151142  0.076555\n",
              "2011-11-05             0.995551    0.188011  ...  0.870533  0.095694\n",
              "2011-11-13             0.985642    0.048051  ...  0.524165  0.027341\n",
              "2015-12-14             0.623256    0.018105  ...  0.725688  0.085441\n",
              "2013-09-26             0.997573    0.038589  ...  0.573814  0.088859\n",
              "\n",
              "[10 rows x 7 columns]"
            ]
          },
          "metadata": {
            "tags": []
          },
          "execution_count": 21
        }
      ]
    },
    {
      "cell_type": "code",
      "metadata": {
        "colab": {
          "base_uri": "https://localhost:8080/"
        },
        "id": "frdXuNOIkads",
        "outputId": "6d444e83-a3ca-4b0e-b7c2-86a01906a7e9"
      },
      "source": [
        "train = train.dropna(axis = 0, how ='any')\n",
        "train.isna().sum()"
      ],
      "execution_count": null,
      "outputs": [
        {
          "output_type": "execute_result",
          "data": {
            "text/plain": [
              "present_storage_tmc    0\n",
              "inflow_tmc             0\n",
              "outflow_tmc            0\n",
              "max_temp               0\n",
              "visibility             0\n",
              "humidity               0\n",
              "wind                   0\n",
              "dtype: int64"
            ]
          },
          "metadata": {
            "tags": []
          },
          "execution_count": 22
        }
      ]
    },
    {
      "cell_type": "code",
      "metadata": {
        "colab": {
          "base_uri": "https://localhost:8080/"
        },
        "id": "VL8-XySDkejU",
        "outputId": "27d2ab42-099c-4530-bdcd-0f35f2766528"
      },
      "source": [
        "tensor_structure = {\"X\": (range(-T + 1, 1), flist)}\n",
        "print(tensor_structure)\n",
        "ts_train_inp = TimeSeriesTensor(\n",
        "    dataset=train,\n",
        "    target=\"present_storage_tmc\",\n",
        "    H=HORIZON,\n",
        "    tensor_structure=tensor_structure,\n",
        "    freq=\"D\",\n",
        "    drop_incomplete=True,\n",
        ")\n",
        "back_ts_data = dt.datetime.strptime(valid_st_data_load, \"%Y-%m-%d %H:%M:%S\") - dt.timedelta(\n",
        "    days=T - 1\n",
        ")\n",
        "valid = ts_data_load.copy()[(ts_data_load.index >= back_ts_data) & (ts_data_load.index < test_st_data_load)][\n",
        "    flist\n",
        "]\n",
        "valid[flist] = X_scaler.transform(valid)\n",
        "valid_inputs = TimeSeriesTensor(valid, \"present_storage_tmc\", HORIZON, tensor_structure, freq='D')"
      ],
      "execution_count": null,
      "outputs": [
        {
          "output_type": "stream",
          "text": [
            "{'X': (range(-29, 1), ['present_storage_tmc', 'inflow_tmc', 'outflow_tmc', 'max_temp', 'visibility', 'humidity', 'wind'])}\n"
          ],
          "name": "stdout"
        }
      ]
    },
    {
      "cell_type": "code",
      "metadata": {
        "id": "2euBCSu7khjL"
      },
      "source": [
        "from tensorflow.keras.callbacks import EarlyStopping\n",
        "from tensorflow.keras.layers import GRU, Dense\n",
        "from tensorflow.keras.models import Model, Sequential"
      ],
      "execution_count": null,
      "outputs": []
    },
    {
      "cell_type": "code",
      "metadata": {
        "id": "udLW7DkZks7d"
      },
      "source": [
        "LATENT_DIM = T\n",
        "BATCH_SIZE = 32\n",
        "EPOCHS = (\n",
        "    100\n",
        ")"
      ],
      "execution_count": null,
      "outputs": []
    },
    {
      "cell_type": "code",
      "metadata": {
        "id": "_1gV0pknkuR9"
      },
      "source": [
        "model = Sequential()\n",
        "model.add(GRU(LATENT_DIM, return_sequences=True,input_shape=(T, features)))\n",
        "#model.add(GRU(LATENT_DIM, input_shape=(T, 3)))\n",
        "model.add(GRU(LATENT_DIM))\n",
        "model.add(Dense(HORIZON))"
      ],
      "execution_count": null,
      "outputs": []
    },
    {
      "cell_type": "code",
      "metadata": {
        "id": "TkcFGU31kwUE"
      },
      "source": [
        "model.compile(optimizer=\"adam\", loss=\"mse\")\n"
      ],
      "execution_count": null,
      "outputs": []
    },
    {
      "cell_type": "code",
      "metadata": {
        "colab": {
          "base_uri": "https://localhost:8080/"
        },
        "id": "93cQ3vtqkxoT",
        "outputId": "c288d633-8095-4362-955f-a62fc9e75550"
      },
      "source": [
        "model.summary()\n"
      ],
      "execution_count": null,
      "outputs": [
        {
          "output_type": "stream",
          "text": [
            "Model: \"sequential_1\"\n",
            "_________________________________________________________________\n",
            "Layer (type)                 Output Shape              Param #   \n",
            "=================================================================\n",
            "gru_2 (GRU)                  (None, 30, 30)            3510      \n",
            "_________________________________________________________________\n",
            "gru_3 (GRU)                  (None, 30)                5580      \n",
            "_________________________________________________________________\n",
            "dense_1 (Dense)              (None, 1)                 31        \n",
            "=================================================================\n",
            "Total params: 9,121\n",
            "Trainable params: 9,121\n",
            "Non-trainable params: 0\n",
            "_________________________________________________________________\n"
          ],
          "name": "stdout"
        }
      ]
    },
    {
      "cell_type": "code",
      "metadata": {
        "id": "aE1aJd0Vky_R"
      },
      "source": [
        "earlystop = EarlyStopping(monitor=\"val_loss\", min_delta=0, patience=5)\n"
      ],
      "execution_count": null,
      "outputs": []
    },
    {
      "cell_type": "code",
      "metadata": {
        "colab": {
          "base_uri": "https://localhost:8080/"
        },
        "id": "UICkCrJNk1P2",
        "outputId": "4f50c2aa-ac76-4f73-9a07-261ed4c7cf4c"
      },
      "source": [
        "model_history = model.fit(\n",
        "    ts_train_inp[\"X\"],\n",
        "    ts_train_inp[\"target\"],\n",
        "    batch_size=BATCH_SIZE,\n",
        "    epochs=EPOCHS,\n",
        "    validation_data=(valid_inputs[\"X\"], valid_inputs[\"target\"]),\n",
        "    callbacks=[earlystop],\n",
        "    verbose=1,\n",
        ")"
      ],
      "execution_count": null,
      "outputs": [
        {
          "output_type": "stream",
          "text": [
            "Epoch 1/100\n",
            "64/64 [==============================] - 6s 38ms/step - loss: 0.0531 - val_loss: 0.0020\n",
            "Epoch 2/100\n",
            "64/64 [==============================] - 2s 27ms/step - loss: 0.0014 - val_loss: 0.0013\n",
            "Epoch 3/100\n",
            "64/64 [==============================] - 2s 28ms/step - loss: 0.0012 - val_loss: 0.0010\n",
            "Epoch 4/100\n",
            "64/64 [==============================] - 2s 28ms/step - loss: 0.0011 - val_loss: 8.1222e-04\n",
            "Epoch 5/100\n",
            "64/64 [==============================] - 2s 28ms/step - loss: 0.0011 - val_loss: 6.4156e-04\n",
            "Epoch 6/100\n",
            "64/64 [==============================] - 2s 28ms/step - loss: 0.0010 - val_loss: 5.5478e-04\n",
            "Epoch 7/100\n",
            "64/64 [==============================] - 2s 28ms/step - loss: 9.8468e-04 - val_loss: 4.7307e-04\n",
            "Epoch 8/100\n",
            "64/64 [==============================] - 2s 28ms/step - loss: 9.6264e-04 - val_loss: 3.9150e-04\n",
            "Epoch 9/100\n",
            "64/64 [==============================] - 2s 27ms/step - loss: 9.8106e-04 - val_loss: 3.6679e-04\n",
            "Epoch 10/100\n",
            "64/64 [==============================] - 2s 28ms/step - loss: 9.3687e-04 - val_loss: 3.5983e-04\n",
            "Epoch 11/100\n",
            "64/64 [==============================] - 2s 28ms/step - loss: 9.1194e-04 - val_loss: 3.0091e-04\n",
            "Epoch 12/100\n",
            "64/64 [==============================] - 2s 28ms/step - loss: 9.6483e-04 - val_loss: 2.6289e-04\n",
            "Epoch 13/100\n",
            "64/64 [==============================] - 2s 28ms/step - loss: 9.2459e-04 - val_loss: 3.1708e-04\n",
            "Epoch 14/100\n",
            "64/64 [==============================] - 2s 28ms/step - loss: 9.8706e-04 - val_loss: 3.2383e-04\n",
            "Epoch 15/100\n",
            "64/64 [==============================] - 2s 27ms/step - loss: 9.0265e-04 - val_loss: 3.1910e-04\n",
            "Epoch 16/100\n",
            "64/64 [==============================] - 2s 28ms/step - loss: 9.7509e-04 - val_loss: 1.9825e-04\n",
            "Epoch 17/100\n",
            "64/64 [==============================] - 2s 28ms/step - loss: 9.0311e-04 - val_loss: 2.9582e-04\n",
            "Epoch 18/100\n",
            "64/64 [==============================] - 2s 27ms/step - loss: 8.8895e-04 - val_loss: 2.2695e-04\n",
            "Epoch 19/100\n",
            "64/64 [==============================] - 2s 28ms/step - loss: 9.7656e-04 - val_loss: 2.1531e-04\n",
            "Epoch 20/100\n",
            "64/64 [==============================] - 2s 28ms/step - loss: 9.1889e-04 - val_loss: 2.1349e-04\n",
            "Epoch 21/100\n",
            "64/64 [==============================] - 2s 28ms/step - loss: 8.6644e-04 - val_loss: 1.9875e-04\n"
          ],
          "name": "stdout"
        }
      ]
    },
    {
      "cell_type": "code",
      "metadata": {
        "colab": {
          "base_uri": "https://localhost:8080/"
        },
        "id": "9PNS58HYpcxX",
        "outputId": "438d2f40-1df9-4678-9d97-7235995d923e"
      },
      "source": [
        "model.save(\"30daysto1day\")"
      ],
      "execution_count": null,
      "outputs": [
        {
          "output_type": "stream",
          "text": [
            "WARNING:absl:Found untraced functions such as gru_cell_2_layer_call_and_return_conditional_losses, gru_cell_2_layer_call_fn, gru_cell_3_layer_call_and_return_conditional_losses, gru_cell_3_layer_call_fn, gru_cell_2_layer_call_fn while saving (showing 5 of 10). These functions will not be directly callable after loading.\n"
          ],
          "name": "stderr"
        },
        {
          "output_type": "stream",
          "text": [
            "INFO:tensorflow:Assets written to: 30daysto1day/assets\n"
          ],
          "name": "stdout"
        },
        {
          "output_type": "stream",
          "text": [
            "INFO:tensorflow:Assets written to: 30daysto1day/assets\n"
          ],
          "name": "stderr"
        }
      ]
    },
    {
      "cell_type": "code",
      "metadata": {
        "colab": {
          "base_uri": "https://localhost:8080/",
          "height": 295
        },
        "id": "D1N3y6VHk2ic",
        "outputId": "19d4ac4c-8e47-4fdc-e6cc-f3ee8e9de086"
      },
      "source": [
        "# summarize history for loss\n",
        "plt.plot(model_history.history['loss'])\n",
        "plt.plot(model_history.history['val_loss'])\n",
        "plt.title('model loss')\n",
        "plt.ylabel('loss')\n",
        "plt.xlabel('epoch')\n",
        "plt.legend(['train', 'val'], loc='upper left')\n",
        "plt.show()"
      ],
      "execution_count": null,
      "outputs": [
        {
          "output_type": "display_data",
          "data": {
            "image/png": "[encoded data removed]",
            "text/plain": [
              "<Figure size 432x288 with 1 Axes>"
            ]
          },
          "metadata": {
            "tags": [],
            "needs_background": "light"
          }
        }
      ]
    },
    {
      "cell_type": "code",
      "metadata": {
        "colab": {
          "base_uri": "https://localhost:8080/",
          "height": 295
        },
        "id": "1KqJU477k4g2",
        "outputId": "fcf49d76-e6d0-4142-a3cf-674c1a437bc7"
      },
      "source": [
        "# summarize history for loss\n",
        "plt.plot(model_history.history['loss'][3:])\n",
        "plt.plot(model_history.history['val_loss'][3:])\n",
        "plt.title('model loss')\n",
        "plt.ylabel('loss')\n",
        "plt.xlabel('epoch')\n",
        "plt.legend(['train', 'val'], loc='upper left')\n",
        "plt.show()"
      ],
      "execution_count": null,
      "outputs": [
        {
          "output_type": "display_data",
          "data": {
            "image/png": "[encoded data removed]",
            "text/plain": [
              "<Figure size 432x288 with 1 Axes>"
            ]
          },
          "metadata": {
            "tags": [],
            "needs_background": "light"
          }
        }
      ]
    },
    {
      "cell_type": "code",
      "metadata": {
        "id": "yWKaOFExlpY5"
      },
      "source": [
        "ts_data_test = ts_data_load.copy()[test_st_data_load:][flist]\n",
        "ts_data_test[flist] = X_scaler.transform(ts_data_test)\n",
        "ts_data_test_inputs = TimeSeriesTensor(ts_data_test, \"present_storage_tmc\", HORIZON, tensor_structure, freq='D')\n"
      ],
      "execution_count": null,
      "outputs": []
    },
    {
      "cell_type": "code",
      "metadata": {
        "colab": {
          "base_uri": "https://localhost:8080/"
        },
        "id": "xOI0r4uPmApo",
        "outputId": "388546b1-3bd8-47e4-9bb0-60f198f4486d"
      },
      "source": [
        "ts_data_test_inputs['X'].shape"
      ],
      "execution_count": null,
      "outputs": [
        {
          "output_type": "execute_result",
          "data": {
            "text/plain": [
              "(691, 30, 7)"
            ]
          },
          "metadata": {
            "tags": []
          },
          "execution_count": 47
        }
      ]
    },
    {
      "cell_type": "code",
      "metadata": {
        "id": "Fv7ivXW1njIF"
      },
      "source": [
        "def create_evaluation_df1(predictions, test_inputs, H, scaler):\n",
        "    \"\"\"Create a data frame for easy evaluation\"\"\"\n",
        "    eval_df = pd.DataFrame(\n",
        "        predictions, columns=[\"t+\" + str(t) for t in range(1, H + 1)]\n",
        "    )\n",
        "    \n",
        "    eval_df[\"timestamp\"] = test_inputs.dataframe.index\n",
        "    print(eval_df.shape, eval_df.head(2))\n",
        "\n",
        "    #eval_df = pd.melt(\n",
        "    #    eval_df, id_vars=\"timestamp\", value_name=\"prediction\", var_name=\"h\"\n",
        "    #)\n",
        "    values = ['t+'+str(i) for i in range(1, H+1)]\n",
        "    \n",
        "    eval_df = pd.melt(\n",
        "        eval_df, id_vars=\"timestamp\", value_vars=values, value_name=\"prediction\"\n",
        "    )\n",
        "    print(eval_df.shape, eval_df.head(2))\n",
        "    eval_df[\"actual\"] = np.transpose(test_inputs[\"target\"]).ravel()\n",
        "    eval_df[[\"prediction\", \"actual\"]] = scaler.inverse_transform(\n",
        "        eval_df[[\"prediction\", \"actual\"]]\n",
        "    )\n",
        "    return eval_df"
      ],
      "execution_count": null,
      "outputs": []
    },
    {
      "cell_type": "code",
      "metadata": {
        "colab": {
          "base_uri": "https://localhost:8080/",
          "height": 308
        },
        "id": "KwpRphbJnm-u",
        "outputId": "3a5aa9db-1898-4953-df24-0c86a756a21d"
      },
      "source": [
        "ts_predictions = model.predict(ts_data_test_inputs[\"X\"])\n",
        "\n",
        "ev_ts_data = create_evaluation_df1(ts_predictions, ts_data_test_inputs, HORIZON, y_scaler)\n",
        "ev_ts_data.sample(5)"
      ],
      "execution_count": null,
      "outputs": [
        {
          "output_type": "stream",
          "text": [
            "(691, 2)         t+1  timestamp\n",
            "0  0.231420 2019-05-31\n",
            "1  0.230692 2019-06-01\n",
            "(691, 3)    timestamp variable  prediction\n",
            "0 2019-05-31      t+1    0.231420\n",
            "1 2019-06-01      t+1    0.230692\n"
          ],
          "name": "stdout"
        },
        {
          "output_type": "execute_result",
          "data": {
            "text/html": [
              "<div>\n",
              "<style scoped>\n",
              "    .dataframe tbody tr th:only-of-type {\n",
              "        vertical-align: middle;\n",
              "    }\n",
              "\n",
              "    .dataframe tbody tr th {\n",
              "        vertical-align: top;\n",
              "    }\n",
              "\n",
              "    .dataframe thead th {\n",
              "        text-align: right;\n",
              "    }\n",
              "</style>\n",
              "<table border=\"1\" class=\"dataframe\">\n",
              "  <thead>\n",
              "    <tr style=\"text-align: right;\">\n",
              "      <th></th>\n",
              "      <th>timestamp</th>\n",
              "      <th>variable</th>\n",
              "      <th>prediction</th>\n",
              "      <th>actual</th>\n",
              "    </tr>\n",
              "  </thead>\n",
              "  <tbody>\n",
              "    <tr>\n",
              "      <th>85</th>\n",
              "      <td>2019-08-24</td>\n",
              "      <td>t+1</td>\n",
              "      <td>49.641307</td>\n",
              "      <td>49.450000</td>\n",
              "    </tr>\n",
              "    <tr>\n",
              "      <th>137</th>\n",
              "      <td>2019-10-15</td>\n",
              "      <td>t+1</td>\n",
              "      <td>49.288294</td>\n",
              "      <td>49.450000</td>\n",
              "    </tr>\n",
              "    <tr>\n",
              "      <th>228</th>\n",
              "      <td>2020-02-14</td>\n",
              "      <td>t+1</td>\n",
              "      <td>38.076829</td>\n",
              "      <td>37.490000</td>\n",
              "    </tr>\n",
              "    <tr>\n",
              "      <th>496</th>\n",
              "      <td>2021-01-12</td>\n",
              "      <td>t+1</td>\n",
              "      <td>40.968372</td>\n",
              "      <td>41.471714</td>\n",
              "    </tr>\n",
              "    <tr>\n",
              "      <th>600</th>\n",
              "      <td>2021-04-26</td>\n",
              "      <td>t+1</td>\n",
              "      <td>19.293534</td>\n",
              "      <td>18.795727</td>\n",
              "    </tr>\n",
              "  </tbody>\n",
              "</table>\n",
              "</div>"
            ],
            "text/plain": [
              "     timestamp variable  prediction     actual\n",
              "85  2019-08-24      t+1   49.641307  49.450000\n",
              "137 2019-10-15      t+1   49.288294  49.450000\n",
              "228 2020-02-14      t+1   38.076829  37.490000\n",
              "496 2021-01-12      t+1   40.968372  41.471714\n",
              "600 2021-04-26      t+1   19.293534  18.795727"
            ]
          },
          "metadata": {
            "tags": []
          },
          "execution_count": 49
        }
      ]
    },
    {
      "cell_type": "code",
      "metadata": {
        "colab": {
          "base_uri": "https://localhost:8080/"
        },
        "id": "bzDzi75ZntIE",
        "outputId": "1547d799-4156-44d0-eb27-d259e7a6823e"
      },
      "source": [
        "\n",
        "mape(ev_ts_data[\"prediction\"], ev_ts_data[\"actual\"])"
      ],
      "execution_count": null,
      "outputs": [
        {
          "output_type": "execute_result",
          "data": {
            "text/plain": [
              "0.0183621815912172"
            ]
          },
          "metadata": {
            "tags": []
          },
          "execution_count": 50
        }
      ]
    },
    {
      "cell_type": "code",
      "metadata": {
        "colab": {
          "base_uri": "https://localhost:8080/",
          "height": 392
        },
        "id": "JLjrnZUln0is",
        "outputId": "cbd6ba88-8273-43b4-fde1-3c91e79db914"
      },
      "source": [
        "ev_ts_data[ev_ts_data.variable=='t+1'].plot(\n",
        "    x=\"timestamp\", y=[\"prediction\", \"actual\"], style=[\"r\", \"b\"], figsize=(10, 6)\n",
        ")"
      ],
      "execution_count": null,
      "outputs": [
        {
          "output_type": "execute_result",
          "data": {
            "text/plain": [
              "<matplotlib.axes._subplots.AxesSubplot at 0x7fcfba4ce790>"
            ]
          },
          "metadata": {
            "tags": []
          },
          "execution_count": 51
        },
        {
          "output_type": "display_data",
          "data": {
            "image/png": "[encoded data removed]",
            "text/plain": [
              "<Figure size 720x432 with 1 Axes>"
            ]
          },
          "metadata": {
            "tags": [],
            "needs_background": "light"
          }
        }
      ]
    },
    {
      "cell_type": "code",
      "metadata": {
        "id": "WzlD3iZhn5bA"
      },
      "source": [
        "ev_ts_data.to_csv(\"forecast_withdatecolumns.csv\")"
      ],
      "execution_count": null,
      "outputs": []
    },
    {
      "cell_type": "code",
      "metadata": {
        "id": "JDj4z7gwoEgu"
      },
      "source": [
        "import datetime\n",
        "forecast_dates = ev_ts_data.apply(\n",
        "         lambda row: row.timestamp + datetime.timedelta(days=int(row.variable[2:])),\n",
        "         axis=1)\n",
        "ev_ts_data[\"date\"] = forecast_dates\n"
      ],
      "execution_count": null,
      "outputs": []
    },
    {
      "cell_type": "code",
      "metadata": {
        "colab": {
          "base_uri": "https://localhost:8080/",
          "height": 112
        },
        "id": "J0G5S-NMo7L3",
        "outputId": "4642d3b0-b3d3-4188-eb90-3034e50f6564"
      },
      "source": [
        "ev_ts_data.head(2)"
      ],
      "execution_count": null,
      "outputs": [
        {
          "output_type": "execute_result",
          "data": {
            "text/html": [
              "<div>\n",
              "<style scoped>\n",
              "    .dataframe tbody tr th:only-of-type {\n",
              "        vertical-align: middle;\n",
              "    }\n",
              "\n",
              "    .dataframe tbody tr th {\n",
              "        vertical-align: top;\n",
              "    }\n",
              "\n",
              "    .dataframe thead th {\n",
              "        text-align: right;\n",
              "    }\n",
              "</style>\n",
              "<table border=\"1\" class=\"dataframe\">\n",
              "  <thead>\n",
              "    <tr style=\"text-align: right;\">\n",
              "      <th></th>\n",
              "      <th>timestamp</th>\n",
              "      <th>variable</th>\n",
              "      <th>prediction</th>\n",
              "      <th>actual</th>\n",
              "      <th>date</th>\n",
              "    </tr>\n",
              "  </thead>\n",
              "  <tbody>\n",
              "    <tr>\n",
              "      <th>0</th>\n",
              "      <td>2019-05-31</td>\n",
              "      <td>t+1</td>\n",
              "      <td>11.575661</td>\n",
              "      <td>11.25</td>\n",
              "      <td>2019-06-01</td>\n",
              "    </tr>\n",
              "    <tr>\n",
              "      <th>1</th>\n",
              "      <td>2019-06-01</td>\n",
              "      <td>t+1</td>\n",
              "      <td>11.544778</td>\n",
              "      <td>11.22</td>\n",
              "      <td>2019-06-02</td>\n",
              "    </tr>\n",
              "  </tbody>\n",
              "</table>\n",
              "</div>"
            ],
            "text/plain": [
              "   timestamp variable  prediction  actual       date\n",
              "0 2019-05-31      t+1   11.575661   11.25 2019-06-01\n",
              "1 2019-06-01      t+1   11.544778   11.22 2019-06-02"
            ]
          },
          "metadata": {
            "tags": []
          },
          "execution_count": 124
        }
      ]
    },
    {
      "cell_type": "code",
      "metadata": {
        "colab": {
          "base_uri": "https://localhost:8080/"
        },
        "id": "mAcLwsFPo9FU",
        "outputId": "e3048f2f-f226-4215-d034-4fb8766a5c9c"
      },
      "source": [
        "from google.colab import drive\n",
        "drive.mount('/content/gdrive')\n"
      ],
      "execution_count": null,
      "outputs": [
        {
          "output_type": "stream",
          "text": [
            "Mounted at /content/gdrive\n"
          ],
          "name": "stdout"
        }
      ]
    },
    {
      "cell_type": "code",
      "metadata": {
        "colab": {
          "base_uri": "https://localhost:8080/",
          "height": 143
        },
        "id": "KrBQf1xzszoV",
        "outputId": "2f16e65b-7285-4e47-8d6d-f5a8057af15c"
      },
      "source": [
        "#finetuning\n",
        "T = 30\n",
        "HORIZON = 1\n",
        "ftrain = ts_data_load.copy()[flist]\n",
        "\n",
        "X_scaler = MinMaxScaler()\n",
        "ftrain[flist] = X_scaler.fit_transform(ftrain)\n",
        "ftrain.sample(2)"
      ],
      "execution_count": null,
      "outputs": [
        {
          "output_type": "execute_result",
          "data": {
            "text/html": [
              "<div>\n",
              "<style scoped>\n",
              "    .dataframe tbody tr th:only-of-type {\n",
              "        vertical-align: middle;\n",
              "    }\n",
              "\n",
              "    .dataframe tbody tr th {\n",
              "        vertical-align: top;\n",
              "    }\n",
              "\n",
              "    .dataframe thead th {\n",
              "        text-align: right;\n",
              "    }\n",
              "</style>\n",
              "<table border=\"1\" class=\"dataframe\">\n",
              "  <thead>\n",
              "    <tr style=\"text-align: right;\">\n",
              "      <th></th>\n",
              "      <th>present_storage_tmc</th>\n",
              "      <th>inflow_tmc</th>\n",
              "      <th>outflow_tmc</th>\n",
              "      <th>max_temp</th>\n",
              "      <th>visibility</th>\n",
              "      <th>humidity</th>\n",
              "      <th>wind</th>\n",
              "    </tr>\n",
              "    <tr>\n",
              "      <th>date</th>\n",
              "      <th></th>\n",
              "      <th></th>\n",
              "      <th></th>\n",
              "      <th></th>\n",
              "      <th></th>\n",
              "      <th></th>\n",
              "      <th></th>\n",
              "    </tr>\n",
              "  </thead>\n",
              "  <tbody>\n",
              "    <tr>\n",
              "      <th>2018-05-01</th>\n",
              "      <td>0.161375</td>\n",
              "      <td>0.000509</td>\n",
              "      <td>0.004625</td>\n",
              "      <td>0.607477</td>\n",
              "      <td>0.176190</td>\n",
              "      <td>0.567940</td>\n",
              "      <td>0.069056</td>\n",
              "    </tr>\n",
              "    <tr>\n",
              "      <th>2015-07-18</th>\n",
              "      <td>0.600404</td>\n",
              "      <td>0.012522</td>\n",
              "      <td>0.060291</td>\n",
              "      <td>0.579439</td>\n",
              "      <td>0.180952</td>\n",
              "      <td>0.838279</td>\n",
              "      <td>0.132841</td>\n",
              "    </tr>\n",
              "  </tbody>\n",
              "</table>\n",
              "</div>"
            ],
            "text/plain": [
              "            present_storage_tmc  inflow_tmc  ...  humidity      wind\n",
              "date                                         ...                    \n",
              "2018-05-01             0.161375    0.000509  ...  0.567940  0.069056\n",
              "2015-07-18             0.600404    0.012522  ...  0.838279  0.132841\n",
              "\n",
              "[2 rows x 7 columns]"
            ]
          },
          "metadata": {
            "tags": []
          },
          "execution_count": 53
        }
      ]
    },
    {
      "cell_type": "code",
      "metadata": {
        "colab": {
          "base_uri": "https://localhost:8080/",
          "height": 112
        },
        "id": "d08fmXBJyoFk",
        "outputId": "87a67418-2347-43b3-b50f-b394b06b8c86"
      },
      "source": [
        "ftrain.last('1D')"
      ],
      "execution_count": null,
      "outputs": [
        {
          "output_type": "execute_result",
          "data": {
            "text/html": [
              "<div>\n",
              "<style scoped>\n",
              "    .dataframe tbody tr th:only-of-type {\n",
              "        vertical-align: middle;\n",
              "    }\n",
              "\n",
              "    .dataframe tbody tr th {\n",
              "        vertical-align: top;\n",
              "    }\n",
              "\n",
              "    .dataframe thead th {\n",
              "        text-align: right;\n",
              "    }\n",
              "</style>\n",
              "<table border=\"1\" class=\"dataframe\">\n",
              "  <thead>\n",
              "    <tr style=\"text-align: right;\">\n",
              "      <th></th>\n",
              "      <th>present_storage_tmc</th>\n",
              "      <th>inflow_tmc</th>\n",
              "      <th>outflow_tmc</th>\n",
              "      <th>max_temp</th>\n",
              "      <th>visibility</th>\n",
              "      <th>humidity</th>\n",
              "      <th>wind</th>\n",
              "    </tr>\n",
              "    <tr>\n",
              "      <th>date</th>\n",
              "      <th></th>\n",
              "      <th></th>\n",
              "      <th></th>\n",
              "      <th></th>\n",
              "      <th></th>\n",
              "      <th></th>\n",
              "      <th></th>\n",
              "    </tr>\n",
              "  </thead>\n",
              "  <tbody>\n",
              "    <tr>\n",
              "      <th>2021-07-25</th>\n",
              "      <td>0.488493</td>\n",
              "      <td>0.053957</td>\n",
              "      <td>0.015142</td>\n",
              "      <td>0.415888</td>\n",
              "      <td>0.483333</td>\n",
              "      <td>0.822377</td>\n",
              "      <td>0.108065</td>\n",
              "    </tr>\n",
              "  </tbody>\n",
              "</table>\n",
              "</div>"
            ],
            "text/plain": [
              "            present_storage_tmc  inflow_tmc  ...  humidity      wind\n",
              "date                                         ...                    \n",
              "2021-07-25             0.488493    0.053957  ...  0.822377  0.108065\n",
              "\n",
              "[1 rows x 7 columns]"
            ]
          },
          "metadata": {
            "tags": []
          },
          "execution_count": 132
        }
      ]
    },
    {
      "cell_type": "code",
      "metadata": {
        "colab": {
          "base_uri": "https://localhost:8080/"
        },
        "id": "B01OYl_gz-Dx",
        "outputId": "9e2a3c0f-d27c-4e88-ce6f-6bb061a4575a"
      },
      "source": [
        "from datetime import date\n",
        "date.today()"
      ],
      "execution_count": null,
      "outputs": [
        {
          "output_type": "stream",
          "text": [
            "2021-07-25\n"
          ],
          "name": "stdout"
        }
      ]
    },
    {
      "cell_type": "code",
      "metadata": {
        "id": "iQ4FGtPBwmM3"
      },
      "source": [
        "tensor_structure = {\"X\": (range(-T + 1, 1), flist)}\n",
        "\n",
        "ts_train_inp = TimeSeriesTensor(\n",
        "    dataset=ftrain,\n",
        "    target=\"present_storage_tmc\",\n",
        "    H=HORIZON,\n",
        "    tensor_structure=tensor_structure,\n",
        "    freq=\"D\",\n",
        "    drop_incomplete=True,\n",
        ")\n",
        "#back_ts_data = dt.datetime.strptime(date.today(), \"%Y-%m-%d %H:%M:%S\") - dt.timedelta(\n",
        "#    days=T - 1\n",
        "#)\n"
      ],
      "execution_count": null,
      "outputs": []
    },
    {
      "cell_type": "code",
      "metadata": {
        "colab": {
          "base_uri": "https://localhost:8080/"
        },
        "id": "vFlenigtwHr9",
        "outputId": "89f02c9d-33ba-4f90-c209-aba097181c1c"
      },
      "source": [
        "model_history = model.fit(\n",
        "    ts_train_inp[\"X\"],\n",
        "    ts_train_inp[\"target\"],\n",
        "    batch_size=BATCH_SIZE,\n",
        "    epochs=15,\n",
        "    #validation_data=(valid_inputs[\"X\"], valid_inputs[\"target\"]),\n",
        "    #callbacks=[earlystop],\n",
        "    verbose=1,\n",
        ")"
      ],
      "execution_count": null,
      "outputs": [
        {
          "output_type": "stream",
          "text": [
            "Epoch 1/15\n",
            "102/102 [==============================] - 3s 27ms/step - loss: 7.3007e-04\n",
            "Epoch 2/15\n",
            "102/102 [==============================] - 3s 26ms/step - loss: 6.9745e-04\n",
            "Epoch 3/15\n",
            "102/102 [==============================] - 3s 26ms/step - loss: 6.5586e-04\n",
            "Epoch 4/15\n",
            "102/102 [==============================] - 3s 26ms/step - loss: 6.6096e-04\n",
            "Epoch 5/15\n",
            "102/102 [==============================] - 3s 26ms/step - loss: 6.3898e-04\n",
            "Epoch 6/15\n",
            "102/102 [==============================] - 3s 27ms/step - loss: 6.3464e-04\n",
            "Epoch 7/15\n",
            "102/102 [==============================] - 3s 26ms/step - loss: 6.2074e-04\n",
            "Epoch 8/15\n",
            "102/102 [==============================] - 3s 27ms/step - loss: 6.2640e-04\n",
            "Epoch 9/15\n",
            "102/102 [==============================] - 3s 27ms/step - loss: 6.3284e-04\n",
            "Epoch 10/15\n",
            "102/102 [==============================] - 3s 26ms/step - loss: 6.2020e-04\n",
            "Epoch 11/15\n",
            "102/102 [==============================] - 3s 26ms/step - loss: 6.3409e-04\n",
            "Epoch 12/15\n",
            "102/102 [==============================] - 3s 26ms/step - loss: 6.5604e-04\n",
            "Epoch 13/15\n",
            "102/102 [==============================] - 3s 26ms/step - loss: 6.4177e-04\n",
            "Epoch 14/15\n",
            "102/102 [==============================] - 3s 26ms/step - loss: 6.4441e-04\n",
            "Epoch 15/15\n",
            "102/102 [==============================] - 3s 26ms/step - loss: 6.3680e-04\n"
          ],
          "name": "stdout"
        }
      ]
    },
    {
      "cell_type": "code",
      "metadata": {
        "colab": {
          "base_uri": "https://localhost:8080/",
          "height": 308
        },
        "id": "7s6wXrB90d89",
        "outputId": "e1a88036-2b43-4e4f-9530-a84d259ffbd8"
      },
      "source": [
        "ts_predictions = model.predict(ts_train_inp[\"X\"])\n",
        "\n",
        "ev_all_data = create_evaluation_df1(ts_predictions, ts_train_inp, HORIZON, y_scaler)\n",
        "ev_all_data.sample(5)"
      ],
      "execution_count": null,
      "outputs": [
        {
          "output_type": "stream",
          "text": [
            "(3242, 2)         t+1  timestamp\n",
            "0  0.847011 2011-01-29\n",
            "1  0.841989 2011-01-30\n",
            "(3242, 3)    timestamp variable  prediction\n",
            "0 2011-01-29      t+1    0.847011\n",
            "1 2011-01-30      t+1    0.841989\n"
          ],
          "name": "stdout"
        },
        {
          "output_type": "execute_result",
          "data": {
            "text/html": [
              "<div>\n",
              "<style scoped>\n",
              "    .dataframe tbody tr th:only-of-type {\n",
              "        vertical-align: middle;\n",
              "    }\n",
              "\n",
              "    .dataframe tbody tr th {\n",
              "        vertical-align: top;\n",
              "    }\n",
              "\n",
              "    .dataframe thead th {\n",
              "        text-align: right;\n",
              "    }\n",
              "</style>\n",
              "<table border=\"1\" class=\"dataframe\">\n",
              "  <thead>\n",
              "    <tr style=\"text-align: right;\">\n",
              "      <th></th>\n",
              "      <th>timestamp</th>\n",
              "      <th>variable</th>\n",
              "      <th>prediction</th>\n",
              "      <th>actual</th>\n",
              "    </tr>\n",
              "  </thead>\n",
              "  <tbody>\n",
              "    <tr>\n",
              "      <th>677</th>\n",
              "      <td>2014-02-11</td>\n",
              "      <td>t+1</td>\n",
              "      <td>32.687022</td>\n",
              "      <td>32.220</td>\n",
              "    </tr>\n",
              "    <tr>\n",
              "      <th>173</th>\n",
              "      <td>2011-07-21</td>\n",
              "      <td>t+1</td>\n",
              "      <td>32.627236</td>\n",
              "      <td>32.890</td>\n",
              "    </tr>\n",
              "    <tr>\n",
              "      <th>1091</th>\n",
              "      <td>2015-06-01</td>\n",
              "      <td>t+1</td>\n",
              "      <td>9.443934</td>\n",
              "      <td>9.250</td>\n",
              "    </tr>\n",
              "    <tr>\n",
              "      <th>3230</th>\n",
              "      <td>2021-07-14</td>\n",
              "      <td>t+1</td>\n",
              "      <td>15.618366</td>\n",
              "      <td>15.326</td>\n",
              "    </tr>\n",
              "    <tr>\n",
              "      <th>2243</th>\n",
              "      <td>2018-07-27</td>\n",
              "      <td>t+1</td>\n",
              "      <td>47.711795</td>\n",
              "      <td>46.570</td>\n",
              "    </tr>\n",
              "  </tbody>\n",
              "</table>\n",
              "</div>"
            ],
            "text/plain": [
              "      timestamp variable  prediction  actual\n",
              "677  2014-02-11      t+1   32.687022  32.220\n",
              "173  2011-07-21      t+1   32.627236  32.890\n",
              "1091 2015-06-01      t+1    9.443934   9.250\n",
              "3230 2021-07-14      t+1   15.618366  15.326\n",
              "2243 2018-07-27      t+1   47.711795  46.570"
            ]
          },
          "metadata": {
            "tags": []
          },
          "execution_count": 56
        }
      ]
    },
    {
      "cell_type": "code",
      "metadata": {
        "colab": {
          "base_uri": "https://localhost:8080/"
        },
        "id": "-FQZNZMP060r",
        "outputId": "5bb4f7bd-9e3b-491a-e4b2-4b7db41c8c10"
      },
      "source": [
        "\n",
        "mape(ev_all_data[\"prediction\"], ev_all_data[\"actual\"])"
      ],
      "execution_count": null,
      "outputs": [
        {
          "output_type": "execute_result",
          "data": {
            "text/plain": [
              "inf"
            ]
          },
          "metadata": {
            "tags": []
          },
          "execution_count": 57
        }
      ]
    },
    {
      "cell_type": "code",
      "metadata": {
        "colab": {
          "base_uri": "https://localhost:8080/",
          "height": 384
        },
        "id": "x2PLV5gE1Jce",
        "outputId": "6c8862b5-986c-4954-e45c-8c028f6e39fb"
      },
      "source": [
        "ev_all_data[ev_all_data.variable=='t+1'].plot(\n",
        "    x=\"timestamp\", y=[\"prediction\", \"actual\"], style=[\"r\", \"b\"], figsize=(10, 6)\n",
        ")"
      ],
      "execution_count": null,
      "outputs": [
        {
          "output_type": "execute_result",
          "data": {
            "text/plain": [
              "<matplotlib.axes._subplots.AxesSubplot at 0x7fcfb26093d0>"
            ]
          },
          "metadata": {
            "tags": []
          },
          "execution_count": 58
        },
        {
          "output_type": "display_data",
          "data": {
            "image/png": "[encoded data removed]",
            "text/plain": [
              "<Figure size 720x432 with 1 Axes>"
            ]
          },
          "metadata": {
            "tags": [],
            "needs_background": "light"
          }
        }
      ]
    },
    {
      "cell_type": "code",
      "metadata": {
        "id": "5bU0HzylqUI-"
      },
      "source": [
        "cp -r '/content/30daysto1day' '/content/gdrive/My Drive/Wave2web/'"
      ],
      "execution_count": null,
      "outputs": []
    },
    {
      "cell_type": "code",
      "metadata": {
        "id": "dQ4twFMG1RAG"
      },
      "source": [
        "import datetime\n",
        "forecast_dates = ev_all_data.apply(\n",
        "         lambda row: row.timestamp + datetime.timedelta(days=int(row.variable[2:])),\n",
        "         axis=1)\n",
        "ev_all_data[\"date\"] = forecast_dates\n"
      ],
      "execution_count": null,
      "outputs": []
    },
    {
      "cell_type": "code",
      "metadata": {
        "colab": {
          "base_uri": "https://localhost:8080/",
          "height": 516
        },
        "id": "1b8AIL5cAOTC",
        "outputId": "aa4b6117-91fa-4cdf-db2f-47a722d58975"
      },
      "source": [
        "ev_all_data.sample(15)"
      ],
      "execution_count": null,
      "outputs": [
        {
          "output_type": "execute_result",
          "data": {
            "text/html": [
              "<div>\n",
              "<style scoped>\n",
              "    .dataframe tbody tr th:only-of-type {\n",
              "        vertical-align: middle;\n",
              "    }\n",
              "\n",
              "    .dataframe tbody tr th {\n",
              "        vertical-align: top;\n",
              "    }\n",
              "\n",
              "    .dataframe thead th {\n",
              "        text-align: right;\n",
              "    }\n",
              "</style>\n",
              "<table border=\"1\" class=\"dataframe\">\n",
              "  <thead>\n",
              "    <tr style=\"text-align: right;\">\n",
              "      <th></th>\n",
              "      <th>timestamp</th>\n",
              "      <th>variable</th>\n",
              "      <th>prediction</th>\n",
              "      <th>actual</th>\n",
              "      <th>date</th>\n",
              "    </tr>\n",
              "  </thead>\n",
              "  <tbody>\n",
              "    <tr>\n",
              "      <th>1055</th>\n",
              "      <td>2015-04-26</td>\n",
              "      <td>t+1</td>\n",
              "      <td>15.207088</td>\n",
              "      <td>14.710</td>\n",
              "      <td>2015-04-27</td>\n",
              "    </tr>\n",
              "    <tr>\n",
              "      <th>654</th>\n",
              "      <td>2014-01-19</td>\n",
              "      <td>t+1</td>\n",
              "      <td>36.712296</td>\n",
              "      <td>36.210</td>\n",
              "      <td>2014-01-20</td>\n",
              "    </tr>\n",
              "    <tr>\n",
              "      <th>1684</th>\n",
              "      <td>2017-01-14</td>\n",
              "      <td>t+1</td>\n",
              "      <td>10.429794</td>\n",
              "      <td>10.520</td>\n",
              "      <td>2017-01-15</td>\n",
              "    </tr>\n",
              "    <tr>\n",
              "      <th>1208</th>\n",
              "      <td>2015-09-26</td>\n",
              "      <td>t+1</td>\n",
              "      <td>25.898792</td>\n",
              "      <td>25.130</td>\n",
              "      <td>2015-09-27</td>\n",
              "    </tr>\n",
              "    <tr>\n",
              "      <th>1056</th>\n",
              "      <td>2015-04-27</td>\n",
              "      <td>t+1</td>\n",
              "      <td>14.870181</td>\n",
              "      <td>14.350</td>\n",
              "      <td>2015-04-28</td>\n",
              "    </tr>\n",
              "    <tr>\n",
              "      <th>2365</th>\n",
              "      <td>2018-11-26</td>\n",
              "      <td>t+1</td>\n",
              "      <td>40.144268</td>\n",
              "      <td>39.940</td>\n",
              "      <td>2018-11-27</td>\n",
              "    </tr>\n",
              "    <tr>\n",
              "      <th>3103</th>\n",
              "      <td>2021-03-09</td>\n",
              "      <td>t+1</td>\n",
              "      <td>30.030834</td>\n",
              "      <td>30.318</td>\n",
              "      <td>2021-03-10</td>\n",
              "    </tr>\n",
              "    <tr>\n",
              "      <th>1705</th>\n",
              "      <td>2017-02-04</td>\n",
              "      <td>t+1</td>\n",
              "      <td>10.152931</td>\n",
              "      <td>10.340</td>\n",
              "      <td>2017-02-05</td>\n",
              "    </tr>\n",
              "    <tr>\n",
              "      <th>2979</th>\n",
              "      <td>2020-11-05</td>\n",
              "      <td>t+1</td>\n",
              "      <td>48.517061</td>\n",
              "      <td>48.600</td>\n",
              "      <td>2020-11-06</td>\n",
              "    </tr>\n",
              "    <tr>\n",
              "      <th>2452</th>\n",
              "      <td>2019-02-21</td>\n",
              "      <td>t+1</td>\n",
              "      <td>29.739140</td>\n",
              "      <td>29.430</td>\n",
              "      <td>2019-02-22</td>\n",
              "    </tr>\n",
              "    <tr>\n",
              "      <th>2507</th>\n",
              "      <td>2019-04-17</td>\n",
              "      <td>t+1</td>\n",
              "      <td>17.133930</td>\n",
              "      <td>17.340</td>\n",
              "      <td>2019-04-18</td>\n",
              "    </tr>\n",
              "    <tr>\n",
              "      <th>1729</th>\n",
              "      <td>2017-02-28</td>\n",
              "      <td>t+1</td>\n",
              "      <td>11.279675</td>\n",
              "      <td>11.490</td>\n",
              "      <td>2017-03-01</td>\n",
              "    </tr>\n",
              "    <tr>\n",
              "      <th>1229</th>\n",
              "      <td>2015-10-17</td>\n",
              "      <td>t+1</td>\n",
              "      <td>30.620232</td>\n",
              "      <td>29.980</td>\n",
              "      <td>2015-10-18</td>\n",
              "    </tr>\n",
              "    <tr>\n",
              "      <th>802</th>\n",
              "      <td>2014-08-16</td>\n",
              "      <td>t+1</td>\n",
              "      <td>49.512916</td>\n",
              "      <td>49.330</td>\n",
              "      <td>2014-08-17</td>\n",
              "    </tr>\n",
              "    <tr>\n",
              "      <th>457</th>\n",
              "      <td>2012-11-22</td>\n",
              "      <td>t+1</td>\n",
              "      <td>25.127516</td>\n",
              "      <td>24.850</td>\n",
              "      <td>2012-11-23</td>\n",
              "    </tr>\n",
              "  </tbody>\n",
              "</table>\n",
              "</div>"
            ],
            "text/plain": [
              "      timestamp variable  prediction  actual       date\n",
              "1055 2015-04-26      t+1   15.207088  14.710 2015-04-27\n",
              "654  2014-01-19      t+1   36.712296  36.210 2014-01-20\n",
              "1684 2017-01-14      t+1   10.429794  10.520 2017-01-15\n",
              "1208 2015-09-26      t+1   25.898792  25.130 2015-09-27\n",
              "1056 2015-04-27      t+1   14.870181  14.350 2015-04-28\n",
              "2365 2018-11-26      t+1   40.144268  39.940 2018-11-27\n",
              "3103 2021-03-09      t+1   30.030834  30.318 2021-03-10\n",
              "1705 2017-02-04      t+1   10.152931  10.340 2017-02-05\n",
              "2979 2020-11-05      t+1   48.517061  48.600 2020-11-06\n",
              "2452 2019-02-21      t+1   29.739140  29.430 2019-02-22\n",
              "2507 2019-04-17      t+1   17.133930  17.340 2019-04-18\n",
              "1729 2017-02-28      t+1   11.279675  11.490 2017-03-01\n",
              "1229 2015-10-17      t+1   30.620232  29.980 2015-10-18\n",
              "802  2014-08-16      t+1   49.512916  49.330 2014-08-17\n",
              "457  2012-11-22      t+1   25.127516  24.850 2012-11-23"
            ]
          },
          "metadata": {
            "tags": []
          },
          "execution_count": 61
        }
      ]
    },
    {
      "cell_type": "code",
      "metadata": {
        "id": "HrJutaAv2PNF"
      },
      "source": [
        "ev_all_data.to_csv(\"predictions.csv\")"
      ],
      "execution_count": null,
      "outputs": []
    },
    {
      "cell_type": "code",
      "metadata": {
        "id": "CmPVn0AE2Q6X"
      },
      "source": [
        "import sqlite3\n"
      ],
      "execution_count": null,
      "outputs": []
    },
    {
      "cell_type": "code",
      "metadata": {
        "id": "16xoy0rYCwAX"
      },
      "source": [
        "conn = sqlite3.connect('predictions.db')\n",
        "c = conn.cursor()"
      ],
      "execution_count": null,
      "outputs": []
    },
    {
      "cell_type": "code",
      "metadata": {
        "id": "CU1nQ13AC39B"
      },
      "source": [
        "df = pd.read_csv(\"predictions.csv\")"
      ],
      "execution_count": null,
      "outputs": []
    },
    {
      "cell_type": "code",
      "metadata": {
        "colab": {
          "base_uri": "https://localhost:8080/",
          "height": 206
        },
        "id": "tfWw-0xVDOB5",
        "outputId": "8bf2f5ac-2524-4254-c557-f2db9f4f19ae"
      },
      "source": [
        "df.head()"
      ],
      "execution_count": null,
      "outputs": [
        {
          "output_type": "execute_result",
          "data": {
            "text/html": [
              "<div>\n",
              "<style scoped>\n",
              "    .dataframe tbody tr th:only-of-type {\n",
              "        vertical-align: middle;\n",
              "    }\n",
              "\n",
              "    .dataframe tbody tr th {\n",
              "        vertical-align: top;\n",
              "    }\n",
              "\n",
              "    .dataframe thead th {\n",
              "        text-align: right;\n",
              "    }\n",
              "</style>\n",
              "<table border=\"1\" class=\"dataframe\">\n",
              "  <thead>\n",
              "    <tr style=\"text-align: right;\">\n",
              "      <th></th>\n",
              "      <th>Unnamed: 0</th>\n",
              "      <th>timestamp</th>\n",
              "      <th>variable</th>\n",
              "      <th>prediction</th>\n",
              "      <th>actual</th>\n",
              "      <th>date</th>\n",
              "    </tr>\n",
              "  </thead>\n",
              "  <tbody>\n",
              "    <tr>\n",
              "      <th>0</th>\n",
              "      <td>0</td>\n",
              "      <td>2011-01-29</td>\n",
              "      <td>t+1</td>\n",
              "      <td>41.820400</td>\n",
              "      <td>41.79</td>\n",
              "      <td>2011-01-30</td>\n",
              "    </tr>\n",
              "    <tr>\n",
              "      <th>1</th>\n",
              "      <td>1</td>\n",
              "      <td>2011-01-30</td>\n",
              "      <td>t+1</td>\n",
              "      <td>41.589464</td>\n",
              "      <td>41.56</td>\n",
              "      <td>2011-01-31</td>\n",
              "    </tr>\n",
              "    <tr>\n",
              "      <th>2</th>\n",
              "      <td>2</td>\n",
              "      <td>2011-01-31</td>\n",
              "      <td>t+1</td>\n",
              "      <td>41.276625</td>\n",
              "      <td>41.30</td>\n",
              "      <td>2011-02-01</td>\n",
              "    </tr>\n",
              "    <tr>\n",
              "      <th>3</th>\n",
              "      <td>3</td>\n",
              "      <td>2011-02-01</td>\n",
              "      <td>t+1</td>\n",
              "      <td>41.035273</td>\n",
              "      <td>40.98</td>\n",
              "      <td>2011-02-02</td>\n",
              "    </tr>\n",
              "    <tr>\n",
              "      <th>4</th>\n",
              "      <td>4</td>\n",
              "      <td>2011-02-02</td>\n",
              "      <td>t+1</td>\n",
              "      <td>40.736331</td>\n",
              "      <td>40.66</td>\n",
              "      <td>2011-02-03</td>\n",
              "    </tr>\n",
              "  </tbody>\n",
              "</table>\n",
              "</div>"
            ],
            "text/plain": [
              "   Unnamed: 0   timestamp variable  prediction  actual        date\n",
              "0           0  2011-01-29      t+1   41.820400   41.79  2011-01-30\n",
              "1           1  2011-01-30      t+1   41.589464   41.56  2011-01-31\n",
              "2           2  2011-01-31      t+1   41.276625   41.30  2011-02-01\n",
              "3           3  2011-02-01      t+1   41.035273   40.98  2011-02-02\n",
              "4           4  2011-02-02      t+1   40.736331   40.66  2011-02-03"
            ]
          },
          "metadata": {
            "tags": []
          },
          "execution_count": 150
        }
      ]
    },
    {
      "cell_type": "code",
      "metadata": {
        "colab": {
          "base_uri": "https://localhost:8080/"
        },
        "id": "hKGeymgMDMAu",
        "outputId": "b6ac5b59-c81c-43ea-f872-63c4b9ca3e9a"
      },
      "source": [
        "c.execute(\"CREATE TABLE PREDICTIONS ([timestamp] integer, [prediction] integer, [actual] integer, [date] integer)\")"
      ],
      "execution_count": null,
      "outputs": [
        {
          "output_type": "execute_result",
          "data": {
            "text/plain": [
              "<sqlite3.Cursor at 0x7f0a7a395dc0>"
            ]
          },
          "metadata": {
            "tags": []
          },
          "execution_count": 154
        }
      ]
    },
    {
      "cell_type": "code",
      "metadata": {
        "id": "0v84cYD1C-9R"
      },
      "source": [
        "conn.commit()"
      ],
      "execution_count": null,
      "outputs": []
    },
    {
      "cell_type": "code",
      "metadata": {
        "id": "LrZGuYonE3FJ"
      },
      "source": [
        "conn = sqlite3.connect('predictions.db')  \n",
        "c = conn.cursor()"
      ],
      "execution_count": null,
      "outputs": []
    },
    {
      "cell_type": "code",
      "metadata": {
        "id": "maBd8_BAFA9V"
      },
      "source": [
        "df[['timestamp', 'prediction', 'actual', 'date']].to_sql('PREDICTIONS', conn, if_exists='append', index = False)"
      ],
      "execution_count": null,
      "outputs": []
    },
    {
      "cell_type": "code",
      "metadata": {
        "id": "HafYiL9eFJ10"
      },
      "source": [
        ""
      ],
      "execution_count": null,
      "outputs": []
    }
  ]
}