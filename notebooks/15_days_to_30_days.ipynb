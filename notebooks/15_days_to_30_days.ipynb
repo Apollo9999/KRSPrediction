{
  "nbformat": 4,
  "nbformat_minor": 0,
  "metadata": {
    "colab": {
      "name": "finetuning 15 days to 30 days.ipynb",
      "provenance": []
    },
    "kernelspec": {
      "name": "python3",
      "display_name": "Python 3"
    },
    "language_info": {
      "name": "python"
    }
  },
  "cells": [
    {
      "cell_type": "code",
      "metadata": {
        "id": "3Hsj9_grfmCe"
      },
      "source": [
        "import datetime as dt\n",
        "import os\n",
        "import warnings\n",
        "from collections import UserDict\n",
        "\n",
        "import matplotlib.pyplot as plt\n",
        "import numpy as np\n",
        "import pandas as pd\n",
        "from utils import TimeSeriesTensor, mape, extract_data, create_evaluation_df\n",
        "from IPython.display import Image\n",
        "from sklearn.preprocessing import MinMaxScaler\n",
        "\n",
        "%matplotlib inline"
      ],
      "execution_count": null,
      "outputs": []
    },
    {
      "cell_type": "code",
      "metadata": {
        "colab": {
          "base_uri": "https://localhost:8080/"
        },
        "id": "EDGPs34cWkUd",
        "outputId": "e52f928c-27b4-476c-d900-bf9f2ddd6bdd"
      },
      "source": [
        "!git clone https://github.com/Arghyam-Team/KRSPrediction.git"
      ],
      "execution_count": null,
      "outputs": [
        {
          "output_type": "stream",
          "text": [
            "Cloning into 'KRSPrediction'...\n",
            "remote: Enumerating objects: 236, done.\u001b[K\n",
            "remote: Counting objects: 100% (236/236), done.\u001b[K\n",
            "remote: Compressing objects: 100% (179/179), done.\u001b[K\n",
            "remote: Total 236 (delta 98), reused 112 (delta 33), pack-reused 0\u001b[K\n",
            "Receiving objects: 100% (236/236), 4.94 MiB | 9.72 MiB/s, done.\n",
            "Resolving deltas: 100% (98/98), done.\n"
          ],
          "name": "stdout"
        }
      ]
    },
    {
      "cell_type": "code",
      "metadata": {
        "id": "jAqiS97cYAUM"
      },
      "source": [
        "import sqlite3\n",
        "db_file = '/content/KRSPrediction/data/pythonsqlite.db'\n",
        "conn = sqlite3.connect(db_file)\n",
        "cur = conn.cursor()\n",
        "sql = \"SELECT water.date, water.storage_tmc, water.inflow_cusecs, water.outflow_cusecs, weather.max_temp, weather.visibility, weather.wind, weather.humidity, weather.cloudcover FROM water INNER JOIN weather ON  water.reservoir='krs' AND weather.location='karnataka' AND water.date = weather.date\"\n",
        "cur.execute(sql)\n",
        "rows = cur.fetchall() # rows is a list of tuples (date, tmc,inflow,outflow,maxtemp,vis,wind,hum,cloud)"
      ],
      "execution_count": null,
      "outputs": []
    },
    {
      "cell_type": "code",
      "metadata": {
        "id": "D5igmCUmfAry"
      },
      "source": [
        "krs = pd.DataFrame(rows, columns=['date', 'present_storage_tmc', 'inflow', 'outflow', 'max_temp', 'visibility', 'wind', 'humidity', 'cloudcover'])"
      ],
      "execution_count": null,
      "outputs": []
    },
    {
      "cell_type": "code",
      "metadata": {
        "colab": {
          "base_uri": "https://localhost:8080/",
          "height": 111
        },
        "id": "3Nrw-WdZgCqz",
        "outputId": "7a44b0ab-5ac0-4aee-d3c7-f657f4170be8"
      },
      "source": [
        "krs.head(2)"
      ],
      "execution_count": null,
      "outputs": [
        {
          "output_type": "execute_result",
          "data": {
            "text/html": [
              "<div>\n",
              "<style scoped>\n",
              "    .dataframe tbody tr th:only-of-type {\n",
              "        vertical-align: middle;\n",
              "    }\n",
              "\n",
              "    .dataframe tbody tr th {\n",
              "        vertical-align: top;\n",
              "    }\n",
              "\n",
              "    .dataframe thead th {\n",
              "        text-align: right;\n",
              "    }\n",
              "</style>\n",
              "<table border=\"1\" class=\"dataframe\">\n",
              "  <thead>\n",
              "    <tr style=\"text-align: right;\">\n",
              "      <th></th>\n",
              "      <th>date</th>\n",
              "      <th>present_storage_tmc</th>\n",
              "      <th>inflow</th>\n",
              "      <th>outflow</th>\n",
              "      <th>max_temp</th>\n",
              "      <th>visibility</th>\n",
              "      <th>wind</th>\n",
              "      <th>humidity</th>\n",
              "      <th>cloudcover</th>\n",
              "    </tr>\n",
              "  </thead>\n",
              "  <tbody>\n",
              "    <tr>\n",
              "      <th>0</th>\n",
              "      <td>2011-01-01</td>\n",
              "      <td>46.42</td>\n",
              "      <td>2029</td>\n",
              "      <td>2000.0</td>\n",
              "      <td>28.1</td>\n",
              "      <td>6.7</td>\n",
              "      <td>11.2</td>\n",
              "      <td>71.39</td>\n",
              "      <td>36.7</td>\n",
              "    </tr>\n",
              "    <tr>\n",
              "      <th>1</th>\n",
              "      <td>2011-01-02</td>\n",
              "      <td>46.54</td>\n",
              "      <td>3084</td>\n",
              "      <td>1490.0</td>\n",
              "      <td>28.0</td>\n",
              "      <td>6.2</td>\n",
              "      <td>10.3</td>\n",
              "      <td>72.90</td>\n",
              "      <td>51.4</td>\n",
              "    </tr>\n",
              "  </tbody>\n",
              "</table>\n",
              "</div>"
            ],
            "text/plain": [
              "         date  present_storage_tmc inflow  ...  wind  humidity  cloudcover\n",
              "0  2011-01-01                46.42   2029  ...  11.2     71.39        36.7\n",
              "1  2011-01-02                46.54   3084  ...  10.3     72.90        51.4\n",
              "\n",
              "[2 rows x 9 columns]"
            ]
          },
          "metadata": {
            "tags": []
          },
          "execution_count": 6
        }
      ]
    },
    {
      "cell_type": "code",
      "metadata": {
        "id": "wfOI47s_gZ68"
      },
      "source": [
        "krs = krs.drop_duplicates(subset=[\"date\"])"
      ],
      "execution_count": null,
      "outputs": []
    },
    {
      "cell_type": "code",
      "metadata": {
        "id": "nKaS921Ygg7W"
      },
      "source": [
        "krs.date = pd.to_datetime(krs.date)\n",
        "krs['inflow'] = pd.to_numeric(krs.inflow, errors='coerce')"
      ],
      "execution_count": null,
      "outputs": []
    },
    {
      "cell_type": "code",
      "metadata": {
        "colab": {
          "base_uri": "https://localhost:8080/"
        },
        "id": "Vx-YD6e8gMEp",
        "outputId": "199d2d99-7bd4-43fd-e16f-6e0f2ff18dcb"
      },
      "source": [
        "krs.info()"
      ],
      "execution_count": null,
      "outputs": [
        {
          "output_type": "stream",
          "text": [
            "<class 'pandas.core.frame.DataFrame'>\n",
            "Int64Index: 3531 entries, 0 to 3535\n",
            "Data columns (total 9 columns):\n",
            " #   Column               Non-Null Count  Dtype         \n",
            "---  ------               --------------  -----         \n",
            " 0   date                 3531 non-null   datetime64[ns]\n",
            " 1   present_storage_tmc  3531 non-null   float64       \n",
            " 2   inflow               3530 non-null   float64       \n",
            " 3   outflow              3531 non-null   float64       \n",
            " 4   max_temp             3531 non-null   float64       \n",
            " 5   visibility           3531 non-null   float64       \n",
            " 6   wind                 3531 non-null   float64       \n",
            " 7   humidity             3531 non-null   float64       \n",
            " 8   cloudcover           3531 non-null   float64       \n",
            "dtypes: datetime64[ns](1), float64(8)\n",
            "memory usage: 275.9 KB\n"
          ],
          "name": "stdout"
        }
      ]
    },
    {
      "cell_type": "code",
      "metadata": {
        "id": "G5LUmj2RgO3V"
      },
      "source": [
        "krs['inflow_tmc'] = krs['inflow'] /11000\n",
        "krs['outflow_tmc'] = krs['outflow'] / 11000"
      ],
      "execution_count": null,
      "outputs": []
    },
    {
      "cell_type": "code",
      "metadata": {
        "id": "iK2xLLLdgwR8"
      },
      "source": [
        "krs.sort_values(by=['date'], inplace=True, ascending=True)"
      ],
      "execution_count": null,
      "outputs": []
    },
    {
      "cell_type": "code",
      "metadata": {
        "id": "AHfU5Dfdg9T1"
      },
      "source": [
        "krs.set_index('date', inplace=True)\n",
        "krs = krs.sort_index(axis=1)"
      ],
      "execution_count": null,
      "outputs": []
    },
    {
      "cell_type": "code",
      "metadata": {
        "colab": {
          "base_uri": "https://localhost:8080/",
          "height": 143
        },
        "id": "OnCsUM6Zgz5r",
        "outputId": "ac957f41-9a47-4ec3-dfc3-928ddb9d3706"
      },
      "source": [
        "krs.head(2)"
      ],
      "execution_count": null,
      "outputs": [
        {
          "output_type": "execute_result",
          "data": {
            "text/html": [
              "<div>\n",
              "<style scoped>\n",
              "    .dataframe tbody tr th:only-of-type {\n",
              "        vertical-align: middle;\n",
              "    }\n",
              "\n",
              "    .dataframe tbody tr th {\n",
              "        vertical-align: top;\n",
              "    }\n",
              "\n",
              "    .dataframe thead th {\n",
              "        text-align: right;\n",
              "    }\n",
              "</style>\n",
              "<table border=\"1\" class=\"dataframe\">\n",
              "  <thead>\n",
              "    <tr style=\"text-align: right;\">\n",
              "      <th></th>\n",
              "      <th>cloudcover</th>\n",
              "      <th>humidity</th>\n",
              "      <th>inflow</th>\n",
              "      <th>inflow_tmc</th>\n",
              "      <th>max_temp</th>\n",
              "      <th>outflow</th>\n",
              "      <th>outflow_tmc</th>\n",
              "      <th>present_storage_tmc</th>\n",
              "      <th>visibility</th>\n",
              "      <th>wind</th>\n",
              "    </tr>\n",
              "    <tr>\n",
              "      <th>date</th>\n",
              "      <th></th>\n",
              "      <th></th>\n",
              "      <th></th>\n",
              "      <th></th>\n",
              "      <th></th>\n",
              "      <th></th>\n",
              "      <th></th>\n",
              "      <th></th>\n",
              "      <th></th>\n",
              "      <th></th>\n",
              "    </tr>\n",
              "  </thead>\n",
              "  <tbody>\n",
              "    <tr>\n",
              "      <th>2010-09-30</th>\n",
              "      <td>79.6</td>\n",
              "      <td>81.05</td>\n",
              "      <td>2706.0</td>\n",
              "      <td>0.246000</td>\n",
              "      <td>29.4</td>\n",
              "      <td>6840.0</td>\n",
              "      <td>0.621818</td>\n",
              "      <td>46.18</td>\n",
              "      <td>5.2</td>\n",
              "      <td>11.2</td>\n",
              "    </tr>\n",
              "    <tr>\n",
              "      <th>2010-12-31</th>\n",
              "      <td>51.0</td>\n",
              "      <td>70.80</td>\n",
              "      <td>2668.0</td>\n",
              "      <td>0.242545</td>\n",
              "      <td>27.5</td>\n",
              "      <td>6795.0</td>\n",
              "      <td>0.617727</td>\n",
              "      <td>45.81</td>\n",
              "      <td>6.9</td>\n",
              "      <td>11.2</td>\n",
              "    </tr>\n",
              "  </tbody>\n",
              "</table>\n",
              "</div>"
            ],
            "text/plain": [
              "            cloudcover  humidity  inflow  ...  present_storage_tmc  visibility  wind\n",
              "date                                      ...                                       \n",
              "2010-09-30        79.6     81.05  2706.0  ...                46.18         5.2  11.2\n",
              "2010-12-31        51.0     70.80  2668.0  ...                45.81         6.9  11.2\n",
              "\n",
              "[2 rows x 10 columns]"
            ]
          },
          "metadata": {
            "tags": []
          },
          "execution_count": 13
        }
      ]
    },
    {
      "cell_type": "code",
      "metadata": {
        "id": "Gs1DTY5cg1GH"
      },
      "source": [
        "#time series data on which model needs to be trained on, features contain the column names\n",
        "ts_data_load = krs[[ \"present_storage_tmc\", \"inflow_tmc\", \"outflow_tmc\", \"max_temp\", \"visibility\", \"humidity\", \"wind\"]]\n",
        "ts_data_load.sort_index(axis = 1)\n",
        "features = len(ts_data_load.columns)\n",
        "#features, ts_data_load.head(2), ts_data_load.tail(2)"
      ],
      "execution_count": null,
      "outputs": []
    },
    {
      "cell_type": "code",
      "metadata": {
        "id": "_37xDtxyhsdo"
      },
      "source": [
        "valid_st_data_load = \"2018-01-01 00:00:00\"\n",
        "test_st_data_load = \"2019-05-02 00:00:00\""
      ],
      "execution_count": null,
      "outputs": []
    },
    {
      "cell_type": "code",
      "metadata": {
        "colab": {
          "base_uri": "https://localhost:8080/",
          "height": 111
        },
        "id": "_-5VWGJaiOlu",
        "outputId": "bac78fdb-79a3-47da-a4c6-3cbcfefa6a31"
      },
      "source": [
        "ts_data_load[ts_data_load.index==valid_st_data_load]"
      ],
      "execution_count": null,
      "outputs": [
        {
          "output_type": "execute_result",
          "data": {
            "text/html": [
              "<div>\n",
              "<style scoped>\n",
              "    .dataframe tbody tr th:only-of-type {\n",
              "        vertical-align: middle;\n",
              "    }\n",
              "\n",
              "    .dataframe tbody tr th {\n",
              "        vertical-align: top;\n",
              "    }\n",
              "\n",
              "    .dataframe thead th {\n",
              "        text-align: right;\n",
              "    }\n",
              "</style>\n",
              "<table border=\"1\" class=\"dataframe\">\n",
              "  <thead>\n",
              "    <tr style=\"text-align: right;\">\n",
              "      <th></th>\n",
              "      <th>present_storage_tmc</th>\n",
              "      <th>inflow_tmc</th>\n",
              "      <th>outflow_tmc</th>\n",
              "      <th>max_temp</th>\n",
              "      <th>visibility</th>\n",
              "      <th>humidity</th>\n",
              "      <th>wind</th>\n",
              "    </tr>\n",
              "    <tr>\n",
              "      <th>date</th>\n",
              "      <th></th>\n",
              "      <th></th>\n",
              "      <th></th>\n",
              "      <th></th>\n",
              "      <th></th>\n",
              "      <th></th>\n",
              "      <th></th>\n",
              "    </tr>\n",
              "  </thead>\n",
              "  <tbody>\n",
              "    <tr>\n",
              "      <th>2018-01-01</th>\n",
              "      <td>25.55</td>\n",
              "      <td>0.026455</td>\n",
              "      <td>0.313182</td>\n",
              "      <td>28.0</td>\n",
              "      <td>6.6</td>\n",
              "      <td>65.5</td>\n",
              "      <td>11.0</td>\n",
              "    </tr>\n",
              "  </tbody>\n",
              "</table>\n",
              "</div>"
            ],
            "text/plain": [
              "            present_storage_tmc  inflow_tmc  ...  humidity  wind\n",
              "date                                         ...                \n",
              "2018-01-01                25.55    0.026455  ...      65.5  11.0\n",
              "\n",
              "[1 rows x 7 columns]"
            ]
          },
          "metadata": {
            "tags": []
          },
          "execution_count": 16
        }
      ]
    },
    {
      "cell_type": "code",
      "metadata": {
        "colab": {
          "base_uri": "https://localhost:8080/",
          "height": 473
        },
        "id": "yfVG2VmNiPw_",
        "outputId": "2c1c8d43-736a-4aac-d25e-bb897ca26b55"
      },
      "source": [
        "ts_data_load[ts_data_load.index < valid_st_data_load][[\"present_storage_tmc\"]].rename(columns={\"present_storage_tmc\": \"train\"}).join(\n",
        "    ts_data_load[(ts_data_load.index >= valid_st_data_load) & (ts_data_load.index < test_st_data_load)][\n",
        "        [\"present_storage_tmc\"]\n",
        "    ].rename(columns={\"present_storage_tmc\": \"validation\"}),\n",
        "    how=\"outer\",\n",
        ").join(\n",
        "    ts_data_load[test_st_data_load:][[\"present_storage_tmc\"]].rename(columns={\"present_storage_tmc\": \"test\"}), how=\"outer\"\n",
        ").plot(\n",
        "    y=[\"train\", \"validation\", \"test\"], figsize=(15, 8), fontsize=12\n",
        ")\n",
        "plt.xlabel(\"timestamp\", fontsize=12)\n",
        "plt.ylabel(\"PRESENT_STORAGE_TMC\", fontsize=12)\n",
        "plt.show()"
      ],
      "execution_count": null,
      "outputs": [
        {
          "output_type": "display_data",
          "data": {
            "image/png": "[encoded data removed]",
            "text/plain": [
              "<Figure size 1080x576 with 1 Axes>"
            ]
          },
          "metadata": {
            "tags": [],
            "needs_background": "light"
          }
        }
      ]
    },
    {
      "cell_type": "code",
      "metadata": {
        "id": "FDtwm2V9jIqe"
      },
      "source": [
        "train = ts_data_load.copy()[ts_data_load.index < valid_st_data_load]"
      ],
      "execution_count": null,
      "outputs": []
    },
    {
      "cell_type": "code",
      "metadata": {
        "colab": {
          "base_uri": "https://localhost:8080/"
        },
        "id": "iXqAZRtAkOPB",
        "outputId": "6beef4a4-e322-4c71-f383-db9870a1a681"
      },
      "source": [
        "train.shape"
      ],
      "execution_count": null,
      "outputs": [
        {
          "output_type": "execute_result",
          "data": {
            "text/plain": [
              "(2250, 7)"
            ]
          },
          "metadata": {
            "tags": []
          },
          "execution_count": 19
        }
      ]
    },
    {
      "cell_type": "code",
      "metadata": {
        "colab": {
          "base_uri": "https://localhost:8080/"
        },
        "id": "FGEo0AeZkPJ5",
        "outputId": "43918cd7-0f8a-4809-94a4-ae2e3bc49b97"
      },
      "source": [
        "y_scaler = MinMaxScaler()\n",
        "y_scaler.fit(train[[\"present_storage_tmc\"]])"
      ],
      "execution_count": null,
      "outputs": [
        {
          "output_type": "execute_result",
          "data": {
            "text/plain": [
              "MinMaxScaler(copy=True, feature_range=(0, 1))"
            ]
          },
          "metadata": {
            "tags": []
          },
          "execution_count": 20
        }
      ]
    },
    {
      "cell_type": "code",
      "metadata": {
        "id": "crXHsio6kT6G"
      },
      "source": [
        "flist = list(ts_data_load.columns)"
      ],
      "execution_count": null,
      "outputs": []
    },
    {
      "cell_type": "code",
      "metadata": {
        "colab": {
          "base_uri": "https://localhost:8080/",
          "height": 392
        },
        "id": "FGwFbxWEkXME",
        "outputId": "0b37c6b5-ef7f-4b7b-c76d-f2443f292ec7"
      },
      "source": [
        "T = 30\n",
        "HORIZON = 15\n",
        "train = ts_data_load.copy()[ts_data_load.index < valid_st_data_load][flist]\n",
        "\n",
        "X_scaler = MinMaxScaler()\n",
        "train[flist] = X_scaler.fit_transform(train)\n",
        "train.sample(10)"
      ],
      "execution_count": null,
      "outputs": [
        {
          "output_type": "execute_result",
          "data": {
            "text/html": [
              "<div>\n",
              "<style scoped>\n",
              "    .dataframe tbody tr th:only-of-type {\n",
              "        vertical-align: middle;\n",
              "    }\n",
              "\n",
              "    .dataframe tbody tr th {\n",
              "        vertical-align: top;\n",
              "    }\n",
              "\n",
              "    .dataframe thead th {\n",
              "        text-align: right;\n",
              "    }\n",
              "</style>\n",
              "<table border=\"1\" class=\"dataframe\">\n",
              "  <thead>\n",
              "    <tr style=\"text-align: right;\">\n",
              "      <th></th>\n",
              "      <th>present_storage_tmc</th>\n",
              "      <th>inflow_tmc</th>\n",
              "      <th>outflow_tmc</th>\n",
              "      <th>max_temp</th>\n",
              "      <th>visibility</th>\n",
              "      <th>humidity</th>\n",
              "      <th>wind</th>\n",
              "    </tr>\n",
              "    <tr>\n",
              "      <th>date</th>\n",
              "      <th></th>\n",
              "      <th></th>\n",
              "      <th></th>\n",
              "      <th></th>\n",
              "      <th></th>\n",
              "      <th></th>\n",
              "      <th></th>\n",
              "    </tr>\n",
              "  </thead>\n",
              "  <tbody>\n",
              "    <tr>\n",
              "      <th>2016-03-17</th>\n",
              "      <td>0.280485</td>\n",
              "      <td>0.003384</td>\n",
              "      <td>0.034538</td>\n",
              "      <td>0.700935</td>\n",
              "      <td>0.683333</td>\n",
              "      <td>0.490187</td>\n",
              "      <td>0.086124</td>\n",
              "    </tr>\n",
              "    <tr>\n",
              "      <th>2017-12-12</th>\n",
              "      <td>0.598180</td>\n",
              "      <td>0.009189</td>\n",
              "      <td>0.004137</td>\n",
              "      <td>0.392523</td>\n",
              "      <td>0.266667</td>\n",
              "      <td>0.653925</td>\n",
              "      <td>0.025974</td>\n",
              "    </tr>\n",
              "    <tr>\n",
              "      <th>2012-07-13</th>\n",
              "      <td>0.194135</td>\n",
              "      <td>0.018001</td>\n",
              "      <td>0.028748</td>\n",
              "      <td>0.537383</td>\n",
              "      <td>0.683333</td>\n",
              "      <td>0.598272</td>\n",
              "      <td>0.127820</td>\n",
              "    </tr>\n",
              "    <tr>\n",
              "      <th>2013-07-08</th>\n",
              "      <td>0.591709</td>\n",
              "      <td>0.301328</td>\n",
              "      <td>0.035603</td>\n",
              "      <td>0.467290</td>\n",
              "      <td>0.700000</td>\n",
              "      <td>0.575864</td>\n",
              "      <td>0.179768</td>\n",
              "    </tr>\n",
              "    <tr>\n",
              "      <th>2014-09-25</th>\n",
              "      <td>1.000000</td>\n",
              "      <td>0.164866</td>\n",
              "      <td>0.050976</td>\n",
              "      <td>0.649533</td>\n",
              "      <td>0.650000</td>\n",
              "      <td>0.775630</td>\n",
              "      <td>0.109364</td>\n",
              "    </tr>\n",
              "    <tr>\n",
              "      <th>2017-05-29</th>\n",
              "      <td>0.130839</td>\n",
              "      <td>0.005532</td>\n",
              "      <td>0.003569</td>\n",
              "      <td>0.556075</td>\n",
              "      <td>0.816667</td>\n",
              "      <td>0.664616</td>\n",
              "      <td>0.151743</td>\n",
              "    </tr>\n",
              "    <tr>\n",
              "      <th>2015-02-09</th>\n",
              "      <td>0.708797</td>\n",
              "      <td>0.003562</td>\n",
              "      <td>0.005760</td>\n",
              "      <td>0.672897</td>\n",
              "      <td>0.616667</td>\n",
              "      <td>0.408612</td>\n",
              "      <td>0.082707</td>\n",
              "    </tr>\n",
              "    <tr>\n",
              "      <th>2013-09-24</th>\n",
              "      <td>1.000000</td>\n",
              "      <td>0.090695</td>\n",
              "      <td>0.085656</td>\n",
              "      <td>0.415888</td>\n",
              "      <td>0.666667</td>\n",
              "      <td>0.618776</td>\n",
              "      <td>0.127820</td>\n",
              "    </tr>\n",
              "    <tr>\n",
              "      <th>2011-12-08</th>\n",
              "      <td>0.896259</td>\n",
              "      <td>0.046909</td>\n",
              "      <td>0.064929</td>\n",
              "      <td>0.373832</td>\n",
              "      <td>0.566667</td>\n",
              "      <td>0.632542</td>\n",
              "      <td>0.103213</td>\n",
              "    </tr>\n",
              "    <tr>\n",
              "      <th>2012-10-22</th>\n",
              "      <td>0.605865</td>\n",
              "      <td>0.039773</td>\n",
              "      <td>0.010576</td>\n",
              "      <td>0.350467</td>\n",
              "      <td>0.683333</td>\n",
              "      <td>0.784271</td>\n",
              "      <td>0.103213</td>\n",
              "    </tr>\n",
              "  </tbody>\n",
              "</table>\n",
              "</div>"
            ],
            "text/plain": [
              "            present_storage_tmc  inflow_tmc  ...  humidity      wind\n",
              "date                                         ...                    \n",
              "2016-03-17             0.280485    0.003384  ...  0.490187  0.086124\n",
              "2017-12-12             0.598180    0.009189  ...  0.653925  0.025974\n",
              "2012-07-13             0.194135    0.018001  ...  0.598272  0.127820\n",
              "2013-07-08             0.591709    0.301328  ...  0.575864  0.179768\n",
              "2014-09-25             1.000000    0.164866  ...  0.775630  0.109364\n",
              "2017-05-29             0.130839    0.005532  ...  0.664616  0.151743\n",
              "2015-02-09             0.708797    0.003562  ...  0.408612  0.082707\n",
              "2013-09-24             1.000000    0.090695  ...  0.618776  0.127820\n",
              "2011-12-08             0.896259    0.046909  ...  0.632542  0.103213\n",
              "2012-10-22             0.605865    0.039773  ...  0.784271  0.103213\n",
              "\n",
              "[10 rows x 7 columns]"
            ]
          },
          "metadata": {
            "tags": []
          },
          "execution_count": 22
        }
      ]
    },
    {
      "cell_type": "code",
      "metadata": {
        "colab": {
          "base_uri": "https://localhost:8080/"
        },
        "id": "frdXuNOIkads",
        "outputId": "90f18a36-bc70-44e5-9fa8-515d8c73e125"
      },
      "source": [
        "train = train.dropna(axis = 0, how ='any')\n",
        "train.isna().sum()"
      ],
      "execution_count": null,
      "outputs": [
        {
          "output_type": "execute_result",
          "data": {
            "text/plain": [
              "present_storage_tmc    0\n",
              "inflow_tmc             0\n",
              "outflow_tmc            0\n",
              "max_temp               0\n",
              "visibility             0\n",
              "humidity               0\n",
              "wind                   0\n",
              "dtype: int64"
            ]
          },
          "metadata": {
            "tags": []
          },
          "execution_count": 23
        }
      ]
    },
    {
      "cell_type": "code",
      "metadata": {
        "colab": {
          "base_uri": "https://localhost:8080/"
        },
        "id": "VL8-XySDkejU",
        "outputId": "21584333-879f-4562-c941-a4edde78de66"
      },
      "source": [
        "tensor_structure = {\"X\": (range(-T + 1, 1), flist)}\n",
        "print(tensor_structure)\n",
        "ts_train_inp = TimeSeriesTensor(\n",
        "    dataset=train,\n",
        "    target=\"present_storage_tmc\",\n",
        "    H=HORIZON,\n",
        "    tensor_structure=tensor_structure,\n",
        "    freq=\"D\",\n",
        "    drop_incomplete=True,\n",
        ")\n",
        "back_ts_data = dt.datetime.strptime(valid_st_data_load, \"%Y-%m-%d %H:%M:%S\") - dt.timedelta(\n",
        "    days=T - 1\n",
        ")\n",
        "valid = ts_data_load.copy()[(ts_data_load.index >= back_ts_data) & (ts_data_load.index < test_st_data_load)][\n",
        "    flist\n",
        "]\n",
        "valid[flist] = X_scaler.transform(valid)\n",
        "valid_inputs = TimeSeriesTensor(valid, \"present_storage_tmc\", HORIZON, tensor_structure, freq='D')"
      ],
      "execution_count": null,
      "outputs": [
        {
          "output_type": "stream",
          "text": [
            "{'X': (range(-29, 1), ['present_storage_tmc', 'inflow_tmc', 'outflow_tmc', 'max_temp', 'visibility', 'humidity', 'wind'])}\n"
          ],
          "name": "stdout"
        }
      ]
    },
    {
      "cell_type": "code",
      "metadata": {
        "id": "2euBCSu7khjL"
      },
      "source": [
        "from tensorflow.keras.callbacks import EarlyStopping\n",
        "from tensorflow.keras.layers import GRU, Dense\n",
        "from tensorflow.keras.models import Model, Sequential"
      ],
      "execution_count": null,
      "outputs": []
    },
    {
      "cell_type": "code",
      "metadata": {
        "id": "udLW7DkZks7d"
      },
      "source": [
        "LATENT_DIM = T\n",
        "BATCH_SIZE = 32\n",
        "EPOCHS = (\n",
        "    100\n",
        ")"
      ],
      "execution_count": null,
      "outputs": []
    },
    {
      "cell_type": "code",
      "metadata": {
        "id": "_1gV0pknkuR9"
      },
      "source": [
        "model = Sequential()\n",
        "model.add(GRU(LATENT_DIM, return_sequences=True,input_shape=(T, features)))\n",
        "#model.add(GRU(LATENT_DIM, input_shape=(T, 3)))\n",
        "model.add(GRU(LATENT_DIM))\n",
        "model.add(Dense(HORIZON))"
      ],
      "execution_count": null,
      "outputs": []
    },
    {
      "cell_type": "code",
      "metadata": {
        "id": "TkcFGU31kwUE"
      },
      "source": [
        "model.compile(optimizer=\"adam\", loss=\"mse\")\n"
      ],
      "execution_count": null,
      "outputs": []
    },
    {
      "cell_type": "code",
      "metadata": {
        "colab": {
          "base_uri": "https://localhost:8080/"
        },
        "id": "93cQ3vtqkxoT",
        "outputId": "175b393a-6d86-4dd1-daca-13a92c29b392"
      },
      "source": [
        "model.summary()\n"
      ],
      "execution_count": null,
      "outputs": [
        {
          "output_type": "stream",
          "text": [
            "Model: \"sequential\"\n",
            "_________________________________________________________________\n",
            "Layer (type)                 Output Shape              Param #   \n",
            "=================================================================\n",
            "gru (GRU)                    (None, 30, 30)            3510      \n",
            "_________________________________________________________________\n",
            "gru_1 (GRU)                  (None, 30)                5580      \n",
            "_________________________________________________________________\n",
            "dense (Dense)                (None, 15)                465       \n",
            "=================================================================\n",
            "Total params: 9,555\n",
            "Trainable params: 9,555\n",
            "Non-trainable params: 0\n",
            "_________________________________________________________________\n"
          ],
          "name": "stdout"
        }
      ]
    },
    {
      "cell_type": "code",
      "metadata": {
        "id": "aE1aJd0Vky_R"
      },
      "source": [
        "earlystop = EarlyStopping(monitor=\"val_loss\", min_delta=0, patience=5)\n"
      ],
      "execution_count": null,
      "outputs": []
    },
    {
      "cell_type": "code",
      "metadata": {
        "colab": {
          "base_uri": "https://localhost:8080/"
        },
        "id": "UICkCrJNk1P2",
        "outputId": "f1d3f518-cb66-4b1c-e309-c8c3a502b041"
      },
      "source": [
        "model_history = model.fit(\n",
        "    ts_train_inp[\"X\"],\n",
        "    ts_train_inp[\"target\"],\n",
        "    batch_size=BATCH_SIZE,\n",
        "    epochs=EPOCHS,\n",
        "    validation_data=(valid_inputs[\"X\"], valid_inputs[\"target\"]),\n",
        "    callbacks=[earlystop],\n",
        "    verbose=1,\n",
        ")"
      ],
      "execution_count": null,
      "outputs": [
        {
          "output_type": "stream",
          "text": [
            "Epoch 1/100\n",
            "61/61 [==============================] - 6s 40ms/step - loss: 0.1132 - val_loss: 0.0312\n",
            "Epoch 2/100\n",
            "61/61 [==============================] - 2s 28ms/step - loss: 0.0110 - val_loss: 0.0066\n",
            "Epoch 3/100\n",
            "61/61 [==============================] - 2s 28ms/step - loss: 0.0040 - val_loss: 0.0056\n",
            "Epoch 4/100\n",
            "61/61 [==============================] - 2s 28ms/step - loss: 0.0032 - val_loss: 0.0053\n",
            "Epoch 5/100\n",
            "61/61 [==============================] - 2s 28ms/step - loss: 0.0030 - val_loss: 0.0048\n",
            "Epoch 6/100\n",
            "61/61 [==============================] - 2s 28ms/step - loss: 0.0029 - val_loss: 0.0049\n",
            "Epoch 7/100\n",
            "61/61 [==============================] - 2s 28ms/step - loss: 0.0030 - val_loss: 0.0046\n",
            "Epoch 8/100\n",
            "61/61 [==============================] - 2s 28ms/step - loss: 0.0028 - val_loss: 0.0045\n",
            "Epoch 9/100\n",
            "61/61 [==============================] - 2s 27ms/step - loss: 0.0029 - val_loss: 0.0051\n",
            "Epoch 10/100\n",
            "61/61 [==============================] - 2s 28ms/step - loss: 0.0029 - val_loss: 0.0044\n",
            "Epoch 11/100\n",
            "61/61 [==============================] - 2s 28ms/step - loss: 0.0027 - val_loss: 0.0051\n",
            "Epoch 12/100\n",
            "61/61 [==============================] - 2s 28ms/step - loss: 0.0027 - val_loss: 0.0045\n",
            "Epoch 13/100\n",
            "61/61 [==============================] - 2s 28ms/step - loss: 0.0026 - val_loss: 0.0043\n",
            "Epoch 14/100\n",
            "61/61 [==============================] - 2s 28ms/step - loss: 0.0027 - val_loss: 0.0043\n",
            "Epoch 15/100\n",
            "61/61 [==============================] - 2s 28ms/step - loss: 0.0025 - val_loss: 0.0043\n",
            "Epoch 16/100\n",
            "61/61 [==============================] - 2s 28ms/step - loss: 0.0027 - val_loss: 0.0046\n",
            "Epoch 17/100\n",
            "61/61 [==============================] - 2s 28ms/step - loss: 0.0026 - val_loss: 0.0043\n",
            "Epoch 18/100\n",
            "61/61 [==============================] - 2s 27ms/step - loss: 0.0027 - val_loss: 0.0045\n",
            "Epoch 19/100\n",
            "61/61 [==============================] - 2s 28ms/step - loss: 0.0026 - val_loss: 0.0044\n"
          ],
          "name": "stdout"
        }
      ]
    },
    {
      "cell_type": "code",
      "metadata": {
        "colab": {
          "base_uri": "https://localhost:8080/"
        },
        "id": "9PNS58HYpcxX",
        "outputId": "3fd7534b-2fd4-486d-c558-fd9685e5ae5c"
      },
      "source": [
        "model.save(\"30daysto15days\")"
      ],
      "execution_count": null,
      "outputs": [
        {
          "output_type": "stream",
          "text": [
            "WARNING:absl:Found untraced functions such as gru_cell_layer_call_fn, gru_cell_layer_call_and_return_conditional_losses, gru_cell_1_layer_call_fn, gru_cell_1_layer_call_and_return_conditional_losses, gru_cell_layer_call_fn while saving (showing 5 of 10). These functions will not be directly callable after loading.\n"
          ],
          "name": "stderr"
        },
        {
          "output_type": "stream",
          "text": [
            "INFO:tensorflow:Assets written to: 30daysto15days/assets\n"
          ],
          "name": "stdout"
        },
        {
          "output_type": "stream",
          "text": [
            "INFO:tensorflow:Assets written to: 30daysto15days/assets\n"
          ],
          "name": "stderr"
        }
      ]
    },
    {
      "cell_type": "code",
      "metadata": {
        "colab": {
          "base_uri": "https://localhost:8080/",
          "height": 295
        },
        "id": "D1N3y6VHk2ic",
        "outputId": "89f11a7c-5d36-4d71-d884-cef9762adc09"
      },
      "source": [
        "# summarize history for loss\n",
        "plt.plot(model_history.history['loss'])\n",
        "plt.plot(model_history.history['val_loss'])\n",
        "plt.title('model loss')\n",
        "plt.ylabel('loss')\n",
        "plt.xlabel('epoch')\n",
        "plt.legend(['train', 'val'], loc='upper left')\n",
        "plt.show()"
      ],
      "execution_count": null,
      "outputs": [
        {
          "output_type": "display_data",
          "data": {
            "image/png": "[encoded data removed]",
            "text/plain": [
              "<Figure size 432x288 with 1 Axes>"
            ]
          },
          "metadata": {
            "tags": [],
            "needs_background": "light"
          }
        }
      ]
    },
    {
      "cell_type": "code",
      "metadata": {
        "colab": {
          "base_uri": "https://localhost:8080/",
          "height": 295
        },
        "id": "1KqJU477k4g2",
        "outputId": "186783b7-8672-4608-92ab-16d5292a844c"
      },
      "source": [
        "# summarize history for loss\n",
        "plt.plot(model_history.history['loss'][3:])\n",
        "plt.plot(model_history.history['val_loss'][3:])\n",
        "plt.title('model loss')\n",
        "plt.ylabel('loss')\n",
        "plt.xlabel('epoch')\n",
        "plt.legend(['train', 'val'], loc='upper left')\n",
        "plt.show()"
      ],
      "execution_count": null,
      "outputs": [
        {
          "output_type": "display_data",
          "data": {
            "image/png": "[encoded data removed]",
            "text/plain": [
              "<Figure size 432x288 with 1 Axes>"
            ]
          },
          "metadata": {
            "tags": [],
            "needs_background": "light"
          }
        }
      ]
    },
    {
      "cell_type": "code",
      "metadata": {
        "id": "yWKaOFExlpY5"
      },
      "source": [
        "ts_data_test = ts_data_load.copy()[test_st_data_load:][flist]\n",
        "ts_data_test[flist] = X_scaler.transform(ts_data_test)\n",
        "ts_data_test_inputs = TimeSeriesTensor(ts_data_test, \"present_storage_tmc\", HORIZON, tensor_structure, freq='D')\n"
      ],
      "execution_count": null,
      "outputs": []
    },
    {
      "cell_type": "code",
      "metadata": {
        "colab": {
          "base_uri": "https://localhost:8080/"
        },
        "id": "xOI0r4uPmApo",
        "outputId": "80b3c660-6abd-45b0-a9dd-0769127e30ed"
      },
      "source": [
        "ts_data_test_inputs['X'].shape"
      ],
      "execution_count": null,
      "outputs": [
        {
          "output_type": "execute_result",
          "data": {
            "text/plain": [
              "(649, 30, 7)"
            ]
          },
          "metadata": {
            "tags": []
          },
          "execution_count": 37
        }
      ]
    },
    {
      "cell_type": "code",
      "metadata": {
        "id": "Fv7ivXW1njIF"
      },
      "source": [
        "def create_evaluation_df1(predictions, test_inputs, H, scaler):\n",
        "    \"\"\"Create a data frame for easy evaluation\"\"\"\n",
        "    eval_df = pd.DataFrame(\n",
        "        predictions, columns=[\"t+\" + str(t) for t in range(1, H + 1)]\n",
        "    )\n",
        "    \n",
        "    eval_df[\"timestamp\"] = test_inputs.dataframe.index\n",
        "    print(eval_df.shape, eval_df.head(2))\n",
        "\n",
        "    #eval_df = pd.melt(\n",
        "    #    eval_df, id_vars=\"timestamp\", value_name=\"prediction\", var_name=\"h\"\n",
        "    #)\n",
        "    values = ['t+'+str(i) for i in range(1, H+1)]\n",
        "    \n",
        "    eval_df = pd.melt(\n",
        "        eval_df, id_vars=\"timestamp\", value_vars=values, value_name=\"prediction\"\n",
        "    )\n",
        "    print(eval_df.shape, eval_df.head(2))\n",
        "    eval_df[\"actual\"] = np.transpose(test_inputs[\"target\"]).ravel()\n",
        "    eval_df[[\"prediction\", \"actual\"]] = scaler.inverse_transform(\n",
        "        eval_df[[\"prediction\", \"actual\"]]\n",
        "    )\n",
        "    return eval_df"
      ],
      "execution_count": null,
      "outputs": []
    },
    {
      "cell_type": "code",
      "metadata": {
        "colab": {
          "base_uri": "https://localhost:8080/",
          "height": 342
        },
        "id": "KwpRphbJnm-u",
        "outputId": "8c0745e7-ac4c-4a7e-ab07-a16c6d816465"
      },
      "source": [
        "ts_predictions = model.predict(ts_data_test_inputs[\"X\"])\n",
        "\n",
        "ev_ts_data = create_evaluation_df1(ts_predictions, ts_data_test_inputs, HORIZON, y_scaler)\n",
        "ev_ts_data.sample(5)"
      ],
      "execution_count": null,
      "outputs": [
        {
          "output_type": "stream",
          "text": [
            "(649, 16)         t+1       t+2       t+3  ...      t+14      t+15  timestamp\n",
            "0  0.218657  0.213530  0.226029  ...  0.242759  0.254688 2019-05-31\n",
            "1  0.220487  0.212425  0.223417  ...  0.240380  0.255062 2019-06-01\n",
            "\n",
            "[2 rows x 16 columns]\n",
            "(9735, 3)    timestamp variable  prediction\n",
            "0 2019-05-31      t+1    0.218657\n",
            "1 2019-06-01      t+1    0.220487\n"
          ],
          "name": "stdout"
        },
        {
          "output_type": "execute_result",
          "data": {
            "text/html": [
              "<div>\n",
              "<style scoped>\n",
              "    .dataframe tbody tr th:only-of-type {\n",
              "        vertical-align: middle;\n",
              "    }\n",
              "\n",
              "    .dataframe tbody tr th {\n",
              "        vertical-align: top;\n",
              "    }\n",
              "\n",
              "    .dataframe thead th {\n",
              "        text-align: right;\n",
              "    }\n",
              "</style>\n",
              "<table border=\"1\" class=\"dataframe\">\n",
              "  <thead>\n",
              "    <tr style=\"text-align: right;\">\n",
              "      <th></th>\n",
              "      <th>timestamp</th>\n",
              "      <th>variable</th>\n",
              "      <th>prediction</th>\n",
              "      <th>actual</th>\n",
              "    </tr>\n",
              "  </thead>\n",
              "  <tbody>\n",
              "    <tr>\n",
              "      <th>9047</th>\n",
              "      <td>2021-06-03</td>\n",
              "      <td>t+14</td>\n",
              "      <td>16.234364</td>\n",
              "      <td>12.885286</td>\n",
              "    </tr>\n",
              "    <tr>\n",
              "      <th>87</th>\n",
              "      <td>2019-08-26</td>\n",
              "      <td>t+1</td>\n",
              "      <td>46.375769</td>\n",
              "      <td>49.450000</td>\n",
              "    </tr>\n",
              "    <tr>\n",
              "      <th>6099</th>\n",
              "      <td>2020-03-29</td>\n",
              "      <td>t+10</td>\n",
              "      <td>24.421289</td>\n",
              "      <td>26.020000</td>\n",
              "    </tr>\n",
              "    <tr>\n",
              "      <th>429</th>\n",
              "      <td>2020-12-04</td>\n",
              "      <td>t+1</td>\n",
              "      <td>42.825067</td>\n",
              "      <td>43.430000</td>\n",
              "    </tr>\n",
              "    <tr>\n",
              "      <th>7879</th>\n",
              "      <td>2019-08-30</td>\n",
              "      <td>t+13</td>\n",
              "      <td>46.911444</td>\n",
              "      <td>49.450000</td>\n",
              "    </tr>\n",
              "  </tbody>\n",
              "</table>\n",
              "</div>"
            ],
            "text/plain": [
              "      timestamp variable  prediction     actual\n",
              "9047 2021-06-03     t+14   16.234364  12.885286\n",
              "87   2019-08-26      t+1   46.375769  49.450000\n",
              "6099 2020-03-29     t+10   24.421289  26.020000\n",
              "429  2020-12-04      t+1   42.825067  43.430000\n",
              "7879 2019-08-30     t+13   46.911444  49.450000"
            ]
          },
          "metadata": {
            "tags": []
          },
          "execution_count": 39
        }
      ]
    },
    {
      "cell_type": "code",
      "metadata": {
        "id": "J__g5N4VaQBP",
        "colab": {
          "base_uri": "https://localhost:8080/"
        },
        "outputId": "4feedea6-ac3c-43b9-d9cc-28cc5a037877"
      },
      "source": [
        "ts_predictions.shape"
      ],
      "execution_count": null,
      "outputs": [
        {
          "output_type": "execute_result",
          "data": {
            "text/plain": [
              "(649, 15)"
            ]
          },
          "metadata": {
            "tags": []
          },
          "execution_count": 40
        }
      ]
    },
    {
      "cell_type": "code",
      "metadata": {
        "colab": {
          "base_uri": "https://localhost:8080/",
          "height": 392
        },
        "id": "JLjrnZUln0is",
        "outputId": "030bc62b-d815-4a43-f3dc-159e100f715e"
      },
      "source": [
        "ev_ts_data[ev_ts_data.variable=='t+1'].plot(\n",
        "    x=\"timestamp\", y=[\"prediction\", \"actual\"], style=[\"r\", \"b\"], figsize=(10, 6)\n",
        ")"
      ],
      "execution_count": null,
      "outputs": [
        {
          "output_type": "execute_result",
          "data": {
            "text/plain": [
              "<matplotlib.axes._subplots.AxesSubplot at 0x7f777036e590>"
            ]
          },
          "metadata": {
            "tags": []
          },
          "execution_count": 41
        },
        {
          "output_type": "display_data",
          "data": {
            "image/png": "[encoded data removed]",
            "text/plain": [
              "<Figure size 720x432 with 1 Axes>"
            ]
          },
          "metadata": {
            "tags": [],
            "needs_background": "light"
          }
        }
      ]
    },
    {
      "cell_type": "code",
      "metadata": {
        "colab": {
          "base_uri": "https://localhost:8080/"
        },
        "id": "bzDzi75ZntIE",
        "outputId": "2ae0c9e4-4c68-4b30-f5aa-374ff2f6ffdc"
      },
      "source": [
        "\n",
        "mape(ev_ts_data[\"prediction\"], ev_ts_data[\"actual\"])"
      ],
      "execution_count": null,
      "outputs": [
        {
          "output_type": "execute_result",
          "data": {
            "text/plain": [
              "0.057419848066487235"
            ]
          },
          "metadata": {
            "tags": []
          },
          "execution_count": 42
        }
      ]
    },
    {
      "cell_type": "code",
      "metadata": {
        "id": "WzlD3iZhn5bA"
      },
      "source": [
        "ev_ts_data.to_csv(\"forecast_withdatecolumns.csv\")"
      ],
      "execution_count": null,
      "outputs": []
    },
    {
      "cell_type": "code",
      "metadata": {
        "id": "JDj4z7gwoEgu"
      },
      "source": [
        "import datetime\n",
        "forecast_dates = ev_ts_data.apply(\n",
        "         lambda row: row.timestamp + datetime.timedelta(days=int(row.variable[2:])),\n",
        "         axis=1)\n",
        "ev_ts_data[\"date\"] = forecast_dates\n"
      ],
      "execution_count": null,
      "outputs": []
    },
    {
      "cell_type": "code",
      "metadata": {
        "colab": {
          "base_uri": "https://localhost:8080/",
          "height": 111
        },
        "id": "J0G5S-NMo7L3",
        "outputId": "a926afbf-c3bf-4ded-c1ee-447772cae024"
      },
      "source": [
        "ev_ts_data.head(2)"
      ],
      "execution_count": null,
      "outputs": [
        {
          "output_type": "execute_result",
          "data": {
            "text/html": [
              "<div>\n",
              "<style scoped>\n",
              "    .dataframe tbody tr th:only-of-type {\n",
              "        vertical-align: middle;\n",
              "    }\n",
              "\n",
              "    .dataframe tbody tr th {\n",
              "        vertical-align: top;\n",
              "    }\n",
              "\n",
              "    .dataframe thead th {\n",
              "        text-align: right;\n",
              "    }\n",
              "</style>\n",
              "<table border=\"1\" class=\"dataframe\">\n",
              "  <thead>\n",
              "    <tr style=\"text-align: right;\">\n",
              "      <th></th>\n",
              "      <th>timestamp</th>\n",
              "      <th>variable</th>\n",
              "      <th>prediction</th>\n",
              "      <th>actual</th>\n",
              "      <th>date</th>\n",
              "    </tr>\n",
              "  </thead>\n",
              "  <tbody>\n",
              "    <tr>\n",
              "      <th>0</th>\n",
              "      <td>2019-05-31</td>\n",
              "      <td>t+1</td>\n",
              "      <td>10.81257</td>\n",
              "      <td>11.25</td>\n",
              "      <td>2019-06-01</td>\n",
              "    </tr>\n",
              "    <tr>\n",
              "      <th>1</th>\n",
              "      <td>2019-06-01</td>\n",
              "      <td>t+1</td>\n",
              "      <td>10.90306</td>\n",
              "      <td>11.22</td>\n",
              "      <td>2019-06-02</td>\n",
              "    </tr>\n",
              "  </tbody>\n",
              "</table>\n",
              "</div>"
            ],
            "text/plain": [
              "   timestamp variable  prediction  actual       date\n",
              "0 2019-05-31      t+1    10.81257   11.25 2019-06-01\n",
              "1 2019-06-01      t+1    10.90306   11.22 2019-06-02"
            ]
          },
          "metadata": {
            "tags": []
          },
          "execution_count": 45
        }
      ]
    },
    {
      "cell_type": "code",
      "metadata": {
        "colab": {
          "base_uri": "https://localhost:8080/"
        },
        "id": "mAcLwsFPo9FU",
        "outputId": "43c5d3ac-3494-4676-8e54-6dc833329ef6"
      },
      "source": [
        "from google.colab import drive\n",
        "drive.mount('/content/gdrive')\n"
      ],
      "execution_count": null,
      "outputs": [
        {
          "output_type": "stream",
          "text": [
            "Mounted at /content/gdrive\n"
          ],
          "name": "stdout"
        }
      ]
    },
    {
      "cell_type": "code",
      "metadata": {
        "colab": {
          "base_uri": "https://localhost:8080/",
          "height": 143
        },
        "id": "KrBQf1xzszoV",
        "outputId": "ed0a59f4-33c9-4162-fe82-6409750c21f5"
      },
      "source": [
        "#finetuning\n",
        "T = 30\n",
        "HORIZON = 15\n",
        "ftrain = ts_data_load.copy()[flist]\n",
        "\n",
        "X_scaler = MinMaxScaler()\n",
        "ftrain[flist] = X_scaler.fit_transform(ftrain)\n",
        "ftrain.sample(2)"
      ],
      "execution_count": null,
      "outputs": [
        {
          "output_type": "execute_result",
          "data": {
            "text/html": [
              "<div>\n",
              "<style scoped>\n",
              "    .dataframe tbody tr th:only-of-type {\n",
              "        vertical-align: middle;\n",
              "    }\n",
              "\n",
              "    .dataframe tbody tr th {\n",
              "        vertical-align: top;\n",
              "    }\n",
              "\n",
              "    .dataframe thead th {\n",
              "        text-align: right;\n",
              "    }\n",
              "</style>\n",
              "<table border=\"1\" class=\"dataframe\">\n",
              "  <thead>\n",
              "    <tr style=\"text-align: right;\">\n",
              "      <th></th>\n",
              "      <th>present_storage_tmc</th>\n",
              "      <th>inflow_tmc</th>\n",
              "      <th>outflow_tmc</th>\n",
              "      <th>max_temp</th>\n",
              "      <th>visibility</th>\n",
              "      <th>humidity</th>\n",
              "      <th>wind</th>\n",
              "    </tr>\n",
              "    <tr>\n",
              "      <th>date</th>\n",
              "      <th></th>\n",
              "      <th></th>\n",
              "      <th></th>\n",
              "      <th></th>\n",
              "      <th></th>\n",
              "      <th></th>\n",
              "      <th></th>\n",
              "    </tr>\n",
              "  </thead>\n",
              "  <tbody>\n",
              "    <tr>\n",
              "      <th>2011-11-20</th>\n",
              "      <td>0.950455</td>\n",
              "      <td>0.019324</td>\n",
              "      <td>0.045612</td>\n",
              "      <td>0.364486</td>\n",
              "      <td>0.204762</td>\n",
              "      <td>0.538265</td>\n",
              "      <td>0.103848</td>\n",
              "    </tr>\n",
              "    <tr>\n",
              "      <th>2016-04-07</th>\n",
              "      <td>0.242063</td>\n",
              "      <td>0.000828</td>\n",
              "      <td>0.005523</td>\n",
              "      <td>0.747664</td>\n",
              "      <td>0.219048</td>\n",
              "      <td>0.379100</td>\n",
              "      <td>0.067475</td>\n",
              "    </tr>\n",
              "  </tbody>\n",
              "</table>\n",
              "</div>"
            ],
            "text/plain": [
              "            present_storage_tmc  inflow_tmc  ...  humidity      wind\n",
              "date                                         ...                    \n",
              "2011-11-20             0.950455    0.019324  ...  0.538265  0.103848\n",
              "2016-04-07             0.242063    0.000828  ...  0.379100  0.067475\n",
              "\n",
              "[2 rows x 7 columns]"
            ]
          },
          "metadata": {
            "tags": []
          },
          "execution_count": 47
        }
      ]
    },
    {
      "cell_type": "code",
      "metadata": {
        "colab": {
          "base_uri": "https://localhost:8080/",
          "height": 111
        },
        "id": "d08fmXBJyoFk",
        "outputId": "29b31768-0240-45f0-97f8-d420f804dc02"
      },
      "source": [
        "ftrain.last('1D')"
      ],
      "execution_count": null,
      "outputs": [
        {
          "output_type": "execute_result",
          "data": {
            "text/html": [
              "<div>\n",
              "<style scoped>\n",
              "    .dataframe tbody tr th:only-of-type {\n",
              "        vertical-align: middle;\n",
              "    }\n",
              "\n",
              "    .dataframe tbody tr th {\n",
              "        vertical-align: top;\n",
              "    }\n",
              "\n",
              "    .dataframe thead th {\n",
              "        text-align: right;\n",
              "    }\n",
              "</style>\n",
              "<table border=\"1\" class=\"dataframe\">\n",
              "  <thead>\n",
              "    <tr style=\"text-align: right;\">\n",
              "      <th></th>\n",
              "      <th>present_storage_tmc</th>\n",
              "      <th>inflow_tmc</th>\n",
              "      <th>outflow_tmc</th>\n",
              "      <th>max_temp</th>\n",
              "      <th>visibility</th>\n",
              "      <th>humidity</th>\n",
              "      <th>wind</th>\n",
              "    </tr>\n",
              "    <tr>\n",
              "      <th>date</th>\n",
              "      <th></th>\n",
              "      <th></th>\n",
              "      <th></th>\n",
              "      <th></th>\n",
              "      <th></th>\n",
              "      <th></th>\n",
              "      <th></th>\n",
              "    </tr>\n",
              "  </thead>\n",
              "  <tbody>\n",
              "    <tr>\n",
              "      <th>2021-07-26</th>\n",
              "      <td>0.488493</td>\n",
              "      <td>0.053957</td>\n",
              "      <td>0.015142</td>\n",
              "      <td>0.35514</td>\n",
              "      <td>1.0</td>\n",
              "      <td>0.650149</td>\n",
              "      <td>0.129151</td>\n",
              "    </tr>\n",
              "  </tbody>\n",
              "</table>\n",
              "</div>"
            ],
            "text/plain": [
              "            present_storage_tmc  inflow_tmc  ...  humidity      wind\n",
              "date                                         ...                    \n",
              "2021-07-26             0.488493    0.053957  ...  0.650149  0.129151\n",
              "\n",
              "[1 rows x 7 columns]"
            ]
          },
          "metadata": {
            "tags": []
          },
          "execution_count": 46
        }
      ]
    },
    {
      "cell_type": "code",
      "metadata": {
        "id": "iQ4FGtPBwmM3"
      },
      "source": [
        "tensor_structure = {\"X\": (range(-T + 1, 1), flist)}\n",
        "\n",
        "ts_train_inp = TimeSeriesTensor(\n",
        "    dataset=ftrain,\n",
        "    target=\"present_storage_tmc\",\n",
        "    H=HORIZON,\n",
        "    tensor_structure=tensor_structure,\n",
        "    freq=\"D\",\n",
        "    drop_incomplete=True,\n",
        ")\n",
        "#back_ts_data = dt.datetime.strptime(date.today(), \"%Y-%m-%d %H:%M:%S\") - dt.timedelta(\n",
        "#    days=T - 1\n",
        "#)\n"
      ],
      "execution_count": null,
      "outputs": []
    },
    {
      "cell_type": "code",
      "metadata": {
        "colab": {
          "base_uri": "https://localhost:8080/"
        },
        "id": "vFlenigtwHr9",
        "outputId": "aacce349-6919-4d1d-dcac-fff87bdde716"
      },
      "source": [
        "model_history = model.fit(\n",
        "    ts_train_inp[\"X\"],\n",
        "    ts_train_inp[\"target\"],\n",
        "    batch_size=BATCH_SIZE,\n",
        "    epochs=20,\n",
        "    #validation_data=(valid_inputs[\"X\"], valid_inputs[\"target\"]),\n",
        "    #callbacks=[earlystop],\n",
        "    verbose=1,\n",
        ")"
      ],
      "execution_count": null,
      "outputs": [
        {
          "output_type": "stream",
          "text": [
            "Epoch 1/20\n",
            "99/99 [==============================] - 3s 27ms/step - loss: 0.0035\n",
            "Epoch 2/20\n",
            "99/99 [==============================] - 3s 27ms/step - loss: 0.0033\n",
            "Epoch 3/20\n",
            "99/99 [==============================] - 3s 27ms/step - loss: 0.0033\n",
            "Epoch 4/20\n",
            "99/99 [==============================] - 3s 26ms/step - loss: 0.0032\n",
            "Epoch 5/20\n",
            "99/99 [==============================] - 3s 26ms/step - loss: 0.0032\n",
            "Epoch 6/20\n",
            "99/99 [==============================] - 3s 27ms/step - loss: 0.0031\n",
            "Epoch 7/20\n",
            "99/99 [==============================] - 3s 27ms/step - loss: 0.0031\n",
            "Epoch 8/20\n",
            "99/99 [==============================] - 3s 27ms/step - loss: 0.0030\n",
            "Epoch 9/20\n",
            "99/99 [==============================] - 3s 27ms/step - loss: 0.0030\n",
            "Epoch 10/20\n",
            "99/99 [==============================] - 3s 27ms/step - loss: 0.0030\n",
            "Epoch 11/20\n",
            "99/99 [==============================] - 3s 27ms/step - loss: 0.0030\n",
            "Epoch 12/20\n",
            "99/99 [==============================] - 3s 27ms/step - loss: 0.0030\n",
            "Epoch 13/20\n",
            "99/99 [==============================] - 3s 27ms/step - loss: 0.0030\n",
            "Epoch 14/20\n",
            "99/99 [==============================] - 3s 27ms/step - loss: 0.0029\n",
            "Epoch 15/20\n",
            "99/99 [==============================] - 3s 27ms/step - loss: 0.0029\n",
            "Epoch 16/20\n",
            "99/99 [==============================] - 3s 27ms/step - loss: 0.0029\n",
            "Epoch 17/20\n",
            "99/99 [==============================] - 3s 27ms/step - loss: 0.0029\n",
            "Epoch 18/20\n",
            "99/99 [==============================] - 3s 26ms/step - loss: 0.0029\n",
            "Epoch 19/20\n",
            "99/99 [==============================] - 3s 27ms/step - loss: 0.0028\n",
            "Epoch 20/20\n",
            "99/99 [==============================] - 3s 27ms/step - loss: 0.0028\n"
          ],
          "name": "stdout"
        }
      ]
    },
    {
      "cell_type": "code",
      "metadata": {
        "colab": {
          "base_uri": "https://localhost:8080/",
          "height": 342
        },
        "id": "7s6wXrB90d89",
        "outputId": "6f07bed2-4cbe-4bf2-a170-85f80a9f261a"
      },
      "source": [
        "ts_predictions = model.predict(ts_train_inp[\"X\"])\n",
        "\n",
        "ev_all_data = create_evaluation_df1(ts_predictions, ts_train_inp, HORIZON, y_scaler)\n",
        "ev_all_data.sample(5)"
      ],
      "execution_count": null,
      "outputs": [
        {
          "output_type": "stream",
          "text": [
            "(3144, 16)         t+1       t+2       t+3  ...      t+14      t+15  timestamp\n",
            "0  0.822087  0.824128  0.806362  ...  0.763193  0.752392 2011-01-29\n",
            "1  0.817234  0.818767  0.801235  ...  0.760760  0.750190 2011-01-30\n",
            "\n",
            "[2 rows x 16 columns]\n",
            "(47160, 3)    timestamp variable  prediction\n",
            "0 2011-01-29      t+1    0.822087\n",
            "1 2011-01-30      t+1    0.817234\n"
          ],
          "name": "stdout"
        },
        {
          "output_type": "execute_result",
          "data": {
            "text/html": [
              "<div>\n",
              "<style scoped>\n",
              "    .dataframe tbody tr th:only-of-type {\n",
              "        vertical-align: middle;\n",
              "    }\n",
              "\n",
              "    .dataframe tbody tr th {\n",
              "        vertical-align: top;\n",
              "    }\n",
              "\n",
              "    .dataframe thead th {\n",
              "        text-align: right;\n",
              "    }\n",
              "</style>\n",
              "<table border=\"1\" class=\"dataframe\">\n",
              "  <thead>\n",
              "    <tr style=\"text-align: right;\">\n",
              "      <th></th>\n",
              "      <th>timestamp</th>\n",
              "      <th>variable</th>\n",
              "      <th>prediction</th>\n",
              "      <th>actual</th>\n",
              "    </tr>\n",
              "  </thead>\n",
              "  <tbody>\n",
              "    <tr>\n",
              "      <th>25105</th>\n",
              "      <td>2021-05-26</td>\n",
              "      <td>t+8</td>\n",
              "      <td>14.605688</td>\n",
              "      <td>14.580</td>\n",
              "    </tr>\n",
              "    <tr>\n",
              "      <th>18842</th>\n",
              "      <td>2021-06-20</td>\n",
              "      <td>t+6</td>\n",
              "      <td>17.850588</td>\n",
              "      <td>19.431</td>\n",
              "    </tr>\n",
              "    <tr>\n",
              "      <th>41479</th>\n",
              "      <td>2014-01-14</td>\n",
              "      <td>t+14</td>\n",
              "      <td>33.927642</td>\n",
              "      <td>34.120</td>\n",
              "    </tr>\n",
              "    <tr>\n",
              "      <th>5194</th>\n",
              "      <td>2018-03-12</td>\n",
              "      <td>t+2</td>\n",
              "      <td>13.348566</td>\n",
              "      <td>13.340</td>\n",
              "    </tr>\n",
              "    <tr>\n",
              "      <th>34361</th>\n",
              "      <td>2020-12-01</td>\n",
              "      <td>t+11</td>\n",
              "      <td>41.581798</td>\n",
              "      <td>43.040</td>\n",
              "    </tr>\n",
              "  </tbody>\n",
              "</table>\n",
              "</div>"
            ],
            "text/plain": [
              "       timestamp variable  prediction  actual\n",
              "25105 2021-05-26      t+8   14.605688  14.580\n",
              "18842 2021-06-20      t+6   17.850588  19.431\n",
              "41479 2014-01-14     t+14   33.927642  34.120\n",
              "5194  2018-03-12      t+2   13.348566  13.340\n",
              "34361 2020-12-01     t+11   41.581798  43.040"
            ]
          },
          "metadata": {
            "tags": []
          },
          "execution_count": 50
        }
      ]
    },
    {
      "cell_type": "code",
      "metadata": {
        "colab": {
          "base_uri": "https://localhost:8080/"
        },
        "id": "E5QJYJZeLl0K",
        "outputId": "3f3c2734-4edb-46fb-aee1-c6f8ddc5c807"
      },
      "source": [
        "model.save(\"30daysto15days\")"
      ],
      "execution_count": null,
      "outputs": [
        {
          "output_type": "stream",
          "text": [
            "WARNING:absl:Found untraced functions such as gru_cell_layer_call_fn, gru_cell_layer_call_and_return_conditional_losses, gru_cell_1_layer_call_fn, gru_cell_1_layer_call_and_return_conditional_losses, gru_cell_layer_call_fn while saving (showing 5 of 10). These functions will not be directly callable after loading.\n"
          ],
          "name": "stderr"
        },
        {
          "output_type": "stream",
          "text": [
            "INFO:tensorflow:Assets written to: 30daysto15days/assets\n"
          ],
          "name": "stdout"
        },
        {
          "output_type": "stream",
          "text": [
            "INFO:tensorflow:Assets written to: 30daysto15days/assets\n"
          ],
          "name": "stderr"
        }
      ]
    },
    {
      "cell_type": "code",
      "metadata": {
        "id": "5bU0HzylqUI-"
      },
      "source": [
        "cp -r '/content/30daysto15days/' '/content/gdrive/My Drive/Wave2web/'"
      ],
      "execution_count": null,
      "outputs": []
    },
    {
      "cell_type": "code",
      "metadata": {
        "colab": {
          "base_uri": "https://localhost:8080/",
          "height": 384
        },
        "id": "x2PLV5gE1Jce",
        "outputId": "4dcc3553-2883-4261-c91c-91ea3e6f0cb9"
      },
      "source": [
        "ev_all_data[ev_all_data.variable=='t+1'].plot(\n",
        "    x=\"timestamp\", y=[\"prediction\", \"actual\"], style=[\"r\", \"b\"], figsize=(10, 6)\n",
        ")"
      ],
      "execution_count": null,
      "outputs": [
        {
          "output_type": "execute_result",
          "data": {
            "text/plain": [
              "<matplotlib.axes._subplots.AxesSubplot at 0x7f7771e2df50>"
            ]
          },
          "metadata": {
            "tags": []
          },
          "execution_count": 53
        },
        {
          "output_type": "display_data",
          "data": {
            "image/png": "[encoded data removed]",
            "text/plain": [
              "<Figure size 720x432 with 1 Axes>"
            ]
          },
          "metadata": {
            "tags": [],
            "needs_background": "light"
          }
        }
      ]
    },
    {
      "cell_type": "code",
      "metadata": {
        "id": "dQ4twFMG1RAG"
      },
      "source": [
        "ximport datetime\n",
        "forecast_dates = ev_all_data.apply(\n",
        "         lambda row: row.timestamp + datetime.timedelta(days=int(row.variable[2:])),\n",
        "         axis=1)\n",
        "ev_all_data[\"date\"] = forecast_dates\n"
      ],
      "execution_count": null,
      "outputs": []
    },
    {
      "cell_type": "code",
      "metadata": {
        "colab": {
          "base_uri": "https://localhost:8080/",
          "height": 672
        },
        "id": "nZ9dQ2YR3k5s",
        "outputId": "d95619cb-edf4-44ce-d13d-63876c675766"
      },
      "source": [
        "ev_all_data.sample(20)"
      ],
      "execution_count": null,
      "outputs": [
        {
          "output_type": "execute_result",
          "data": {
            "text/html": [
              "<div>\n",
              "<style scoped>\n",
              "    .dataframe tbody tr th:only-of-type {\n",
              "        vertical-align: middle;\n",
              "    }\n",
              "\n",
              "    .dataframe tbody tr th {\n",
              "        vertical-align: top;\n",
              "    }\n",
              "\n",
              "    .dataframe thead th {\n",
              "        text-align: right;\n",
              "    }\n",
              "</style>\n",
              "<table border=\"1\" class=\"dataframe\">\n",
              "  <thead>\n",
              "    <tr style=\"text-align: right;\">\n",
              "      <th></th>\n",
              "      <th>timestamp</th>\n",
              "      <th>variable</th>\n",
              "      <th>prediction</th>\n",
              "      <th>actual</th>\n",
              "      <th>date</th>\n",
              "    </tr>\n",
              "  </thead>\n",
              "  <tbody>\n",
              "    <tr>\n",
              "      <th>72708</th>\n",
              "      <td>2021-01-08</td>\n",
              "      <td>t+26</td>\n",
              "      <td>37.763987</td>\n",
              "      <td>37.237</td>\n",
              "      <td>2021-02-03</td>\n",
              "    </tr>\n",
              "    <tr>\n",
              "      <th>42547</th>\n",
              "      <td>2014-08-08</td>\n",
              "      <td>t+16</td>\n",
              "      <td>50.640675</td>\n",
              "      <td>48.250</td>\n",
              "      <td>2014-08-24</td>\n",
              "    </tr>\n",
              "    <tr>\n",
              "      <th>74546</th>\n",
              "      <td>2017-10-17</td>\n",
              "      <td>t+27</td>\n",
              "      <td>31.257775</td>\n",
              "      <td>33.310</td>\n",
              "      <td>2017-11-13</td>\n",
              "    </tr>\n",
              "    <tr>\n",
              "      <th>14896</th>\n",
              "      <td>2015-08-22</td>\n",
              "      <td>t+6</td>\n",
              "      <td>29.769914</td>\n",
              "      <td>26.920</td>\n",
              "      <td>2015-08-28</td>\n",
              "    </tr>\n",
              "    <tr>\n",
              "      <th>50776</th>\n",
              "      <td>2012-10-07</td>\n",
              "      <td>t+19</td>\n",
              "      <td>27.683343</td>\n",
              "      <td>30.070</td>\n",
              "      <td>2012-10-26</td>\n",
              "    </tr>\n",
              "    <tr>\n",
              "      <th>22522</th>\n",
              "      <td>2011-06-06</td>\n",
              "      <td>t+9</td>\n",
              "      <td>18.153354</td>\n",
              "      <td>19.830</td>\n",
              "      <td>2011-06-15</td>\n",
              "    </tr>\n",
              "    <tr>\n",
              "      <th>36484</th>\n",
              "      <td>2011-04-14</td>\n",
              "      <td>t+14</td>\n",
              "      <td>21.806799</td>\n",
              "      <td>25.040</td>\n",
              "      <td>2011-04-28</td>\n",
              "    </tr>\n",
              "    <tr>\n",
              "      <th>46172</th>\n",
              "      <td>2016-11-07</td>\n",
              "      <td>t+17</td>\n",
              "      <td>9.020504</td>\n",
              "      <td>9.910</td>\n",
              "      <td>2016-11-24</td>\n",
              "    </tr>\n",
              "    <tr>\n",
              "      <th>71319</th>\n",
              "      <td>2016-08-19</td>\n",
              "      <td>t+26</td>\n",
              "      <td>15.588709</td>\n",
              "      <td>14.640</td>\n",
              "      <td>2016-09-14</td>\n",
              "    </tr>\n",
              "    <tr>\n",
              "      <th>11951</th>\n",
              "      <td>2015-04-02</td>\n",
              "      <td>t+5</td>\n",
              "      <td>19.603572</td>\n",
              "      <td>19.720</td>\n",
              "      <td>2015-04-07</td>\n",
              "    </tr>\n",
              "    <tr>\n",
              "      <th>40359</th>\n",
              "      <td>2016-04-14</td>\n",
              "      <td>t+15</td>\n",
              "      <td>10.198202</td>\n",
              "      <td>10.900</td>\n",
              "      <td>2016-04-29</td>\n",
              "    </tr>\n",
              "    <tr>\n",
              "      <th>4491</th>\n",
              "      <td>2017-11-06</td>\n",
              "      <td>t+2</td>\n",
              "      <td>33.269456</td>\n",
              "      <td>32.720</td>\n",
              "      <td>2017-11-08</td>\n",
              "    </tr>\n",
              "    <tr>\n",
              "      <th>23129</th>\n",
              "      <td>2015-02-27</td>\n",
              "      <td>t+9</td>\n",
              "      <td>27.187249</td>\n",
              "      <td>27.490</td>\n",
              "      <td>2015-03-08</td>\n",
              "    </tr>\n",
              "    <tr>\n",
              "      <th>11019</th>\n",
              "      <td>2020-12-16</td>\n",
              "      <td>t+4</td>\n",
              "      <td>43.775959</td>\n",
              "      <td>42.554</td>\n",
              "      <td>2020-12-20</td>\n",
              "    </tr>\n",
              "    <tr>\n",
              "      <th>73982</th>\n",
              "      <td>2016-04-01</td>\n",
              "      <td>t+27</td>\n",
              "      <td>10.446003</td>\n",
              "      <td>10.920</td>\n",
              "      <td>2016-04-28</td>\n",
              "    </tr>\n",
              "    <tr>\n",
              "      <th>154</th>\n",
              "      <td>2011-08-01</td>\n",
              "      <td>t+1</td>\n",
              "      <td>39.332631</td>\n",
              "      <td>40.090</td>\n",
              "      <td>2011-08-02</td>\n",
              "    </tr>\n",
              "    <tr>\n",
              "      <th>36426</th>\n",
              "      <td>2021-06-14</td>\n",
              "      <td>t+13</td>\n",
              "      <td>16.611417</td>\n",
              "      <td>19.431</td>\n",
              "      <td>2021-06-27</td>\n",
              "    </tr>\n",
              "    <tr>\n",
              "      <th>66758</th>\n",
              "      <td>2019-06-30</td>\n",
              "      <td>t+24</td>\n",
              "      <td>17.805128</td>\n",
              "      <td>14.720</td>\n",
              "      <td>2019-07-24</td>\n",
              "    </tr>\n",
              "    <tr>\n",
              "      <th>48639</th>\n",
              "      <td>2015-12-07</td>\n",
              "      <td>t+18</td>\n",
              "      <td>27.643824</td>\n",
              "      <td>28.570</td>\n",
              "      <td>2015-12-25</td>\n",
              "    </tr>\n",
              "    <tr>\n",
              "      <th>34962</th>\n",
              "      <td>2016-11-09</td>\n",
              "      <td>t+13</td>\n",
              "      <td>10.154323</td>\n",
              "      <td>9.830</td>\n",
              "      <td>2016-11-22</td>\n",
              "    </tr>\n",
              "  </tbody>\n",
              "</table>\n",
              "</div>"
            ],
            "text/plain": [
              "       timestamp variable  prediction  actual       date\n",
              "72708 2021-01-08     t+26   37.763987  37.237 2021-02-03\n",
              "42547 2014-08-08     t+16   50.640675  48.250 2014-08-24\n",
              "74546 2017-10-17     t+27   31.257775  33.310 2017-11-13\n",
              "14896 2015-08-22      t+6   29.769914  26.920 2015-08-28\n",
              "50776 2012-10-07     t+19   27.683343  30.070 2012-10-26\n",
              "22522 2011-06-06      t+9   18.153354  19.830 2011-06-15\n",
              "36484 2011-04-14     t+14   21.806799  25.040 2011-04-28\n",
              "46172 2016-11-07     t+17    9.020504   9.910 2016-11-24\n",
              "71319 2016-08-19     t+26   15.588709  14.640 2016-09-14\n",
              "11951 2015-04-02      t+5   19.603572  19.720 2015-04-07\n",
              "40359 2016-04-14     t+15   10.198202  10.900 2016-04-29\n",
              "4491  2017-11-06      t+2   33.269456  32.720 2017-11-08\n",
              "23129 2015-02-27      t+9   27.187249  27.490 2015-03-08\n",
              "11019 2020-12-16      t+4   43.775959  42.554 2020-12-20\n",
              "73982 2016-04-01     t+27   10.446003  10.920 2016-04-28\n",
              "154   2011-08-01      t+1   39.332631  40.090 2011-08-02\n",
              "36426 2021-06-14     t+13   16.611417  19.431 2021-06-27\n",
              "66758 2019-06-30     t+24   17.805128  14.720 2019-07-24\n",
              "48639 2015-12-07     t+18   27.643824  28.570 2015-12-25\n",
              "34962 2016-11-09     t+13   10.154323   9.830 2016-11-22"
            ]
          },
          "metadata": {
            "tags": []
          },
          "execution_count": 55
        }
      ]
    },
    {
      "cell_type": "code",
      "metadata": {
        "id": "HrJutaAv2PNF"
      },
      "source": [
        "ev_all_data.to_csv(\"predictions.csv\")"
      ],
      "execution_count": null,
      "outputs": []
    },
    {
      "cell_type": "code",
      "metadata": {
        "id": "CmPVn0AE2Q6X"
      },
      "source": [
        "import sqlite3\n"
      ],
      "execution_count": null,
      "outputs": []
    },
    {
      "cell_type": "code",
      "metadata": {
        "id": "16xoy0rYCwAX"
      },
      "source": [
        "conn = sqlite3.connect('predictions.db')\n",
        "c = conn.cursor()"
      ],
      "execution_count": null,
      "outputs": []
    },
    {
      "cell_type": "code",
      "metadata": {
        "id": "CU1nQ13AC39B"
      },
      "source": [
        "df = pd.read_csv(\"predictions.csv\")"
      ],
      "execution_count": null,
      "outputs": []
    },
    {
      "cell_type": "code",
      "metadata": {
        "colab": {
          "base_uri": "https://localhost:8080/",
          "height": 206
        },
        "id": "tfWw-0xVDOB5",
        "outputId": "8bf2f5ac-2524-4254-c557-f2db9f4f19ae"
      },
      "source": [
        "df.head()"
      ],
      "execution_count": null,
      "outputs": [
        {
          "output_type": "execute_result",
          "data": {
            "text/html": [
              "<div>\n",
              "<style scoped>\n",
              "    .dataframe tbody tr th:only-of-type {\n",
              "        vertical-align: middle;\n",
              "    }\n",
              "\n",
              "    .dataframe tbody tr th {\n",
              "        vertical-align: top;\n",
              "    }\n",
              "\n",
              "    .dataframe thead th {\n",
              "        text-align: right;\n",
              "    }\n",
              "</style>\n",
              "<table border=\"1\" class=\"dataframe\">\n",
              "  <thead>\n",
              "    <tr style=\"text-align: right;\">\n",
              "      <th></th>\n",
              "      <th>Unnamed: 0</th>\n",
              "      <th>timestamp</th>\n",
              "      <th>variable</th>\n",
              "      <th>prediction</th>\n",
              "      <th>actual</th>\n",
              "      <th>date</th>\n",
              "    </tr>\n",
              "  </thead>\n",
              "  <tbody>\n",
              "    <tr>\n",
              "      <th>0</th>\n",
              "      <td>0</td>\n",
              "      <td>2011-01-29</td>\n",
              "      <td>t+1</td>\n",
              "      <td>41.820400</td>\n",
              "      <td>41.79</td>\n",
              "      <td>2011-01-30</td>\n",
              "    </tr>\n",
              "    <tr>\n",
              "      <th>1</th>\n",
              "      <td>1</td>\n",
              "      <td>2011-01-30</td>\n",
              "      <td>t+1</td>\n",
              "      <td>41.589464</td>\n",
              "      <td>41.56</td>\n",
              "      <td>2011-01-31</td>\n",
              "    </tr>\n",
              "    <tr>\n",
              "      <th>2</th>\n",
              "      <td>2</td>\n",
              "      <td>2011-01-31</td>\n",
              "      <td>t+1</td>\n",
              "      <td>41.276625</td>\n",
              "      <td>41.30</td>\n",
              "      <td>2011-02-01</td>\n",
              "    </tr>\n",
              "    <tr>\n",
              "      <th>3</th>\n",
              "      <td>3</td>\n",
              "      <td>2011-02-01</td>\n",
              "      <td>t+1</td>\n",
              "      <td>41.035273</td>\n",
              "      <td>40.98</td>\n",
              "      <td>2011-02-02</td>\n",
              "    </tr>\n",
              "    <tr>\n",
              "      <th>4</th>\n",
              "      <td>4</td>\n",
              "      <td>2011-02-02</td>\n",
              "      <td>t+1</td>\n",
              "      <td>40.736331</td>\n",
              "      <td>40.66</td>\n",
              "      <td>2011-02-03</td>\n",
              "    </tr>\n",
              "  </tbody>\n",
              "</table>\n",
              "</div>"
            ],
            "text/plain": [
              "   Unnamed: 0   timestamp variable  prediction  actual        date\n",
              "0           0  2011-01-29      t+1   41.820400   41.79  2011-01-30\n",
              "1           1  2011-01-30      t+1   41.589464   41.56  2011-01-31\n",
              "2           2  2011-01-31      t+1   41.276625   41.30  2011-02-01\n",
              "3           3  2011-02-01      t+1   41.035273   40.98  2011-02-02\n",
              "4           4  2011-02-02      t+1   40.736331   40.66  2011-02-03"
            ]
          },
          "metadata": {
            "tags": []
          },
          "execution_count": 150
        }
      ]
    },
    {
      "cell_type": "code",
      "metadata": {
        "colab": {
          "base_uri": "https://localhost:8080/"
        },
        "id": "hKGeymgMDMAu",
        "outputId": "b6ac5b59-c81c-43ea-f872-63c4b9ca3e9a"
      },
      "source": [
        "c.execute(\"CREATE TABLE PREDICTIONS ([timestamp] integer, [prediction] integer, [actual] integer, [date] integer)\")"
      ],
      "execution_count": null,
      "outputs": [
        {
          "output_type": "execute_result",
          "data": {
            "text/plain": [
              "<sqlite3.Cursor at 0x7f0a7a395dc0>"
            ]
          },
          "metadata": {
            "tags": []
          },
          "execution_count": 154
        }
      ]
    },
    {
      "cell_type": "code",
      "metadata": {
        "id": "0v84cYD1C-9R"
      },
      "source": [
        "conn.commit()"
      ],
      "execution_count": null,
      "outputs": []
    },
    {
      "cell_type": "code",
      "metadata": {
        "id": "LrZGuYonE3FJ"
      },
      "source": [
        "conn = sqlite3.connect('predictions.db')  \n",
        "c = conn.cursor()"
      ],
      "execution_count": null,
      "outputs": []
    },
    {
      "cell_type": "code",
      "metadata": {
        "id": "maBd8_BAFA9V"
      },
      "source": [
        "df[['timestamp', 'prediction', 'actual', 'date']].to_sql('PREDICTIONS', conn, if_exists='append', index = False)"
      ],
      "execution_count": null,
      "outputs": []
    },
    {
      "cell_type": "code",
      "metadata": {
        "id": "HafYiL9eFJ10"
      },
      "source": [
        ""
      ],
      "execution_count": null,
      "outputs": []
    }
  ]
}