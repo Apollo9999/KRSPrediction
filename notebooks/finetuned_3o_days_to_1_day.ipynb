{
  "nbformat": 4,
  "nbformat_minor": 0,
  "metadata": {
    "colab": {
      "name": "finetuned 3o days to 1 day.ipynb",
      "provenance": []
    },
    "kernelspec": {
      "name": "python3",
      "display_name": "Python 3"
    },
    "language_info": {
      "name": "python"
    }
  },
  "cells": [
    {
      "cell_type": "code",
      "metadata": {
        "id": "3Hsj9_grfmCe"
      },
      "source": [
        "import datetime as dt\n",
        "import os\n",
        "import warnings\n",
        "from collections import UserDict\n",
        "\n",
        "import matplotlib.pyplot as plt\n",
        "import numpy as np\n",
        "import pandas as pd\n",
        "from utils import TimeSeriesTensor, mape, extract_data, create_evaluation_df\n",
        "from IPython.display import Image\n",
        "from sklearn.preprocessing import MinMaxScaler\n",
        "\n",
        "%matplotlib inline"
      ],
      "execution_count": 83,
      "outputs": []
    },
    {
      "cell_type": "code",
      "metadata": {
        "colab": {
          "base_uri": "https://localhost:8080/"
        },
        "id": "EDGPs34cWkUd",
        "outputId": "1e1de0de-a0fb-4067-ea2f-24ae88d9d264"
      },
      "source": [
        "!git clone https://github.com/Arghyam-Team/KRSPrediction.git"
      ],
      "execution_count": 84,
      "outputs": [
        {
          "output_type": "stream",
          "text": [
            "fatal: destination path 'KRSPrediction' already exists and is not an empty directory.\n"
          ],
          "name": "stdout"
        }
      ]
    },
    {
      "cell_type": "code",
      "metadata": {
        "id": "jAqiS97cYAUM"
      },
      "source": [
        "import sqlite3\n",
        "db_file = '/content/KRSPrediction/data/pythonsqlite.db'\n",
        "conn = sqlite3.connect(db_file)\n",
        "cur = conn.cursor()\n",
        "sql = \"SELECT water.date, water.storage_tmc, water.inflow_cusecs, water.outflow_cusecs, weather.max_temp, weather.visibility, weather.wind, weather.humidity, weather.cloudcover FROM water INNER JOIN weather ON  water.reservoir='krs' AND weather.location='karnataka' AND water.date = weather.date\"\n",
        "cur.execute(sql)\n",
        "rows = cur.fetchall() # rows is a list of tuples (date, tmc,inflow,outflow,maxtemp,vis,wind,hum,cloud)"
      ],
      "execution_count": 85,
      "outputs": []
    },
    {
      "cell_type": "code",
      "metadata": {
        "id": "D5igmCUmfAry"
      },
      "source": [
        "krs = pd.DataFrame(rows, columns=['date', 'present_storage_tmc', 'inflow', 'outflow', 'max_temp', 'visibility', 'wind', 'humidity', 'cloudcover'])"
      ],
      "execution_count": 86,
      "outputs": []
    },
    {
      "cell_type": "code",
      "metadata": {
        "colab": {
          "base_uri": "https://localhost:8080/",
          "height": 112
        },
        "id": "3Nrw-WdZgCqz",
        "outputId": "a6815dd1-4610-450e-c0e6-c637267af649"
      },
      "source": [
        "krs.head(2)"
      ],
      "execution_count": 87,
      "outputs": [
        {
          "output_type": "execute_result",
          "data": {
            "text/html": [
              "<div>\n",
              "<style scoped>\n",
              "    .dataframe tbody tr th:only-of-type {\n",
              "        vertical-align: middle;\n",
              "    }\n",
              "\n",
              "    .dataframe tbody tr th {\n",
              "        vertical-align: top;\n",
              "    }\n",
              "\n",
              "    .dataframe thead th {\n",
              "        text-align: right;\n",
              "    }\n",
              "</style>\n",
              "<table border=\"1\" class=\"dataframe\">\n",
              "  <thead>\n",
              "    <tr style=\"text-align: right;\">\n",
              "      <th></th>\n",
              "      <th>date</th>\n",
              "      <th>present_storage_tmc</th>\n",
              "      <th>inflow</th>\n",
              "      <th>outflow</th>\n",
              "      <th>max_temp</th>\n",
              "      <th>visibility</th>\n",
              "      <th>wind</th>\n",
              "      <th>humidity</th>\n",
              "      <th>cloudcover</th>\n",
              "    </tr>\n",
              "  </thead>\n",
              "  <tbody>\n",
              "    <tr>\n",
              "      <th>0</th>\n",
              "      <td>2011-01-01</td>\n",
              "      <td>46.42</td>\n",
              "      <td>2029</td>\n",
              "      <td>2000.0</td>\n",
              "      <td>28.1</td>\n",
              "      <td>6.7</td>\n",
              "      <td>11.2</td>\n",
              "      <td>71.39</td>\n",
              "      <td>36.7</td>\n",
              "    </tr>\n",
              "    <tr>\n",
              "      <th>1</th>\n",
              "      <td>2011-01-02</td>\n",
              "      <td>46.54</td>\n",
              "      <td>3084</td>\n",
              "      <td>1490.0</td>\n",
              "      <td>28.0</td>\n",
              "      <td>6.2</td>\n",
              "      <td>10.3</td>\n",
              "      <td>72.90</td>\n",
              "      <td>51.4</td>\n",
              "    </tr>\n",
              "  </tbody>\n",
              "</table>\n",
              "</div>"
            ],
            "text/plain": [
              "         date  present_storage_tmc inflow  ...  wind  humidity  cloudcover\n",
              "0  2011-01-01                46.42   2029  ...  11.2     71.39        36.7\n",
              "1  2011-01-02                46.54   3084  ...  10.3     72.90        51.4\n",
              "\n",
              "[2 rows x 9 columns]"
            ]
          },
          "metadata": {
            "tags": []
          },
          "execution_count": 87
        }
      ]
    },
    {
      "cell_type": "code",
      "metadata": {
        "id": "wfOI47s_gZ68"
      },
      "source": [
        "krs = krs.drop_duplicates(subset=[\"date\"])"
      ],
      "execution_count": 88,
      "outputs": []
    },
    {
      "cell_type": "code",
      "metadata": {
        "id": "nKaS921Ygg7W"
      },
      "source": [
        "krs.date = pd.to_datetime(krs.date)\n",
        "krs['inflow'] = pd.to_numeric(krs.inflow, errors='coerce')"
      ],
      "execution_count": 89,
      "outputs": []
    },
    {
      "cell_type": "code",
      "metadata": {
        "colab": {
          "base_uri": "https://localhost:8080/"
        },
        "id": "Vx-YD6e8gMEp",
        "outputId": "ffce5c03-6438-4608-e96b-5fe9b9a66118"
      },
      "source": [
        "krs.info()"
      ],
      "execution_count": 90,
      "outputs": [
        {
          "output_type": "stream",
          "text": [
            "<class 'pandas.core.frame.DataFrame'>\n",
            "Int64Index: 3530 entries, 0 to 3534\n",
            "Data columns (total 9 columns):\n",
            " #   Column               Non-Null Count  Dtype         \n",
            "---  ------               --------------  -----         \n",
            " 0   date                 3530 non-null   datetime64[ns]\n",
            " 1   present_storage_tmc  3530 non-null   float64       \n",
            " 2   inflow               3529 non-null   float64       \n",
            " 3   outflow              3530 non-null   float64       \n",
            " 4   max_temp             3530 non-null   float64       \n",
            " 5   visibility           3530 non-null   float64       \n",
            " 6   wind                 3530 non-null   float64       \n",
            " 7   humidity             3530 non-null   float64       \n",
            " 8   cloudcover           3530 non-null   float64       \n",
            "dtypes: datetime64[ns](1), float64(8)\n",
            "memory usage: 275.8 KB\n"
          ],
          "name": "stdout"
        }
      ]
    },
    {
      "cell_type": "code",
      "metadata": {
        "id": "G5LUmj2RgO3V"
      },
      "source": [
        "krs['inflow_tmc'] = krs['inflow'] /11000\n",
        "krs['outflow_tmc'] = krs['outflow'] / 11000"
      ],
      "execution_count": 91,
      "outputs": []
    },
    {
      "cell_type": "code",
      "metadata": {
        "id": "iK2xLLLdgwR8"
      },
      "source": [
        "krs.sort_values(by=['date'], inplace=True, ascending=True)"
      ],
      "execution_count": 92,
      "outputs": []
    },
    {
      "cell_type": "code",
      "metadata": {
        "id": "AHfU5Dfdg9T1"
      },
      "source": [
        "krs.set_index('date', inplace=True)\n",
        "krs = krs.sort_index(axis=1)"
      ],
      "execution_count": 93,
      "outputs": []
    },
    {
      "cell_type": "code",
      "metadata": {
        "colab": {
          "base_uri": "https://localhost:8080/",
          "height": 143
        },
        "id": "OnCsUM6Zgz5r",
        "outputId": "9aa9cf59-8e90-461b-8c0f-37417637f05f"
      },
      "source": [
        "krs.head(2)"
      ],
      "execution_count": 94,
      "outputs": [
        {
          "output_type": "execute_result",
          "data": {
            "text/html": [
              "<div>\n",
              "<style scoped>\n",
              "    .dataframe tbody tr th:only-of-type {\n",
              "        vertical-align: middle;\n",
              "    }\n",
              "\n",
              "    .dataframe tbody tr th {\n",
              "        vertical-align: top;\n",
              "    }\n",
              "\n",
              "    .dataframe thead th {\n",
              "        text-align: right;\n",
              "    }\n",
              "</style>\n",
              "<table border=\"1\" class=\"dataframe\">\n",
              "  <thead>\n",
              "    <tr style=\"text-align: right;\">\n",
              "      <th></th>\n",
              "      <th>cloudcover</th>\n",
              "      <th>humidity</th>\n",
              "      <th>inflow</th>\n",
              "      <th>inflow_tmc</th>\n",
              "      <th>max_temp</th>\n",
              "      <th>outflow</th>\n",
              "      <th>outflow_tmc</th>\n",
              "      <th>present_storage_tmc</th>\n",
              "      <th>visibility</th>\n",
              "      <th>wind</th>\n",
              "    </tr>\n",
              "    <tr>\n",
              "      <th>date</th>\n",
              "      <th></th>\n",
              "      <th></th>\n",
              "      <th></th>\n",
              "      <th></th>\n",
              "      <th></th>\n",
              "      <th></th>\n",
              "      <th></th>\n",
              "      <th></th>\n",
              "      <th></th>\n",
              "      <th></th>\n",
              "    </tr>\n",
              "  </thead>\n",
              "  <tbody>\n",
              "    <tr>\n",
              "      <th>2010-09-30</th>\n",
              "      <td>79.6</td>\n",
              "      <td>81.05</td>\n",
              "      <td>2706.0</td>\n",
              "      <td>0.246000</td>\n",
              "      <td>29.4</td>\n",
              "      <td>6840.0</td>\n",
              "      <td>0.621818</td>\n",
              "      <td>46.18</td>\n",
              "      <td>5.2</td>\n",
              "      <td>11.2</td>\n",
              "    </tr>\n",
              "    <tr>\n",
              "      <th>2010-12-31</th>\n",
              "      <td>51.0</td>\n",
              "      <td>70.80</td>\n",
              "      <td>2668.0</td>\n",
              "      <td>0.242545</td>\n",
              "      <td>27.5</td>\n",
              "      <td>6795.0</td>\n",
              "      <td>0.617727</td>\n",
              "      <td>45.81</td>\n",
              "      <td>6.9</td>\n",
              "      <td>11.2</td>\n",
              "    </tr>\n",
              "  </tbody>\n",
              "</table>\n",
              "</div>"
            ],
            "text/plain": [
              "            cloudcover  humidity  inflow  ...  present_storage_tmc  visibility  wind\n",
              "date                                      ...                                       \n",
              "2010-09-30        79.6     81.05  2706.0  ...                46.18         5.2  11.2\n",
              "2010-12-31        51.0     70.80  2668.0  ...                45.81         6.9  11.2\n",
              "\n",
              "[2 rows x 10 columns]"
            ]
          },
          "metadata": {
            "tags": []
          },
          "execution_count": 94
        }
      ]
    },
    {
      "cell_type": "code",
      "metadata": {
        "id": "Gs1DTY5cg1GH"
      },
      "source": [
        "#time series data on which model needs to be trained on, features contain the column names\n",
        "ts_data_load = krs[[ \"present_storage_tmc\", \"inflow_tmc\", \"outflow_tmc\", \"max_temp\", \"visibility\", \"humidity\", \"wind\"]]\n",
        "ts_data_load.sort_index(axis = 1)\n",
        "features = len(ts_data_load.columns)\n",
        "#features, ts_data_load.head(2), ts_data_load.tail(2)"
      ],
      "execution_count": 95,
      "outputs": []
    },
    {
      "cell_type": "code",
      "metadata": {
        "id": "_37xDtxyhsdo"
      },
      "source": [
        "valid_st_data_load = \"2018-01-01 00:00:00\"\n",
        "test_st_data_load = \"2019-05-02 00:00:00\""
      ],
      "execution_count": 96,
      "outputs": []
    },
    {
      "cell_type": "code",
      "metadata": {
        "colab": {
          "base_uri": "https://localhost:8080/",
          "height": 112
        },
        "id": "_-5VWGJaiOlu",
        "outputId": "6e04c0ab-b104-4069-de2c-1a5ff9efe747"
      },
      "source": [
        "ts_data_load[ts_data_load.index==valid_st_data_load]"
      ],
      "execution_count": 97,
      "outputs": [
        {
          "output_type": "execute_result",
          "data": {
            "text/html": [
              "<div>\n",
              "<style scoped>\n",
              "    .dataframe tbody tr th:only-of-type {\n",
              "        vertical-align: middle;\n",
              "    }\n",
              "\n",
              "    .dataframe tbody tr th {\n",
              "        vertical-align: top;\n",
              "    }\n",
              "\n",
              "    .dataframe thead th {\n",
              "        text-align: right;\n",
              "    }\n",
              "</style>\n",
              "<table border=\"1\" class=\"dataframe\">\n",
              "  <thead>\n",
              "    <tr style=\"text-align: right;\">\n",
              "      <th></th>\n",
              "      <th>present_storage_tmc</th>\n",
              "      <th>inflow_tmc</th>\n",
              "      <th>outflow_tmc</th>\n",
              "      <th>max_temp</th>\n",
              "      <th>visibility</th>\n",
              "      <th>humidity</th>\n",
              "      <th>wind</th>\n",
              "    </tr>\n",
              "    <tr>\n",
              "      <th>date</th>\n",
              "      <th></th>\n",
              "      <th></th>\n",
              "      <th></th>\n",
              "      <th></th>\n",
              "      <th></th>\n",
              "      <th></th>\n",
              "      <th></th>\n",
              "    </tr>\n",
              "  </thead>\n",
              "  <tbody>\n",
              "    <tr>\n",
              "      <th>2018-01-01</th>\n",
              "      <td>25.55</td>\n",
              "      <td>0.026455</td>\n",
              "      <td>0.313182</td>\n",
              "      <td>28.0</td>\n",
              "      <td>6.6</td>\n",
              "      <td>65.5</td>\n",
              "      <td>11.0</td>\n",
              "    </tr>\n",
              "  </tbody>\n",
              "</table>\n",
              "</div>"
            ],
            "text/plain": [
              "            present_storage_tmc  inflow_tmc  ...  humidity  wind\n",
              "date                                         ...                \n",
              "2018-01-01                25.55    0.026455  ...      65.5  11.0\n",
              "\n",
              "[1 rows x 7 columns]"
            ]
          },
          "metadata": {
            "tags": []
          },
          "execution_count": 97
        }
      ]
    },
    {
      "cell_type": "code",
      "metadata": {
        "colab": {
          "base_uri": "https://localhost:8080/",
          "height": 473
        },
        "id": "yfVG2VmNiPw_",
        "outputId": "9f8eceb2-4209-4e98-eccd-9f2b488957d5"
      },
      "source": [
        "ts_data_load[ts_data_load.index < valid_st_data_load][[\"present_storage_tmc\"]].rename(columns={\"present_storage_tmc\": \"train\"}).join(\n",
        "    ts_data_load[(ts_data_load.index >= valid_st_data_load) & (ts_data_load.index < test_st_data_load)][\n",
        "        [\"present_storage_tmc\"]\n",
        "    ].rename(columns={\"present_storage_tmc\": \"validation\"}),\n",
        "    how=\"outer\",\n",
        ").join(\n",
        "    ts_data_load[test_st_data_load:][[\"present_storage_tmc\"]].rename(columns={\"present_storage_tmc\": \"test\"}), how=\"outer\"\n",
        ").plot(\n",
        "    y=[\"train\", \"validation\", \"test\"], figsize=(15, 8), fontsize=12\n",
        ")\n",
        "plt.xlabel(\"timestamp\", fontsize=12)\n",
        "plt.ylabel(\"PRESENT_STORAGE_TMC\", fontsize=12)\n",
        "plt.show()"
      ],
      "execution_count": 98,
      "outputs": [
        {
          "output_type": "display_data",
          "data": {
            "image/png": "[encoded data removed]",
            "text/plain": [
              "<Figure size 1080x576 with 1 Axes>"
            ]
          },
          "metadata": {
            "tags": [],
            "needs_background": "light"
          }
        }
      ]
    },
    {
      "cell_type": "code",
      "metadata": {
        "id": "FDtwm2V9jIqe"
      },
      "source": [
        "train = ts_data_load.copy()[ts_data_load.index < valid_st_data_load]"
      ],
      "execution_count": 99,
      "outputs": []
    },
    {
      "cell_type": "code",
      "metadata": {
        "colab": {
          "base_uri": "https://localhost:8080/"
        },
        "id": "iXqAZRtAkOPB",
        "outputId": "a466b648-fb14-4860-c3fe-5d03d8d729d2"
      },
      "source": [
        "train.shape"
      ],
      "execution_count": 100,
      "outputs": [
        {
          "output_type": "execute_result",
          "data": {
            "text/plain": [
              "(2250, 7)"
            ]
          },
          "metadata": {
            "tags": []
          },
          "execution_count": 100
        }
      ]
    },
    {
      "cell_type": "code",
      "metadata": {
        "colab": {
          "base_uri": "https://localhost:8080/"
        },
        "id": "FGEo0AeZkPJ5",
        "outputId": "e7186ce7-237b-4b11-e947-d9666d2370d2"
      },
      "source": [
        "y_scaler = MinMaxScaler()\n",
        "y_scaler.fit(train[[\"present_storage_tmc\"]])"
      ],
      "execution_count": 101,
      "outputs": [
        {
          "output_type": "execute_result",
          "data": {
            "text/plain": [
              "MinMaxScaler(copy=True, feature_range=(0, 1))"
            ]
          },
          "metadata": {
            "tags": []
          },
          "execution_count": 101
        }
      ]
    },
    {
      "cell_type": "code",
      "metadata": {
        "id": "crXHsio6kT6G"
      },
      "source": [
        "flist = list(ts_data_load.columns)"
      ],
      "execution_count": 102,
      "outputs": []
    },
    {
      "cell_type": "code",
      "metadata": {
        "colab": {
          "base_uri": "https://localhost:8080/",
          "height": 394
        },
        "id": "FGwFbxWEkXME",
        "outputId": "aefa842f-539c-42a6-aea1-c67294553ca0"
      },
      "source": [
        "T = 30\n",
        "HORIZON = 1\n",
        "train = ts_data_load.copy()[ts_data_load.index < valid_st_data_load][flist]\n",
        "\n",
        "X_scaler = MinMaxScaler()\n",
        "train[flist] = X_scaler.fit_transform(train)\n",
        "train.sample(10)"
      ],
      "execution_count": 103,
      "outputs": [
        {
          "output_type": "execute_result",
          "data": {
            "text/html": [
              "<div>\n",
              "<style scoped>\n",
              "    .dataframe tbody tr th:only-of-type {\n",
              "        vertical-align: middle;\n",
              "    }\n",
              "\n",
              "    .dataframe tbody tr th {\n",
              "        vertical-align: top;\n",
              "    }\n",
              "\n",
              "    .dataframe thead th {\n",
              "        text-align: right;\n",
              "    }\n",
              "</style>\n",
              "<table border=\"1\" class=\"dataframe\">\n",
              "  <thead>\n",
              "    <tr style=\"text-align: right;\">\n",
              "      <th></th>\n",
              "      <th>present_storage_tmc</th>\n",
              "      <th>inflow_tmc</th>\n",
              "      <th>outflow_tmc</th>\n",
              "      <th>max_temp</th>\n",
              "      <th>visibility</th>\n",
              "      <th>humidity</th>\n",
              "      <th>wind</th>\n",
              "    </tr>\n",
              "    <tr>\n",
              "      <th>date</th>\n",
              "      <th></th>\n",
              "      <th></th>\n",
              "      <th></th>\n",
              "      <th></th>\n",
              "      <th></th>\n",
              "      <th></th>\n",
              "      <th></th>\n",
              "    </tr>\n",
              "  </thead>\n",
              "  <tbody>\n",
              "    <tr>\n",
              "      <th>2016-03-17</th>\n",
              "      <td>0.280485</td>\n",
              "      <td>0.003384</td>\n",
              "      <td>0.034538</td>\n",
              "      <td>0.700935</td>\n",
              "      <td>0.683333</td>\n",
              "      <td>0.490187</td>\n",
              "      <td>0.086124</td>\n",
              "    </tr>\n",
              "    <tr>\n",
              "      <th>2013-12-18</th>\n",
              "      <td>0.811325</td>\n",
              "      <td>0.033749</td>\n",
              "      <td>0.040694</td>\n",
              "      <td>0.369159</td>\n",
              "      <td>0.483333</td>\n",
              "      <td>0.560047</td>\n",
              "      <td>0.076555</td>\n",
              "    </tr>\n",
              "    <tr>\n",
              "      <th>2012-06-07</th>\n",
              "      <td>0.156926</td>\n",
              "      <td>0.003259</td>\n",
              "      <td>0.002069</td>\n",
              "      <td>0.560748</td>\n",
              "      <td>0.800000</td>\n",
              "      <td>0.509080</td>\n",
              "      <td>0.177033</td>\n",
              "    </tr>\n",
              "    <tr>\n",
              "      <th>2016-05-21</th>\n",
              "      <td>0.208291</td>\n",
              "      <td>0.001593</td>\n",
              "      <td>0.002971</td>\n",
              "      <td>0.649533</td>\n",
              "      <td>0.883333</td>\n",
              "      <td>0.524019</td>\n",
              "      <td>0.115516</td>\n",
              "    </tr>\n",
              "    <tr>\n",
              "      <th>2015-08-28</th>\n",
              "      <td>0.544388</td>\n",
              "      <td>0.086001</td>\n",
              "      <td>0.085099</td>\n",
              "      <td>0.509346</td>\n",
              "      <td>0.733333</td>\n",
              "      <td>0.707381</td>\n",
              "      <td>0.146275</td>\n",
              "    </tr>\n",
              "    <tr>\n",
              "      <th>2013-10-13</th>\n",
              "      <td>0.946613</td>\n",
              "      <td>0.019447</td>\n",
              "      <td>0.038371</td>\n",
              "      <td>0.415888</td>\n",
              "      <td>0.716667</td>\n",
              "      <td>0.650557</td>\n",
              "      <td>0.146275</td>\n",
              "    </tr>\n",
              "    <tr>\n",
              "      <th>2013-09-21</th>\n",
              "      <td>0.972497</td>\n",
              "      <td>0.137017</td>\n",
              "      <td>0.039132</td>\n",
              "      <td>0.369159</td>\n",
              "      <td>0.650000</td>\n",
              "      <td>0.754979</td>\n",
              "      <td>0.152427</td>\n",
              "    </tr>\n",
              "    <tr>\n",
              "      <th>2015-04-23</th>\n",
              "      <td>0.326390</td>\n",
              "      <td>0.002756</td>\n",
              "      <td>0.043107</td>\n",
              "      <td>0.766355</td>\n",
              "      <td>0.650000</td>\n",
              "      <td>0.637668</td>\n",
              "      <td>0.114833</td>\n",
              "    </tr>\n",
              "    <tr>\n",
              "      <th>2012-08-25</th>\n",
              "      <td>0.487361</td>\n",
              "      <td>0.031831</td>\n",
              "      <td>0.044953</td>\n",
              "      <td>0.359813</td>\n",
              "      <td>0.466667</td>\n",
              "      <td>0.799795</td>\n",
              "      <td>0.103213</td>\n",
              "    </tr>\n",
              "    <tr>\n",
              "      <th>2017-08-14</th>\n",
              "      <td>0.348433</td>\n",
              "      <td>0.076581</td>\n",
              "      <td>0.103209</td>\n",
              "      <td>0.415888</td>\n",
              "      <td>0.833333</td>\n",
              "      <td>0.610428</td>\n",
              "      <td>0.063568</td>\n",
              "    </tr>\n",
              "  </tbody>\n",
              "</table>\n",
              "</div>"
            ],
            "text/plain": [
              "            present_storage_tmc  inflow_tmc  ...  humidity      wind\n",
              "date                                         ...                    \n",
              "2016-03-17             0.280485    0.003384  ...  0.490187  0.086124\n",
              "2013-12-18             0.811325    0.033749  ...  0.560047  0.076555\n",
              "2012-06-07             0.156926    0.003259  ...  0.509080  0.177033\n",
              "2016-05-21             0.208291    0.001593  ...  0.524019  0.115516\n",
              "2015-08-28             0.544388    0.086001  ...  0.707381  0.146275\n",
              "2013-10-13             0.946613    0.019447  ...  0.650557  0.146275\n",
              "2013-09-21             0.972497    0.137017  ...  0.754979  0.152427\n",
              "2015-04-23             0.326390    0.002756  ...  0.637668  0.114833\n",
              "2012-08-25             0.487361    0.031831  ...  0.799795  0.103213\n",
              "2017-08-14             0.348433    0.076581  ...  0.610428  0.063568\n",
              "\n",
              "[10 rows x 7 columns]"
            ]
          },
          "metadata": {
            "tags": []
          },
          "execution_count": 103
        }
      ]
    },
    {
      "cell_type": "code",
      "metadata": {
        "colab": {
          "base_uri": "https://localhost:8080/"
        },
        "id": "frdXuNOIkads",
        "outputId": "20046e5b-87c5-42b8-cf82-efbf15ad62c8"
      },
      "source": [
        "train = train.dropna(axis = 0, how ='any')\n",
        "train.isna().sum()"
      ],
      "execution_count": 104,
      "outputs": [
        {
          "output_type": "execute_result",
          "data": {
            "text/plain": [
              "present_storage_tmc    0\n",
              "inflow_tmc             0\n",
              "outflow_tmc            0\n",
              "max_temp               0\n",
              "visibility             0\n",
              "humidity               0\n",
              "wind                   0\n",
              "dtype: int64"
            ]
          },
          "metadata": {
            "tags": []
          },
          "execution_count": 104
        }
      ]
    },
    {
      "cell_type": "code",
      "metadata": {
        "colab": {
          "base_uri": "https://localhost:8080/"
        },
        "id": "VL8-XySDkejU",
        "outputId": "145edb83-5560-4649-af3e-6352f3850c95"
      },
      "source": [
        "tensor_structure = {\"X\": (range(-T + 1, 1), flist)}\n",
        "print(tensor_structure)\n",
        "ts_train_inp = TimeSeriesTensor(\n",
        "    dataset=train,\n",
        "    target=\"present_storage_tmc\",\n",
        "    H=HORIZON,\n",
        "    tensor_structure=tensor_structure,\n",
        "    freq=\"D\",\n",
        "    drop_incomplete=True,\n",
        ")\n",
        "back_ts_data = dt.datetime.strptime(valid_st_data_load, \"%Y-%m-%d %H:%M:%S\") - dt.timedelta(\n",
        "    days=T - 1\n",
        ")\n",
        "valid = ts_data_load.copy()[(ts_data_load.index >= back_ts_data) & (ts_data_load.index < test_st_data_load)][\n",
        "    flist\n",
        "]\n",
        "valid[flist] = X_scaler.transform(valid)\n",
        "valid_inputs = TimeSeriesTensor(valid, \"present_storage_tmc\", HORIZON, tensor_structure, freq='D')"
      ],
      "execution_count": 105,
      "outputs": [
        {
          "output_type": "stream",
          "text": [
            "{'X': (range(-29, 1), ['present_storage_tmc', 'inflow_tmc', 'outflow_tmc', 'max_temp', 'visibility', 'humidity', 'wind'])}\n"
          ],
          "name": "stdout"
        }
      ]
    },
    {
      "cell_type": "code",
      "metadata": {
        "id": "2euBCSu7khjL"
      },
      "source": [
        "from tensorflow.keras.callbacks import EarlyStopping\n",
        "from tensorflow.keras.layers import GRU, Dense\n",
        "from tensorflow.keras.models import Model, Sequential"
      ],
      "execution_count": 106,
      "outputs": []
    },
    {
      "cell_type": "code",
      "metadata": {
        "id": "udLW7DkZks7d"
      },
      "source": [
        "LATENT_DIM = T\n",
        "BATCH_SIZE = 64\n",
        "EPOCHS = (\n",
        "    100\n",
        ")"
      ],
      "execution_count": 107,
      "outputs": []
    },
    {
      "cell_type": "code",
      "metadata": {
        "id": "_1gV0pknkuR9"
      },
      "source": [
        "model = Sequential()\n",
        "model.add(GRU(LATENT_DIM, return_sequences=True,input_shape=(T, features)))\n",
        "#model.add(GRU(LATENT_DIM, input_shape=(T, 3)))\n",
        "model.add(GRU(LATENT_DIM))\n",
        "model.add(Dense(HORIZON))"
      ],
      "execution_count": 108,
      "outputs": []
    },
    {
      "cell_type": "code",
      "metadata": {
        "id": "TkcFGU31kwUE"
      },
      "source": [
        "model.compile(optimizer=\"adam\", loss=\"mse\")\n"
      ],
      "execution_count": 109,
      "outputs": []
    },
    {
      "cell_type": "code",
      "metadata": {
        "colab": {
          "base_uri": "https://localhost:8080/"
        },
        "id": "93cQ3vtqkxoT",
        "outputId": "943bdabe-9746-4753-8fd3-0c480e4e686e"
      },
      "source": [
        "model.summary()\n"
      ],
      "execution_count": 110,
      "outputs": [
        {
          "output_type": "stream",
          "text": [
            "Model: \"sequential_1\"\n",
            "_________________________________________________________________\n",
            "Layer (type)                 Output Shape              Param #   \n",
            "=================================================================\n",
            "gru_2 (GRU)                  (None, 30, 30)            3510      \n",
            "_________________________________________________________________\n",
            "gru_3 (GRU)                  (None, 30)                5580      \n",
            "_________________________________________________________________\n",
            "dense_1 (Dense)              (None, 1)                 31        \n",
            "=================================================================\n",
            "Total params: 9,121\n",
            "Trainable params: 9,121\n",
            "Non-trainable params: 0\n",
            "_________________________________________________________________\n"
          ],
          "name": "stdout"
        }
      ]
    },
    {
      "cell_type": "code",
      "metadata": {
        "id": "aE1aJd0Vky_R"
      },
      "source": [
        "earlystop = EarlyStopping(monitor=\"val_loss\", min_delta=0, patience=5)\n"
      ],
      "execution_count": 111,
      "outputs": []
    },
    {
      "cell_type": "code",
      "metadata": {
        "colab": {
          "base_uri": "https://localhost:8080/"
        },
        "id": "UICkCrJNk1P2",
        "outputId": "5f31984c-180d-4e93-ee19-3e1ee4993147"
      },
      "source": [
        "model_history = model.fit(\n",
        "    ts_train_inp[\"X\"],\n",
        "    ts_train_inp[\"target\"],\n",
        "    batch_size=BATCH_SIZE,\n",
        "    epochs=EPOCHS,\n",
        "    validation_data=(valid_inputs[\"X\"], valid_inputs[\"target\"]),\n",
        "    callbacks=[earlystop],\n",
        "    verbose=1,\n",
        ")"
      ],
      "execution_count": 112,
      "outputs": [
        {
          "output_type": "stream",
          "text": [
            "Epoch 1/100\n",
            "32/32 [==============================] - 4s 48ms/step - loss: 0.0839 - val_loss: 0.0274\n",
            "Epoch 2/100\n",
            "32/32 [==============================] - 1s 29ms/step - loss: 0.0089 - val_loss: 0.0085\n",
            "Epoch 3/100\n",
            "32/32 [==============================] - 1s 30ms/step - loss: 0.0023 - val_loss: 0.0036\n",
            "Epoch 4/100\n",
            "32/32 [==============================] - 1s 32ms/step - loss: 0.0016 - val_loss: 0.0023\n",
            "Epoch 5/100\n",
            "32/32 [==============================] - 1s 32ms/step - loss: 0.0013 - val_loss: 0.0015\n",
            "Epoch 6/100\n",
            "32/32 [==============================] - 1s 30ms/step - loss: 0.0012 - val_loss: 0.0011\n",
            "Epoch 7/100\n",
            "32/32 [==============================] - 1s 29ms/step - loss: 0.0011 - val_loss: 8.3977e-04\n",
            "Epoch 8/100\n",
            "32/32 [==============================] - 1s 29ms/step - loss: 0.0010 - val_loss: 7.0049e-04\n",
            "Epoch 9/100\n",
            "32/32 [==============================] - 1s 28ms/step - loss: 0.0010 - val_loss: 6.5171e-04\n",
            "Epoch 10/100\n",
            "32/32 [==============================] - 1s 28ms/step - loss: 9.9983e-04 - val_loss: 4.5410e-04\n",
            "Epoch 11/100\n",
            "32/32 [==============================] - 1s 29ms/step - loss: 9.8035e-04 - val_loss: 4.9945e-04\n",
            "Epoch 12/100\n",
            "32/32 [==============================] - 1s 28ms/step - loss: 9.4397e-04 - val_loss: 3.9650e-04\n",
            "Epoch 13/100\n",
            "32/32 [==============================] - 1s 29ms/step - loss: 9.2694e-04 - val_loss: 4.1073e-04\n",
            "Epoch 14/100\n",
            "32/32 [==============================] - 1s 29ms/step - loss: 9.7396e-04 - val_loss: 4.4431e-04\n",
            "Epoch 15/100\n",
            "32/32 [==============================] - 1s 29ms/step - loss: 9.1746e-04 - val_loss: 3.6621e-04\n",
            "Epoch 16/100\n",
            "32/32 [==============================] - 1s 29ms/step - loss: 9.1290e-04 - val_loss: 3.0648e-04\n",
            "Epoch 17/100\n",
            "32/32 [==============================] - 1s 28ms/step - loss: 9.2376e-04 - val_loss: 3.5932e-04\n",
            "Epoch 18/100\n",
            "32/32 [==============================] - 1s 29ms/step - loss: 0.0010 - val_loss: 3.2726e-04\n",
            "Epoch 19/100\n",
            "32/32 [==============================] - 1s 30ms/step - loss: 9.1817e-04 - val_loss: 2.9787e-04\n",
            "Epoch 20/100\n",
            "32/32 [==============================] - 1s 31ms/step - loss: 9.0131e-04 - val_loss: 2.7178e-04\n",
            "Epoch 21/100\n",
            "32/32 [==============================] - 1s 29ms/step - loss: 9.0197e-04 - val_loss: 2.4869e-04\n",
            "Epoch 22/100\n",
            "32/32 [==============================] - 1s 30ms/step - loss: 9.6623e-04 - val_loss: 3.8503e-04\n",
            "Epoch 23/100\n",
            "32/32 [==============================] - 1s 30ms/step - loss: 9.0902e-04 - val_loss: 2.6796e-04\n",
            "Epoch 24/100\n",
            "32/32 [==============================] - 1s 31ms/step - loss: 9.4302e-04 - val_loss: 4.6709e-04\n",
            "Epoch 25/100\n",
            "32/32 [==============================] - 1s 28ms/step - loss: 9.6231e-04 - val_loss: 2.4382e-04\n",
            "Epoch 26/100\n",
            "32/32 [==============================] - 1s 28ms/step - loss: 8.7703e-04 - val_loss: 2.6400e-04\n",
            "Epoch 27/100\n",
            "32/32 [==============================] - 1s 31ms/step - loss: 8.8178e-04 - val_loss: 2.3021e-04\n",
            "Epoch 28/100\n",
            "32/32 [==============================] - 1s 28ms/step - loss: 8.9765e-04 - val_loss: 2.9556e-04\n",
            "Epoch 29/100\n",
            "32/32 [==============================] - 1s 29ms/step - loss: 9.1117e-04 - val_loss: 2.4576e-04\n",
            "Epoch 30/100\n",
            "32/32 [==============================] - 1s 29ms/step - loss: 8.7368e-04 - val_loss: 2.2866e-04\n",
            "Epoch 31/100\n",
            "32/32 [==============================] - 1s 30ms/step - loss: 8.6805e-04 - val_loss: 2.4578e-04\n",
            "Epoch 32/100\n",
            "32/32 [==============================] - 1s 30ms/step - loss: 8.8186e-04 - val_loss: 2.2728e-04\n",
            "Epoch 33/100\n",
            "32/32 [==============================] - 1s 32ms/step - loss: 8.9847e-04 - val_loss: 3.3898e-04\n",
            "Epoch 34/100\n",
            "32/32 [==============================] - 1s 28ms/step - loss: 8.9785e-04 - val_loss: 2.1656e-04\n",
            "Epoch 35/100\n",
            "32/32 [==============================] - 1s 28ms/step - loss: 8.8753e-04 - val_loss: 2.5262e-04\n",
            "Epoch 36/100\n",
            "32/32 [==============================] - 1s 32ms/step - loss: 8.4006e-04 - val_loss: 2.1569e-04\n",
            "Epoch 37/100\n",
            "32/32 [==============================] - 1s 28ms/step - loss: 8.8070e-04 - val_loss: 2.5040e-04\n",
            "Epoch 38/100\n",
            "32/32 [==============================] - 1s 29ms/step - loss: 8.6076e-04 - val_loss: 1.8816e-04\n",
            "Epoch 39/100\n",
            "32/32 [==============================] - 1s 29ms/step - loss: 8.6039e-04 - val_loss: 2.4764e-04\n",
            "Epoch 40/100\n",
            "32/32 [==============================] - 1s 29ms/step - loss: 9.3363e-04 - val_loss: 2.6926e-04\n",
            "Epoch 41/100\n",
            "32/32 [==============================] - 1s 33ms/step - loss: 9.9486e-04 - val_loss: 2.0580e-04\n",
            "Epoch 42/100\n",
            "32/32 [==============================] - 1s 30ms/step - loss: 8.8002e-04 - val_loss: 2.5775e-04\n",
            "Epoch 43/100\n",
            "32/32 [==============================] - 1s 29ms/step - loss: 8.8242e-04 - val_loss: 2.4308e-04\n"
          ],
          "name": "stdout"
        }
      ]
    },
    {
      "cell_type": "code",
      "metadata": {
        "colab": {
          "base_uri": "https://localhost:8080/"
        },
        "id": "9PNS58HYpcxX",
        "outputId": "cacf8bc0-372b-4a56-8c1e-1d07e9442213"
      },
      "source": [
        "model.save(\"30daysto1day\")"
      ],
      "execution_count": 113,
      "outputs": [
        {
          "output_type": "stream",
          "text": [
            "WARNING:absl:Found untraced functions such as gru_cell_2_layer_call_and_return_conditional_losses, gru_cell_2_layer_call_fn, gru_cell_3_layer_call_and_return_conditional_losses, gru_cell_3_layer_call_fn, gru_cell_2_layer_call_fn while saving (showing 5 of 10). These functions will not be directly callable after loading.\n"
          ],
          "name": "stderr"
        },
        {
          "output_type": "stream",
          "text": [
            "INFO:tensorflow:Assets written to: 30daysto1day/assets\n"
          ],
          "name": "stdout"
        },
        {
          "output_type": "stream",
          "text": [
            "INFO:tensorflow:Assets written to: 30daysto1day/assets\n"
          ],
          "name": "stderr"
        }
      ]
    },
    {
      "cell_type": "code",
      "metadata": {
        "colab": {
          "base_uri": "https://localhost:8080/",
          "height": 295
        },
        "id": "D1N3y6VHk2ic",
        "outputId": "e3c61bc1-79be-45bf-ea18-bf6b8448078b"
      },
      "source": [
        "# summarize history for loss\n",
        "plt.plot(model_history.history['loss'])\n",
        "plt.plot(model_history.history['val_loss'])\n",
        "plt.title('model loss')\n",
        "plt.ylabel('loss')\n",
        "plt.xlabel('epoch')\n",
        "plt.legend(['train', 'val'], loc='upper left')\n",
        "plt.show()"
      ],
      "execution_count": 114,
      "outputs": [
        {
          "output_type": "display_data",
          "data": {
            "image/png": "[encoded data removed]",
            "text/plain": [
              "<Figure size 432x288 with 1 Axes>"
            ]
          },
          "metadata": {
            "tags": [],
            "needs_background": "light"
          }
        }
      ]
    },
    {
      "cell_type": "code",
      "metadata": {
        "colab": {
          "base_uri": "https://localhost:8080/",
          "height": 295
        },
        "id": "1KqJU477k4g2",
        "outputId": "e0f3b3e8-907c-4080-9fed-5d754ed9157e"
      },
      "source": [
        "# summarize history for loss\n",
        "plt.plot(model_history.history['loss'][3:])\n",
        "plt.plot(model_history.history['val_loss'][3:])\n",
        "plt.title('model loss')\n",
        "plt.ylabel('loss')\n",
        "plt.xlabel('epoch')\n",
        "plt.legend(['train', 'val'], loc='upper left')\n",
        "plt.show()"
      ],
      "execution_count": 115,
      "outputs": [
        {
          "output_type": "display_data",
          "data": {
            "image/png": "[encoded data removed]",
            "text/plain": [
              "<Figure size 432x288 with 1 Axes>"
            ]
          },
          "metadata": {
            "tags": [],
            "needs_background": "light"
          }
        }
      ]
    },
    {
      "cell_type": "code",
      "metadata": {
        "id": "yWKaOFExlpY5"
      },
      "source": [
        "ts_data_test = ts_data_load.copy()[test_st_data_load:][flist]\n",
        "ts_data_test[flist] = X_scaler.transform(ts_data_test)\n",
        "ts_data_test_inputs = TimeSeriesTensor(ts_data_test, \"present_storage_tmc\", HORIZON, tensor_structure, freq='D')\n"
      ],
      "execution_count": 116,
      "outputs": []
    },
    {
      "cell_type": "code",
      "metadata": {
        "colab": {
          "base_uri": "https://localhost:8080/"
        },
        "id": "xOI0r4uPmApo",
        "outputId": "3e74ba5f-3ac0-4df2-a07a-ab7aa61a5502"
      },
      "source": [
        "ts_data_test_inputs['X'].shape"
      ],
      "execution_count": 117,
      "outputs": [
        {
          "output_type": "execute_result",
          "data": {
            "text/plain": [
              "(690, 30, 7)"
            ]
          },
          "metadata": {
            "tags": []
          },
          "execution_count": 117
        }
      ]
    },
    {
      "cell_type": "code",
      "metadata": {
        "id": "Fv7ivXW1njIF"
      },
      "source": [
        "def create_evaluation_df1(predictions, test_inputs, H, scaler):\n",
        "    \"\"\"Create a data frame for easy evaluation\"\"\"\n",
        "    eval_df = pd.DataFrame(\n",
        "        predictions, columns=[\"t+\" + str(t) for t in range(1, H + 1)]\n",
        "    )\n",
        "    \n",
        "    eval_df[\"timestamp\"] = test_inputs.dataframe.index\n",
        "    print(eval_df.shape, eval_df.head(2))\n",
        "\n",
        "    #eval_df = pd.melt(\n",
        "    #    eval_df, id_vars=\"timestamp\", value_name=\"prediction\", var_name=\"h\"\n",
        "    #)\n",
        "    values = ['t+'+str(i) for i in range(1, H+1)]\n",
        "    \n",
        "    eval_df = pd.melt(\n",
        "        eval_df, id_vars=\"timestamp\", value_vars=values, value_name=\"prediction\"\n",
        "    )\n",
        "    print(eval_df.shape, eval_df.head(2))\n",
        "    eval_df[\"actual\"] = np.transpose(test_inputs[\"target\"]).ravel()\n",
        "    eval_df[[\"prediction\", \"actual\"]] = scaler.inverse_transform(\n",
        "        eval_df[[\"prediction\", \"actual\"]]\n",
        "    )\n",
        "    return eval_df"
      ],
      "execution_count": 118,
      "outputs": []
    },
    {
      "cell_type": "code",
      "metadata": {
        "colab": {
          "base_uri": "https://localhost:8080/",
          "height": 310
        },
        "id": "KwpRphbJnm-u",
        "outputId": "ea88fe51-d86f-424a-e05b-08dd2037ce12"
      },
      "source": [
        "ts_predictions = model.predict(ts_data_test_inputs[\"X\"])\n",
        "\n",
        "ev_ts_data = create_evaluation_df1(ts_predictions, ts_data_test_inputs, HORIZON, y_scaler)\n",
        "ev_ts_data.sample(5)"
      ],
      "execution_count": 119,
      "outputs": [
        {
          "output_type": "stream",
          "text": [
            "(690, 2)         t+1  timestamp\n",
            "0  0.234088 2019-05-31\n",
            "1  0.233464 2019-06-01\n",
            "(690, 3)    timestamp variable  prediction\n",
            "0 2019-05-31      t+1    0.234088\n",
            "1 2019-06-01      t+1    0.233464\n"
          ],
          "name": "stdout"
        },
        {
          "output_type": "execute_result",
          "data": {
            "text/html": [
              "<div>\n",
              "<style scoped>\n",
              "    .dataframe tbody tr th:only-of-type {\n",
              "        vertical-align: middle;\n",
              "    }\n",
              "\n",
              "    .dataframe tbody tr th {\n",
              "        vertical-align: top;\n",
              "    }\n",
              "\n",
              "    .dataframe thead th {\n",
              "        text-align: right;\n",
              "    }\n",
              "</style>\n",
              "<table border=\"1\" class=\"dataframe\">\n",
              "  <thead>\n",
              "    <tr style=\"text-align: right;\">\n",
              "      <th></th>\n",
              "      <th>timestamp</th>\n",
              "      <th>variable</th>\n",
              "      <th>prediction</th>\n",
              "      <th>actual</th>\n",
              "    </tr>\n",
              "  </thead>\n",
              "  <tbody>\n",
              "    <tr>\n",
              "      <th>124</th>\n",
              "      <td>2019-10-02</td>\n",
              "      <td>t+1</td>\n",
              "      <td>49.668595</td>\n",
              "      <td>49.4500</td>\n",
              "    </tr>\n",
              "    <tr>\n",
              "      <th>613</th>\n",
              "      <td>2021-05-09</td>\n",
              "      <td>t+1</td>\n",
              "      <td>17.842695</td>\n",
              "      <td>17.5480</td>\n",
              "    </tr>\n",
              "    <tr>\n",
              "      <th>503</th>\n",
              "      <td>2021-01-19</td>\n",
              "      <td>t+1</td>\n",
              "      <td>41.486197</td>\n",
              "      <td>40.5285</td>\n",
              "    </tr>\n",
              "    <tr>\n",
              "      <th>630</th>\n",
              "      <td>2021-05-26</td>\n",
              "      <td>t+1</td>\n",
              "      <td>14.655922</td>\n",
              "      <td>14.2810</td>\n",
              "    </tr>\n",
              "    <tr>\n",
              "      <th>465</th>\n",
              "      <td>2020-12-12</td>\n",
              "      <td>t+1</td>\n",
              "      <td>43.138841</td>\n",
              "      <td>43.0200</td>\n",
              "    </tr>\n",
              "  </tbody>\n",
              "</table>\n",
              "</div>"
            ],
            "text/plain": [
              "     timestamp variable  prediction   actual\n",
              "124 2019-10-02      t+1   49.668595  49.4500\n",
              "613 2021-05-09      t+1   17.842695  17.5480\n",
              "503 2021-01-19      t+1   41.486197  40.5285\n",
              "630 2021-05-26      t+1   14.655922  14.2810\n",
              "465 2020-12-12      t+1   43.138841  43.0200"
            ]
          },
          "metadata": {
            "tags": []
          },
          "execution_count": 119
        }
      ]
    },
    {
      "cell_type": "code",
      "metadata": {
        "colab": {
          "base_uri": "https://localhost:8080/"
        },
        "id": "bzDzi75ZntIE",
        "outputId": "2cf712a2-9563-4295-e70c-46afb015bb42"
      },
      "source": [
        "\n",
        "mape(ev_ts_data[\"prediction\"], ev_ts_data[\"actual\"])"
      ],
      "execution_count": 120,
      "outputs": [
        {
          "output_type": "execute_result",
          "data": {
            "text/plain": [
              "0.021427769835395447"
            ]
          },
          "metadata": {
            "tags": []
          },
          "execution_count": 120
        }
      ]
    },
    {
      "cell_type": "code",
      "metadata": {
        "colab": {
          "base_uri": "https://localhost:8080/",
          "height": 393
        },
        "id": "JLjrnZUln0is",
        "outputId": "afb021ea-b541-45d6-8a39-d16de766abf0"
      },
      "source": [
        "ev_ts_data[ev_ts_data.variable=='t+1'].plot(\n",
        "    x=\"timestamp\", y=[\"prediction\", \"actual\"], style=[\"r\", \"b\"], figsize=(10, 6)\n",
        ")"
      ],
      "execution_count": 121,
      "outputs": [
        {
          "output_type": "execute_result",
          "data": {
            "text/plain": [
              "<matplotlib.axes._subplots.AxesSubplot at 0x7f0a7ac12610>"
            ]
          },
          "metadata": {
            "tags": []
          },
          "execution_count": 121
        },
        {
          "output_type": "display_data",
          "data": {
            "image/png": "[encoded data removed]",
            "text/plain": [
              "<Figure size 720x432 with 1 Axes>"
            ]
          },
          "metadata": {
            "tags": [],
            "needs_background": "light"
          }
        }
      ]
    },
    {
      "cell_type": "code",
      "metadata": {
        "id": "WzlD3iZhn5bA"
      },
      "source": [
        "ev_ts_data.to_csv(\"forecast_withdatecolumns.csv\")"
      ],
      "execution_count": 122,
      "outputs": []
    },
    {
      "cell_type": "code",
      "metadata": {
        "id": "JDj4z7gwoEgu"
      },
      "source": [
        "import datetime\n",
        "forecast_dates = ev_ts_data.apply(\n",
        "         lambda row: row.timestamp + datetime.timedelta(days=int(row.variable[2:])),\n",
        "         axis=1)\n",
        "ev_ts_data[\"date\"] = forecast_dates\n"
      ],
      "execution_count": 123,
      "outputs": []
    },
    {
      "cell_type": "code",
      "metadata": {
        "colab": {
          "base_uri": "https://localhost:8080/",
          "height": 112
        },
        "id": "J0G5S-NMo7L3",
        "outputId": "4642d3b0-b3d3-4188-eb90-3034e50f6564"
      },
      "source": [
        "ev_ts_data.head(2)"
      ],
      "execution_count": 124,
      "outputs": [
        {
          "output_type": "execute_result",
          "data": {
            "text/html": [
              "<div>\n",
              "<style scoped>\n",
              "    .dataframe tbody tr th:only-of-type {\n",
              "        vertical-align: middle;\n",
              "    }\n",
              "\n",
              "    .dataframe tbody tr th {\n",
              "        vertical-align: top;\n",
              "    }\n",
              "\n",
              "    .dataframe thead th {\n",
              "        text-align: right;\n",
              "    }\n",
              "</style>\n",
              "<table border=\"1\" class=\"dataframe\">\n",
              "  <thead>\n",
              "    <tr style=\"text-align: right;\">\n",
              "      <th></th>\n",
              "      <th>timestamp</th>\n",
              "      <th>variable</th>\n",
              "      <th>prediction</th>\n",
              "      <th>actual</th>\n",
              "      <th>date</th>\n",
              "    </tr>\n",
              "  </thead>\n",
              "  <tbody>\n",
              "    <tr>\n",
              "      <th>0</th>\n",
              "      <td>2019-05-31</td>\n",
              "      <td>t+1</td>\n",
              "      <td>11.575661</td>\n",
              "      <td>11.25</td>\n",
              "      <td>2019-06-01</td>\n",
              "    </tr>\n",
              "    <tr>\n",
              "      <th>1</th>\n",
              "      <td>2019-06-01</td>\n",
              "      <td>t+1</td>\n",
              "      <td>11.544778</td>\n",
              "      <td>11.22</td>\n",
              "      <td>2019-06-02</td>\n",
              "    </tr>\n",
              "  </tbody>\n",
              "</table>\n",
              "</div>"
            ],
            "text/plain": [
              "   timestamp variable  prediction  actual       date\n",
              "0 2019-05-31      t+1   11.575661   11.25 2019-06-01\n",
              "1 2019-06-01      t+1   11.544778   11.22 2019-06-02"
            ]
          },
          "metadata": {
            "tags": []
          },
          "execution_count": 124
        }
      ]
    },
    {
      "cell_type": "code",
      "metadata": {
        "colab": {
          "base_uri": "https://localhost:8080/"
        },
        "id": "mAcLwsFPo9FU",
        "outputId": "f3269d82-9d33-40e0-90a8-f2ff8b95f7d4"
      },
      "source": [
        "from google.colab import drive\n",
        "drive.mount('/content/gdrive')\n"
      ],
      "execution_count": 125,
      "outputs": [
        {
          "output_type": "stream",
          "text": [
            "Mounted at /content/gdrive\n"
          ],
          "name": "stdout"
        }
      ]
    },
    {
      "cell_type": "code",
      "metadata": {
        "id": "5bU0HzylqUI-"
      },
      "source": [
        "cp -r '/content/30daysto1day' '/content/gdrive/My Drive/Wave2web/'"
      ],
      "execution_count": 127,
      "outputs": []
    },
    {
      "cell_type": "code",
      "metadata": {
        "colab": {
          "base_uri": "https://localhost:8080/",
          "height": 143
        },
        "id": "KrBQf1xzszoV",
        "outputId": "7015072d-54d9-46b0-f0de-d900697b79c7"
      },
      "source": [
        "#finetuning\n",
        "T = 30\n",
        "HORIZON = 1\n",
        "ftrain = ts_data_load.copy()[flist]\n",
        "\n",
        "X_scaler = MinMaxScaler()\n",
        "ftrain[flist] = X_scaler.fit_transform(ftrain)\n",
        "ftrain.sample(2)"
      ],
      "execution_count": 129,
      "outputs": [
        {
          "output_type": "execute_result",
          "data": {
            "text/html": [
              "<div>\n",
              "<style scoped>\n",
              "    .dataframe tbody tr th:only-of-type {\n",
              "        vertical-align: middle;\n",
              "    }\n",
              "\n",
              "    .dataframe tbody tr th {\n",
              "        vertical-align: top;\n",
              "    }\n",
              "\n",
              "    .dataframe thead th {\n",
              "        text-align: right;\n",
              "    }\n",
              "</style>\n",
              "<table border=\"1\" class=\"dataframe\">\n",
              "  <thead>\n",
              "    <tr style=\"text-align: right;\">\n",
              "      <th></th>\n",
              "      <th>present_storage_tmc</th>\n",
              "      <th>inflow_tmc</th>\n",
              "      <th>outflow_tmc</th>\n",
              "      <th>max_temp</th>\n",
              "      <th>visibility</th>\n",
              "      <th>humidity</th>\n",
              "      <th>wind</th>\n",
              "    </tr>\n",
              "    <tr>\n",
              "      <th>date</th>\n",
              "      <th></th>\n",
              "      <th></th>\n",
              "      <th></th>\n",
              "      <th></th>\n",
              "      <th></th>\n",
              "      <th></th>\n",
              "      <th></th>\n",
              "    </tr>\n",
              "  </thead>\n",
              "  <tbody>\n",
              "    <tr>\n",
              "      <th>2011-10-01</th>\n",
              "      <td>0.926390</td>\n",
              "      <td>0.013066</td>\n",
              "      <td>0.044891</td>\n",
              "      <td>0.415888</td>\n",
              "      <td>0.483333</td>\n",
              "      <td>0.762885</td>\n",
              "      <td>0.053769</td>\n",
              "    </tr>\n",
              "    <tr>\n",
              "      <th>2021-04-21</th>\n",
              "      <td>0.396178</td>\n",
              "      <td>0.000739</td>\n",
              "      <td>0.028362</td>\n",
              "      <td>0.691589</td>\n",
              "      <td>0.466667</td>\n",
              "      <td>0.513560</td>\n",
              "      <td>0.049025</td>\n",
              "    </tr>\n",
              "  </tbody>\n",
              "</table>\n",
              "</div>"
            ],
            "text/plain": [
              "            present_storage_tmc  inflow_tmc  ...  humidity      wind\n",
              "date                                         ...                    \n",
              "2011-10-01             0.926390    0.013066  ...  0.762885  0.053769\n",
              "2021-04-21             0.396178    0.000739  ...  0.513560  0.049025\n",
              "\n",
              "[2 rows x 7 columns]"
            ]
          },
          "metadata": {
            "tags": []
          },
          "execution_count": 129
        }
      ]
    },
    {
      "cell_type": "code",
      "metadata": {
        "colab": {
          "base_uri": "https://localhost:8080/",
          "height": 112
        },
        "id": "d08fmXBJyoFk",
        "outputId": "87a67418-2347-43b3-b50f-b394b06b8c86"
      },
      "source": [
        "ftrain.last('1D')"
      ],
      "execution_count": 132,
      "outputs": [
        {
          "output_type": "execute_result",
          "data": {
            "text/html": [
              "<div>\n",
              "<style scoped>\n",
              "    .dataframe tbody tr th:only-of-type {\n",
              "        vertical-align: middle;\n",
              "    }\n",
              "\n",
              "    .dataframe tbody tr th {\n",
              "        vertical-align: top;\n",
              "    }\n",
              "\n",
              "    .dataframe thead th {\n",
              "        text-align: right;\n",
              "    }\n",
              "</style>\n",
              "<table border=\"1\" class=\"dataframe\">\n",
              "  <thead>\n",
              "    <tr style=\"text-align: right;\">\n",
              "      <th></th>\n",
              "      <th>present_storage_tmc</th>\n",
              "      <th>inflow_tmc</th>\n",
              "      <th>outflow_tmc</th>\n",
              "      <th>max_temp</th>\n",
              "      <th>visibility</th>\n",
              "      <th>humidity</th>\n",
              "      <th>wind</th>\n",
              "    </tr>\n",
              "    <tr>\n",
              "      <th>date</th>\n",
              "      <th></th>\n",
              "      <th></th>\n",
              "      <th></th>\n",
              "      <th></th>\n",
              "      <th></th>\n",
              "      <th></th>\n",
              "      <th></th>\n",
              "    </tr>\n",
              "  </thead>\n",
              "  <tbody>\n",
              "    <tr>\n",
              "      <th>2021-07-25</th>\n",
              "      <td>0.488493</td>\n",
              "      <td>0.053957</td>\n",
              "      <td>0.015142</td>\n",
              "      <td>0.415888</td>\n",
              "      <td>0.483333</td>\n",
              "      <td>0.822377</td>\n",
              "      <td>0.108065</td>\n",
              "    </tr>\n",
              "  </tbody>\n",
              "</table>\n",
              "</div>"
            ],
            "text/plain": [
              "            present_storage_tmc  inflow_tmc  ...  humidity      wind\n",
              "date                                         ...                    \n",
              "2021-07-25             0.488493    0.053957  ...  0.822377  0.108065\n",
              "\n",
              "[1 rows x 7 columns]"
            ]
          },
          "metadata": {
            "tags": []
          },
          "execution_count": 132
        }
      ]
    },
    {
      "cell_type": "code",
      "metadata": {
        "colab": {
          "base_uri": "https://localhost:8080/"
        },
        "id": "B01OYl_gz-Dx",
        "outputId": "9e2a3c0f-d27c-4e88-ce6f-6bb061a4575a"
      },
      "source": [
        "from datetime import date\n",
        "date.today()"
      ],
      "execution_count": 135,
      "outputs": [
        {
          "output_type": "stream",
          "text": [
            "2021-07-25\n"
          ],
          "name": "stdout"
        }
      ]
    },
    {
      "cell_type": "code",
      "metadata": {
        "id": "iQ4FGtPBwmM3"
      },
      "source": [
        "tensor_structure = {\"X\": (range(-T + 1, 1), flist)}\n",
        "\n",
        "ts_train_inp = TimeSeriesTensor(\n",
        "    dataset=ftrain,\n",
        "    target=\"present_storage_tmc\",\n",
        "    H=HORIZON,\n",
        "    tensor_structure=tensor_structure,\n",
        "    freq=\"D\",\n",
        "    drop_incomplete=True,\n",
        ")\n",
        "#back_ts_data = dt.datetime.strptime(date.today(), \"%Y-%m-%d %H:%M:%S\") - dt.timedelta(\n",
        "#    days=T - 1\n",
        "#)\n"
      ],
      "execution_count": 137,
      "outputs": []
    },
    {
      "cell_type": "code",
      "metadata": {
        "colab": {
          "base_uri": "https://localhost:8080/"
        },
        "id": "vFlenigtwHr9",
        "outputId": "b753e629-7c1c-4f93-ad0d-6605700071bc"
      },
      "source": [
        "model_history = model.fit(\n",
        "    ts_train_inp[\"X\"],\n",
        "    ts_train_inp[\"target\"],\n",
        "    batch_size=BATCH_SIZE,\n",
        "    epochs=10,\n",
        "    #validation_data=(valid_inputs[\"X\"], valid_inputs[\"target\"]),\n",
        "    callbacks=[earlystop],\n",
        "    verbose=1,\n",
        ")"
      ],
      "execution_count": 138,
      "outputs": [
        {
          "output_type": "stream",
          "text": [
            "Epoch 1/10\n",
            "51/51 [==============================] - 1s 28ms/step - loss: 7.0971e-04\n",
            "WARNING:tensorflow:Early stopping conditioned on metric `val_loss` which is not available. Available metrics are: loss\n"
          ],
          "name": "stdout"
        },
        {
          "output_type": "stream",
          "text": [
            "WARNING:tensorflow:Early stopping conditioned on metric `val_loss` which is not available. Available metrics are: loss\n"
          ],
          "name": "stderr"
        },
        {
          "output_type": "stream",
          "text": [
            "Epoch 2/10\n",
            "51/51 [==============================] - 1s 29ms/step - loss: 6.7915e-04\n",
            "WARNING:tensorflow:Early stopping conditioned on metric `val_loss` which is not available. Available metrics are: loss\n"
          ],
          "name": "stdout"
        },
        {
          "output_type": "stream",
          "text": [
            "WARNING:tensorflow:Early stopping conditioned on metric `val_loss` which is not available. Available metrics are: loss\n"
          ],
          "name": "stderr"
        },
        {
          "output_type": "stream",
          "text": [
            "Epoch 3/10\n",
            "51/51 [==============================] - 1s 29ms/step - loss: 6.5478e-04\n",
            "WARNING:tensorflow:Early stopping conditioned on metric `val_loss` which is not available. Available metrics are: loss\n"
          ],
          "name": "stdout"
        },
        {
          "output_type": "stream",
          "text": [
            "WARNING:tensorflow:Early stopping conditioned on metric `val_loss` which is not available. Available metrics are: loss\n"
          ],
          "name": "stderr"
        },
        {
          "output_type": "stream",
          "text": [
            "Epoch 4/10\n",
            "51/51 [==============================] - 1s 27ms/step - loss: 6.2305e-04\n",
            "WARNING:tensorflow:Early stopping conditioned on metric `val_loss` which is not available. Available metrics are: loss\n"
          ],
          "name": "stdout"
        },
        {
          "output_type": "stream",
          "text": [
            "WARNING:tensorflow:Early stopping conditioned on metric `val_loss` which is not available. Available metrics are: loss\n"
          ],
          "name": "stderr"
        },
        {
          "output_type": "stream",
          "text": [
            "Epoch 5/10\n",
            "51/51 [==============================] - 1s 25ms/step - loss: 6.4628e-04\n",
            "WARNING:tensorflow:Early stopping conditioned on metric `val_loss` which is not available. Available metrics are: loss\n"
          ],
          "name": "stdout"
        },
        {
          "output_type": "stream",
          "text": [
            "WARNING:tensorflow:Early stopping conditioned on metric `val_loss` which is not available. Available metrics are: loss\n"
          ],
          "name": "stderr"
        },
        {
          "output_type": "stream",
          "text": [
            "Epoch 6/10\n",
            "51/51 [==============================] - 1s 26ms/step - loss: 6.2758e-04\n",
            "WARNING:tensorflow:Early stopping conditioned on metric `val_loss` which is not available. Available metrics are: loss\n"
          ],
          "name": "stdout"
        },
        {
          "output_type": "stream",
          "text": [
            "WARNING:tensorflow:Early stopping conditioned on metric `val_loss` which is not available. Available metrics are: loss\n"
          ],
          "name": "stderr"
        },
        {
          "output_type": "stream",
          "text": [
            "Epoch 7/10\n",
            "51/51 [==============================] - 1s 25ms/step - loss: 6.4668e-04\n",
            "WARNING:tensorflow:Early stopping conditioned on metric `val_loss` which is not available. Available metrics are: loss\n"
          ],
          "name": "stdout"
        },
        {
          "output_type": "stream",
          "text": [
            "WARNING:tensorflow:Early stopping conditioned on metric `val_loss` which is not available. Available metrics are: loss\n"
          ],
          "name": "stderr"
        },
        {
          "output_type": "stream",
          "text": [
            "Epoch 8/10\n",
            "51/51 [==============================] - 1s 28ms/step - loss: 6.1546e-04\n",
            "WARNING:tensorflow:Early stopping conditioned on metric `val_loss` which is not available. Available metrics are: loss\n"
          ],
          "name": "stdout"
        },
        {
          "output_type": "stream",
          "text": [
            "WARNING:tensorflow:Early stopping conditioned on metric `val_loss` which is not available. Available metrics are: loss\n"
          ],
          "name": "stderr"
        },
        {
          "output_type": "stream",
          "text": [
            "Epoch 9/10\n",
            "51/51 [==============================] - 1s 26ms/step - loss: 6.2888e-04\n",
            "WARNING:tensorflow:Early stopping conditioned on metric `val_loss` which is not available. Available metrics are: loss\n"
          ],
          "name": "stdout"
        },
        {
          "output_type": "stream",
          "text": [
            "WARNING:tensorflow:Early stopping conditioned on metric `val_loss` which is not available. Available metrics are: loss\n"
          ],
          "name": "stderr"
        },
        {
          "output_type": "stream",
          "text": [
            "Epoch 10/10\n",
            "51/51 [==============================] - 1s 26ms/step - loss: 6.0550e-04\n",
            "WARNING:tensorflow:Early stopping conditioned on metric `val_loss` which is not available. Available metrics are: loss\n"
          ],
          "name": "stdout"
        },
        {
          "output_type": "stream",
          "text": [
            "WARNING:tensorflow:Early stopping conditioned on metric `val_loss` which is not available. Available metrics are: loss\n"
          ],
          "name": "stderr"
        }
      ]
    },
    {
      "cell_type": "code",
      "metadata": {
        "colab": {
          "base_uri": "https://localhost:8080/",
          "height": 310
        },
        "id": "7s6wXrB90d89",
        "outputId": "80f51039-a04e-41be-ebdc-f65805fbf1a6"
      },
      "source": [
        "ts_predictions = model.predict(ts_train_inp[\"X\"])\n",
        "\n",
        "ev_all_data = create_evaluation_df1(ts_predictions, ts_train_inp, HORIZON, y_scaler)\n",
        "ev_all_data.sample(5)"
      ],
      "execution_count": 139,
      "outputs": [
        {
          "output_type": "stream",
          "text": [
            "(3241, 2)         t+1  timestamp\n",
            "0  0.845711 2011-01-29\n",
            "1  0.841041 2011-01-30\n",
            "(3241, 3)    timestamp variable  prediction\n",
            "0 2011-01-29      t+1    0.845711\n",
            "1 2011-01-30      t+1    0.841041\n"
          ],
          "name": "stdout"
        },
        {
          "output_type": "execute_result",
          "data": {
            "text/html": [
              "<div>\n",
              "<style scoped>\n",
              "    .dataframe tbody tr th:only-of-type {\n",
              "        vertical-align: middle;\n",
              "    }\n",
              "\n",
              "    .dataframe tbody tr th {\n",
              "        vertical-align: top;\n",
              "    }\n",
              "\n",
              "    .dataframe thead th {\n",
              "        text-align: right;\n",
              "    }\n",
              "</style>\n",
              "<table border=\"1\" class=\"dataframe\">\n",
              "  <thead>\n",
              "    <tr style=\"text-align: right;\">\n",
              "      <th></th>\n",
              "      <th>timestamp</th>\n",
              "      <th>variable</th>\n",
              "      <th>prediction</th>\n",
              "      <th>actual</th>\n",
              "    </tr>\n",
              "  </thead>\n",
              "  <tbody>\n",
              "    <tr>\n",
              "      <th>972</th>\n",
              "      <td>2015-02-02</td>\n",
              "      <td>t+1</td>\n",
              "      <td>34.932266</td>\n",
              "      <td>35.23</td>\n",
              "    </tr>\n",
              "    <tr>\n",
              "      <th>1485</th>\n",
              "      <td>2016-06-29</td>\n",
              "      <td>t+1</td>\n",
              "      <td>7.623264</td>\n",
              "      <td>8.25</td>\n",
              "    </tr>\n",
              "    <tr>\n",
              "      <th>1890</th>\n",
              "      <td>2017-08-08</td>\n",
              "      <td>t+1</td>\n",
              "      <td>17.880223</td>\n",
              "      <td>17.71</td>\n",
              "    </tr>\n",
              "    <tr>\n",
              "      <th>1404</th>\n",
              "      <td>2016-04-09</td>\n",
              "      <td>t+1</td>\n",
              "      <td>11.258040</td>\n",
              "      <td>11.41</td>\n",
              "    </tr>\n",
              "    <tr>\n",
              "      <th>2259</th>\n",
              "      <td>2018-08-12</td>\n",
              "      <td>t+1</td>\n",
              "      <td>45.890801</td>\n",
              "      <td>45.63</td>\n",
              "    </tr>\n",
              "  </tbody>\n",
              "</table>\n",
              "</div>"
            ],
            "text/plain": [
              "      timestamp variable  prediction  actual\n",
              "972  2015-02-02      t+1   34.932266   35.23\n",
              "1485 2016-06-29      t+1    7.623264    8.25\n",
              "1890 2017-08-08      t+1   17.880223   17.71\n",
              "1404 2016-04-09      t+1   11.258040   11.41\n",
              "2259 2018-08-12      t+1   45.890801   45.63"
            ]
          },
          "metadata": {
            "tags": []
          },
          "execution_count": 139
        }
      ]
    },
    {
      "cell_type": "code",
      "metadata": {
        "colab": {
          "base_uri": "https://localhost:8080/"
        },
        "id": "-FQZNZMP060r",
        "outputId": "e7878c7b-714f-4097-b2cc-dc8963a9f59a"
      },
      "source": [
        "\n",
        "mape(ev_all_data[\"prediction\"], ev_all_data[\"actual\"])"
      ],
      "execution_count": 140,
      "outputs": [
        {
          "output_type": "execute_result",
          "data": {
            "text/plain": [
              "inf"
            ]
          },
          "metadata": {
            "tags": []
          },
          "execution_count": 140
        }
      ]
    },
    {
      "cell_type": "code",
      "metadata": {
        "colab": {
          "base_uri": "https://localhost:8080/",
          "height": 385
        },
        "id": "x2PLV5gE1Jce",
        "outputId": "c2cd073e-98fc-44ae-abfe-4a7fad898402"
      },
      "source": [
        "ev_all_data[ev_all_data.variable=='t+1'].plot(\n",
        "    x=\"timestamp\", y=[\"prediction\", \"actual\"], style=[\"r\", \"b\"], figsize=(10, 6)\n",
        ")"
      ],
      "execution_count": 142,
      "outputs": [
        {
          "output_type": "execute_result",
          "data": {
            "text/plain": [
              "<matplotlib.axes._subplots.AxesSubplot at 0x7f0a7a4aa610>"
            ]
          },
          "metadata": {
            "tags": []
          },
          "execution_count": 142
        },
        {
          "output_type": "display_data",
          "data": {
            "image/png": "[encoded data removed]",
            "text/plain": [
              "<Figure size 720x432 with 1 Axes>"
            ]
          },
          "metadata": {
            "tags": [],
            "needs_background": "light"
          }
        }
      ]
    },
    {
      "cell_type": "code",
      "metadata": {
        "id": "dQ4twFMG1RAG"
      },
      "source": [
        "import datetime\n",
        "forecast_dates = ev_all_data.apply(\n",
        "         lambda row: row.timestamp + datetime.timedelta(days=int(row.variable[2:])),\n",
        "         axis=1)\n",
        "ev_all_data[\"date\"] = forecast_dates\n"
      ],
      "execution_count": 143,
      "outputs": []
    },
    {
      "cell_type": "code",
      "metadata": {
        "id": "HrJutaAv2PNF"
      },
      "source": [
        "ev_all_data.to_csv(\"predictions.csv\")"
      ],
      "execution_count": 146,
      "outputs": []
    },
    {
      "cell_type": "code",
      "metadata": {
        "id": "CmPVn0AE2Q6X"
      },
      "source": [
        "import sqlite3\n"
      ],
      "execution_count": 147,
      "outputs": []
    },
    {
      "cell_type": "code",
      "metadata": {
        "id": "16xoy0rYCwAX"
      },
      "source": [
        "conn = sqlite3.connect('predictions.db')\n",
        "c = conn.cursor()"
      ],
      "execution_count": 148,
      "outputs": []
    },
    {
      "cell_type": "code",
      "metadata": {
        "id": "CU1nQ13AC39B"
      },
      "source": [
        "df = pd.read_csv(\"predictions.csv\")"
      ],
      "execution_count": 149,
      "outputs": []
    },
    {
      "cell_type": "code",
      "metadata": {
        "colab": {
          "base_uri": "https://localhost:8080/",
          "height": 206
        },
        "id": "tfWw-0xVDOB5",
        "outputId": "8bf2f5ac-2524-4254-c557-f2db9f4f19ae"
      },
      "source": [
        "df.head()"
      ],
      "execution_count": 150,
      "outputs": [
        {
          "output_type": "execute_result",
          "data": {
            "text/html": [
              "<div>\n",
              "<style scoped>\n",
              "    .dataframe tbody tr th:only-of-type {\n",
              "        vertical-align: middle;\n",
              "    }\n",
              "\n",
              "    .dataframe tbody tr th {\n",
              "        vertical-align: top;\n",
              "    }\n",
              "\n",
              "    .dataframe thead th {\n",
              "        text-align: right;\n",
              "    }\n",
              "</style>\n",
              "<table border=\"1\" class=\"dataframe\">\n",
              "  <thead>\n",
              "    <tr style=\"text-align: right;\">\n",
              "      <th></th>\n",
              "      <th>Unnamed: 0</th>\n",
              "      <th>timestamp</th>\n",
              "      <th>variable</th>\n",
              "      <th>prediction</th>\n",
              "      <th>actual</th>\n",
              "      <th>date</th>\n",
              "    </tr>\n",
              "  </thead>\n",
              "  <tbody>\n",
              "    <tr>\n",
              "      <th>0</th>\n",
              "      <td>0</td>\n",
              "      <td>2011-01-29</td>\n",
              "      <td>t+1</td>\n",
              "      <td>41.820400</td>\n",
              "      <td>41.79</td>\n",
              "      <td>2011-01-30</td>\n",
              "    </tr>\n",
              "    <tr>\n",
              "      <th>1</th>\n",
              "      <td>1</td>\n",
              "      <td>2011-01-30</td>\n",
              "      <td>t+1</td>\n",
              "      <td>41.589464</td>\n",
              "      <td>41.56</td>\n",
              "      <td>2011-01-31</td>\n",
              "    </tr>\n",
              "    <tr>\n",
              "      <th>2</th>\n",
              "      <td>2</td>\n",
              "      <td>2011-01-31</td>\n",
              "      <td>t+1</td>\n",
              "      <td>41.276625</td>\n",
              "      <td>41.30</td>\n",
              "      <td>2011-02-01</td>\n",
              "    </tr>\n",
              "    <tr>\n",
              "      <th>3</th>\n",
              "      <td>3</td>\n",
              "      <td>2011-02-01</td>\n",
              "      <td>t+1</td>\n",
              "      <td>41.035273</td>\n",
              "      <td>40.98</td>\n",
              "      <td>2011-02-02</td>\n",
              "    </tr>\n",
              "    <tr>\n",
              "      <th>4</th>\n",
              "      <td>4</td>\n",
              "      <td>2011-02-02</td>\n",
              "      <td>t+1</td>\n",
              "      <td>40.736331</td>\n",
              "      <td>40.66</td>\n",
              "      <td>2011-02-03</td>\n",
              "    </tr>\n",
              "  </tbody>\n",
              "</table>\n",
              "</div>"
            ],
            "text/plain": [
              "   Unnamed: 0   timestamp variable  prediction  actual        date\n",
              "0           0  2011-01-29      t+1   41.820400   41.79  2011-01-30\n",
              "1           1  2011-01-30      t+1   41.589464   41.56  2011-01-31\n",
              "2           2  2011-01-31      t+1   41.276625   41.30  2011-02-01\n",
              "3           3  2011-02-01      t+1   41.035273   40.98  2011-02-02\n",
              "4           4  2011-02-02      t+1   40.736331   40.66  2011-02-03"
            ]
          },
          "metadata": {
            "tags": []
          },
          "execution_count": 150
        }
      ]
    },
    {
      "cell_type": "code",
      "metadata": {
        "colab": {
          "base_uri": "https://localhost:8080/"
        },
        "id": "hKGeymgMDMAu",
        "outputId": "b6ac5b59-c81c-43ea-f872-63c4b9ca3e9a"
      },
      "source": [
        "c.execute(\"CREATE TABLE PREDICTIONS ([timestamp] integer, [prediction] integer, [actual] integer, [date] integer)\")"
      ],
      "execution_count": 154,
      "outputs": [
        {
          "output_type": "execute_result",
          "data": {
            "text/plain": [
              "<sqlite3.Cursor at 0x7f0a7a395dc0>"
            ]
          },
          "metadata": {
            "tags": []
          },
          "execution_count": 154
        }
      ]
    },
    {
      "cell_type": "code",
      "metadata": {
        "id": "0v84cYD1C-9R"
      },
      "source": [
        "conn.commit()"
      ],
      "execution_count": 155,
      "outputs": []
    },
    {
      "cell_type": "code",
      "metadata": {
        "id": "LrZGuYonE3FJ"
      },
      "source": [
        "conn = sqlite3.connect('predictions.db')  \n",
        "c = conn.cursor()"
      ],
      "execution_count": 156,
      "outputs": []
    },
    {
      "cell_type": "code",
      "metadata": {
        "id": "maBd8_BAFA9V"
      },
      "source": [
        "df[['timestamp', 'prediction', 'actual', 'date']].to_sql('PREDICTIONS', conn, if_exists='append', index = False)"
      ],
      "execution_count": 158,
      "outputs": []
    },
    {
      "cell_type": "code",
      "metadata": {
        "id": "HafYiL9eFJ10"
      },
      "source": [
        ""
      ],
      "execution_count": null,
      "outputs": []
    }
  ]
}