{
  "nbformat": 4,
  "nbformat_minor": 0,
  "metadata": {
    "colab": {
      "name": "finetuning 9o days to 30 days.ipynb",
      "provenance": []
    },
    "kernelspec": {
      "name": "python3",
      "display_name": "Python 3"
    },
    "language_info": {
      "name": "python"
    }
  },
  "cells": [
    {
      "cell_type": "code",
      "metadata": {
        "id": "3Hsj9_grfmCe"
      },
      "source": [
        "import datetime as dt\n",
        "import os\n",
        "import warnings\n",
        "from collections import UserDict\n",
        "\n",
        "import matplotlib.pyplot as plt\n",
        "import numpy as np\n",
        "import pandas as pd\n",
        "from utils import TimeSeriesTensor, mape, extract_data, create_evaluation_df\n",
        "from IPython.display import Image\n",
        "from sklearn.preprocessing import MinMaxScaler\n",
        "\n",
        "%matplotlib inline"
      ],
      "execution_count": null,
      "outputs": []
    },
    {
      "cell_type": "code",
      "metadata": {
        "colab": {
          "base_uri": "https://localhost:8080/"
        },
        "id": "EDGPs34cWkUd",
        "outputId": "b35a9e21-cacd-42dc-a216-39bf685f5993"
      },
      "source": [
        "!git clone https://github.com/Arghyam-Team/KRSPrediction.git"
      ],
      "execution_count": null,
      "outputs": [
        {
          "output_type": "stream",
          "text": [
            "Cloning into 'KRSPrediction'...\n",
            "remote: Enumerating objects: 209, done.\u001b[K\n",
            "remote: Counting objects: 100% (209/209), done.\u001b[K\n",
            "remote: Compressing objects: 100% (152/152), done.\u001b[K\n",
            "remote: Total 209 (delta 84), reused 114 (delta 33), pack-reused 0\u001b[K\n",
            "Receiving objects: 100% (209/209), 3.55 MiB | 8.86 MiB/s, done.\n",
            "Resolving deltas: 100% (84/84), done.\n"
          ],
          "name": "stdout"
        }
      ]
    },
    {
      "cell_type": "code",
      "metadata": {
        "id": "jAqiS97cYAUM"
      },
      "source": [
        "import sqlite3\n",
        "db_file = '/content/KRSPrediction/data/pythonsqlite.db'\n",
        "conn = sqlite3.connect(db_file)\n",
        "cur = conn.cursor()\n",
        "sql = \"SELECT water.date, water.storage_tmc, water.inflow_cusecs, water.outflow_cusecs, weather.max_temp, weather.visibility, weather.wind, weather.humidity, weather.cloudcover FROM water INNER JOIN weather ON  water.reservoir='krs' AND weather.location='karnataka' AND water.date = weather.date\"\n",
        "cur.execute(sql)\n",
        "rows = cur.fetchall() # rows is a list of tuples (date, tmc,inflow,outflow,maxtemp,vis,wind,hum,cloud)"
      ],
      "execution_count": null,
      "outputs": []
    },
    {
      "cell_type": "code",
      "metadata": {
        "id": "D5igmCUmfAry"
      },
      "source": [
        "krs = pd.DataFrame(rows, columns=['date', 'present_storage_tmc', 'inflow', 'outflow', 'max_temp', 'visibility', 'wind', 'humidity', 'cloudcover'])"
      ],
      "execution_count": null,
      "outputs": []
    },
    {
      "cell_type": "code",
      "metadata": {
        "colab": {
          "base_uri": "https://localhost:8080/",
          "height": 111
        },
        "id": "3Nrw-WdZgCqz",
        "outputId": "c889a9ae-54ca-4ca7-b47b-660ad43ceba5"
      },
      "source": [
        "krs.head(2)"
      ],
      "execution_count": null,
      "outputs": [
        {
          "output_type": "execute_result",
          "data": {
            "text/html": [
              "<div>\n",
              "<style scoped>\n",
              "    .dataframe tbody tr th:only-of-type {\n",
              "        vertical-align: middle;\n",
              "    }\n",
              "\n",
              "    .dataframe tbody tr th {\n",
              "        vertical-align: top;\n",
              "    }\n",
              "\n",
              "    .dataframe thead th {\n",
              "        text-align: right;\n",
              "    }\n",
              "</style>\n",
              "<table border=\"1\" class=\"dataframe\">\n",
              "  <thead>\n",
              "    <tr style=\"text-align: right;\">\n",
              "      <th></th>\n",
              "      <th>date</th>\n",
              "      <th>present_storage_tmc</th>\n",
              "      <th>inflow</th>\n",
              "      <th>outflow</th>\n",
              "      <th>max_temp</th>\n",
              "      <th>visibility</th>\n",
              "      <th>wind</th>\n",
              "      <th>humidity</th>\n",
              "      <th>cloudcover</th>\n",
              "    </tr>\n",
              "  </thead>\n",
              "  <tbody>\n",
              "    <tr>\n",
              "      <th>0</th>\n",
              "      <td>2011-01-01</td>\n",
              "      <td>46.42</td>\n",
              "      <td>2029</td>\n",
              "      <td>2000.0</td>\n",
              "      <td>28.1</td>\n",
              "      <td>6.7</td>\n",
              "      <td>11.2</td>\n",
              "      <td>71.39</td>\n",
              "      <td>36.7</td>\n",
              "    </tr>\n",
              "    <tr>\n",
              "      <th>1</th>\n",
              "      <td>2011-01-02</td>\n",
              "      <td>46.54</td>\n",
              "      <td>3084</td>\n",
              "      <td>1490.0</td>\n",
              "      <td>28.0</td>\n",
              "      <td>6.2</td>\n",
              "      <td>10.3</td>\n",
              "      <td>72.90</td>\n",
              "      <td>51.4</td>\n",
              "    </tr>\n",
              "  </tbody>\n",
              "</table>\n",
              "</div>"
            ],
            "text/plain": [
              "         date  present_storage_tmc inflow  ...  wind  humidity  cloudcover\n",
              "0  2011-01-01                46.42   2029  ...  11.2     71.39        36.7\n",
              "1  2011-01-02                46.54   3084  ...  10.3     72.90        51.4\n",
              "\n",
              "[2 rows x 9 columns]"
            ]
          },
          "metadata": {
            "tags": []
          },
          "execution_count": 5
        }
      ]
    },
    {
      "cell_type": "code",
      "metadata": {
        "id": "wfOI47s_gZ68"
      },
      "source": [
        "krs = krs.drop_duplicates(subset=[\"date\"])"
      ],
      "execution_count": null,
      "outputs": []
    },
    {
      "cell_type": "code",
      "metadata": {
        "id": "nKaS921Ygg7W"
      },
      "source": [
        "krs.date = pd.to_datetime(krs.date)\n",
        "krs['inflow'] = pd.to_numeric(krs.inflow, errors='coerce')"
      ],
      "execution_count": null,
      "outputs": []
    },
    {
      "cell_type": "code",
      "metadata": {
        "colab": {
          "base_uri": "https://localhost:8080/"
        },
        "id": "Vx-YD6e8gMEp",
        "outputId": "54c62421-96f2-48e2-ea74-311345926d29"
      },
      "source": [
        "krs.info()"
      ],
      "execution_count": null,
      "outputs": [
        {
          "output_type": "stream",
          "text": [
            "<class 'pandas.core.frame.DataFrame'>\n",
            "Int64Index: 3531 entries, 0 to 3535\n",
            "Data columns (total 9 columns):\n",
            " #   Column               Non-Null Count  Dtype         \n",
            "---  ------               --------------  -----         \n",
            " 0   date                 3531 non-null   datetime64[ns]\n",
            " 1   present_storage_tmc  3531 non-null   float64       \n",
            " 2   inflow               3530 non-null   float64       \n",
            " 3   outflow              3531 non-null   float64       \n",
            " 4   max_temp             3531 non-null   float64       \n",
            " 5   visibility           3531 non-null   float64       \n",
            " 6   wind                 3531 non-null   float64       \n",
            " 7   humidity             3531 non-null   float64       \n",
            " 8   cloudcover           3531 non-null   float64       \n",
            "dtypes: datetime64[ns](1), float64(8)\n",
            "memory usage: 275.9 KB\n"
          ],
          "name": "stdout"
        }
      ]
    },
    {
      "cell_type": "code",
      "metadata": {
        "id": "G5LUmj2RgO3V"
      },
      "source": [
        "krs['inflow_tmc'] = krs['inflow'] /11000\n",
        "krs['outflow_tmc'] = krs['outflow'] / 11000"
      ],
      "execution_count": null,
      "outputs": []
    },
    {
      "cell_type": "code",
      "metadata": {
        "id": "iK2xLLLdgwR8"
      },
      "source": [
        "krs.sort_values(by=['date'], inplace=True, ascending=True)"
      ],
      "execution_count": null,
      "outputs": []
    },
    {
      "cell_type": "code",
      "metadata": {
        "id": "AHfU5Dfdg9T1"
      },
      "source": [
        "krs.set_index('date', inplace=True)\n",
        "krs = krs.sort_index(axis=1)"
      ],
      "execution_count": null,
      "outputs": []
    },
    {
      "cell_type": "code",
      "metadata": {
        "colab": {
          "base_uri": "https://localhost:8080/",
          "height": 143
        },
        "id": "OnCsUM6Zgz5r",
        "outputId": "1a948810-aac6-43de-ace6-2b408c95ad63"
      },
      "source": [
        "krs.head(2)"
      ],
      "execution_count": null,
      "outputs": [
        {
          "output_type": "execute_result",
          "data": {
            "text/html": [
              "<div>\n",
              "<style scoped>\n",
              "    .dataframe tbody tr th:only-of-type {\n",
              "        vertical-align: middle;\n",
              "    }\n",
              "\n",
              "    .dataframe tbody tr th {\n",
              "        vertical-align: top;\n",
              "    }\n",
              "\n",
              "    .dataframe thead th {\n",
              "        text-align: right;\n",
              "    }\n",
              "</style>\n",
              "<table border=\"1\" class=\"dataframe\">\n",
              "  <thead>\n",
              "    <tr style=\"text-align: right;\">\n",
              "      <th></th>\n",
              "      <th>cloudcover</th>\n",
              "      <th>humidity</th>\n",
              "      <th>inflow</th>\n",
              "      <th>inflow_tmc</th>\n",
              "      <th>max_temp</th>\n",
              "      <th>outflow</th>\n",
              "      <th>outflow_tmc</th>\n",
              "      <th>present_storage_tmc</th>\n",
              "      <th>visibility</th>\n",
              "      <th>wind</th>\n",
              "    </tr>\n",
              "    <tr>\n",
              "      <th>date</th>\n",
              "      <th></th>\n",
              "      <th></th>\n",
              "      <th></th>\n",
              "      <th></th>\n",
              "      <th></th>\n",
              "      <th></th>\n",
              "      <th></th>\n",
              "      <th></th>\n",
              "      <th></th>\n",
              "      <th></th>\n",
              "    </tr>\n",
              "  </thead>\n",
              "  <tbody>\n",
              "    <tr>\n",
              "      <th>2010-09-30</th>\n",
              "      <td>79.6</td>\n",
              "      <td>81.05</td>\n",
              "      <td>2706.0</td>\n",
              "      <td>0.246000</td>\n",
              "      <td>29.4</td>\n",
              "      <td>6840.0</td>\n",
              "      <td>0.621818</td>\n",
              "      <td>46.18</td>\n",
              "      <td>5.2</td>\n",
              "      <td>11.2</td>\n",
              "    </tr>\n",
              "    <tr>\n",
              "      <th>2010-12-31</th>\n",
              "      <td>51.0</td>\n",
              "      <td>70.80</td>\n",
              "      <td>2668.0</td>\n",
              "      <td>0.242545</td>\n",
              "      <td>27.5</td>\n",
              "      <td>6795.0</td>\n",
              "      <td>0.617727</td>\n",
              "      <td>45.81</td>\n",
              "      <td>6.9</td>\n",
              "      <td>11.2</td>\n",
              "    </tr>\n",
              "  </tbody>\n",
              "</table>\n",
              "</div>"
            ],
            "text/plain": [
              "            cloudcover  humidity  inflow  ...  present_storage_tmc  visibility  wind\n",
              "date                                      ...                                       \n",
              "2010-09-30        79.6     81.05  2706.0  ...                46.18         5.2  11.2\n",
              "2010-12-31        51.0     70.80  2668.0  ...                45.81         6.9  11.2\n",
              "\n",
              "[2 rows x 10 columns]"
            ]
          },
          "metadata": {
            "tags": []
          },
          "execution_count": 12
        }
      ]
    },
    {
      "cell_type": "code",
      "metadata": {
        "id": "Gs1DTY5cg1GH"
      },
      "source": [
        "#time series data on which model needs to be trained on, features contain the column names\n",
        "ts_data_load = krs[[ \"present_storage_tmc\", \"inflow_tmc\", \"outflow_tmc\", \"max_temp\", \"visibility\", \"humidity\", \"wind\"]]\n",
        "ts_data_load.sort_index(axis = 1)\n",
        "features = len(ts_data_load.columns)\n",
        "#features, ts_data_load.head(2), ts_data_load.tail(2)"
      ],
      "execution_count": null,
      "outputs": []
    },
    {
      "cell_type": "code",
      "metadata": {
        "id": "_37xDtxyhsdo"
      },
      "source": [
        "valid_st_data_load = \"2018-01-01 00:00:00\"\n",
        "test_st_data_load = \"2019-05-02 00:00:00\""
      ],
      "execution_count": null,
      "outputs": []
    },
    {
      "cell_type": "code",
      "metadata": {
        "colab": {
          "base_uri": "https://localhost:8080/",
          "height": 111
        },
        "id": "_-5VWGJaiOlu",
        "outputId": "82c2e625-927c-410f-a934-39794b07f132"
      },
      "source": [
        "ts_data_load[ts_data_load.index==valid_st_data_load]"
      ],
      "execution_count": null,
      "outputs": [
        {
          "output_type": "execute_result",
          "data": {
            "text/html": [
              "<div>\n",
              "<style scoped>\n",
              "    .dataframe tbody tr th:only-of-type {\n",
              "        vertical-align: middle;\n",
              "    }\n",
              "\n",
              "    .dataframe tbody tr th {\n",
              "        vertical-align: top;\n",
              "    }\n",
              "\n",
              "    .dataframe thead th {\n",
              "        text-align: right;\n",
              "    }\n",
              "</style>\n",
              "<table border=\"1\" class=\"dataframe\">\n",
              "  <thead>\n",
              "    <tr style=\"text-align: right;\">\n",
              "      <th></th>\n",
              "      <th>present_storage_tmc</th>\n",
              "      <th>inflow_tmc</th>\n",
              "      <th>outflow_tmc</th>\n",
              "      <th>max_temp</th>\n",
              "      <th>visibility</th>\n",
              "      <th>humidity</th>\n",
              "      <th>wind</th>\n",
              "    </tr>\n",
              "    <tr>\n",
              "      <th>date</th>\n",
              "      <th></th>\n",
              "      <th></th>\n",
              "      <th></th>\n",
              "      <th></th>\n",
              "      <th></th>\n",
              "      <th></th>\n",
              "      <th></th>\n",
              "    </tr>\n",
              "  </thead>\n",
              "  <tbody>\n",
              "    <tr>\n",
              "      <th>2018-01-01</th>\n",
              "      <td>25.55</td>\n",
              "      <td>0.026455</td>\n",
              "      <td>0.313182</td>\n",
              "      <td>28.0</td>\n",
              "      <td>6.6</td>\n",
              "      <td>65.5</td>\n",
              "      <td>11.0</td>\n",
              "    </tr>\n",
              "  </tbody>\n",
              "</table>\n",
              "</div>"
            ],
            "text/plain": [
              "            present_storage_tmc  inflow_tmc  ...  humidity  wind\n",
              "date                                         ...                \n",
              "2018-01-01                25.55    0.026455  ...      65.5  11.0\n",
              "\n",
              "[1 rows x 7 columns]"
            ]
          },
          "metadata": {
            "tags": []
          },
          "execution_count": 15
        }
      ]
    },
    {
      "cell_type": "code",
      "metadata": {
        "colab": {
          "base_uri": "https://localhost:8080/",
          "height": 473
        },
        "id": "yfVG2VmNiPw_",
        "outputId": "f13ee0bd-c420-44c0-ce00-fc15195f5628"
      },
      "source": [
        "ts_data_load[ts_data_load.index < valid_st_data_load][[\"present_storage_tmc\"]].rename(columns={\"present_storage_tmc\": \"train\"}).join(\n",
        "    ts_data_load[(ts_data_load.index >= valid_st_data_load) & (ts_data_load.index < test_st_data_load)][\n",
        "        [\"present_storage_tmc\"]\n",
        "    ].rename(columns={\"present_storage_tmc\": \"validation\"}),\n",
        "    how=\"outer\",\n",
        ").join(\n",
        "    ts_data_load[test_st_data_load:][[\"present_storage_tmc\"]].rename(columns={\"present_storage_tmc\": \"test\"}), how=\"outer\"\n",
        ").plot(\n",
        "    y=[\"train\", \"validation\", \"test\"], figsize=(15, 8), fontsize=12\n",
        ")\n",
        "plt.xlabel(\"timestamp\", fontsize=12)\n",
        "plt.ylabel(\"PRESENT_STORAGE_TMC\", fontsize=12)\n",
        "plt.show()"
      ],
      "execution_count": null,
      "outputs": [
        {
          "output_type": "display_data",
          "data": {
            "image/png": "[encoded data removed]",
            "text/plain": [
              "<Figure size 1080x576 with 1 Axes>"
            ]
          },
          "metadata": {
            "tags": [],
            "needs_background": "light"
          }
        }
      ]
    },
    {
      "cell_type": "code",
      "metadata": {
        "id": "FDtwm2V9jIqe"
      },
      "source": [
        "train = ts_data_load.copy()[ts_data_load.index < valid_st_data_load]"
      ],
      "execution_count": null,
      "outputs": []
    },
    {
      "cell_type": "code",
      "metadata": {
        "colab": {
          "base_uri": "https://localhost:8080/"
        },
        "id": "iXqAZRtAkOPB",
        "outputId": "d2fd8868-9e5f-4817-cc62-7cbdd0fdc2a4"
      },
      "source": [
        "train.shape"
      ],
      "execution_count": null,
      "outputs": [
        {
          "output_type": "execute_result",
          "data": {
            "text/plain": [
              "(2250, 7)"
            ]
          },
          "metadata": {
            "tags": []
          },
          "execution_count": 18
        }
      ]
    },
    {
      "cell_type": "code",
      "metadata": {
        "colab": {
          "base_uri": "https://localhost:8080/"
        },
        "id": "FGEo0AeZkPJ5",
        "outputId": "08d096fc-f2a8-49c4-c3ce-b0ba8e3f57aa"
      },
      "source": [
        "y_scaler = MinMaxScaler()\n",
        "y_scaler.fit(train[[\"present_storage_tmc\"]])"
      ],
      "execution_count": null,
      "outputs": [
        {
          "output_type": "execute_result",
          "data": {
            "text/plain": [
              "MinMaxScaler(copy=True, feature_range=(0, 1))"
            ]
          },
          "metadata": {
            "tags": []
          },
          "execution_count": 19
        }
      ]
    },
    {
      "cell_type": "code",
      "metadata": {
        "id": "crXHsio6kT6G"
      },
      "source": [
        "flist = list(ts_data_load.columns)"
      ],
      "execution_count": null,
      "outputs": []
    },
    {
      "cell_type": "code",
      "metadata": {
        "colab": {
          "base_uri": "https://localhost:8080/",
          "height": 392
        },
        "id": "FGwFbxWEkXME",
        "outputId": "93d58a46-8358-44a0-ca37-4e898938a31b"
      },
      "source": [
        "T = 90\n",
        "HORIZON = 30\n",
        "train = ts_data_load.copy()[ts_data_load.index < valid_st_data_load][flist]\n",
        "\n",
        "X_scaler = MinMaxScaler()\n",
        "train[flist] = X_scaler.fit_transform(train)\n",
        "train.sample(10)"
      ],
      "execution_count": null,
      "outputs": [
        {
          "output_type": "execute_result",
          "data": {
            "text/html": [
              "<div>\n",
              "<style scoped>\n",
              "    .dataframe tbody tr th:only-of-type {\n",
              "        vertical-align: middle;\n",
              "    }\n",
              "\n",
              "    .dataframe tbody tr th {\n",
              "        vertical-align: top;\n",
              "    }\n",
              "\n",
              "    .dataframe thead th {\n",
              "        text-align: right;\n",
              "    }\n",
              "</style>\n",
              "<table border=\"1\" class=\"dataframe\">\n",
              "  <thead>\n",
              "    <tr style=\"text-align: right;\">\n",
              "      <th></th>\n",
              "      <th>present_storage_tmc</th>\n",
              "      <th>inflow_tmc</th>\n",
              "      <th>outflow_tmc</th>\n",
              "      <th>max_temp</th>\n",
              "      <th>visibility</th>\n",
              "      <th>humidity</th>\n",
              "      <th>wind</th>\n",
              "    </tr>\n",
              "    <tr>\n",
              "      <th>date</th>\n",
              "      <th></th>\n",
              "      <th></th>\n",
              "      <th></th>\n",
              "      <th></th>\n",
              "      <th></th>\n",
              "      <th></th>\n",
              "      <th></th>\n",
              "    </tr>\n",
              "  </thead>\n",
              "  <tbody>\n",
              "    <tr>\n",
              "      <th>2017-06-15</th>\n",
              "      <td>0.127401</td>\n",
              "      <td>0.011892</td>\n",
              "      <td>0.005871</td>\n",
              "      <td>0.462617</td>\n",
              "      <td>0.866667</td>\n",
              "      <td>0.628442</td>\n",
              "      <td>0.140123</td>\n",
              "    </tr>\n",
              "    <tr>\n",
              "      <th>2012-07-13</th>\n",
              "      <td>0.194135</td>\n",
              "      <td>0.018001</td>\n",
              "      <td>0.028748</td>\n",
              "      <td>0.537383</td>\n",
              "      <td>0.683333</td>\n",
              "      <td>0.598272</td>\n",
              "      <td>0.127820</td>\n",
              "    </tr>\n",
              "    <tr>\n",
              "      <th>2016-05-28</th>\n",
              "      <td>0.204449</td>\n",
              "      <td>0.001299</td>\n",
              "      <td>0.006145</td>\n",
              "      <td>0.649533</td>\n",
              "      <td>0.816667</td>\n",
              "      <td>0.601201</td>\n",
              "      <td>0.160629</td>\n",
              "    </tr>\n",
              "    <tr>\n",
              "      <th>2011-12-26</th>\n",
              "      <td>0.839636</td>\n",
              "      <td>0.043074</td>\n",
              "      <td>0.060092</td>\n",
              "      <td>0.453271</td>\n",
              "      <td>0.683333</td>\n",
              "      <td>0.316198</td>\n",
              "      <td>0.082023</td>\n",
              "    </tr>\n",
              "    <tr>\n",
              "      <th>2017-09-01</th>\n",
              "      <td>0.444085</td>\n",
              "      <td>0.208443</td>\n",
              "      <td>0.112569</td>\n",
              "      <td>0.415888</td>\n",
              "      <td>0.583333</td>\n",
              "      <td>0.796426</td>\n",
              "      <td>0.075871</td>\n",
              "    </tr>\n",
              "    <tr>\n",
              "      <th>2015-05-22</th>\n",
              "      <td>0.236805</td>\n",
              "      <td>0.006810</td>\n",
              "      <td>0.003742</td>\n",
              "      <td>0.742991</td>\n",
              "      <td>0.766667</td>\n",
              "      <td>0.677651</td>\n",
              "      <td>0.121668</td>\n",
              "    </tr>\n",
              "    <tr>\n",
              "      <th>2016-06-29</th>\n",
              "      <td>0.139737</td>\n",
              "      <td>0.022276</td>\n",
              "      <td>0.014795</td>\n",
              "      <td>0.266355</td>\n",
              "      <td>0.516667</td>\n",
              "      <td>0.901435</td>\n",
              "      <td>0.153110</td>\n",
              "    </tr>\n",
              "    <tr>\n",
              "      <th>2017-06-22</th>\n",
              "      <td>0.130030</td>\n",
              "      <td>0.012647</td>\n",
              "      <td>0.010972</td>\n",
              "      <td>0.462617</td>\n",
              "      <td>0.800000</td>\n",
              "      <td>0.689367</td>\n",
              "      <td>0.139440</td>\n",
              "    </tr>\n",
              "    <tr>\n",
              "      <th>2015-06-06</th>\n",
              "      <td>0.189282</td>\n",
              "      <td>0.007135</td>\n",
              "      <td>0.002424</td>\n",
              "      <td>0.696262</td>\n",
              "      <td>0.716667</td>\n",
              "      <td>0.639572</td>\n",
              "      <td>0.069720</td>\n",
              "    </tr>\n",
              "    <tr>\n",
              "      <th>2015-02-13</th>\n",
              "      <td>0.686754</td>\n",
              "      <td>0.003384</td>\n",
              "      <td>0.045591</td>\n",
              "      <td>0.672897</td>\n",
              "      <td>0.700000</td>\n",
              "      <td>0.372876</td>\n",
              "      <td>0.045113</td>\n",
              "    </tr>\n",
              "  </tbody>\n",
              "</table>\n",
              "</div>"
            ],
            "text/plain": [
              "            present_storage_tmc  inflow_tmc  ...  humidity      wind\n",
              "date                                         ...                    \n",
              "2017-06-15             0.127401    0.011892  ...  0.628442  0.140123\n",
              "2012-07-13             0.194135    0.018001  ...  0.598272  0.127820\n",
              "2016-05-28             0.204449    0.001299  ...  0.601201  0.160629\n",
              "2011-12-26             0.839636    0.043074  ...  0.316198  0.082023\n",
              "2017-09-01             0.444085    0.208443  ...  0.796426  0.075871\n",
              "2015-05-22             0.236805    0.006810  ...  0.677651  0.121668\n",
              "2016-06-29             0.139737    0.022276  ...  0.901435  0.153110\n",
              "2017-06-22             0.130030    0.012647  ...  0.689367  0.139440\n",
              "2015-06-06             0.189282    0.007135  ...  0.639572  0.069720\n",
              "2015-02-13             0.686754    0.003384  ...  0.372876  0.045113\n",
              "\n",
              "[10 rows x 7 columns]"
            ]
          },
          "metadata": {
            "tags": []
          },
          "execution_count": 21
        }
      ]
    },
    {
      "cell_type": "code",
      "metadata": {
        "colab": {
          "base_uri": "https://localhost:8080/"
        },
        "id": "frdXuNOIkads",
        "outputId": "ddcda98c-1ac6-491e-f023-128f4f0c7571"
      },
      "source": [
        "train = train.dropna(axis = 0, how ='any')\n",
        "train.isna().sum()"
      ],
      "execution_count": null,
      "outputs": [
        {
          "output_type": "execute_result",
          "data": {
            "text/plain": [
              "present_storage_tmc    0\n",
              "inflow_tmc             0\n",
              "outflow_tmc            0\n",
              "max_temp               0\n",
              "visibility             0\n",
              "humidity               0\n",
              "wind                   0\n",
              "dtype: int64"
            ]
          },
          "metadata": {
            "tags": []
          },
          "execution_count": 22
        }
      ]
    },
    {
      "cell_type": "code",
      "metadata": {
        "colab": {
          "base_uri": "https://localhost:8080/"
        },
        "id": "VL8-XySDkejU",
        "outputId": "e3696bdc-967e-425d-dcaf-3c4cb8752bd4"
      },
      "source": [
        "tensor_structure = {\"X\": (range(-T + 1, 1), flist)}\n",
        "print(tensor_structure)\n",
        "ts_train_inp = TimeSeriesTensor(\n",
        "    dataset=train,\n",
        "    target=\"present_storage_tmc\",\n",
        "    H=HORIZON,\n",
        "    tensor_structure=tensor_structure,\n",
        "    freq=\"D\",\n",
        "    drop_incomplete=True,\n",
        ")\n",
        "back_ts_data = dt.datetime.strptime(valid_st_data_load, \"%Y-%m-%d %H:%M:%S\") - dt.timedelta(\n",
        "    days=T - 1\n",
        ")\n",
        "valid = ts_data_load.copy()[(ts_data_load.index >= back_ts_data) & (ts_data_load.index < test_st_data_load)][\n",
        "    flist\n",
        "]\n",
        "valid[flist] = X_scaler.transform(valid)\n",
        "valid_inputs = TimeSeriesTensor(valid, \"present_storage_tmc\", HORIZON, tensor_structure, freq='D')"
      ],
      "execution_count": null,
      "outputs": [
        {
          "output_type": "stream",
          "text": [
            "{'X': (range(-89, 1), ['present_storage_tmc', 'inflow_tmc', 'outflow_tmc', 'max_temp', 'visibility', 'humidity', 'wind'])}\n"
          ],
          "name": "stdout"
        }
      ]
    },
    {
      "cell_type": "code",
      "metadata": {
        "id": "2euBCSu7khjL"
      },
      "source": [
        "from tensorflow.keras.callbacks import EarlyStopping\n",
        "from tensorflow.keras.layers import GRU, Dense\n",
        "from tensorflow.keras.models import Model, Sequential"
      ],
      "execution_count": null,
      "outputs": []
    },
    {
      "cell_type": "code",
      "metadata": {
        "id": "udLW7DkZks7d"
      },
      "source": [
        "LATENT_DIM = T\n",
        "BATCH_SIZE = 32\n",
        "EPOCHS = (\n",
        "    100\n",
        ")"
      ],
      "execution_count": null,
      "outputs": []
    },
    {
      "cell_type": "code",
      "metadata": {
        "id": "_1gV0pknkuR9"
      },
      "source": [
        "model = Sequential()\n",
        "model.add(GRU(LATENT_DIM, return_sequences=True,input_shape=(T, features)))\n",
        "#model.add(GRU(LATENT_DIM, input_shape=(T, 3)))\n",
        "model.add(GRU(LATENT_DIM))\n",
        "model.add(Dense(HORIZON))"
      ],
      "execution_count": null,
      "outputs": []
    },
    {
      "cell_type": "code",
      "metadata": {
        "id": "TkcFGU31kwUE"
      },
      "source": [
        "model.compile(optimizer=\"adam\", loss=\"mse\")\n"
      ],
      "execution_count": null,
      "outputs": []
    },
    {
      "cell_type": "code",
      "metadata": {
        "colab": {
          "base_uri": "https://localhost:8080/"
        },
        "id": "93cQ3vtqkxoT",
        "outputId": "04f14c65-0069-4e67-ead8-b5ab033b6e66"
      },
      "source": [
        "model.summary()\n"
      ],
      "execution_count": null,
      "outputs": [
        {
          "output_type": "stream",
          "text": [
            "Model: \"sequential\"\n",
            "_________________________________________________________________\n",
            "Layer (type)                 Output Shape              Param #   \n",
            "=================================================================\n",
            "gru (GRU)                    (None, 90, 90)            26730     \n",
            "_________________________________________________________________\n",
            "gru_1 (GRU)                  (None, 90)                49140     \n",
            "_________________________________________________________________\n",
            "dense (Dense)                (None, 30)                2730      \n",
            "=================================================================\n",
            "Total params: 78,600\n",
            "Trainable params: 78,600\n",
            "Non-trainable params: 0\n",
            "_________________________________________________________________\n"
          ],
          "name": "stdout"
        }
      ]
    },
    {
      "cell_type": "code",
      "metadata": {
        "id": "aE1aJd0Vky_R"
      },
      "source": [
        "earlystop = EarlyStopping(monitor=\"val_loss\", min_delta=0, patience=5)\n"
      ],
      "execution_count": null,
      "outputs": []
    },
    {
      "cell_type": "code",
      "metadata": {
        "colab": {
          "base_uri": "https://localhost:8080/"
        },
        "id": "UICkCrJNk1P2",
        "outputId": "c442562d-7b12-4a47-d057-fdc6c09645e6"
      },
      "source": [
        "model_history = model.fit(\n",
        "    ts_train_inp[\"X\"],\n",
        "    ts_train_inp[\"target\"],\n",
        "    batch_size=BATCH_SIZE,\n",
        "    epochs=EPOCHS,\n",
        "    validation_data=(valid_inputs[\"X\"], valid_inputs[\"target\"]),\n",
        "    callbacks=[earlystop],\n",
        "    verbose=1,\n",
        ")"
      ],
      "execution_count": null,
      "outputs": [
        {
          "output_type": "stream",
          "text": [
            "Epoch 1/100\n",
            "49/49 [==============================] - 10s 127ms/step - loss: 0.0737 - val_loss: 0.0129\n",
            "Epoch 2/100\n",
            "49/49 [==============================] - 5s 110ms/step - loss: 0.0065 - val_loss: 0.0129\n",
            "Epoch 3/100\n",
            "49/49 [==============================] - 6s 113ms/step - loss: 0.0052 - val_loss: 0.0129\n",
            "Epoch 4/100\n",
            "49/49 [==============================] - 5s 112ms/step - loss: 0.0051 - val_loss: 0.0136\n",
            "Epoch 5/100\n",
            "49/49 [==============================] - 6s 113ms/step - loss: 0.0050 - val_loss: 0.0121\n",
            "Epoch 6/100\n",
            "49/49 [==============================] - 6s 113ms/step - loss: 0.0049 - val_loss: 0.0130\n",
            "Epoch 7/100\n",
            "49/49 [==============================] - 5s 110ms/step - loss: 0.0048 - val_loss: 0.0120\n",
            "Epoch 8/100\n",
            "49/49 [==============================] - 5s 110ms/step - loss: 0.0045 - val_loss: 0.0111\n",
            "Epoch 9/100\n",
            "49/49 [==============================] - 6s 112ms/step - loss: 0.0046 - val_loss: 0.0110\n",
            "Epoch 10/100\n",
            "49/49 [==============================] - 6s 113ms/step - loss: 0.0046 - val_loss: 0.0106\n",
            "Epoch 11/100\n",
            "49/49 [==============================] - 6s 113ms/step - loss: 0.0044 - val_loss: 0.0108\n",
            "Epoch 12/100\n",
            "49/49 [==============================] - 6s 113ms/step - loss: 0.0041 - val_loss: 0.0111\n",
            "Epoch 13/100\n",
            "49/49 [==============================] - 5s 112ms/step - loss: 0.0041 - val_loss: 0.0102\n",
            "Epoch 14/100\n",
            "49/49 [==============================] - 5s 110ms/step - loss: 0.0041 - val_loss: 0.0105\n",
            "Epoch 15/100\n",
            "49/49 [==============================] - 5s 108ms/step - loss: 0.0041 - val_loss: 0.0099\n",
            "Epoch 16/100\n",
            "49/49 [==============================] - 5s 105ms/step - loss: 0.0044 - val_loss: 0.0100\n",
            "Epoch 17/100\n",
            "49/49 [==============================] - 5s 107ms/step - loss: 0.0040 - val_loss: 0.0105\n",
            "Epoch 18/100\n",
            "49/49 [==============================] - 5s 107ms/step - loss: 0.0042 - val_loss: 0.0097\n",
            "Epoch 19/100\n",
            "49/49 [==============================] - 5s 105ms/step - loss: 0.0040 - val_loss: 0.0096\n",
            "Epoch 20/100\n",
            "49/49 [==============================] - 5s 108ms/step - loss: 0.0040 - val_loss: 0.0093\n",
            "Epoch 21/100\n",
            "49/49 [==============================] - 5s 111ms/step - loss: 0.0036 - val_loss: 0.0090\n",
            "Epoch 22/100\n",
            "49/49 [==============================] - 6s 113ms/step - loss: 0.0040 - val_loss: 0.0088\n",
            "Epoch 23/100\n",
            "49/49 [==============================] - 6s 113ms/step - loss: 0.0037 - val_loss: 0.0098\n",
            "Epoch 24/100\n",
            "49/49 [==============================] - 6s 113ms/step - loss: 0.0036 - val_loss: 0.0080\n",
            "Epoch 25/100\n",
            "49/49 [==============================] - 5s 111ms/step - loss: 0.0035 - val_loss: 0.0094\n",
            "Epoch 26/100\n",
            "49/49 [==============================] - 5s 109ms/step - loss: 0.0035 - val_loss: 0.0091\n",
            "Epoch 27/100\n",
            "49/49 [==============================] - 5s 112ms/step - loss: 0.0037 - val_loss: 0.0081\n",
            "Epoch 28/100\n",
            "49/49 [==============================] - 6s 113ms/step - loss: 0.0033 - val_loss: 0.0082\n",
            "Epoch 29/100\n",
            "49/49 [==============================] - 5s 113ms/step - loss: 0.0031 - val_loss: 0.0082\n"
          ],
          "name": "stdout"
        }
      ]
    },
    {
      "cell_type": "code",
      "metadata": {
        "colab": {
          "base_uri": "https://localhost:8080/"
        },
        "id": "9PNS58HYpcxX",
        "outputId": "da55c83b-cb7b-442a-eb4a-30a4230c5590"
      },
      "source": [
        "model.save(\"90daysto30days\")"
      ],
      "execution_count": null,
      "outputs": [
        {
          "output_type": "stream",
          "text": [
            "WARNING:absl:Found untraced functions such as gru_cell_layer_call_and_return_conditional_losses, gru_cell_layer_call_fn, gru_cell_1_layer_call_and_return_conditional_losses, gru_cell_1_layer_call_fn, gru_cell_layer_call_fn while saving (showing 5 of 10). These functions will not be directly callable after loading.\n"
          ],
          "name": "stderr"
        },
        {
          "output_type": "stream",
          "text": [
            "INFO:tensorflow:Assets written to: 90daysto30days/assets\n"
          ],
          "name": "stdout"
        },
        {
          "output_type": "stream",
          "text": [
            "INFO:tensorflow:Assets written to: 90daysto30days/assets\n"
          ],
          "name": "stderr"
        }
      ]
    },
    {
      "cell_type": "code",
      "metadata": {
        "colab": {
          "base_uri": "https://localhost:8080/",
          "height": 295
        },
        "id": "D1N3y6VHk2ic",
        "outputId": "f78c8ccf-e999-40a2-9b52-a62cbd10f658"
      },
      "source": [
        "# summarize history for loss\n",
        "plt.plot(model_history.history['loss'])\n",
        "plt.plot(model_history.history['val_loss'])\n",
        "plt.title('model loss')\n",
        "plt.ylabel('loss')\n",
        "plt.xlabel('epoch')\n",
        "plt.legend(['train', 'val'], loc='upper left')\n",
        "plt.show()"
      ],
      "execution_count": null,
      "outputs": [
        {
          "output_type": "display_data",
          "data": {
            "image/png": "[encoded data removed]",
            "text/plain": [
              "<Figure size 432x288 with 1 Axes>"
            ]
          },
          "metadata": {
            "tags": [],
            "needs_background": "light"
          }
        }
      ]
    },
    {
      "cell_type": "code",
      "metadata": {
        "colab": {
          "base_uri": "https://localhost:8080/",
          "height": 295
        },
        "id": "1KqJU477k4g2",
        "outputId": "32a42f96-6351-49f7-8594-e870ceeb9b32"
      },
      "source": [
        "# summarize history for loss\n",
        "plt.plot(model_history.history['loss'][3:])\n",
        "plt.plot(model_history.history['val_loss'][3:])\n",
        "plt.title('model loss')\n",
        "plt.ylabel('loss')\n",
        "plt.xlabel('epoch')\n",
        "plt.legend(['train', 'val'], loc='upper left')\n",
        "plt.show()"
      ],
      "execution_count": null,
      "outputs": [
        {
          "output_type": "display_data",
          "data": {
            "image/png": "[encoded data removed]",
            "text/plain": [
              "<Figure size 432x288 with 1 Axes>"
            ]
          },
          "metadata": {
            "tags": [],
            "needs_background": "light"
          }
        }
      ]
    },
    {
      "cell_type": "code",
      "metadata": {
        "id": "yWKaOFExlpY5"
      },
      "source": [
        "ts_data_test = ts_data_load.copy()[test_st_data_load:][flist]\n",
        "ts_data_test[flist] = X_scaler.transform(ts_data_test)\n",
        "ts_data_test_inputs = TimeSeriesTensor(ts_data_test, \"present_storage_tmc\", HORIZON, tensor_structure, freq='D')\n"
      ],
      "execution_count": null,
      "outputs": []
    },
    {
      "cell_type": "code",
      "metadata": {
        "colab": {
          "base_uri": "https://localhost:8080/"
        },
        "id": "xOI0r4uPmApo",
        "outputId": "48b64abd-a249-45cc-ec1a-606081721e04"
      },
      "source": [
        "ts_data_test_inputs['X'].shape"
      ],
      "execution_count": null,
      "outputs": [
        {
          "output_type": "execute_result",
          "data": {
            "text/plain": [
              "(424, 90, 7)"
            ]
          },
          "metadata": {
            "tags": []
          },
          "execution_count": 35
        }
      ]
    },
    {
      "cell_type": "code",
      "metadata": {
        "id": "Fv7ivXW1njIF"
      },
      "source": [
        "def create_evaluation_df1(predictions, test_inputs, H, scaler):\n",
        "    \"\"\"Create a data frame for easy evaluation\"\"\"\n",
        "    eval_df = pd.DataFrame(\n",
        "        predictions, columns=[\"t+\" + str(t) for t in range(1, H + 1)]\n",
        "    )\n",
        "    \n",
        "    eval_df[\"timestamp\"] = test_inputs.dataframe.index\n",
        "    print(eval_df.shape, eval_df.head(2))\n",
        "\n",
        "    #eval_df = pd.melt(\n",
        "    #    eval_df, id_vars=\"timestamp\", value_name=\"prediction\", var_name=\"h\"\n",
        "    #)\n",
        "    values = ['t+'+str(i) for i in range(1, H+1)]\n",
        "    \n",
        "    eval_df = pd.melt(\n",
        "        eval_df, id_vars=\"timestamp\", value_vars=values, value_name=\"prediction\"\n",
        "    )\n",
        "    print(eval_df.shape, eval_df.head(2))\n",
        "    eval_df[\"actual\"] = np.transpose(test_inputs[\"target\"]).ravel()\n",
        "    eval_df[[\"prediction\", \"actual\"]] = scaler.inverse_transform(\n",
        "        eval_df[[\"prediction\", \"actual\"]]\n",
        "    )\n",
        "    return eval_df"
      ],
      "execution_count": null,
      "outputs": []
    },
    {
      "cell_type": "code",
      "metadata": {
        "colab": {
          "base_uri": "https://localhost:8080/",
          "height": 342
        },
        "id": "KwpRphbJnm-u",
        "outputId": "3a3d00d4-087e-4f7b-a2d8-6b566c45474f"
      },
      "source": [
        "ts_predictions = model.predict(ts_data_test_inputs[\"X\"])\n",
        "\n",
        "ev_ts_data = create_evaluation_df1(ts_predictions, ts_data_test_inputs, HORIZON, y_scaler)\n",
        "ev_ts_data.sample(5)"
      ],
      "execution_count": null,
      "outputs": [
        {
          "output_type": "stream",
          "text": [
            "(424, 31)         t+1       t+2       t+3  ...      t+29      t+30  timestamp\n",
            "0  0.295737  0.300632  0.297016  ...  0.378295  0.380908 2019-07-30\n",
            "1  0.283837  0.286964  0.284969  ...  0.361920  0.363300 2019-07-31\n",
            "\n",
            "[2 rows x 31 columns]\n",
            "(12720, 3)    timestamp variable  prediction\n",
            "0 2019-07-30      t+1    0.295737\n",
            "1 2019-07-31      t+1    0.283837\n"
          ],
          "name": "stdout"
        },
        {
          "output_type": "execute_result",
          "data": {
            "text/html": [
              "<div>\n",
              "<style scoped>\n",
              "    .dataframe tbody tr th:only-of-type {\n",
              "        vertical-align: middle;\n",
              "    }\n",
              "\n",
              "    .dataframe tbody tr th {\n",
              "        vertical-align: top;\n",
              "    }\n",
              "\n",
              "    .dataframe thead th {\n",
              "        text-align: right;\n",
              "    }\n",
              "</style>\n",
              "<table border=\"1\" class=\"dataframe\">\n",
              "  <thead>\n",
              "    <tr style=\"text-align: right;\">\n",
              "      <th></th>\n",
              "      <th>timestamp</th>\n",
              "      <th>variable</th>\n",
              "      <th>prediction</th>\n",
              "      <th>actual</th>\n",
              "    </tr>\n",
              "  </thead>\n",
              "  <tbody>\n",
              "    <tr>\n",
              "      <th>935</th>\n",
              "      <td>2020-02-22</td>\n",
              "      <td>t+3</td>\n",
              "      <td>37.022827</td>\n",
              "      <td>34.7700</td>\n",
              "    </tr>\n",
              "    <tr>\n",
              "      <th>8747</th>\n",
              "      <td>2021-01-21</td>\n",
              "      <td>t+21</td>\n",
              "      <td>35.066419</td>\n",
              "      <td>36.8865</td>\n",
              "    </tr>\n",
              "    <tr>\n",
              "      <th>5444</th>\n",
              "      <td>2021-04-20</td>\n",
              "      <td>t+13</td>\n",
              "      <td>19.983464</td>\n",
              "      <td>18.1330</td>\n",
              "    </tr>\n",
              "    <tr>\n",
              "      <th>6658</th>\n",
              "      <td>2021-02-21</td>\n",
              "      <td>t+16</td>\n",
              "      <td>33.583230</td>\n",
              "      <td>30.4540</td>\n",
              "    </tr>\n",
              "    <tr>\n",
              "      <th>473</th>\n",
              "      <td>2019-09-17</td>\n",
              "      <td>t+2</td>\n",
              "      <td>51.101486</td>\n",
              "      <td>49.4500</td>\n",
              "    </tr>\n",
              "  </tbody>\n",
              "</table>\n",
              "</div>"
            ],
            "text/plain": [
              "      timestamp variable  prediction   actual\n",
              "935  2020-02-22      t+3   37.022827  34.7700\n",
              "8747 2021-01-21     t+21   35.066419  36.8865\n",
              "5444 2021-04-20     t+13   19.983464  18.1330\n",
              "6658 2021-02-21     t+16   33.583230  30.4540\n",
              "473  2019-09-17      t+2   51.101486  49.4500"
            ]
          },
          "metadata": {
            "tags": []
          },
          "execution_count": 37
        }
      ]
    },
    {
      "cell_type": "code",
      "metadata": {
        "id": "J__g5N4VaQBP",
        "colab": {
          "base_uri": "https://localhost:8080/"
        },
        "outputId": "bba5cd07-e0c6-4ddf-89b6-8bab22b31b8b"
      },
      "source": [
        "ts_predictions.shape"
      ],
      "execution_count": null,
      "outputs": [
        {
          "output_type": "execute_result",
          "data": {
            "text/plain": [
              "(424, 30)"
            ]
          },
          "metadata": {
            "tags": []
          },
          "execution_count": 38
        }
      ]
    },
    {
      "cell_type": "code",
      "metadata": {
        "colab": {
          "base_uri": "https://localhost:8080/",
          "height": 392
        },
        "id": "JLjrnZUln0is",
        "outputId": "48e93641-9ec2-401b-e529-4ec46d3e212d"
      },
      "source": [
        "ev_ts_data[ev_ts_data.variable=='t+1'].plot(\n",
        "    x=\"timestamp\", y=[\"prediction\", \"actual\"], style=[\"r\", \"b\"], figsize=(10, 6)\n",
        ")"
      ],
      "execution_count": null,
      "outputs": [
        {
          "output_type": "execute_result",
          "data": {
            "text/plain": [
              "<matplotlib.axes._subplots.AxesSubplot at 0x7f66b292c090>"
            ]
          },
          "metadata": {
            "tags": []
          },
          "execution_count": 39
        },
        {
          "output_type": "display_data",
          "data": {
            "image/png": "[encoded data removed]",
            "text/plain": [
              "<Figure size 720x432 with 1 Axes>"
            ]
          },
          "metadata": {
            "tags": [],
            "needs_background": "light"
          }
        }
      ]
    },
    {
      "cell_type": "code",
      "metadata": {
        "colab": {
          "base_uri": "https://localhost:8080/"
        },
        "id": "bzDzi75ZntIE",
        "outputId": "98808dea-b26d-4f5b-9d2c-b526be90746e"
      },
      "source": [
        "\n",
        "mape(ev_ts_data[\"prediction\"], ev_ts_data[\"actual\"])"
      ],
      "execution_count": null,
      "outputs": [
        {
          "output_type": "execute_result",
          "data": {
            "text/plain": [
              "0.09660713034108426"
            ]
          },
          "metadata": {
            "tags": []
          },
          "execution_count": 40
        }
      ]
    },
    {
      "cell_type": "code",
      "metadata": {
        "id": "WzlD3iZhn5bA"
      },
      "source": [
        "ev_ts_data.to_csv(\"forecast_withdatecolumns.csv\")"
      ],
      "execution_count": null,
      "outputs": []
    },
    {
      "cell_type": "code",
      "metadata": {
        "id": "JDj4z7gwoEgu"
      },
      "source": [
        "import datetime\n",
        "forecast_dates = ev_ts_data.apply(\n",
        "         lambda row: row.timestamp + datetime.timedelta(days=int(row.variable[2:])),\n",
        "         axis=1)\n",
        "ev_ts_data[\"date\"] = forecast_dates\n"
      ],
      "execution_count": null,
      "outputs": []
    },
    {
      "cell_type": "code",
      "metadata": {
        "colab": {
          "base_uri": "https://localhost:8080/",
          "height": 111
        },
        "id": "J0G5S-NMo7L3",
        "outputId": "a412bb18-4930-4623-89dd-816fb410e6a3"
      },
      "source": [
        "ev_ts_data.head(2)"
      ],
      "execution_count": null,
      "outputs": [
        {
          "output_type": "execute_result",
          "data": {
            "text/html": [
              "<div>\n",
              "<style scoped>\n",
              "    .dataframe tbody tr th:only-of-type {\n",
              "        vertical-align: middle;\n",
              "    }\n",
              "\n",
              "    .dataframe tbody tr th {\n",
              "        vertical-align: top;\n",
              "    }\n",
              "\n",
              "    .dataframe thead th {\n",
              "        text-align: right;\n",
              "    }\n",
              "</style>\n",
              "<table border=\"1\" class=\"dataframe\">\n",
              "  <thead>\n",
              "    <tr style=\"text-align: right;\">\n",
              "      <th></th>\n",
              "      <th>timestamp</th>\n",
              "      <th>variable</th>\n",
              "      <th>prediction</th>\n",
              "      <th>actual</th>\n",
              "      <th>date</th>\n",
              "    </tr>\n",
              "  </thead>\n",
              "  <tbody>\n",
              "    <tr>\n",
              "      <th>0</th>\n",
              "      <td>2019-05-31</td>\n",
              "      <td>t+1</td>\n",
              "      <td>11.571071</td>\n",
              "      <td>11.25</td>\n",
              "      <td>2019-06-01</td>\n",
              "    </tr>\n",
              "    <tr>\n",
              "      <th>1</th>\n",
              "      <td>2019-06-01</td>\n",
              "      <td>t+1</td>\n",
              "      <td>11.547426</td>\n",
              "      <td>11.22</td>\n",
              "      <td>2019-06-02</td>\n",
              "    </tr>\n",
              "  </tbody>\n",
              "</table>\n",
              "</div>"
            ],
            "text/plain": [
              "   timestamp variable  prediction  actual       date\n",
              "0 2019-05-31      t+1   11.571071   11.25 2019-06-01\n",
              "1 2019-06-01      t+1   11.547426   11.22 2019-06-02"
            ]
          },
          "metadata": {
            "tags": []
          },
          "execution_count": 43
        }
      ]
    },
    {
      "cell_type": "code",
      "metadata": {
        "colab": {
          "base_uri": "https://localhost:8080/"
        },
        "id": "mAcLwsFPo9FU",
        "outputId": "e7fffa07-727f-4e6e-de52-708388b6d68b"
      },
      "source": [
        "from google.colab import drive\n",
        "drive.mount('/content/gdrive')\n"
      ],
      "execution_count": null,
      "outputs": [
        {
          "output_type": "stream",
          "text": [
            "Mounted at /content/gdrive\n"
          ],
          "name": "stdout"
        }
      ]
    },
    {
      "cell_type": "code",
      "metadata": {
        "colab": {
          "base_uri": "https://localhost:8080/",
          "height": 143
        },
        "id": "KrBQf1xzszoV",
        "outputId": "07c364d2-c3f7-4555-b6c3-2c4d2d6de89f"
      },
      "source": [
        "#finetuning\n",
        "T = 90\n",
        "HORIZON = 30\n",
        "ftrain = ts_data_load.copy()[flist]\n",
        "\n",
        "X_scaler = MinMaxScaler()\n",
        "ftrain[flist] = X_scaler.fit_transform(ftrain)\n",
        "ftrain.sample(2)"
      ],
      "execution_count": null,
      "outputs": [
        {
          "output_type": "execute_result",
          "data": {
            "text/html": [
              "<div>\n",
              "<style scoped>\n",
              "    .dataframe tbody tr th:only-of-type {\n",
              "        vertical-align: middle;\n",
              "    }\n",
              "\n",
              "    .dataframe tbody tr th {\n",
              "        vertical-align: top;\n",
              "    }\n",
              "\n",
              "    .dataframe thead th {\n",
              "        text-align: right;\n",
              "    }\n",
              "</style>\n",
              "<table border=\"1\" class=\"dataframe\">\n",
              "  <thead>\n",
              "    <tr style=\"text-align: right;\">\n",
              "      <th></th>\n",
              "      <th>present_storage_tmc</th>\n",
              "      <th>inflow_tmc</th>\n",
              "      <th>outflow_tmc</th>\n",
              "      <th>max_temp</th>\n",
              "      <th>visibility</th>\n",
              "      <th>humidity</th>\n",
              "      <th>wind</th>\n",
              "    </tr>\n",
              "    <tr>\n",
              "      <th>date</th>\n",
              "      <th></th>\n",
              "      <th></th>\n",
              "      <th></th>\n",
              "      <th></th>\n",
              "      <th></th>\n",
              "      <th></th>\n",
              "      <th></th>\n",
              "    </tr>\n",
              "  </thead>\n",
              "  <tbody>\n",
              "    <tr>\n",
              "      <th>2018-04-01</th>\n",
              "      <td>0.219818</td>\n",
              "      <td>0.000730</td>\n",
              "      <td>0.002220</td>\n",
              "      <td>0.654206</td>\n",
              "      <td>0.171429</td>\n",
              "      <td>0.483885</td>\n",
              "      <td>0.048498</td>\n",
              "    </tr>\n",
              "    <tr>\n",
              "      <th>2016-01-04</th>\n",
              "      <td>0.560162</td>\n",
              "      <td>0.002174</td>\n",
              "      <td>0.002735</td>\n",
              "      <td>0.420561</td>\n",
              "      <td>0.195238</td>\n",
              "      <td>0.436888</td>\n",
              "      <td>0.068529</td>\n",
              "    </tr>\n",
              "  </tbody>\n",
              "</table>\n",
              "</div>"
            ],
            "text/plain": [
              "            present_storage_tmc  inflow_tmc  ...  humidity      wind\n",
              "date                                         ...                    \n",
              "2018-04-01             0.219818    0.000730  ...  0.483885  0.048498\n",
              "2016-01-04             0.560162    0.002174  ...  0.436888  0.068529\n",
              "\n",
              "[2 rows x 7 columns]"
            ]
          },
          "metadata": {
            "tags": []
          },
          "execution_count": 42
        }
      ]
    },
    {
      "cell_type": "code",
      "metadata": {
        "colab": {
          "base_uri": "https://localhost:8080/",
          "height": 111
        },
        "id": "d08fmXBJyoFk",
        "outputId": "f930b2c7-13d6-4fd0-92ea-49be664392a5"
      },
      "source": [
        "ftrain.last('1D')"
      ],
      "execution_count": null,
      "outputs": [
        {
          "output_type": "execute_result",
          "data": {
            "text/html": [
              "<div>\n",
              "<style scoped>\n",
              "    .dataframe tbody tr th:only-of-type {\n",
              "        vertical-align: middle;\n",
              "    }\n",
              "\n",
              "    .dataframe tbody tr th {\n",
              "        vertical-align: top;\n",
              "    }\n",
              "\n",
              "    .dataframe thead th {\n",
              "        text-align: right;\n",
              "    }\n",
              "</style>\n",
              "<table border=\"1\" class=\"dataframe\">\n",
              "  <thead>\n",
              "    <tr style=\"text-align: right;\">\n",
              "      <th></th>\n",
              "      <th>present_storage_tmc</th>\n",
              "      <th>inflow_tmc</th>\n",
              "      <th>outflow_tmc</th>\n",
              "      <th>max_temp</th>\n",
              "      <th>visibility</th>\n",
              "      <th>humidity</th>\n",
              "      <th>wind</th>\n",
              "    </tr>\n",
              "    <tr>\n",
              "      <th>date</th>\n",
              "      <th></th>\n",
              "      <th></th>\n",
              "      <th></th>\n",
              "      <th></th>\n",
              "      <th></th>\n",
              "      <th></th>\n",
              "      <th></th>\n",
              "    </tr>\n",
              "  </thead>\n",
              "  <tbody>\n",
              "    <tr>\n",
              "      <th>2021-07-26</th>\n",
              "      <td>0.488493</td>\n",
              "      <td>0.053957</td>\n",
              "      <td>0.015142</td>\n",
              "      <td>0.35514</td>\n",
              "      <td>1.0</td>\n",
              "      <td>0.650149</td>\n",
              "      <td>0.129151</td>\n",
              "    </tr>\n",
              "  </tbody>\n",
              "</table>\n",
              "</div>"
            ],
            "text/plain": [
              "            present_storage_tmc  inflow_tmc  ...  humidity      wind\n",
              "date                                         ...                    \n",
              "2021-07-26             0.488493    0.053957  ...  0.650149  0.129151\n",
              "\n",
              "[1 rows x 7 columns]"
            ]
          },
          "metadata": {
            "tags": []
          },
          "execution_count": 45
        }
      ]
    },
    {
      "cell_type": "code",
      "metadata": {
        "id": "iQ4FGtPBwmM3"
      },
      "source": [
        "tensor_structure = {\"X\": (range(-T + 1, 1), flist)}\n",
        "\n",
        "ts_train_inp = TimeSeriesTensor(\n",
        "    dataset=ftrain,\n",
        "    target=\"present_storage_tmc\",\n",
        "    H=HORIZON,\n",
        "    tensor_structure=tensor_structure,\n",
        "    freq=\"D\",\n",
        "    drop_incomplete=True,\n",
        ")\n",
        "#back_ts_data = dt.datetime.strptime(date.today(), \"%Y-%m-%d %H:%M:%S\") - dt.timedelta(\n",
        "#    days=T - 1\n",
        "#)\n"
      ],
      "execution_count": null,
      "outputs": []
    },
    {
      "cell_type": "code",
      "metadata": {
        "colab": {
          "base_uri": "https://localhost:8080/"
        },
        "id": "vFlenigtwHr9",
        "outputId": "d5840bb6-8fc2-4bf3-e712-42e1112bc347"
      },
      "source": [
        "model_history = model.fit(\n",
        "    ts_train_inp[\"X\"],\n",
        "    ts_train_inp[\"target\"],\n",
        "    batch_size=BATCH_SIZE,\n",
        "    epochs=20,\n",
        "    #validation_data=(valid_inputs[\"X\"], valid_inputs[\"target\"]),\n",
        "    #callbacks=[earlystop],\n",
        "    verbose=1,\n",
        ")"
      ],
      "execution_count": null,
      "outputs": [
        {
          "output_type": "stream",
          "text": [
            "Epoch 1/20\n",
            "82/82 [==============================] - 9s 109ms/step - loss: 0.0090\n",
            "Epoch 2/20\n",
            "82/82 [==============================] - 9s 105ms/step - loss: 0.0073\n",
            "Epoch 3/20\n",
            "82/82 [==============================] - 8s 102ms/step - loss: 0.0062\n",
            "Epoch 4/20\n",
            "82/82 [==============================] - 8s 102ms/step - loss: 0.0060\n",
            "Epoch 5/20\n",
            "82/82 [==============================] - 9s 104ms/step - loss: 0.0058\n",
            "Epoch 6/20\n",
            "82/82 [==============================] - 8s 101ms/step - loss: 0.0059\n",
            "Epoch 7/20\n",
            "82/82 [==============================] - 9s 105ms/step - loss: 0.0057\n",
            "Epoch 8/20\n",
            "82/82 [==============================] - 9s 106ms/step - loss: 0.0055\n",
            "Epoch 9/20\n",
            "82/82 [==============================] - 9s 106ms/step - loss: 0.0054\n",
            "Epoch 10/20\n",
            "82/82 [==============================] - 8s 102ms/step - loss: 0.0054\n",
            "Epoch 11/20\n",
            "82/82 [==============================] - 8s 102ms/step - loss: 0.0053\n",
            "Epoch 12/20\n",
            "82/82 [==============================] - 8s 100ms/step - loss: 0.0051\n",
            "Epoch 13/20\n",
            "82/82 [==============================] - 8s 101ms/step - loss: 0.0050\n",
            "Epoch 14/20\n",
            "82/82 [==============================] - 8s 100ms/step - loss: 0.0047\n",
            "Epoch 15/20\n",
            "82/82 [==============================] - 9s 105ms/step - loss: 0.0067\n",
            "Epoch 16/20\n",
            "82/82 [==============================] - 9s 105ms/step - loss: 0.0045\n",
            "Epoch 17/20\n",
            "82/82 [==============================] - 9s 105ms/step - loss: 0.0043\n",
            "Epoch 18/20\n",
            "82/82 [==============================] - 8s 101ms/step - loss: 0.0042\n",
            "Epoch 19/20\n",
            "82/82 [==============================] - 9s 105ms/step - loss: 0.0040\n",
            "Epoch 20/20\n",
            "82/82 [==============================] - 8s 104ms/step - loss: 0.0039\n"
          ],
          "name": "stdout"
        }
      ]
    },
    {
      "cell_type": "code",
      "metadata": {
        "colab": {
          "base_uri": "https://localhost:8080/",
          "height": 342
        },
        "id": "7s6wXrB90d89",
        "outputId": "0baf8d45-7734-4706-dcd2-571969d69118"
      },
      "source": [
        "ts_predictions = model.predict(ts_train_inp[\"X\"])\n",
        "\n",
        "ev_all_data = create_evaluation_df1(ts_predictions, ts_train_inp, HORIZON, y_scaler)\n",
        "ev_all_data.sample(5)"
      ],
      "execution_count": null,
      "outputs": [
        {
          "output_type": "stream",
          "text": [
            "(2593, 31)         t+1       t+2       t+3  ...      t+29      t+30  timestamp\n",
            "0  0.441815  0.435082  0.445032  ...  0.347910  0.353186 2011-03-30\n",
            "1  0.488169  0.482006  0.495148  ...  0.381958  0.380896 2011-03-31\n",
            "\n",
            "[2 rows x 31 columns]\n",
            "(77790, 3)    timestamp variable  prediction\n",
            "0 2011-03-30      t+1    0.441815\n",
            "1 2011-03-31      t+1    0.488169\n"
          ],
          "name": "stdout"
        },
        {
          "output_type": "execute_result",
          "data": {
            "text/html": [
              "<div>\n",
              "<style scoped>\n",
              "    .dataframe tbody tr th:only-of-type {\n",
              "        vertical-align: middle;\n",
              "    }\n",
              "\n",
              "    .dataframe tbody tr th {\n",
              "        vertical-align: top;\n",
              "    }\n",
              "\n",
              "    .dataframe thead th {\n",
              "        text-align: right;\n",
              "    }\n",
              "</style>\n",
              "<table border=\"1\" class=\"dataframe\">\n",
              "  <thead>\n",
              "    <tr style=\"text-align: right;\">\n",
              "      <th></th>\n",
              "      <th>timestamp</th>\n",
              "      <th>variable</th>\n",
              "      <th>prediction</th>\n",
              "      <th>actual</th>\n",
              "    </tr>\n",
              "  </thead>\n",
              "  <tbody>\n",
              "    <tr>\n",
              "      <th>43171</th>\n",
              "      <td>2018-03-31</td>\n",
              "      <td>t+17</td>\n",
              "      <td>8.392806</td>\n",
              "      <td>8.330</td>\n",
              "    </tr>\n",
              "    <tr>\n",
              "      <th>75115</th>\n",
              "      <td>2021-04-06</td>\n",
              "      <td>t+29</td>\n",
              "      <td>16.361996</td>\n",
              "      <td>17.982</td>\n",
              "    </tr>\n",
              "    <tr>\n",
              "      <th>47458</th>\n",
              "      <td>2015-10-14</td>\n",
              "      <td>t+19</td>\n",
              "      <td>26.558199</td>\n",
              "      <td>26.720</td>\n",
              "    </tr>\n",
              "    <tr>\n",
              "      <th>40644</th>\n",
              "      <td>2018-06-05</td>\n",
              "      <td>t+16</td>\n",
              "      <td>21.073828</td>\n",
              "      <td>25.980</td>\n",
              "    </tr>\n",
              "    <tr>\n",
              "      <th>72577</th>\n",
              "      <td>2021-05-31</td>\n",
              "      <td>t+28</td>\n",
              "      <td>18.369429</td>\n",
              "      <td>19.431</td>\n",
              "    </tr>\n",
              "  </tbody>\n",
              "</table>\n",
              "</div>"
            ],
            "text/plain": [
              "       timestamp variable  prediction  actual\n",
              "43171 2018-03-31     t+17    8.392806   8.330\n",
              "75115 2021-04-06     t+29   16.361996  17.982\n",
              "47458 2015-10-14     t+19   26.558199  26.720\n",
              "40644 2018-06-05     t+16   21.073828  25.980\n",
              "72577 2021-05-31     t+28   18.369429  19.431"
            ]
          },
          "metadata": {
            "tags": []
          },
          "execution_count": 45
        }
      ]
    },
    {
      "cell_type": "code",
      "metadata": {
        "colab": {
          "base_uri": "https://localhost:8080/"
        },
        "id": "E5QJYJZeLl0K",
        "outputId": "49546e0b-3716-4c09-86d6-64f66b908717"
      },
      "source": [
        "model.save(\"90daysto30days\")"
      ],
      "execution_count": null,
      "outputs": [
        {
          "output_type": "stream",
          "text": [
            "WARNING:absl:Found untraced functions such as gru_cell_layer_call_and_return_conditional_losses, gru_cell_layer_call_fn, gru_cell_1_layer_call_and_return_conditional_losses, gru_cell_1_layer_call_fn, gru_cell_layer_call_fn while saving (showing 5 of 10). These functions will not be directly callable after loading.\n"
          ],
          "name": "stderr"
        },
        {
          "output_type": "stream",
          "text": [
            "INFO:tensorflow:Assets written to: 90daysto30days/assets\n"
          ],
          "name": "stdout"
        },
        {
          "output_type": "stream",
          "text": [
            "INFO:tensorflow:Assets written to: 90daysto30days/assets\n"
          ],
          "name": "stderr"
        }
      ]
    },
    {
      "cell_type": "code",
      "metadata": {
        "id": "5bU0HzylqUI-"
      },
      "source": [
        "cp -r '/content/90daysto30days/' '/content/gdrive/My Drive/Wave2web/'"
      ],
      "execution_count": null,
      "outputs": []
    },
    {
      "cell_type": "code",
      "metadata": {
        "colab": {
          "base_uri": "https://localhost:8080/",
          "height": 384
        },
        "id": "x2PLV5gE1Jce",
        "outputId": "feb8db91-229a-43d1-d56c-4aa998530279"
      },
      "source": [
        "ev_all_data[ev_all_data.variable=='t+1'].plot(\n",
        "    x=\"timestamp\", y=[\"prediction\", \"actual\"], style=[\"r\", \"b\"], figsize=(10, 6)\n",
        ")"
      ],
      "execution_count": null,
      "outputs": [
        {
          "output_type": "execute_result",
          "data": {
            "text/plain": [
              "<matplotlib.axes._subplots.AxesSubplot at 0x7f66b286d510>"
            ]
          },
          "metadata": {
            "tags": []
          },
          "execution_count": 49
        },
        {
          "output_type": "display_data",
          "data": {
            "image/png": "[encoded data removed]",
            "text/plain": [
              "<Figure size 720x432 with 1 Axes>"
            ]
          },
          "metadata": {
            "tags": [],
            "needs_background": "light"
          }
        }
      ]
    },
    {
      "cell_type": "code",
      "metadata": {
        "id": "dQ4twFMG1RAG"
      },
      "source": [
        "import datetime\n",
        "forecast_dates = ev_all_data.apply(\n",
        "         lambda row: row.timestamp + datetime.timedelta(days=int(row.variable[2:])),\n",
        "         axis=1)\n",
        "ev_all_data[\"date\"] = forecast_dates\n"
      ],
      "execution_count": null,
      "outputs": []
    },
    {
      "cell_type": "code",
      "metadata": {
        "colab": {
          "base_uri": "https://localhost:8080/",
          "height": 672
        },
        "id": "nZ9dQ2YR3k5s",
        "outputId": "0b6f6158-b959-486d-fe75-a0d3f59c0764"
      },
      "source": [
        "ev_all_data.sample(20)"
      ],
      "execution_count": null,
      "outputs": [
        {
          "output_type": "execute_result",
          "data": {
            "text/html": [
              "<div>\n",
              "<style scoped>\n",
              "    .dataframe tbody tr th:only-of-type {\n",
              "        vertical-align: middle;\n",
              "    }\n",
              "\n",
              "    .dataframe tbody tr th {\n",
              "        vertical-align: top;\n",
              "    }\n",
              "\n",
              "    .dataframe thead th {\n",
              "        text-align: right;\n",
              "    }\n",
              "</style>\n",
              "<table border=\"1\" class=\"dataframe\">\n",
              "  <thead>\n",
              "    <tr style=\"text-align: right;\">\n",
              "      <th></th>\n",
              "      <th>timestamp</th>\n",
              "      <th>variable</th>\n",
              "      <th>prediction</th>\n",
              "      <th>actual</th>\n",
              "      <th>date</th>\n",
              "    </tr>\n",
              "  </thead>\n",
              "  <tbody>\n",
              "    <tr>\n",
              "      <th>59102</th>\n",
              "      <td>2019-04-08</td>\n",
              "      <td>t+23</td>\n",
              "      <td>13.761671</td>\n",
              "      <td>14.350</td>\n",
              "      <td>2019-05-01</td>\n",
              "    </tr>\n",
              "    <tr>\n",
              "      <th>30268</th>\n",
              "      <td>2018-06-01</td>\n",
              "      <td>t+12</td>\n",
              "      <td>15.381641</td>\n",
              "      <td>14.010</td>\n",
              "      <td>2018-06-13</td>\n",
              "    </tr>\n",
              "    <tr>\n",
              "      <th>60479</th>\n",
              "      <td>2015-12-09</td>\n",
              "      <td>t+24</td>\n",
              "      <td>27.622732</td>\n",
              "      <td>27.780</td>\n",
              "      <td>2016-01-02</td>\n",
              "    </tr>\n",
              "    <tr>\n",
              "      <th>63580</th>\n",
              "      <td>2017-04-30</td>\n",
              "      <td>t+25</td>\n",
              "      <td>6.684496</td>\n",
              "      <td>6.520</td>\n",
              "      <td>2017-05-25</td>\n",
              "    </tr>\n",
              "    <tr>\n",
              "      <th>32233</th>\n",
              "      <td>2016-09-11</td>\n",
              "      <td>t+13</td>\n",
              "      <td>13.455780</td>\n",
              "      <td>14.450</td>\n",
              "      <td>2016-09-24</td>\n",
              "    </tr>\n",
              "    <tr>\n",
              "      <th>8584</th>\n",
              "      <td>2015-11-04</td>\n",
              "      <td>t+4</td>\n",
              "      <td>29.075548</td>\n",
              "      <td>30.580</td>\n",
              "      <td>2015-11-08</td>\n",
              "    </tr>\n",
              "    <tr>\n",
              "      <th>11358</th>\n",
              "      <td>2016-05-03</td>\n",
              "      <td>t+5</td>\n",
              "      <td>9.163891</td>\n",
              "      <td>10.600</td>\n",
              "      <td>2016-05-08</td>\n",
              "    </tr>\n",
              "    <tr>\n",
              "      <th>62386</th>\n",
              "      <td>2011-08-31</td>\n",
              "      <td>t+25</td>\n",
              "      <td>47.334621</td>\n",
              "      <td>47.860</td>\n",
              "      <td>2011-09-25</td>\n",
              "    </tr>\n",
              "    <tr>\n",
              "      <th>20090</th>\n",
              "      <td>2018-12-12</td>\n",
              "      <td>t+8</td>\n",
              "      <td>36.282551</td>\n",
              "      <td>37.160</td>\n",
              "      <td>2018-12-20</td>\n",
              "    </tr>\n",
              "    <tr>\n",
              "      <th>15554</th>\n",
              "      <td>2021-06-23</td>\n",
              "      <td>t+6</td>\n",
              "      <td>22.185718</td>\n",
              "      <td>18.584</td>\n",
              "      <td>2021-06-29</td>\n",
              "    </tr>\n",
              "    <tr>\n",
              "      <th>41045</th>\n",
              "      <td>2019-07-11</td>\n",
              "      <td>t+16</td>\n",
              "      <td>21.238941</td>\n",
              "      <td>14.840</td>\n",
              "      <td>2019-07-27</td>\n",
              "    </tr>\n",
              "    <tr>\n",
              "      <th>23411</th>\n",
              "      <td>2011-06-12</td>\n",
              "      <td>t+10</td>\n",
              "      <td>19.184465</td>\n",
              "      <td>22.040</td>\n",
              "      <td>2011-06-22</td>\n",
              "    </tr>\n",
              "    <tr>\n",
              "      <th>413</th>\n",
              "      <td>2014-10-08</td>\n",
              "      <td>t+1</td>\n",
              "      <td>49.488046</td>\n",
              "      <td>49.450</td>\n",
              "      <td>2014-10-09</td>\n",
              "    </tr>\n",
              "    <tr>\n",
              "      <th>4813</th>\n",
              "      <td>2019-09-19</td>\n",
              "      <td>t+2</td>\n",
              "      <td>48.873694</td>\n",
              "      <td>49.450</td>\n",
              "      <td>2019-09-21</td>\n",
              "    </tr>\n",
              "    <tr>\n",
              "      <th>49120</th>\n",
              "      <td>2021-01-31</td>\n",
              "      <td>t+19</td>\n",
              "      <td>33.001825</td>\n",
              "      <td>34.344</td>\n",
              "      <td>2021-02-19</td>\n",
              "    </tr>\n",
              "    <tr>\n",
              "      <th>10025</th>\n",
              "      <td>2020-02-12</td>\n",
              "      <td>t+4</td>\n",
              "      <td>36.519129</td>\n",
              "      <td>37.210</td>\n",
              "      <td>2020-02-16</td>\n",
              "    </tr>\n",
              "    <tr>\n",
              "      <th>22286</th>\n",
              "      <td>2017-11-10</td>\n",
              "      <td>t+9</td>\n",
              "      <td>30.383210</td>\n",
              "      <td>33.900</td>\n",
              "      <td>2017-11-19</td>\n",
              "    </tr>\n",
              "    <tr>\n",
              "      <th>23476</th>\n",
              "      <td>2011-08-16</td>\n",
              "      <td>t+10</td>\n",
              "      <td>47.966322</td>\n",
              "      <td>48.090</td>\n",
              "      <td>2011-08-26</td>\n",
              "    </tr>\n",
              "    <tr>\n",
              "      <th>38662</th>\n",
              "      <td>2020-06-05</td>\n",
              "      <td>t+15</td>\n",
              "      <td>18.503507</td>\n",
              "      <td>18.620</td>\n",
              "      <td>2020-06-20</td>\n",
              "    </tr>\n",
              "    <tr>\n",
              "      <th>54060</th>\n",
              "      <td>2019-08-30</td>\n",
              "      <td>t+21</td>\n",
              "      <td>48.933787</td>\n",
              "      <td>49.450</td>\n",
              "      <td>2019-09-20</td>\n",
              "    </tr>\n",
              "  </tbody>\n",
              "</table>\n",
              "</div>"
            ],
            "text/plain": [
              "       timestamp variable  prediction  actual       date\n",
              "59102 2019-04-08     t+23   13.761671  14.350 2019-05-01\n",
              "30268 2018-06-01     t+12   15.381641  14.010 2018-06-13\n",
              "60479 2015-12-09     t+24   27.622732  27.780 2016-01-02\n",
              "63580 2017-04-30     t+25    6.684496   6.520 2017-05-25\n",
              "32233 2016-09-11     t+13   13.455780  14.450 2016-09-24\n",
              "8584  2015-11-04      t+4   29.075548  30.580 2015-11-08\n",
              "11358 2016-05-03      t+5    9.163891  10.600 2016-05-08\n",
              "62386 2011-08-31     t+25   47.334621  47.860 2011-09-25\n",
              "20090 2018-12-12      t+8   36.282551  37.160 2018-12-20\n",
              "15554 2021-06-23      t+6   22.185718  18.584 2021-06-29\n",
              "41045 2019-07-11     t+16   21.238941  14.840 2019-07-27\n",
              "23411 2011-06-12     t+10   19.184465  22.040 2011-06-22\n",
              "413   2014-10-08      t+1   49.488046  49.450 2014-10-09\n",
              "4813  2019-09-19      t+2   48.873694  49.450 2019-09-21\n",
              "49120 2021-01-31     t+19   33.001825  34.344 2021-02-19\n",
              "10025 2020-02-12      t+4   36.519129  37.210 2020-02-16\n",
              "22286 2017-11-10      t+9   30.383210  33.900 2017-11-19\n",
              "23476 2011-08-16     t+10   47.966322  48.090 2011-08-26\n",
              "38662 2020-06-05     t+15   18.503507  18.620 2020-06-20\n",
              "54060 2019-08-30     t+21   48.933787  49.450 2019-09-20"
            ]
          },
          "metadata": {
            "tags": []
          },
          "execution_count": 51
        }
      ]
    },
    {
      "cell_type": "code",
      "metadata": {
        "id": "HrJutaAv2PNF"
      },
      "source": [
        "ev_all_data.to_csv(\"predictions.csv\")"
      ],
      "execution_count": null,
      "outputs": []
    },
    {
      "cell_type": "code",
      "metadata": {
        "id": "CmPVn0AE2Q6X"
      },
      "source": [
        "import sqlite3\n"
      ],
      "execution_count": null,
      "outputs": []
    },
    {
      "cell_type": "code",
      "metadata": {
        "id": "16xoy0rYCwAX"
      },
      "source": [
        "conn = sqlite3.connect('predictions.db')\n",
        "c = conn.cursor()"
      ],
      "execution_count": null,
      "outputs": []
    },
    {
      "cell_type": "code",
      "metadata": {
        "id": "CU1nQ13AC39B"
      },
      "source": [
        "df = pd.read_csv(\"predictions.csv\")"
      ],
      "execution_count": null,
      "outputs": []
    },
    {
      "cell_type": "code",
      "metadata": {
        "colab": {
          "base_uri": "https://localhost:8080/",
          "height": 206
        },
        "id": "tfWw-0xVDOB5",
        "outputId": "8bf2f5ac-2524-4254-c557-f2db9f4f19ae"
      },
      "source": [
        "df.head()"
      ],
      "execution_count": null,
      "outputs": [
        {
          "output_type": "execute_result",
          "data": {
            "text/html": [
              "<div>\n",
              "<style scoped>\n",
              "    .dataframe tbody tr th:only-of-type {\n",
              "        vertical-align: middle;\n",
              "    }\n",
              "\n",
              "    .dataframe tbody tr th {\n",
              "        vertical-align: top;\n",
              "    }\n",
              "\n",
              "    .dataframe thead th {\n",
              "        text-align: right;\n",
              "    }\n",
              "</style>\n",
              "<table border=\"1\" class=\"dataframe\">\n",
              "  <thead>\n",
              "    <tr style=\"text-align: right;\">\n",
              "      <th></th>\n",
              "      <th>Unnamed: 0</th>\n",
              "      <th>timestamp</th>\n",
              "      <th>variable</th>\n",
              "      <th>prediction</th>\n",
              "      <th>actual</th>\n",
              "      <th>date</th>\n",
              "    </tr>\n",
              "  </thead>\n",
              "  <tbody>\n",
              "    <tr>\n",
              "      <th>0</th>\n",
              "      <td>0</td>\n",
              "      <td>2011-01-29</td>\n",
              "      <td>t+1</td>\n",
              "      <td>41.820400</td>\n",
              "      <td>41.79</td>\n",
              "      <td>2011-01-30</td>\n",
              "    </tr>\n",
              "    <tr>\n",
              "      <th>1</th>\n",
              "      <td>1</td>\n",
              "      <td>2011-01-30</td>\n",
              "      <td>t+1</td>\n",
              "      <td>41.589464</td>\n",
              "      <td>41.56</td>\n",
              "      <td>2011-01-31</td>\n",
              "    </tr>\n",
              "    <tr>\n",
              "      <th>2</th>\n",
              "      <td>2</td>\n",
              "      <td>2011-01-31</td>\n",
              "      <td>t+1</td>\n",
              "      <td>41.276625</td>\n",
              "      <td>41.30</td>\n",
              "      <td>2011-02-01</td>\n",
              "    </tr>\n",
              "    <tr>\n",
              "      <th>3</th>\n",
              "      <td>3</td>\n",
              "      <td>2011-02-01</td>\n",
              "      <td>t+1</td>\n",
              "      <td>41.035273</td>\n",
              "      <td>40.98</td>\n",
              "      <td>2011-02-02</td>\n",
              "    </tr>\n",
              "    <tr>\n",
              "      <th>4</th>\n",
              "      <td>4</td>\n",
              "      <td>2011-02-02</td>\n",
              "      <td>t+1</td>\n",
              "      <td>40.736331</td>\n",
              "      <td>40.66</td>\n",
              "      <td>2011-02-03</td>\n",
              "    </tr>\n",
              "  </tbody>\n",
              "</table>\n",
              "</div>"
            ],
            "text/plain": [
              "   Unnamed: 0   timestamp variable  prediction  actual        date\n",
              "0           0  2011-01-29      t+1   41.820400   41.79  2011-01-30\n",
              "1           1  2011-01-30      t+1   41.589464   41.56  2011-01-31\n",
              "2           2  2011-01-31      t+1   41.276625   41.30  2011-02-01\n",
              "3           3  2011-02-01      t+1   41.035273   40.98  2011-02-02\n",
              "4           4  2011-02-02      t+1   40.736331   40.66  2011-02-03"
            ]
          },
          "metadata": {
            "tags": []
          },
          "execution_count": 150
        }
      ]
    },
    {
      "cell_type": "code",
      "metadata": {
        "colab": {
          "base_uri": "https://localhost:8080/"
        },
        "id": "hKGeymgMDMAu",
        "outputId": "b6ac5b59-c81c-43ea-f872-63c4b9ca3e9a"
      },
      "source": [
        "c.execute(\"CREATE TABLE PREDICTIONS ([timestamp] integer, [prediction] integer, [actual] integer, [date] integer)\")"
      ],
      "execution_count": null,
      "outputs": [
        {
          "output_type": "execute_result",
          "data": {
            "text/plain": [
              "<sqlite3.Cursor at 0x7f0a7a395dc0>"
            ]
          },
          "metadata": {
            "tags": []
          },
          "execution_count": 154
        }
      ]
    },
    {
      "cell_type": "code",
      "metadata": {
        "id": "0v84cYD1C-9R"
      },
      "source": [
        "conn.commit()"
      ],
      "execution_count": null,
      "outputs": []
    },
    {
      "cell_type": "code",
      "metadata": {
        "id": "LrZGuYonE3FJ"
      },
      "source": [
        "conn = sqlite3.connect('predictions.db')  \n",
        "c = conn.cursor()"
      ],
      "execution_count": null,
      "outputs": []
    },
    {
      "cell_type": "code",
      "metadata": {
        "id": "maBd8_BAFA9V"
      },
      "source": [
        "df[['timestamp', 'prediction', 'actual', 'date']].to_sql('PREDICTIONS', conn, if_exists='append', index = False)"
      ],
      "execution_count": null,
      "outputs": []
    },
    {
      "cell_type": "code",
      "metadata": {
        "id": "HafYiL9eFJ10"
      },
      "source": [
        ""
      ],
      "execution_count": null,
      "outputs": []
    }
  ]
}